{
 "cells": [
  {
   "cell_type": "code",
   "execution_count": 1,
   "id": "6dae3823",
   "metadata": {
    "_cell_guid": "b1076dfc-b9ad-4769-8c92-a6c4dae69d19",
    "_uuid": "8f2839f25d086af736a60e9eeb907d3b93b6e0e5",
    "execution": {
     "iopub.execute_input": "2022-01-19T23:28:58.626638Z",
     "iopub.status.busy": "2022-01-19T23:28:58.625953Z",
     "iopub.status.idle": "2022-01-19T23:28:58.708486Z",
     "shell.execute_reply": "2022-01-19T23:28:58.707682Z",
     "shell.execute_reply.started": "2022-01-19T23:20:38.066462Z"
    },
    "papermill": {
     "duration": 0.119564,
     "end_time": "2022-01-19T23:28:58.708643",
     "exception": false,
     "start_time": "2022-01-19T23:28:58.589079",
     "status": "completed"
    },
    "tags": []
   },
   "outputs": [],
   "source": [
    "%reset -sf\n",
    "\n",
    "from IPython.core.interactiveshell import InteractiveShell\n",
    "InteractiveShell.ast_node_interactivity = 'all'"
   ]
  },
  {
   "cell_type": "code",
   "execution_count": 2,
   "id": "516395b4",
   "metadata": {
    "execution": {
     "iopub.execute_input": "2022-01-19T23:28:58.770032Z",
     "iopub.status.busy": "2022-01-19T23:28:58.769491Z",
     "iopub.status.idle": "2022-01-19T23:28:59.894913Z",
     "shell.execute_reply": "2022-01-19T23:28:59.894316Z",
     "shell.execute_reply.started": "2022-01-19T23:20:38.263270Z"
    },
    "papermill": {
     "duration": 1.157684,
     "end_time": "2022-01-19T23:28:59.895032",
     "exception": false,
     "start_time": "2022-01-19T23:28:58.737348",
     "status": "completed"
    },
    "tags": []
   },
   "outputs": [
    {
     "name": "stdout",
     "output_type": "stream",
     "text": [
      "==> Device: cpu\n"
     ]
    },
    {
     "data": {
      "text/plain": [
       "<torch._C.Generator at 0x7f5e7aa0b870>"
      ]
     },
     "execution_count": 2,
     "metadata": {},
     "output_type": "execute_result"
    }
   ],
   "source": [
    "from torch.cuda import is_available\n",
    "DEVI = \"cuda\" if is_available() else \"cpu\"\n",
    "# device = \"cpu\"\n",
    "print(\"==> Device:\", DEVI)\n",
    "\n",
    "from torch import manual_seed\n",
    "manual_seed(16)\n",
    "from random import seed\n",
    "seed(16)"
   ]
  },
  {
   "cell_type": "code",
   "execution_count": 3,
   "id": "95f80abe",
   "metadata": {
    "execution": {
     "iopub.execute_input": "2022-01-19T23:28:59.955173Z",
     "iopub.status.busy": "2022-01-19T23:28:59.954558Z",
     "iopub.status.idle": "2022-01-19T23:29:01.965871Z",
     "shell.execute_reply": "2022-01-19T23:29:01.966261Z",
     "shell.execute_reply.started": "2022-01-19T23:20:38.284780Z"
    },
    "papermill": {
     "duration": 2.044098,
     "end_time": "2022-01-19T23:29:01.966385",
     "exception": false,
     "start_time": "2022-01-19T23:28:59.922287",
     "status": "completed"
    },
    "tags": []
   },
   "outputs": [
    {
     "data": {
      "text/plain": [
       "[PosixPath('/kaggle/input/mangafaces/imgs.pt'),\n",
       " PosixPath('/kaggle/input/mangafaces/imgs_te.pt'),\n",
       " PosixPath('/kaggle/input/mangafaces/labs_te.pt'),\n",
       " PosixPath('/kaggle/input/mangafaces/labs.pt')]"
      ]
     },
     "execution_count": 3,
     "metadata": {},
     "output_type": "execute_result"
    },
    {
     "data": {
      "text/plain": [
       "(torch.Size([1239, 3, 128, 128]),\n",
       " torch.Size([96, 3, 128, 128]),\n",
       " torch.Size([1239]),\n",
       " torch.Size([96]))"
      ]
     },
     "execution_count": 3,
     "metadata": {},
     "output_type": "execute_result"
    }
   ],
   "source": [
    "from torch.utils.data import Dataset, DataLoader\n",
    "from torch import load\n",
    "\n",
    "from pathlib import Path\n",
    "\n",
    "path = Path('/kaggle/input/mangafaces')\n",
    "list(path.glob('*'))\n",
    "\n",
    "imgs = load(path / 'imgs.pt')\n",
    "imgs_te = load(path / 'imgs_te.pt')\n",
    "labs = load(path / 'labs.pt')\n",
    "labs_te = load(path / 'labs_te.pt')\n",
    "\n",
    "imgs.shape, imgs_te.shape, labs.shape, labs_te.shape"
   ]
  },
  {
   "cell_type": "code",
   "execution_count": 4,
   "id": "997d3dbb",
   "metadata": {
    "execution": {
     "iopub.execute_input": "2022-01-19T23:29:02.005609Z",
     "iopub.status.busy": "2022-01-19T23:29:02.005126Z",
     "iopub.status.idle": "2022-01-19T23:29:02.007703Z",
     "shell.execute_reply": "2022-01-19T23:29:02.007223Z",
     "shell.execute_reply.started": "2022-01-19T23:20:38.460854Z"
    },
    "papermill": {
     "duration": 0.023246,
     "end_time": "2022-01-19T23:29:02.007815",
     "exception": false,
     "start_time": "2022-01-19T23:29:01.984569",
     "status": "completed"
    },
    "tags": []
   },
   "outputs": [],
   "source": [
    "BATCH_SIZE = 64\n",
    "LR = 0.0005"
   ]
  },
  {
   "cell_type": "code",
   "execution_count": 5,
   "id": "d46bc528",
   "metadata": {
    "execution": {
     "iopub.execute_input": "2022-01-19T23:29:02.070272Z",
     "iopub.status.busy": "2022-01-19T23:29:02.068988Z",
     "iopub.status.idle": "2022-01-19T23:29:02.074146Z",
     "shell.execute_reply": "2022-01-19T23:29:02.073596Z",
     "shell.execute_reply.started": "2022-01-19T23:20:38.467383Z"
    },
    "papermill": {
     "duration": 0.03923,
     "end_time": "2022-01-19T23:29:02.074256",
     "exception": false,
     "start_time": "2022-01-19T23:29:02.035026",
     "status": "completed"
    },
    "tags": []
   },
   "outputs": [],
   "source": [
    "from torch import nn\n",
    "from torch import float as pt_float, ones\n",
    "\n",
    "class NET(nn.Module):\n",
    "    def __init__(self, l1, k1, a1, l2, k2, a2, l3, k3, a3):\n",
    "        super().__init__()\n",
    "        \n",
    "        self.cnn1 = nn.Sequential(\n",
    "            nn.LazyConv2d(l1, k1),\n",
    "            nn.Dropout(0.5),\n",
    "            nn.__getattribute__(a1)())\n",
    "        \n",
    "        self.cnn2 = nn.Sequential(\n",
    "            nn.LazyBatchNorm2d(),\n",
    "            nn.LazyConv2d(l2, k2),\n",
    "            nn.Dropout(0.5),\n",
    "            nn.__getattribute__(a2)())\n",
    "\n",
    "        self.cnn3 = nn.Sequential(\n",
    "            nn.LazyBatchNorm2d(),\n",
    "            nn.LazyConv2d(l3, k3),\n",
    "            nn.Dropout(0.5),\n",
    "            nn.__getattribute__(a3)())\n",
    "\n",
    "        self.out1 = nn.Sequential(\n",
    "            nn.Flatten(),\n",
    "            nn.LazyLinear(2),\n",
    "            nn.LogSoftmax(dim=-1))\n",
    "        \n",
    "        self.model1 = nn.Sequential(\n",
    "            self.cnn1,\n",
    "            self.cnn2,\n",
    "            self.cnn3,\n",
    "            self.out1)\n",
    "        \n",
    "    def forward(self, x):\n",
    "        \"\"\"Forward\"\"\"\n",
    "        return self.model1(x)\n",
    "    \n",
    "    def count_weights_biases(self):\n",
    "        return int(sum(p.numel() for p in self.parameters() if p.requires_grad))\n",
    "    \n",
    "#net = NET(10, 2, 'SELU', 10, 2, 'SELU', 10, 2, 'SELU').to(DEVI)\n",
    "#f'Dry run'\n",
    "#net(ones(1, 3, 95, 95).to(DEVI, dtype=pt_float))"
   ]
  },
  {
   "cell_type": "code",
   "execution_count": 6,
   "id": "217f1352",
   "metadata": {
    "execution": {
     "iopub.execute_input": "2022-01-19T23:29:02.149933Z",
     "iopub.status.busy": "2022-01-19T23:29:02.141863Z",
     "iopub.status.idle": "2022-01-19T23:29:02.151773Z",
     "shell.execute_reply": "2022-01-19T23:29:02.152289Z",
     "shell.execute_reply.started": "2022-01-19T23:20:38.481448Z"
    },
    "papermill": {
     "duration": 0.050694,
     "end_time": "2022-01-19T23:29:02.152432",
     "exception": false,
     "start_time": "2022-01-19T23:29:02.101738",
     "status": "completed"
    },
    "tags": []
   },
   "outputs": [],
   "source": [
    "class GA_Pytorch():\n",
    "    def __init__(self, \n",
    "                 params, \n",
    "                 eval_func,\n",
    "                 eval_weights,\n",
    "                 img_tr,\n",
    "                 batch_size=BATCH_SIZE,\n",
    "                 lr=LR,\n",
    "                 sel_tournsize=2, \n",
    "                 cx_uniform_prob=0.5, \n",
    "                 mut_shuffle_idx_prob=0.1, \n",
    "                 #\n",
    "                 n_pop=40,\n",
    "                 n_gen=10,\n",
    "                 #\n",
    "                 n_hof=5,\n",
    "                 cx_prob=0.5, \n",
    "                 mut_prob=0.1, \n",
    "                 n_jobs=1\n",
    "                ):\n",
    "        self.params = params\n",
    "        self.eval_func = eval_func\n",
    "        self.eval_weights = eval_weights\n",
    "        \n",
    "        self.img_tr = img_tr\n",
    "        self.batch_size = batch_size\n",
    "        self.lr = lr\n",
    "        \n",
    "        self.sel_tournsize = sel_tournsize\n",
    "        self.cx_uniform_prob = cx_uniform_prob\n",
    "        self.mut_shuffle_idx_prob = mut_shuffle_idx_prob\n",
    "        self.n_pop = n_pop\n",
    "        self.n_gen = n_gen\n",
    "        self.n_hof = n_hof\n",
    "        self.cx_prob = cx_prob\n",
    "        self.mut_prob = mut_prob\n",
    "        \n",
    "        self.n_jobs = n_jobs\n",
    "\n",
    "        self._pad_params()\n",
    "        self._create_fitness_and_indiv()\n",
    "        self._register_indiv_and_pop_generators()\n",
    "        self._register_eval_func()\n",
    "        self._register_selection_crossover_mutation_methods()\n",
    "\n",
    "    def _pad_params(self):\n",
    "        \"\"\"Pad params for crossover shuffle idx method\"\"\"\n",
    "        assert isinstance(self.params, dict), 'Params must be a dict, i.e. estimator.get_params()'\n",
    "        params_count = {k: len(v) for k,v in self.params.items()}\n",
    "        max_length, max_key = -99, ''\n",
    "        for k, v in params_count.items():\n",
    "            if v <= max_length:\n",
    "                continue\n",
    "            else:\n",
    "                max_key = k\n",
    "                max_length = v\n",
    "        assert isinstance(max_length, int), 'The max length between all params must be an int'\n",
    "        # cycle through params for max length param, otherwise infinite cycle\n",
    "        values_padded = (cycle(v) if k!=max_key else v for k,v in self.params.items())\n",
    "        values_padded = zip(*values_padded)  # ('a', 1, 14), ('b', 2, 16), ('c', 3, 16) ...\n",
    "        values_padded = zip(*values_padded)  # ('a', 'b', 'c'), (1, 2, 3), (14, 15, 16)...\n",
    "        padded_params = {}\n",
    "        for k, v in zip(self.params, values_padded):\n",
    "            padded_params[k] = v\n",
    "        self.padded_params = padded_params\n",
    "        print('Params padded')\n",
    "\n",
    "    def _create_fitness_and_indiv(self):\n",
    "        \"\"\"Create GA individual and fitness entities (classes)\"\"\"\n",
    "        ga_cr.create('Fitness', ga_b.Fitness, weights=self.eval_weights)\n",
    "        ga_cr.create('Individual', list, fitness=ga_cr.Fitness)\n",
    "        print('GA entities created')\n",
    "\n",
    "    def _gen_params_to_ga(self):\n",
    "        \"\"\"Generate index for each param for individual\"\"\"\n",
    "        max_dict = len(self.padded_params)\n",
    "        max_length = len(list(self.padded_params.values())[0])\n",
    "        idxs = [randint(0, max_length-1) for _ in range(max_dict)]\n",
    "        return idxs\n",
    "    \n",
    "    def _register_indiv_and_pop_generators(self):\n",
    "        \"\"\"Register GA individual and population generators\"\"\"\n",
    "        self.tb = ga_b.Toolbox()\n",
    "\n",
    "        if self.n_jobs > 1:\n",
    "            from multiprocessing import Pool\n",
    "            pool = Pool()\n",
    "            self.tb.register(\"map\", pool.map)\n",
    "\n",
    "        self.tb.register(\"individual\", ga_t.initIterate, ga_cr.Individual, self._gen_params_to_ga)\n",
    "        self.tb.register(\"population\", ga_t.initRepeat, list, self.tb.individual)\n",
    "        print('GA entities\\' methods registered')\n",
    "        \n",
    "    def _register_eval_func(self):\n",
    "        \"\"\"Set GA evaluate individual function\"\"\"\n",
    "        self.tb.register(\"evaluate\",\n",
    "                        self.eval_func,\n",
    "                        padded_params=self.padded_params,\n",
    "                        img_tr=self.img_tr,\n",
    "                        batch_size=self.batch_size,\n",
    "                        lr=self.lr)\n",
    "        #print(list(self.tb.evaluate(indiv) for indiv in self.tb.population(3)))\n",
    "        print('GA eval function registered')\n",
    "    \n",
    "    def _register_selection_crossover_mutation_methods(self):\n",
    "        self.tb.register(\"select\", ga_t.selTournament, tournsize=self.sel_tournsize)\n",
    "        self.tb.register(\"mate\", ga_t.cxUniform, indpb=self.cx_uniform_prob)\n",
    "        self.tb.register(\"mutate\", ga_t.mutShuffleIndexes, indpb=self.mut_shuffle_idx_prob)\n",
    "        print('GA sel-cx-mut methods registered')\n",
    "        \n",
    "    def run_ga_search(self):\n",
    "        \"\"\"GA Search\"\"\"\n",
    "        pop = self.tb.population(n=self.n_pop)\n",
    "        hof = ga_t.HallOfFame(self.n_hof)\n",
    "\n",
    "        # Stats stdout\n",
    "        #stats = ga_t.Statistics(lambda ind: ind.fitness.values )\n",
    "        stats1 = ga_t.Statistics(lambda ind: ind.fitness.values[0] )\n",
    "        stats2 = ga_t.Statistics(lambda ind: ind.fitness.values[1] )\n",
    "        stats3 = ga_t.Statistics(lambda ind: ind.fitness.values[2] )\n",
    "        stats = ga_t.MultiStatistics(accuracy=stats1, risk=stats2, complexity=stats3)\n",
    "        stats.register(\"avg\", mean)\n",
    "\n",
    "        # GA Run\n",
    "        pop, log = ga_algo.eaSimple(pop, self.tb, cxpb=self.cx_prob, \n",
    "                                    mutpb=self.mut_prob, ngen=self.n_gen, \n",
    "                                    stats=stats, halloffame=hof, verbose=True)\n",
    "        \n",
    "        # Convert back params\n",
    "        hof_ = {}\n",
    "        for i in range(self.n_hof):\n",
    "            hof_['hof_' + str(i)] = self._ga_to_params(hof[i])\n",
    "\n",
    "        return pop, log, hof_\n",
    "    \n",
    "    def _ga_to_params(self, idx_params):\n",
    "        \"\"\"Convert back idx to params\"\"\"\n",
    "        res = {}\n",
    "        for (k,v), idx in zip(self.padded_params.items(), idx_params):\n",
    "            res[k] = v[idx]\n",
    "        return res"
   ]
  },
  {
   "cell_type": "code",
   "execution_count": 7,
   "id": "7f100249",
   "metadata": {
    "execution": {
     "iopub.execute_input": "2022-01-19T23:29:02.222736Z",
     "iopub.status.busy": "2022-01-19T23:29:02.211840Z",
     "iopub.status.idle": "2022-01-19T23:29:02.995704Z",
     "shell.execute_reply": "2022-01-19T23:29:02.995305Z",
     "shell.execute_reply.started": "2022-01-19T23:20:38.515518Z"
    },
    "papermill": {
     "duration": 0.81579,
     "end_time": "2022-01-19T23:29:02.995831",
     "exception": false,
     "start_time": "2022-01-19T23:29:02.180041",
     "status": "completed"
    },
    "tags": []
   },
   "outputs": [],
   "source": [
    "from sklearn.metrics import f1_score\n",
    "from numpy import mean, linspace, inf\n",
    "\n",
    "net_params = {\n",
    "    'l1': linspace(1,20,30).astype(int),\n",
    "    'k1': linspace(1,20,30).astype(int),\n",
    "    'a1': ['ReLU', 'CELU', 'SELU', 'ELU', 'Softsign'],\n",
    "    'l2': linspace(1,20,30).astype(int),\n",
    "    'k2': linspace(1,20,30).astype(int),\n",
    "    'a2': ['ReLU', 'CELU', 'SELU', 'ELU', 'Softsign'],\n",
    "    'l3': linspace(1,20,30).astype(int),\n",
    "    'k3': linspace(1,20,30).astype(int),\n",
    "    'a3': ['ReLU', 'CELU', 'SELU', 'ELU', 'Softsign'],\n",
    "}\n",
    "\n",
    "def net_eval_indiv(individual, padded_params, img_tr, batch_size, lr):\n",
    "    \"\"\"Evaluate individual's genes (estimator's params)\"\"\"\n",
    "\n",
    "    # Params\n",
    "    indiv_params = {k : list(v)[idx] for (k,v), idx in zip(padded_params.items(), individual)}\n",
    "    \n",
    "    # Net\n",
    "    net = NET(**indiv_params).to(DEVI).train()\n",
    "    try:\n",
    "        net(ones(1,3,128,128))\n",
    "    except BaseException as e:\n",
    "        print('=> Possible Arch Error:', e)\n",
    "        return (0.01, (1/10)**10, 1e7)\n",
    "    \n",
    "    # Optimizer\n",
    "    optimizer = Adam(net.parameters(), lr=lr)\n",
    "    criterion = nn.NLLLoss()\n",
    "    \n",
    "    # Train\n",
    "    img_tr, img_te = img_tr[0], img_tr[1]\n",
    "    \n",
    "    train_dl = DataLoader(img_tr,\n",
    "                        batch_size=batch_size,\n",
    "                        shuffle=True,\n",
    "                        num_workers=2)\n",
    "    \n",
    "    for epoch in range(1):\n",
    "        net = net.train()\n",
    "        train_correct = 0\n",
    "        train_total = 0\n",
    "        for i, (inputs, labels) in enumerate(train_dl):\n",
    "            if i <= 3:\n",
    "                outputs = net(inputs.to(DEVI, dtype=pt_float))\n",
    "\n",
    "                optimizer.zero_grad()\n",
    "                loss = criterion(outputs, labels.to(DEVI, dtype=long)).mean()\n",
    "                loss.backward()\n",
    "                optimizer.step()\n",
    "\n",
    "    test_dl = DataLoader(img_te,\n",
    "                        batch_size=batch_size,\n",
    "                        shuffle=True,\n",
    "                        num_workers=2)\n",
    "    \n",
    "    net = net.eval()\n",
    "    f1_scores = []\n",
    "    \n",
    "    for j, (inputs, labels) in enumerate(test_dl):\n",
    "        net = net.eval()\n",
    "        outputs = net(inputs.to(DEVI, dtype=pt_float))\n",
    "        \n",
    "        preds = outputs.argmax(dim=1).numpy()\n",
    "        f1_sc = f1_score(labels.numpy(), preds)\n",
    "        f1_scores.append(f1_sc)\n",
    "\n",
    "    # Risk\n",
    "    risk = median(prod(net(inputs.to(DEVI, dtype=pt_float)).exp()*10, dim=1))\n",
    "    if isnan(risk):\n",
    "        risk = 10\n",
    "    else:\n",
    "        risk = float(risk)\n",
    "        \n",
    "    # Complexity\n",
    "    compl = net.count_weights_biases()\n",
    "    \n",
    "    return (mean(f1_scores), risk, compl,)\n",
    "\n",
    "net_weights = (1, -1, -1,)"
   ]
  },
  {
   "cell_type": "code",
   "execution_count": 8,
   "id": "09498345",
   "metadata": {
    "execution": {
     "iopub.execute_input": "2022-01-19T23:29:03.038894Z",
     "iopub.status.busy": "2022-01-19T23:29:03.038450Z",
     "iopub.status.idle": "2022-01-20T01:38:48.671712Z",
     "shell.execute_reply": "2022-01-20T01:38:48.672275Z",
     "shell.execute_reply.started": "2022-01-19T23:20:38.540283Z"
    },
    "papermill": {
     "duration": 7785.658393,
     "end_time": "2022-01-20T01:38:48.672596",
     "exception": false,
     "start_time": "2022-01-19T23:29:03.014203",
     "status": "completed"
    },
    "tags": []
   },
   "outputs": [
    {
     "name": "stdout",
     "output_type": "stream",
     "text": [
      "Params padded\n",
      "GA entities created\n",
      "GA entities' methods registered\n",
      "GA eval function registered\n",
      "GA sel-cx-mut methods registered\n"
     ]
    },
    {
     "name": "stderr",
     "output_type": "stream",
     "text": [
      "/opt/conda/lib/python3.7/site-packages/torch/nn/modules/lazy.py:178: UserWarning: Lazy modules are a new feature under heavy development so changes to the API or functionality can happen at any moment.\n",
      "  warnings.warn('Lazy modules are a new feature under heavy development '\n",
      "/opt/conda/lib/python3.7/site-packages/sklearn/metrics/_classification.py:1465: UndefinedMetricWarning: F-score is ill-defined and being set to 0.0 due to no true nor predicted samples. Use `zero_division` parameter to control this behavior.\n",
      "  average, \"true nor predicted\", 'F-score is', len(true_sum)\n"
     ]
    },
    {
     "name": "stdout",
     "output_type": "stream",
     "text": [
      "   \t      \t           accuracy           \t      complexity      \t         risk         \n",
      "   \t      \t------------------------------\t----------------------\t----------------------\n",
      "gen\tnevals\tavg     \tgen\tnevals\tavg   \tgen\tnevals\tavg  \tgen\tnevals\n",
      "0  \t40    \t0.082076\t0  \t40    \t247483\t0  \t40    \t5.601\t0  \t40    \n",
      "1  \t23    \t0.0638686\t1  \t23    \t310352\t1  \t23    \t1.61298\t1  \t23    \n",
      "2  \t32    \t0.0676976\t2  \t32    \t299017\t2  \t32    \t2.7878 \t2  \t32    \n",
      "3  \t19    \t0.109997 \t3  \t19    \t284128\t3  \t19    \t2.69144\t3  \t19    \n",
      "4  \t17    \t0.153632 \t4  \t17    \t282646\t4  \t17    \t2.65069\t4  \t17    \n",
      "5  \t24    \t0.112026 \t5  \t24    \t276998\t5  \t24    \t4.4203 \t5  \t24    \n",
      "6  \t23    \t0.120159 \t6  \t23    \t269566\t6  \t23    \t6.02561\t6  \t23    \n",
      "7  \t23    \t0.115621 \t7  \t23    \t276110\t7  \t23    \t6.21036\t7  \t23    \n",
      "8  \t15    \t0.138938 \t8  \t15    \t273656\t8  \t15    \t5.39297\t8  \t15    \n",
      "9  \t21    \t0.117133 \t9  \t21    \t255158\t9  \t21    \t5.70146\t9  \t21    \n",
      "10 \t20    \t0.114039 \t10 \t20    \t249246\t10 \t20    \t5.94067\t10 \t20    \n"
     ]
    }
   ],
   "source": [
    "from itertools import cycle\n",
    "from deap import creator as ga_cr, base as ga_b, algorithms as ga_algo, tools as ga_t\n",
    "from random import randint\n",
    "from numpy import mean\n",
    "from torch.optim import Adam\n",
    "from torch import max as pt_max, no_grad, median, prod, isnan, long, float as pt_float, stack\n",
    "from torch.utils.data import DataLoader\n",
    "\n",
    "net_ga_params = GA_Pytorch(net_params,\n",
    "                           net_eval_indiv,\n",
    "                           net_weights,\n",
    "                           ( list(zip(imgs, labs)), list(zip(imgs_te, labs_te)) ) )\n",
    "pop, log, hof = net_ga_params.run_ga_search()"
   ]
  },
  {
   "cell_type": "code",
   "execution_count": 9,
   "id": "edc663cf",
   "metadata": {
    "execution": {
     "iopub.execute_input": "2022-01-20T01:38:48.724395Z",
     "iopub.status.busy": "2022-01-20T01:38:48.723754Z",
     "iopub.status.idle": "2022-01-20T01:38:48.728842Z",
     "shell.execute_reply": "2022-01-20T01:38:48.728289Z",
     "shell.execute_reply.started": "2022-01-19T23:23:03.495162Z"
    },
    "papermill": {
     "duration": 0.034947,
     "end_time": "2022-01-20T01:38:48.728970",
     "exception": false,
     "start_time": "2022-01-20T01:38:48.694023",
     "status": "completed"
    },
    "tags": []
   },
   "outputs": [
    {
     "data": {
      "text/plain": [
       "{'hof_0': {'l1': 10,\n",
       "  'k1': 17,\n",
       "  'a1': 'Softsign',\n",
       "  'l2': 17,\n",
       "  'k2': 6,\n",
       "  'a2': 'ReLU',\n",
       "  'l3': 16,\n",
       "  'k3': 1,\n",
       "  'a3': 'Softsign'},\n",
       " 'hof_1': {'l1': 3,\n",
       "  'k1': 18,\n",
       "  'a1': 'Softsign',\n",
       "  'l2': 7,\n",
       "  'k2': 18,\n",
       "  'a2': 'ReLU',\n",
       "  'l3': 16,\n",
       "  'k3': 5,\n",
       "  'a3': 'SELU'},\n",
       " 'hof_2': {'l1': 10,\n",
       "  'k1': 19,\n",
       "  'a1': 'ELU',\n",
       "  'l2': 10,\n",
       "  'k2': 10,\n",
       "  'a2': 'ELU',\n",
       "  'l3': 1,\n",
       "  'k3': 1,\n",
       "  'a3': 'ReLU'},\n",
       " 'hof_3': {'l1': 3,\n",
       "  'k1': 18,\n",
       "  'a1': 'ELU',\n",
       "  'l2': 7,\n",
       "  'k2': 18,\n",
       "  'a2': 'ReLU',\n",
       "  'l3': 16,\n",
       "  'k3': 1,\n",
       "  'a3': 'Softsign'},\n",
       " 'hof_4': {'l1': 3,\n",
       "  'k1': 18,\n",
       "  'a1': 'Softsign',\n",
       "  'l2': 9,\n",
       "  'k2': 18,\n",
       "  'a2': 'ReLU',\n",
       "  'l3': 16,\n",
       "  'k3': 1,\n",
       "  'a3': 'SELU'}}"
      ]
     },
     "execution_count": 9,
     "metadata": {},
     "output_type": "execute_result"
    }
   ],
   "source": [
    "hof"
   ]
  },
  {
   "cell_type": "code",
   "execution_count": 10,
   "id": "62b689c7",
   "metadata": {
    "execution": {
     "iopub.execute_input": "2022-01-20T01:38:48.797630Z",
     "iopub.status.busy": "2022-01-20T01:38:48.797034Z",
     "iopub.status.idle": "2022-01-20T01:38:48.836122Z",
     "shell.execute_reply": "2022-01-20T01:38:48.836698Z",
     "shell.execute_reply.started": "2022-01-19T23:23:03.509039Z"
    },
    "papermill": {
     "duration": 0.074875,
     "end_time": "2022-01-20T01:38:48.836855",
     "exception": false,
     "start_time": "2022-01-20T01:38:48.761980",
     "status": "completed"
    },
    "tags": []
   },
   "outputs": [
    {
     "data": {
      "text/html": [
       "<div>\n",
       "<style scoped>\n",
       "    .dataframe tbody tr th:only-of-type {\n",
       "        vertical-align: middle;\n",
       "    }\n",
       "\n",
       "    .dataframe tbody tr th {\n",
       "        vertical-align: top;\n",
       "    }\n",
       "\n",
       "    .dataframe thead th {\n",
       "        text-align: right;\n",
       "    }\n",
       "</style>\n",
       "<table border=\"1\" class=\"dataframe\">\n",
       "  <thead>\n",
       "    <tr style=\"text-align: right;\">\n",
       "      <th></th>\n",
       "      <th>hof_0</th>\n",
       "      <th>hof_1</th>\n",
       "      <th>hof_2</th>\n",
       "      <th>hof_3</th>\n",
       "      <th>hof_4</th>\n",
       "    </tr>\n",
       "  </thead>\n",
       "  <tbody>\n",
       "    <tr>\n",
       "      <th>l1</th>\n",
       "      <td>10</td>\n",
       "      <td>3</td>\n",
       "      <td>10</td>\n",
       "      <td>3</td>\n",
       "      <td>3</td>\n",
       "    </tr>\n",
       "    <tr>\n",
       "      <th>k1</th>\n",
       "      <td>17</td>\n",
       "      <td>18</td>\n",
       "      <td>19</td>\n",
       "      <td>18</td>\n",
       "      <td>18</td>\n",
       "    </tr>\n",
       "    <tr>\n",
       "      <th>a1</th>\n",
       "      <td>Softsign</td>\n",
       "      <td>Softsign</td>\n",
       "      <td>ELU</td>\n",
       "      <td>ELU</td>\n",
       "      <td>Softsign</td>\n",
       "    </tr>\n",
       "    <tr>\n",
       "      <th>l2</th>\n",
       "      <td>17</td>\n",
       "      <td>7</td>\n",
       "      <td>10</td>\n",
       "      <td>7</td>\n",
       "      <td>9</td>\n",
       "    </tr>\n",
       "    <tr>\n",
       "      <th>k2</th>\n",
       "      <td>6</td>\n",
       "      <td>18</td>\n",
       "      <td>10</td>\n",
       "      <td>18</td>\n",
       "      <td>18</td>\n",
       "    </tr>\n",
       "    <tr>\n",
       "      <th>a2</th>\n",
       "      <td>ReLU</td>\n",
       "      <td>ReLU</td>\n",
       "      <td>ELU</td>\n",
       "      <td>ReLU</td>\n",
       "      <td>ReLU</td>\n",
       "    </tr>\n",
       "    <tr>\n",
       "      <th>l3</th>\n",
       "      <td>16</td>\n",
       "      <td>16</td>\n",
       "      <td>1</td>\n",
       "      <td>16</td>\n",
       "      <td>16</td>\n",
       "    </tr>\n",
       "    <tr>\n",
       "      <th>k3</th>\n",
       "      <td>1</td>\n",
       "      <td>5</td>\n",
       "      <td>1</td>\n",
       "      <td>1</td>\n",
       "      <td>1</td>\n",
       "    </tr>\n",
       "    <tr>\n",
       "      <th>a3</th>\n",
       "      <td>Softsign</td>\n",
       "      <td>SELU</td>\n",
       "      <td>ReLU</td>\n",
       "      <td>Softsign</td>\n",
       "      <td>SELU</td>\n",
       "    </tr>\n",
       "  </tbody>\n",
       "</table>\n",
       "</div>"
      ],
      "text/plain": [
       "       hof_0     hof_1 hof_2     hof_3     hof_4\n",
       "l1        10         3    10         3         3\n",
       "k1        17        18    19        18        18\n",
       "a1  Softsign  Softsign   ELU       ELU  Softsign\n",
       "l2        17         7    10         7         9\n",
       "k2         6        18    10        18        18\n",
       "a2      ReLU      ReLU   ELU      ReLU      ReLU\n",
       "l3        16        16     1        16        16\n",
       "k3         1         5     1         1         1\n",
       "a3  Softsign      SELU  ReLU  Softsign      SELU"
      ]
     },
     "execution_count": 10,
     "metadata": {},
     "output_type": "execute_result"
    },
    {
     "data": {
      "text/plain": [
       "['best_params.json']"
      ]
     },
     "execution_count": 10,
     "metadata": {},
     "output_type": "execute_result"
    }
   ],
   "source": [
    "# Saving params\n",
    "\n",
    "from pandas import DataFrame\n",
    "from joblib import dump, load\n",
    "\n",
    "DataFrame(hof)\n",
    "dump(hof, 'best_params.json')"
   ]
  },
  {
   "cell_type": "code",
   "execution_count": null,
   "id": "c62260d8",
   "metadata": {
    "papermill": {
     "duration": 0.033872,
     "end_time": "2022-01-20T01:38:48.904953",
     "exception": false,
     "start_time": "2022-01-20T01:38:48.871081",
     "status": "completed"
    },
    "tags": []
   },
   "outputs": [],
   "source": []
  },
  {
   "cell_type": "code",
   "execution_count": null,
   "id": "2cda145f",
   "metadata": {
    "papermill": {
     "duration": 0.033761,
     "end_time": "2022-01-20T01:38:48.972746",
     "exception": false,
     "start_time": "2022-01-20T01:38:48.938985",
     "status": "completed"
    },
    "tags": []
   },
   "outputs": [],
   "source": []
  },
  {
   "cell_type": "code",
   "execution_count": null,
   "id": "f17e4059",
   "metadata": {
    "papermill": {
     "duration": 0.034082,
     "end_time": "2022-01-20T01:38:49.040874",
     "exception": false,
     "start_time": "2022-01-20T01:38:49.006792",
     "status": "completed"
    },
    "tags": []
   },
   "outputs": [],
   "source": []
  },
  {
   "cell_type": "code",
   "execution_count": null,
   "id": "f9fdd587",
   "metadata": {
    "papermill": {
     "duration": 0.034604,
     "end_time": "2022-01-20T01:38:49.110002",
     "exception": false,
     "start_time": "2022-01-20T01:38:49.075398",
     "status": "completed"
    },
    "tags": []
   },
   "outputs": [],
   "source": []
  },
  {
   "cell_type": "code",
   "execution_count": null,
   "id": "ee2c6598",
   "metadata": {
    "papermill": {
     "duration": 0.033627,
     "end_time": "2022-01-20T01:38:49.178026",
     "exception": false,
     "start_time": "2022-01-20T01:38:49.144399",
     "status": "completed"
    },
    "tags": []
   },
   "outputs": [],
   "source": []
  },
  {
   "cell_type": "code",
   "execution_count": null,
   "id": "80cf8915",
   "metadata": {
    "papermill": {
     "duration": 0.033731,
     "end_time": "2022-01-20T01:38:49.245843",
     "exception": false,
     "start_time": "2022-01-20T01:38:49.212112",
     "status": "completed"
    },
    "tags": []
   },
   "outputs": [],
   "source": []
  },
  {
   "cell_type": "code",
   "execution_count": null,
   "id": "9cab7c0d",
   "metadata": {
    "papermill": {
     "duration": 0.033875,
     "end_time": "2022-01-20T01:38:49.313459",
     "exception": false,
     "start_time": "2022-01-20T01:38:49.279584",
     "status": "completed"
    },
    "tags": []
   },
   "outputs": [],
   "source": []
  },
  {
   "cell_type": "code",
   "execution_count": null,
   "id": "ba36c8ec",
   "metadata": {
    "papermill": {
     "duration": 0.033945,
     "end_time": "2022-01-20T01:38:49.381184",
     "exception": false,
     "start_time": "2022-01-20T01:38:49.347239",
     "status": "completed"
    },
    "tags": []
   },
   "outputs": [],
   "source": []
  },
  {
   "cell_type": "code",
   "execution_count": null,
   "id": "57f51def",
   "metadata": {
    "papermill": {
     "duration": 0.033483,
     "end_time": "2022-01-20T01:38:49.448348",
     "exception": false,
     "start_time": "2022-01-20T01:38:49.414865",
     "status": "completed"
    },
    "tags": []
   },
   "outputs": [],
   "source": []
  },
  {
   "cell_type": "code",
   "execution_count": null,
   "id": "dc1c4752",
   "metadata": {
    "papermill": {
     "duration": 0.033822,
     "end_time": "2022-01-20T01:38:49.516501",
     "exception": false,
     "start_time": "2022-01-20T01:38:49.482679",
     "status": "completed"
    },
    "tags": []
   },
   "outputs": [],
   "source": []
  },
  {
   "cell_type": "code",
   "execution_count": null,
   "id": "65b13a43",
   "metadata": {
    "papermill": {
     "duration": 0.033426,
     "end_time": "2022-01-20T01:38:49.583777",
     "exception": false,
     "start_time": "2022-01-20T01:38:49.550351",
     "status": "completed"
    },
    "tags": []
   },
   "outputs": [],
   "source": []
  },
  {
   "cell_type": "code",
   "execution_count": null,
   "id": "c2f4621d",
   "metadata": {
    "papermill": {
     "duration": 0.033571,
     "end_time": "2022-01-20T01:38:49.651116",
     "exception": false,
     "start_time": "2022-01-20T01:38:49.617545",
     "status": "completed"
    },
    "tags": []
   },
   "outputs": [],
   "source": []
  },
  {
   "cell_type": "code",
   "execution_count": null,
   "id": "5c13e23c",
   "metadata": {
    "papermill": {
     "duration": 0.033384,
     "end_time": "2022-01-20T01:38:49.718106",
     "exception": false,
     "start_time": "2022-01-20T01:38:49.684722",
     "status": "completed"
    },
    "tags": []
   },
   "outputs": [],
   "source": []
  },
  {
   "cell_type": "code",
   "execution_count": null,
   "id": "a1729f5f",
   "metadata": {
    "papermill": {
     "duration": 0.033513,
     "end_time": "2022-01-20T01:38:49.785205",
     "exception": false,
     "start_time": "2022-01-20T01:38:49.751692",
     "status": "completed"
    },
    "tags": []
   },
   "outputs": [],
   "source": []
  },
  {
   "cell_type": "code",
   "execution_count": null,
   "id": "cd168067",
   "metadata": {
    "papermill": {
     "duration": 0.033538,
     "end_time": "2022-01-20T01:38:49.852361",
     "exception": false,
     "start_time": "2022-01-20T01:38:49.818823",
     "status": "completed"
    },
    "tags": []
   },
   "outputs": [],
   "source": []
  },
  {
   "cell_type": "code",
   "execution_count": null,
   "id": "8054ac4f",
   "metadata": {
    "papermill": {
     "duration": 0.034654,
     "end_time": "2022-01-20T01:38:49.920807",
     "exception": false,
     "start_time": "2022-01-20T01:38:49.886153",
     "status": "completed"
    },
    "tags": []
   },
   "outputs": [],
   "source": []
  },
  {
   "cell_type": "code",
   "execution_count": null,
   "id": "48a1ee47",
   "metadata": {
    "papermill": {
     "duration": 0.035033,
     "end_time": "2022-01-20T01:38:49.990245",
     "exception": false,
     "start_time": "2022-01-20T01:38:49.955212",
     "status": "completed"
    },
    "tags": []
   },
   "outputs": [],
   "source": []
  },
  {
   "cell_type": "code",
   "execution_count": null,
   "id": "42cb31f0",
   "metadata": {
    "papermill": {
     "duration": 0.033663,
     "end_time": "2022-01-20T01:38:50.057948",
     "exception": false,
     "start_time": "2022-01-20T01:38:50.024285",
     "status": "completed"
    },
    "tags": []
   },
   "outputs": [],
   "source": []
  },
  {
   "cell_type": "code",
   "execution_count": null,
   "id": "a553f180",
   "metadata": {
    "papermill": {
     "duration": 0.033734,
     "end_time": "2022-01-20T01:38:50.125347",
     "exception": false,
     "start_time": "2022-01-20T01:38:50.091613",
     "status": "completed"
    },
    "tags": []
   },
   "outputs": [],
   "source": []
  },
  {
   "cell_type": "code",
   "execution_count": null,
   "id": "7ae4ad02",
   "metadata": {
    "papermill": {
     "duration": 0.033624,
     "end_time": "2022-01-20T01:38:50.192747",
     "exception": false,
     "start_time": "2022-01-20T01:38:50.159123",
     "status": "completed"
    },
    "tags": []
   },
   "outputs": [],
   "source": []
  }
 ],
 "metadata": {
  "kernelspec": {
   "display_name": "Python 3",
   "language": "python",
   "name": "python3"
  },
  "language_info": {
   "codemirror_mode": {
    "name": "ipython",
    "version": 3
   },
   "file_extension": ".py",
   "mimetype": "text/x-python",
   "name": "python",
   "nbconvert_exporter": "python",
   "pygments_lexer": "ipython3",
   "version": "3.7.12"
  },
  "papermill": {
   "default_parameters": {},
   "duration": 7802.73344,
   "end_time": "2022-01-20T01:38:51.450213",
   "environment_variables": {},
   "exception": null,
   "input_path": "__notebook__.ipynb",
   "output_path": "__notebook__.ipynb",
   "parameters": {},
   "start_time": "2022-01-19T23:28:48.716773",
   "version": "2.3.3"
  }
 },
 "nbformat": 4,
 "nbformat_minor": 5
}
