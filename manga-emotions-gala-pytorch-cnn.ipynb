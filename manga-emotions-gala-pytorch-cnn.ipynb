{
 "cells": [
  {
   "cell_type": "code",
   "execution_count": 1,
   "id": "ad9b90c5",
   "metadata": {
    "_cell_guid": "b1076dfc-b9ad-4769-8c92-a6c4dae69d19",
    "_uuid": "8f2839f25d086af736a60e9eeb907d3b93b6e0e5",
    "execution": {
     "iopub.execute_input": "2022-01-19T16:21:04.616747Z",
     "iopub.status.busy": "2022-01-19T16:21:04.615526Z",
     "iopub.status.idle": "2022-01-19T16:21:04.720254Z",
     "shell.execute_reply": "2022-01-19T16:21:04.720818Z",
     "shell.execute_reply.started": "2022-01-19T05:54:50.253319Z"
    },
    "papermill": {
     "duration": 0.13278,
     "end_time": "2022-01-19T16:21:04.721184",
     "exception": false,
     "start_time": "2022-01-19T16:21:04.588404",
     "status": "completed"
    },
    "tags": []
   },
   "outputs": [],
   "source": [
    "%reset -sf\n",
    "\n",
    "from IPython.core.interactiveshell import InteractiveShell\n",
    "InteractiveShell.ast_node_interactivity = 'all'"
   ]
  },
  {
   "cell_type": "code",
   "execution_count": 2,
   "id": "e208e8d1",
   "metadata": {
    "execution": {
     "iopub.execute_input": "2022-01-19T16:21:04.773603Z",
     "iopub.status.busy": "2022-01-19T16:21:04.772637Z",
     "iopub.status.idle": "2022-01-19T16:21:05.871760Z",
     "shell.execute_reply": "2022-01-19T16:21:05.872320Z",
     "shell.execute_reply.started": "2022-01-19T05:54:50.418035Z"
    },
    "papermill": {
     "duration": 1.127636,
     "end_time": "2022-01-19T16:21:05.872493",
     "exception": false,
     "start_time": "2022-01-19T16:21:04.744857",
     "status": "completed"
    },
    "tags": []
   },
   "outputs": [
    {
     "name": "stdout",
     "output_type": "stream",
     "text": [
      "==> Device: cpu\n"
     ]
    },
    {
     "data": {
      "text/plain": [
       "<torch._C.Generator at 0x7f77d72ad830>"
      ]
     },
     "execution_count": 2,
     "metadata": {},
     "output_type": "execute_result"
    }
   ],
   "source": [
    "from torch.cuda import is_available\n",
    "DEVI = \"cuda\" if is_available() else \"cpu\"\n",
    "# device = \"cpu\"\n",
    "print(\"==> Device:\", DEVI)\n",
    "\n",
    "from torch import manual_seed\n",
    "manual_seed(16)\n",
    "from random import seed\n",
    "seed(16)"
   ]
  },
  {
   "cell_type": "code",
   "execution_count": 3,
   "id": "7741d2a4",
   "metadata": {
    "execution": {
     "iopub.execute_input": "2022-01-19T16:21:05.925013Z",
     "iopub.status.busy": "2022-01-19T16:21:05.924314Z",
     "iopub.status.idle": "2022-01-19T16:21:08.524140Z",
     "shell.execute_reply": "2022-01-19T16:21:08.524770Z",
     "shell.execute_reply.started": "2022-01-19T05:54:50.431529Z"
    },
    "papermill": {
     "duration": 2.629569,
     "end_time": "2022-01-19T16:21:08.524960",
     "exception": false,
     "start_time": "2022-01-19T16:21:05.895391",
     "status": "completed"
    },
    "tags": []
   },
   "outputs": [
    {
     "data": {
      "text/plain": [
       "[PosixPath('/kaggle/input/mangafacespt/imgs.pt'),\n",
       " PosixPath('/kaggle/input/mangafacespt/imgs_te.pt'),\n",
       " PosixPath('/kaggle/input/mangafacespt/labs_te.pt'),\n",
       " PosixPath('/kaggle/input/mangafacespt/labs.pt')]"
      ]
     },
     "execution_count": 3,
     "metadata": {},
     "output_type": "execute_result"
    },
    {
     "data": {
      "text/plain": [
       "(torch.Size([1383, 3, 128, 128]),\n",
       " torch.Size([48, 3, 128, 128]),\n",
       " torch.Size([1383]),\n",
       " torch.Size([48]))"
      ]
     },
     "execution_count": 3,
     "metadata": {},
     "output_type": "execute_result"
    }
   ],
   "source": [
    "from torch.utils.data import Dataset, DataLoader\n",
    "from torch import load\n",
    "\n",
    "from pathlib import Path\n",
    "\n",
    "path = Path('/kaggle/input/mangafacespt')\n",
    "list(path.glob('*'))\n",
    "\n",
    "imgs = load(path / 'imgs.pt')\n",
    "imgs_te = load(path / 'imgs_te.pt')\n",
    "labs = load(path / 'labs.pt')\n",
    "labs_te = load(path / 'labs_te.pt')\n",
    "\n",
    "imgs.shape, imgs_te.shape, labs.shape, labs_te.shape"
   ]
  },
  {
   "cell_type": "code",
   "execution_count": 4,
   "id": "1ce541a1",
   "metadata": {
    "execution": {
     "iopub.execute_input": "2022-01-19T16:21:08.574022Z",
     "iopub.status.busy": "2022-01-19T16:21:08.573412Z",
     "iopub.status.idle": "2022-01-19T16:21:08.576418Z",
     "shell.execute_reply": "2022-01-19T16:21:08.576993Z",
     "shell.execute_reply.started": "2022-01-19T05:54:50.644945Z"
    },
    "papermill": {
     "duration": 0.029154,
     "end_time": "2022-01-19T16:21:08.577155",
     "exception": false,
     "start_time": "2022-01-19T16:21:08.548001",
     "status": "completed"
    },
    "tags": []
   },
   "outputs": [],
   "source": [
    "BATCH_SIZE = 64\n",
    "LR = 0.0005"
   ]
  },
  {
   "cell_type": "code",
   "execution_count": 5,
   "id": "aa34c8f4",
   "metadata": {
    "execution": {
     "iopub.execute_input": "2022-01-19T16:21:08.634905Z",
     "iopub.status.busy": "2022-01-19T16:21:08.625432Z",
     "iopub.status.idle": "2022-01-19T16:21:08.637698Z",
     "shell.execute_reply": "2022-01-19T16:21:08.637072Z",
     "shell.execute_reply.started": "2022-01-19T05:54:50.650245Z"
    },
    "papermill": {
     "duration": 0.037979,
     "end_time": "2022-01-19T16:21:08.637846",
     "exception": false,
     "start_time": "2022-01-19T16:21:08.599867",
     "status": "completed"
    },
    "tags": []
   },
   "outputs": [],
   "source": [
    "from torch import nn\n",
    "from torch import float as pt_float, ones\n",
    "\n",
    "class NET(nn.Module):\n",
    "    def __init__(self, l1, k1, a1, l2, k2, a2, l3, k3, a3):\n",
    "        super().__init__()\n",
    "        \n",
    "        self.cnn1 = nn.Sequential(\n",
    "            nn.LazyConv2d(l1, k1),\n",
    "            nn.Dropout(0.5),\n",
    "            nn.__getattribute__(a1)())\n",
    "        \n",
    "        self.cnn2 = nn.Sequential(\n",
    "            nn.LazyBatchNorm2d(),\n",
    "            nn.LazyConv2d(l2, k2),\n",
    "            nn.Dropout(0.5),\n",
    "            nn.__getattribute__(a2)())\n",
    "\n",
    "        self.cnn3 = nn.Sequential(\n",
    "            nn.LazyBatchNorm2d(),\n",
    "            nn.LazyConv2d(l3, k3),\n",
    "            nn.Dropout(0.5),\n",
    "            nn.__getattribute__(a3)())\n",
    "\n",
    "        self.out1 = nn.Sequential(\n",
    "            nn.Flatten(),\n",
    "            nn.LazyLinear(2),\n",
    "            nn.LogSoftmax(dim=-1))\n",
    "        \n",
    "        self.model1 = nn.Sequential(\n",
    "            self.cnn1,\n",
    "            self.cnn2,\n",
    "            self.cnn3,\n",
    "            self.out1)\n",
    "        \n",
    "    def forward(self, x):\n",
    "        \"\"\"Forward\"\"\"\n",
    "        return self.model1(x)\n",
    "    \n",
    "    def count_weights_biases(self):\n",
    "        return int(sum(p.numel() for p in self.parameters() if p.requires_grad))\n",
    "    \n",
    "#net = NET(10, 2, 'SELU', 10, 2, 'SELU', 10, 2, 'SELU').to(DEVI)\n",
    "#f'Dry run'\n",
    "#net(ones(1, 3, 95, 95).to(DEVI, dtype=pt_float))"
   ]
  },
  {
   "cell_type": "code",
   "execution_count": 6,
   "id": "6bdfaf39",
   "metadata": {
    "execution": {
     "iopub.execute_input": "2022-01-19T16:21:08.694213Z",
     "iopub.status.busy": "2022-01-19T16:21:08.693174Z",
     "iopub.status.idle": "2022-01-19T16:21:08.731812Z",
     "shell.execute_reply": "2022-01-19T16:21:08.732690Z",
     "shell.execute_reply.started": "2022-01-19T05:54:50.664638Z"
    },
    "papermill": {
     "duration": 0.070458,
     "end_time": "2022-01-19T16:21:08.732957",
     "exception": false,
     "start_time": "2022-01-19T16:21:08.662499",
     "status": "completed"
    },
    "tags": []
   },
   "outputs": [],
   "source": [
    "class GA_Pytorch():\n",
    "    def __init__(self, \n",
    "                 params, \n",
    "                 eval_func,\n",
    "                 eval_weights,\n",
    "                 img_tr,\n",
    "                 batch_size=BATCH_SIZE,\n",
    "                 lr=LR,\n",
    "                 sel_tournsize=2, \n",
    "                 cx_uniform_prob=0.5, \n",
    "                 mut_shuffle_idx_prob=0.1, \n",
    "                 #\n",
    "                 n_pop=40,\n",
    "                 n_gen=10,\n",
    "                 #\n",
    "                 n_hof=5,\n",
    "                 cx_prob=0.5, \n",
    "                 mut_prob=0.1, \n",
    "                 n_jobs=1\n",
    "                ):\n",
    "        self.params = params\n",
    "        self.eval_func = eval_func\n",
    "        self.eval_weights = eval_weights\n",
    "        \n",
    "        self.img_tr = img_tr\n",
    "        self.batch_size = batch_size\n",
    "        self.lr = lr\n",
    "        \n",
    "        self.sel_tournsize = sel_tournsize\n",
    "        self.cx_uniform_prob = cx_uniform_prob\n",
    "        self.mut_shuffle_idx_prob = mut_shuffle_idx_prob\n",
    "        self.n_pop = n_pop\n",
    "        self.n_gen = n_gen\n",
    "        self.n_hof = n_hof\n",
    "        self.cx_prob = cx_prob\n",
    "        self.mut_prob = mut_prob\n",
    "        \n",
    "        self.n_jobs = n_jobs\n",
    "\n",
    "        self._pad_params()\n",
    "        self._create_fitness_and_indiv()\n",
    "        self._register_indiv_and_pop_generators()\n",
    "        self._register_eval_func()\n",
    "        self._register_selection_crossover_mutation_methods()\n",
    "\n",
    "    def _pad_params(self):\n",
    "        \"\"\"Pad params for crossover shuffle idx method\"\"\"\n",
    "        assert isinstance(self.params, dict), 'Params must be a dict, i.e. estimator.get_params()'\n",
    "        params_count = {k: len(v) for k,v in self.params.items()}\n",
    "        max_length, max_key = -99, ''\n",
    "        for k, v in params_count.items():\n",
    "            if v <= max_length:\n",
    "                continue\n",
    "            else:\n",
    "                max_key = k\n",
    "                max_length = v\n",
    "        assert isinstance(max_length, int), 'The max length between all params must be an int'\n",
    "        # cycle through params for max length param, otherwise infinite cycle\n",
    "        values_padded = (cycle(v) if k!=max_key else v for k,v in self.params.items())\n",
    "        values_padded = zip(*values_padded)  # ('a', 1, 14), ('b', 2, 16), ('c', 3, 16) ...\n",
    "        values_padded = zip(*values_padded)  # ('a', 'b', 'c'), (1, 2, 3), (14, 15, 16)...\n",
    "        padded_params = {}\n",
    "        for k, v in zip(self.params, values_padded):\n",
    "            padded_params[k] = v\n",
    "        self.padded_params = padded_params\n",
    "        print('Params padded')\n",
    "\n",
    "    def _create_fitness_and_indiv(self):\n",
    "        \"\"\"Create GA individual and fitness entities (classes)\"\"\"\n",
    "        ga_cr.create('Fitness', ga_b.Fitness, weights=self.eval_weights)\n",
    "        ga_cr.create('Individual', list, fitness=ga_cr.Fitness)\n",
    "        print('GA entities created')\n",
    "\n",
    "    def _gen_params_to_ga(self):\n",
    "        \"\"\"Generate index for each param for individual\"\"\"\n",
    "        max_dict = len(self.padded_params)\n",
    "        max_length = len(list(self.padded_params.values())[0])\n",
    "        idxs = [randint(0, max_length-1) for _ in range(max_dict)]\n",
    "        return idxs\n",
    "    \n",
    "    def _register_indiv_and_pop_generators(self):\n",
    "        \"\"\"Register GA individual and population generators\"\"\"\n",
    "        self.tb = ga_b.Toolbox()\n",
    "\n",
    "        if self.n_jobs > 1:\n",
    "            from multiprocessing import Pool\n",
    "            pool = Pool()\n",
    "            self.tb.register(\"map\", pool.map)\n",
    "\n",
    "        self.tb.register(\"individual\", ga_t.initIterate, ga_cr.Individual, self._gen_params_to_ga)\n",
    "        self.tb.register(\"population\", ga_t.initRepeat, list, self.tb.individual)\n",
    "        print('GA entities\\' methods registered')\n",
    "        \n",
    "    def _register_eval_func(self):\n",
    "        \"\"\"Set GA evaluate individual function\"\"\"\n",
    "        self.tb.register(\"evaluate\",\n",
    "                        self.eval_func,\n",
    "                        padded_params=self.padded_params,\n",
    "                        img_tr=self.img_tr,\n",
    "                        batch_size=self.batch_size,\n",
    "                        lr=self.lr)\n",
    "        #print(list(self.tb.evaluate(indiv) for indiv in self.tb.population(3)))\n",
    "        print('GA eval function registered')\n",
    "    \n",
    "    def _register_selection_crossover_mutation_methods(self):\n",
    "        self.tb.register(\"select\", ga_t.selTournament, tournsize=self.sel_tournsize)\n",
    "        self.tb.register(\"mate\", ga_t.cxUniform, indpb=self.cx_uniform_prob)\n",
    "        self.tb.register(\"mutate\", ga_t.mutShuffleIndexes, indpb=self.mut_shuffle_idx_prob)\n",
    "        print('GA sel-cx-mut methods registered')\n",
    "        \n",
    "    def run_ga_search(self):\n",
    "        \"\"\"GA Search\"\"\"\n",
    "        pop = self.tb.population(n=self.n_pop)\n",
    "        hof = ga_t.HallOfFame(self.n_hof)\n",
    "\n",
    "        # Stats stdout\n",
    "        #stats = ga_t.Statistics(lambda ind: ind.fitness.values )\n",
    "        stats1 = ga_t.Statistics(lambda ind: ind.fitness.values[0] )\n",
    "        stats2 = ga_t.Statistics(lambda ind: ind.fitness.values[1] )\n",
    "        stats3 = ga_t.Statistics(lambda ind: ind.fitness.values[2] )\n",
    "        stats = ga_t.MultiStatistics(accuracy=stats1, risk=stats2, complexity=stats3)\n",
    "        stats.register(\"avg\", mean)\n",
    "\n",
    "        # GA Run\n",
    "        pop, log = ga_algo.eaSimple(pop, self.tb, cxpb=self.cx_prob, \n",
    "                                    mutpb=self.mut_prob, ngen=self.n_gen, \n",
    "                                    stats=stats, halloffame=hof, verbose=True)\n",
    "        \n",
    "        # Convert back params\n",
    "        hof_ = {}\n",
    "        for i in range(self.n_hof):\n",
    "            hof_['hof_' + str(i)] = self._ga_to_params(hof[i])\n",
    "\n",
    "        return pop, log, hof_\n",
    "    \n",
    "    def _ga_to_params(self, idx_params):\n",
    "        \"\"\"Convert back idx to params\"\"\"\n",
    "        res = {}\n",
    "        for (k,v), idx in zip(self.padded_params.items(), idx_params):\n",
    "            res[k] = v[idx]\n",
    "        return res"
   ]
  },
  {
   "cell_type": "code",
   "execution_count": 7,
   "id": "6fd7cc1a",
   "metadata": {
    "execution": {
     "iopub.execute_input": "2022-01-19T16:21:08.811237Z",
     "iopub.status.busy": "2022-01-19T16:21:08.810183Z",
     "iopub.status.idle": "2022-01-19T16:21:08.813020Z",
     "shell.execute_reply": "2022-01-19T16:21:08.813739Z",
     "shell.execute_reply.started": "2022-01-19T05:54:50.697083Z"
    },
    "papermill": {
     "duration": 0.054491,
     "end_time": "2022-01-19T16:21:08.813992",
     "exception": false,
     "start_time": "2022-01-19T16:21:08.759501",
     "status": "completed"
    },
    "tags": []
   },
   "outputs": [],
   "source": [
    "from numpy import mean, linspace, inf\n",
    "\n",
    "net_params = {\n",
    "    'l1': linspace(1,20,30).astype(int),\n",
    "    'k1': linspace(1,20,30).astype(int),\n",
    "    'a1': ['ReLU', 'CELU', 'SELU', 'ELU', 'Softsign'],\n",
    "    'l2': linspace(1,20,30).astype(int),\n",
    "    'k2': linspace(1,20,30).astype(int),\n",
    "    'a2': ['ReLU', 'CELU', 'SELU', 'ELU', 'Softsign'],\n",
    "    'l3': linspace(1,20,30).astype(int),\n",
    "    'k3': linspace(1,20,30).astype(int),\n",
    "    'a3': ['ReLU', 'CELU', 'SELU', 'ELU', 'Softsign'],\n",
    "}\n",
    "\n",
    "def net_eval_indiv(individual, padded_params, img_tr, batch_size, lr):\n",
    "    \"\"\"Evaluate individual's genes (estimator's params)\"\"\"\n",
    "\n",
    "    # Params\n",
    "    indiv_params = {k : list(v)[idx] for (k,v), idx in zip(padded_params.items(), individual)}\n",
    "    \n",
    "    # Net\n",
    "    net = NET(**indiv_params).to(DEVI).train()\n",
    "    try:\n",
    "        net(ones(1,3,128,128))\n",
    "    except BaseException as e:\n",
    "        print('=> Possible Arch Error:', e)\n",
    "        return (0.01, (1/10)**10, 1e7)\n",
    "    \n",
    "    # Optimizer\n",
    "    optimizer = Adam(net.parameters(), lr=lr)\n",
    "    criterion = nn.NLLLoss()\n",
    "    \n",
    "    # Train\n",
    "    img_tr, img_te = img_tr[0], img_tr[1]\n",
    "    \n",
    "    train_dl = DataLoader(img_tr,\n",
    "                        batch_size=batch_size,\n",
    "                        shuffle=True,\n",
    "                        num_workers=1,\n",
    "                        drop_last=True)\n",
    "    \n",
    "    for epoch in range(1):\n",
    "        net = net.train()\n",
    "        train_correct = 0\n",
    "        train_total = 0\n",
    "        for i, (inputs, labels) in enumerate(train_dl):\n",
    "            if i <= 3:\n",
    "                outputs = net(inputs.to(DEVI, dtype=pt_float))\n",
    "\n",
    "                optimizer.zero_grad()\n",
    "                loss = criterion(outputs, labels.to(DEVI, dtype=long)).mean()\n",
    "                loss.backward()\n",
    "                optimizer.step()\n",
    "\n",
    "                #_, predicted = pt_max(outputs.data, 1)\n",
    "                #train_total += labels.size(0)\n",
    "                #train_correct += (predicted == labels.to(DEVI, dtype=long)).sum().item()\n",
    "                #train_accuracy = train_correct / train_total * 100\n",
    "                \n",
    "    test_dl = DataLoader(img_te,\n",
    "                        batch_size=batch_size,\n",
    "                        shuffle=True,\n",
    "                        num_workers=1,\n",
    "                        #drop_last=True\n",
    "                        )\n",
    "    \n",
    "    net = net.eval()\n",
    "    test_correct = 0\n",
    "    test_total = 0\n",
    "    \n",
    "    for j, (inputs, labels) in enumerate(test_dl):\n",
    "        net = net.eval()\n",
    "        if j <= 5:\n",
    "            outputs = net(inputs.to(DEVI, dtype=pt_float))\n",
    "\n",
    "            _, predicted = pt_max(outputs.data, 1)\n",
    "            test_total += labels.size(0)\n",
    "            test_correct += (predicted == labels.to(DEVI, dtype=long)).sum().item()\n",
    "            test_accuracy = test_correct / test_total * 100\n",
    "\n",
    "    # Risk\n",
    "    risk = median(prod(net(inputs.to(DEVI, dtype=pt_float)).exp()*10, dim=1))\n",
    "    if isnan(risk):\n",
    "        risk = 10\n",
    "    else:\n",
    "        risk = float(risk)\n",
    "        \n",
    "    # Complexity\n",
    "    compl = net.count_weights_biases()\n",
    "    \n",
    "    return (test_accuracy, risk, compl,)\n",
    "\n",
    "net_weights = (1, -1, -1,)"
   ]
  },
  {
   "cell_type": "code",
   "execution_count": 8,
   "id": "bb0add47",
   "metadata": {
    "execution": {
     "iopub.execute_input": "2022-01-19T16:21:08.868025Z",
     "iopub.status.busy": "2022-01-19T16:21:08.867366Z",
     "iopub.status.idle": "2022-01-19T17:33:41.494931Z",
     "shell.execute_reply": "2022-01-19T17:33:41.495522Z",
     "shell.execute_reply.started": "2022-01-19T05:54:50.72168Z"
    },
    "papermill": {
     "duration": 4352.654609,
     "end_time": "2022-01-19T17:33:41.495981",
     "exception": false,
     "start_time": "2022-01-19T16:21:08.841372",
     "status": "completed"
    },
    "tags": []
   },
   "outputs": [
    {
     "name": "stdout",
     "output_type": "stream",
     "text": [
      "Params padded\n",
      "GA entities created\n",
      "GA entities' methods registered\n",
      "GA eval function registered\n",
      "GA sel-cx-mut methods registered\n"
     ]
    },
    {
     "name": "stderr",
     "output_type": "stream",
     "text": [
      "/opt/conda/lib/python3.7/site-packages/torch/nn/modules/lazy.py:178: UserWarning: Lazy modules are a new feature under heavy development so changes to the API or functionality can happen at any moment.\n",
      "  warnings.warn('Lazy modules are a new feature under heavy development '\n"
     ]
    },
    {
     "name": "stdout",
     "output_type": "stream",
     "text": [
      "   \t      \t       accuracy       \t      complexity      \t         risk         \n",
      "   \t      \t----------------------\t----------------------\t----------------------\n",
      "gen\tnevals\tavg    \tgen\tnevals\tavg   \tgen\tnevals\tavg    \tgen\tnevals\n",
      "0  \t40    \t63.8542\t0  \t40    \t247483\t0  \t40    \t5.51826\t0  \t40    \n",
      "1  \t23    \t73.9583\t1  \t23    \t291376\t1  \t23    \t4.78529\t1  \t23    \n",
      "2  \t32    \t76.0937\t2  \t32    \t268675\t2  \t32    \t3.8712 \t2  \t32    \n",
      "3  \t19    \t86.1458\t3  \t19    \t326777\t3  \t19    \t2.46817\t3  \t19    \n",
      "4  \t17    \t81.4583\t4  \t17    \t333043\t4  \t17    \t1.70634\t4  \t17    \n",
      "5  \t24    \t82.9687\t5  \t24    \t377200\t5  \t24    \t2.07319\t5  \t24    \n",
      "6  \t23    \t88.2812\t6  \t23    \t402539\t6  \t23    \t0.910941\t6  \t23    \n",
      "7  \t23    \t90     \t7  \t23    \t456694\t7  \t23    \t0.645114\t7  \t23    \n",
      "8  \t15    \t91.6667\t8  \t15    \t517009\t8  \t15    \t0.0105053\t8  \t15    \n",
      "9  \t21    \t87.6562\t9  \t21    \t503901\t9  \t21    \t0.0297392\t9  \t21    \n",
      "10 \t20    \t91.6667\t10 \t20    \t527809\t10 \t20    \t0.0299962\t10 \t20    \n"
     ]
    }
   ],
   "source": [
    "from itertools import cycle\n",
    "from deap import creator as ga_cr, base as ga_b, algorithms as ga_algo, tools as ga_t\n",
    "from random import randint\n",
    "from numpy import mean\n",
    "from torch.optim import Adam\n",
    "from torch import max as pt_max, no_grad, median, prod, isnan, long, float as pt_float\n",
    "from torch.utils.data import DataLoader\n",
    "\n",
    "net_ga_params = GA_Pytorch(net_params,\n",
    "                           net_eval_indiv,\n",
    "                           net_weights,\n",
    "                           ( list(zip(imgs, labs)), list(zip(imgs_te, labs_te)) ) )\n",
    "pop, log, hof = net_ga_params.run_ga_search()"
   ]
  },
  {
   "cell_type": "code",
   "execution_count": 9,
   "id": "4aa9b6e6",
   "metadata": {
    "execution": {
     "iopub.execute_input": "2022-01-19T17:33:41.560440Z",
     "iopub.status.busy": "2022-01-19T17:33:41.553779Z",
     "iopub.status.idle": "2022-01-19T17:33:41.563860Z",
     "shell.execute_reply": "2022-01-19T17:33:41.563320Z"
    },
    "papermill": {
     "duration": 0.041124,
     "end_time": "2022-01-19T17:33:41.564008",
     "exception": false,
     "start_time": "2022-01-19T17:33:41.522884",
     "status": "completed"
    },
    "tags": []
   },
   "outputs": [
    {
     "data": {
      "text/plain": [
       "{'hof_0': {'l1': 13,\n",
       "  'k1': 15,\n",
       "  'a1': 'Softsign',\n",
       "  'l2': 3,\n",
       "  'k2': 2,\n",
       "  'a2': 'ELU',\n",
       "  'l3': 9,\n",
       "  'k3': 1,\n",
       "  'a3': 'SELU'},\n",
       " 'hof_1': {'l1': 7,\n",
       "  'k1': 10,\n",
       "  'a1': 'CELU',\n",
       "  'l2': 1,\n",
       "  'k2': 5,\n",
       "  'a2': 'ELU',\n",
       "  'l3': 18,\n",
       "  'k3': 2,\n",
       "  'a3': 'ELU'},\n",
       " 'hof_2': {'l1': 6,\n",
       "  'k1': 6,\n",
       "  'a1': 'ReLU',\n",
       "  'l2': 1,\n",
       "  'k2': 5,\n",
       "  'a2': 'Softsign',\n",
       "  'l3': 18,\n",
       "  'k3': 2,\n",
       "  'a3': 'ELU'},\n",
       " 'hof_3': {'l1': 2,\n",
       "  'k1': 6,\n",
       "  'a1': 'Softsign',\n",
       "  'l2': 1,\n",
       "  'k2': 5,\n",
       "  'a2': 'SELU',\n",
       "  'l3': 18,\n",
       "  'k3': 1,\n",
       "  'a3': 'ELU'},\n",
       " 'hof_4': {'l1': 7,\n",
       "  'k1': 3,\n",
       "  'a1': 'CELU',\n",
       "  'l2': 3,\n",
       "  'k2': 5,\n",
       "  'a2': 'ReLU',\n",
       "  'l3': 18,\n",
       "  'k3': 1,\n",
       "  'a3': 'Softsign'}}"
      ]
     },
     "execution_count": 9,
     "metadata": {},
     "output_type": "execute_result"
    }
   ],
   "source": [
    "hof"
   ]
  },
  {
   "cell_type": "code",
   "execution_count": 10,
   "id": "3420284c",
   "metadata": {
    "execution": {
     "iopub.execute_input": "2022-01-19T17:33:41.625748Z",
     "iopub.status.busy": "2022-01-19T17:33:41.625057Z",
     "iopub.status.idle": "2022-01-19T17:33:41.722093Z",
     "shell.execute_reply": "2022-01-19T17:33:41.721544Z"
    },
    "papermill": {
     "duration": 0.130228,
     "end_time": "2022-01-19T17:33:41.722235",
     "exception": false,
     "start_time": "2022-01-19T17:33:41.592007",
     "status": "completed"
    },
    "tags": []
   },
   "outputs": [
    {
     "data": {
      "text/html": [
       "<div>\n",
       "<style scoped>\n",
       "    .dataframe tbody tr th:only-of-type {\n",
       "        vertical-align: middle;\n",
       "    }\n",
       "\n",
       "    .dataframe tbody tr th {\n",
       "        vertical-align: top;\n",
       "    }\n",
       "\n",
       "    .dataframe thead th {\n",
       "        text-align: right;\n",
       "    }\n",
       "</style>\n",
       "<table border=\"1\" class=\"dataframe\">\n",
       "  <thead>\n",
       "    <tr style=\"text-align: right;\">\n",
       "      <th></th>\n",
       "      <th>hof_0</th>\n",
       "      <th>hof_1</th>\n",
       "      <th>hof_2</th>\n",
       "      <th>hof_3</th>\n",
       "      <th>hof_4</th>\n",
       "    </tr>\n",
       "  </thead>\n",
       "  <tbody>\n",
       "    <tr>\n",
       "      <th>l1</th>\n",
       "      <td>13</td>\n",
       "      <td>7</td>\n",
       "      <td>6</td>\n",
       "      <td>2</td>\n",
       "      <td>7</td>\n",
       "    </tr>\n",
       "    <tr>\n",
       "      <th>k1</th>\n",
       "      <td>15</td>\n",
       "      <td>10</td>\n",
       "      <td>6</td>\n",
       "      <td>6</td>\n",
       "      <td>3</td>\n",
       "    </tr>\n",
       "    <tr>\n",
       "      <th>a1</th>\n",
       "      <td>Softsign</td>\n",
       "      <td>CELU</td>\n",
       "      <td>ReLU</td>\n",
       "      <td>Softsign</td>\n",
       "      <td>CELU</td>\n",
       "    </tr>\n",
       "    <tr>\n",
       "      <th>l2</th>\n",
       "      <td>3</td>\n",
       "      <td>1</td>\n",
       "      <td>1</td>\n",
       "      <td>1</td>\n",
       "      <td>3</td>\n",
       "    </tr>\n",
       "    <tr>\n",
       "      <th>k2</th>\n",
       "      <td>2</td>\n",
       "      <td>5</td>\n",
       "      <td>5</td>\n",
       "      <td>5</td>\n",
       "      <td>5</td>\n",
       "    </tr>\n",
       "    <tr>\n",
       "      <th>a2</th>\n",
       "      <td>ELU</td>\n",
       "      <td>ELU</td>\n",
       "      <td>Softsign</td>\n",
       "      <td>SELU</td>\n",
       "      <td>ReLU</td>\n",
       "    </tr>\n",
       "    <tr>\n",
       "      <th>l3</th>\n",
       "      <td>9</td>\n",
       "      <td>18</td>\n",
       "      <td>18</td>\n",
       "      <td>18</td>\n",
       "      <td>18</td>\n",
       "    </tr>\n",
       "    <tr>\n",
       "      <th>k3</th>\n",
       "      <td>1</td>\n",
       "      <td>2</td>\n",
       "      <td>2</td>\n",
       "      <td>1</td>\n",
       "      <td>1</td>\n",
       "    </tr>\n",
       "    <tr>\n",
       "      <th>a3</th>\n",
       "      <td>SELU</td>\n",
       "      <td>ELU</td>\n",
       "      <td>ELU</td>\n",
       "      <td>ELU</td>\n",
       "      <td>Softsign</td>\n",
       "    </tr>\n",
       "  </tbody>\n",
       "</table>\n",
       "</div>"
      ],
      "text/plain": [
       "       hof_0 hof_1     hof_2     hof_3     hof_4\n",
       "l1        13     7         6         2         7\n",
       "k1        15    10         6         6         3\n",
       "a1  Softsign  CELU      ReLU  Softsign      CELU\n",
       "l2         3     1         1         1         3\n",
       "k2         2     5         5         5         5\n",
       "a2       ELU   ELU  Softsign      SELU      ReLU\n",
       "l3         9    18        18        18        18\n",
       "k3         1     2         2         1         1\n",
       "a3      SELU   ELU       ELU       ELU  Softsign"
      ]
     },
     "execution_count": 10,
     "metadata": {},
     "output_type": "execute_result"
    },
    {
     "data": {
      "text/plain": [
       "['best_params.json']"
      ]
     },
     "execution_count": 10,
     "metadata": {},
     "output_type": "execute_result"
    }
   ],
   "source": [
    "# Saving params\n",
    "\n",
    "from pandas import DataFrame\n",
    "from joblib import dump, load\n",
    "\n",
    "DataFrame(hof)\n",
    "dump(hof, 'best_params.json')"
   ]
  },
  {
   "cell_type": "code",
   "execution_count": null,
   "id": "6fa615ff",
   "metadata": {
    "papermill": {
     "duration": 0.027946,
     "end_time": "2022-01-19T17:33:41.778711",
     "exception": false,
     "start_time": "2022-01-19T17:33:41.750765",
     "status": "completed"
    },
    "tags": []
   },
   "outputs": [],
   "source": []
  },
  {
   "cell_type": "code",
   "execution_count": null,
   "id": "c90638df",
   "metadata": {
    "papermill": {
     "duration": 0.028096,
     "end_time": "2022-01-19T17:33:41.835869",
     "exception": false,
     "start_time": "2022-01-19T17:33:41.807773",
     "status": "completed"
    },
    "tags": []
   },
   "outputs": [],
   "source": []
  },
  {
   "cell_type": "code",
   "execution_count": null,
   "id": "5c94f765",
   "metadata": {
    "papermill": {
     "duration": 0.028031,
     "end_time": "2022-01-19T17:33:41.893165",
     "exception": false,
     "start_time": "2022-01-19T17:33:41.865134",
     "status": "completed"
    },
    "tags": []
   },
   "outputs": [],
   "source": []
  },
  {
   "cell_type": "code",
   "execution_count": null,
   "id": "6b590dab",
   "metadata": {
    "papermill": {
     "duration": 0.027959,
     "end_time": "2022-01-19T17:33:41.949487",
     "exception": false,
     "start_time": "2022-01-19T17:33:41.921528",
     "status": "completed"
    },
    "tags": []
   },
   "outputs": [],
   "source": []
  },
  {
   "cell_type": "code",
   "execution_count": null,
   "id": "e1b26ee7",
   "metadata": {
    "papermill": {
     "duration": 0.028034,
     "end_time": "2022-01-19T17:33:42.005745",
     "exception": false,
     "start_time": "2022-01-19T17:33:41.977711",
     "status": "completed"
    },
    "tags": []
   },
   "outputs": [],
   "source": []
  },
  {
   "cell_type": "code",
   "execution_count": null,
   "id": "11e79ca1",
   "metadata": {
    "papermill": {
     "duration": 0.029508,
     "end_time": "2022-01-19T17:33:42.064026",
     "exception": false,
     "start_time": "2022-01-19T17:33:42.034518",
     "status": "completed"
    },
    "tags": []
   },
   "outputs": [],
   "source": []
  },
  {
   "cell_type": "code",
   "execution_count": null,
   "id": "3d94ec12",
   "metadata": {
    "papermill": {
     "duration": 0.028542,
     "end_time": "2022-01-19T17:33:42.121020",
     "exception": false,
     "start_time": "2022-01-19T17:33:42.092478",
     "status": "completed"
    },
    "tags": []
   },
   "outputs": [],
   "source": []
  },
  {
   "cell_type": "code",
   "execution_count": null,
   "id": "7b0921ca",
   "metadata": {
    "papermill": {
     "duration": 0.02848,
     "end_time": "2022-01-19T17:33:42.178252",
     "exception": false,
     "start_time": "2022-01-19T17:33:42.149772",
     "status": "completed"
    },
    "tags": []
   },
   "outputs": [],
   "source": []
  },
  {
   "cell_type": "code",
   "execution_count": null,
   "id": "1b8486dd",
   "metadata": {
    "papermill": {
     "duration": 0.02904,
     "end_time": "2022-01-19T17:33:42.235626",
     "exception": false,
     "start_time": "2022-01-19T17:33:42.206586",
     "status": "completed"
    },
    "tags": []
   },
   "outputs": [],
   "source": []
  },
  {
   "cell_type": "code",
   "execution_count": null,
   "id": "dd8d6a91",
   "metadata": {
    "papermill": {
     "duration": 0.027861,
     "end_time": "2022-01-19T17:33:42.291752",
     "exception": false,
     "start_time": "2022-01-19T17:33:42.263891",
     "status": "completed"
    },
    "tags": []
   },
   "outputs": [],
   "source": []
  },
  {
   "cell_type": "code",
   "execution_count": null,
   "id": "2ce4d593",
   "metadata": {
    "papermill": {
     "duration": 0.02862,
     "end_time": "2022-01-19T17:33:42.349005",
     "exception": false,
     "start_time": "2022-01-19T17:33:42.320385",
     "status": "completed"
    },
    "tags": []
   },
   "outputs": [],
   "source": []
  },
  {
   "cell_type": "code",
   "execution_count": null,
   "id": "143856f2",
   "metadata": {
    "papermill": {
     "duration": 0.027921,
     "end_time": "2022-01-19T17:33:42.405343",
     "exception": false,
     "start_time": "2022-01-19T17:33:42.377422",
     "status": "completed"
    },
    "tags": []
   },
   "outputs": [],
   "source": []
  },
  {
   "cell_type": "code",
   "execution_count": null,
   "id": "2a15b3db",
   "metadata": {
    "papermill": {
     "duration": 0.028253,
     "end_time": "2022-01-19T17:33:42.461891",
     "exception": false,
     "start_time": "2022-01-19T17:33:42.433638",
     "status": "completed"
    },
    "tags": []
   },
   "outputs": [],
   "source": []
  },
  {
   "cell_type": "code",
   "execution_count": null,
   "id": "5efe6a80",
   "metadata": {
    "papermill": {
     "duration": 0.027958,
     "end_time": "2022-01-19T17:33:42.518246",
     "exception": false,
     "start_time": "2022-01-19T17:33:42.490288",
     "status": "completed"
    },
    "tags": []
   },
   "outputs": [],
   "source": []
  },
  {
   "cell_type": "code",
   "execution_count": null,
   "id": "584e0b1f",
   "metadata": {
    "papermill": {
     "duration": 0.027885,
     "end_time": "2022-01-19T17:33:42.574361",
     "exception": false,
     "start_time": "2022-01-19T17:33:42.546476",
     "status": "completed"
    },
    "tags": []
   },
   "outputs": [],
   "source": []
  },
  {
   "cell_type": "code",
   "execution_count": null,
   "id": "24e1c7a3",
   "metadata": {
    "papermill": {
     "duration": 0.028258,
     "end_time": "2022-01-19T17:33:42.630760",
     "exception": false,
     "start_time": "2022-01-19T17:33:42.602502",
     "status": "completed"
    },
    "tags": []
   },
   "outputs": [],
   "source": []
  },
  {
   "cell_type": "code",
   "execution_count": null,
   "id": "ef8eaa8c",
   "metadata": {
    "papermill": {
     "duration": 0.027991,
     "end_time": "2022-01-19T17:33:42.687138",
     "exception": false,
     "start_time": "2022-01-19T17:33:42.659147",
     "status": "completed"
    },
    "tags": []
   },
   "outputs": [],
   "source": []
  },
  {
   "cell_type": "code",
   "execution_count": null,
   "id": "4b0f9366",
   "metadata": {
    "papermill": {
     "duration": 0.028133,
     "end_time": "2022-01-19T17:33:42.744238",
     "exception": false,
     "start_time": "2022-01-19T17:33:42.716105",
     "status": "completed"
    },
    "tags": []
   },
   "outputs": [],
   "source": []
  },
  {
   "cell_type": "code",
   "execution_count": null,
   "id": "ba3ba080",
   "metadata": {
    "papermill": {
     "duration": 0.027875,
     "end_time": "2022-01-19T17:33:42.800584",
     "exception": false,
     "start_time": "2022-01-19T17:33:42.772709",
     "status": "completed"
    },
    "tags": []
   },
   "outputs": [],
   "source": []
  },
  {
   "cell_type": "code",
   "execution_count": null,
   "id": "43997156",
   "metadata": {
    "papermill": {
     "duration": 0.028441,
     "end_time": "2022-01-19T17:33:42.857214",
     "exception": false,
     "start_time": "2022-01-19T17:33:42.828773",
     "status": "completed"
    },
    "tags": []
   },
   "outputs": [],
   "source": []
  }
 ],
 "metadata": {
  "kernelspec": {
   "display_name": "Python 3",
   "language": "python",
   "name": "python3"
  },
  "language_info": {
   "codemirror_mode": {
    "name": "ipython",
    "version": 3
   },
   "file_extension": ".py",
   "mimetype": "text/x-python",
   "name": "python",
   "nbconvert_exporter": "python",
   "pygments_lexer": "ipython3",
   "version": "3.7.12"
  },
  "papermill": {
   "default_parameters": {},
   "duration": 4370.436363,
   "end_time": "2022-01-19T17:33:45.717766",
   "environment_variables": {},
   "exception": null,
   "input_path": "__notebook__.ipynb",
   "output_path": "__notebook__.ipynb",
   "parameters": {},
   "start_time": "2022-01-19T16:20:55.281403",
   "version": "2.3.3"
  }
 },
 "nbformat": 4,
 "nbformat_minor": 5
}
