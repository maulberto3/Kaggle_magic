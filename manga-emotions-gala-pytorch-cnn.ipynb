{
 "cells": [
  {
   "cell_type": "code",
   "execution_count": 1,
   "id": "e4c973ce",
   "metadata": {
    "_cell_guid": "b1076dfc-b9ad-4769-8c92-a6c4dae69d19",
    "_uuid": "8f2839f25d086af736a60e9eeb907d3b93b6e0e5",
    "execution": {
     "iopub.execute_input": "2022-01-19T05:58:17.718083Z",
     "iopub.status.busy": "2022-01-19T05:58:17.717354Z",
     "iopub.status.idle": "2022-01-19T05:58:17.807020Z",
     "shell.execute_reply": "2022-01-19T05:58:17.807446Z",
     "shell.execute_reply.started": "2022-01-19T05:54:50.253319Z"
    },
    "papermill": {
     "duration": 0.117781,
     "end_time": "2022-01-19T05:58:17.807705",
     "exception": false,
     "start_time": "2022-01-19T05:58:17.689924",
     "status": "completed"
    },
    "tags": []
   },
   "outputs": [],
   "source": [
    "%reset -sf\n",
    "\n",
    "from IPython.core.interactiveshell import InteractiveShell\n",
    "InteractiveShell.ast_node_interactivity = 'all'"
   ]
  },
  {
   "cell_type": "code",
   "execution_count": 2,
   "id": "9ab8ffb9",
   "metadata": {
    "execution": {
     "iopub.execute_input": "2022-01-19T05:58:17.847802Z",
     "iopub.status.busy": "2022-01-19T05:58:17.846173Z",
     "iopub.status.idle": "2022-01-19T05:58:19.075024Z",
     "shell.execute_reply": "2022-01-19T05:58:19.075491Z",
     "shell.execute_reply.started": "2022-01-19T05:54:50.418035Z"
    },
    "papermill": {
     "duration": 1.248981,
     "end_time": "2022-01-19T05:58:19.075648",
     "exception": false,
     "start_time": "2022-01-19T05:58:17.826667",
     "status": "completed"
    },
    "tags": []
   },
   "outputs": [
    {
     "name": "stdout",
     "output_type": "stream",
     "text": [
      "==> Device: cpu\n"
     ]
    },
    {
     "data": {
      "text/plain": [
       "<torch._C.Generator at 0x7f592bd25830>"
      ]
     },
     "execution_count": 2,
     "metadata": {},
     "output_type": "execute_result"
    }
   ],
   "source": [
    "from torch.cuda import is_available\n",
    "DEVI = \"cuda\" if is_available() else \"cpu\"\n",
    "# device = \"cpu\"\n",
    "print(\"==> Device:\", DEVI)\n",
    "\n",
    "from torch import manual_seed\n",
    "manual_seed(16)\n",
    "from random import seed\n",
    "seed(16)"
   ]
  },
  {
   "cell_type": "code",
   "execution_count": 3,
   "id": "23380c40",
   "metadata": {
    "execution": {
     "iopub.execute_input": "2022-01-19T05:58:19.118346Z",
     "iopub.status.busy": "2022-01-19T05:58:19.117869Z",
     "iopub.status.idle": "2022-01-19T05:58:21.648883Z",
     "shell.execute_reply": "2022-01-19T05:58:21.649274Z",
     "shell.execute_reply.started": "2022-01-19T05:54:50.431529Z"
    },
    "papermill": {
     "duration": 2.554257,
     "end_time": "2022-01-19T05:58:21.649421",
     "exception": false,
     "start_time": "2022-01-19T05:58:19.095164",
     "status": "completed"
    },
    "tags": []
   },
   "outputs": [
    {
     "data": {
      "text/plain": [
       "[PosixPath('/kaggle/input/mangafacespt/imgs.pt'),\n",
       " PosixPath('/kaggle/input/mangafacespt/imgs_te.pt'),\n",
       " PosixPath('/kaggle/input/mangafacespt/labs_te.pt'),\n",
       " PosixPath('/kaggle/input/mangafacespt/labs.pt')]"
      ]
     },
     "execution_count": 3,
     "metadata": {},
     "output_type": "execute_result"
    },
    {
     "data": {
      "text/plain": [
       "(torch.Size([1383, 3, 128, 128]),\n",
       " torch.Size([48, 3, 128, 128]),\n",
       " torch.Size([1383]),\n",
       " torch.Size([48]))"
      ]
     },
     "execution_count": 3,
     "metadata": {},
     "output_type": "execute_result"
    }
   ],
   "source": [
    "from torch.utils.data import Dataset, DataLoader\n",
    "from torch import load\n",
    "\n",
    "from pathlib import Path\n",
    "\n",
    "path = Path('/kaggle/input/mangafacespt')\n",
    "list(path.glob('*'))\n",
    "\n",
    "imgs = load(path / 'imgs.pt')\n",
    "imgs_te = load(path / 'imgs_te.pt')\n",
    "labs = load(path / 'labs.pt')\n",
    "labs_te = load(path / 'labs_te.pt')\n",
    "\n",
    "imgs.shape, imgs_te.shape, labs.shape, labs_te.shape"
   ]
  },
  {
   "cell_type": "code",
   "execution_count": 4,
   "id": "82206c1e",
   "metadata": {
    "execution": {
     "iopub.execute_input": "2022-01-19T05:58:21.711789Z",
     "iopub.status.busy": "2022-01-19T05:58:21.711189Z",
     "iopub.status.idle": "2022-01-19T05:58:21.713682Z",
     "shell.execute_reply": "2022-01-19T05:58:21.713187Z",
     "shell.execute_reply.started": "2022-01-19T05:54:50.644945Z"
    },
    "papermill": {
     "duration": 0.035748,
     "end_time": "2022-01-19T05:58:21.713792",
     "exception": false,
     "start_time": "2022-01-19T05:58:21.678044",
     "status": "completed"
    },
    "tags": []
   },
   "outputs": [],
   "source": [
    "BATCH_SIZE = 64\n",
    "LR = 0.0005"
   ]
  },
  {
   "cell_type": "code",
   "execution_count": 5,
   "id": "c053a76f",
   "metadata": {
    "execution": {
     "iopub.execute_input": "2022-01-19T05:58:21.765994Z",
     "iopub.status.busy": "2022-01-19T05:58:21.765424Z",
     "iopub.status.idle": "2022-01-19T05:58:21.769296Z",
     "shell.execute_reply": "2022-01-19T05:58:21.769905Z",
     "shell.execute_reply.started": "2022-01-19T05:54:50.650245Z"
    },
    "papermill": {
     "duration": 0.037319,
     "end_time": "2022-01-19T05:58:21.770110",
     "exception": false,
     "start_time": "2022-01-19T05:58:21.732791",
     "status": "completed"
    },
    "tags": []
   },
   "outputs": [],
   "source": [
    "from torch import nn\n",
    "from torch import float as pt_float, ones\n",
    "\n",
    "class NET(nn.Module):\n",
    "    def __init__(self, l1, k1, a1, l2, k2, a2, l3, k3, a3):\n",
    "        super().__init__()\n",
    "        \n",
    "        self.cnn1 = nn.Sequential(\n",
    "            nn.LazyConv2d(l1, k1),\n",
    "            nn.Dropout(0.5),\n",
    "            nn.__getattribute__(a1)())\n",
    "        \n",
    "        self.cnn2 = nn.Sequential(\n",
    "            nn.LazyBatchNorm2d(),\n",
    "            nn.LazyConv2d(l2, k2),\n",
    "            nn.Dropout(0.5),\n",
    "            nn.__getattribute__(a2)())\n",
    "\n",
    "        self.cnn3 = nn.Sequential(\n",
    "            nn.LazyBatchNorm2d(),\n",
    "            nn.LazyConv2d(l3, k3),\n",
    "            nn.Dropout(0.5),\n",
    "            nn.__getattribute__(a3)())\n",
    "\n",
    "        self.out1 = nn.Sequential(\n",
    "            nn.Flatten(),\n",
    "            nn.LazyLinear(2),\n",
    "            nn.LogSoftmax(dim=-1))\n",
    "        \n",
    "        self.model1 = nn.Sequential(\n",
    "            self.cnn1,\n",
    "            self.cnn2,\n",
    "            self.cnn3,\n",
    "            self.out1)\n",
    "        \n",
    "    def forward(self, x):\n",
    "        \"\"\"Forward\"\"\"\n",
    "        return self.model1(x)\n",
    "    \n",
    "    def count_weights_biases(self):\n",
    "        return int(sum(p.numel() for p in self.parameters() if p.requires_grad))\n",
    "    \n",
    "#net = NET(10, 2, 'SELU', 10, 2, 'SELU', 10, 2, 'SELU').to(DEVI)\n",
    "#f'Dry run'\n",
    "#net(ones(1, 3, 95, 95).to(DEVI, dtype=pt_float))"
   ]
  },
  {
   "cell_type": "code",
   "execution_count": 6,
   "id": "a73bfa95",
   "metadata": {
    "execution": {
     "iopub.execute_input": "2022-01-19T05:58:21.811639Z",
     "iopub.status.busy": "2022-01-19T05:58:21.811047Z",
     "iopub.status.idle": "2022-01-19T05:58:21.831843Z",
     "shell.execute_reply": "2022-01-19T05:58:21.832235Z",
     "shell.execute_reply.started": "2022-01-19T05:54:50.664638Z"
    },
    "papermill": {
     "duration": 0.043063,
     "end_time": "2022-01-19T05:58:21.832381",
     "exception": false,
     "start_time": "2022-01-19T05:58:21.789318",
     "status": "completed"
    },
    "tags": []
   },
   "outputs": [],
   "source": [
    "class GA_Pytorch():\n",
    "    def __init__(self, \n",
    "                 params, \n",
    "                 eval_func,\n",
    "                 eval_weights,\n",
    "                 img_tr,\n",
    "                 batch_size=BATCH_SIZE,\n",
    "                 lr=LR,\n",
    "                 sel_tournsize=2, \n",
    "                 cx_uniform_prob=0.5, \n",
    "                 mut_shuffle_idx_prob=0.1, \n",
    "                 #\n",
    "                 n_pop=40,\n",
    "                 n_gen=10,\n",
    "                 #\n",
    "                 n_hof=5,\n",
    "                 cx_prob=0.5, \n",
    "                 mut_prob=0.1, \n",
    "                 n_jobs=1\n",
    "                ):\n",
    "        self.params = params\n",
    "        self.eval_func = eval_func\n",
    "        self.eval_weights = eval_weights\n",
    "        \n",
    "        self.img_tr = img_tr\n",
    "        self.batch_size = batch_size\n",
    "        self.lr = lr\n",
    "        \n",
    "        self.sel_tournsize = sel_tournsize\n",
    "        self.cx_uniform_prob = cx_uniform_prob\n",
    "        self.mut_shuffle_idx_prob = mut_shuffle_idx_prob\n",
    "        self.n_pop = n_pop\n",
    "        self.n_gen = n_gen\n",
    "        self.n_hof = n_hof\n",
    "        self.cx_prob = cx_prob\n",
    "        self.mut_prob = mut_prob\n",
    "        \n",
    "        self.n_jobs = n_jobs\n",
    "\n",
    "        self._pad_params()\n",
    "        self._create_fitness_and_indiv()\n",
    "        self._register_indiv_and_pop_generators()\n",
    "        self._register_eval_func()\n",
    "        self._register_selection_crossover_mutation_methods()\n",
    "\n",
    "    def _pad_params(self):\n",
    "        \"\"\"Pad params for crossover shuffle idx method\"\"\"\n",
    "        assert isinstance(self.params, dict), 'Params must be a dict, i.e. estimator.get_params()'\n",
    "        params_count = {k: len(v) for k,v in self.params.items()}\n",
    "        max_length, max_key = -99, ''\n",
    "        for k, v in params_count.items():\n",
    "            if v <= max_length:\n",
    "                continue\n",
    "            else:\n",
    "                max_key = k\n",
    "                max_length = v\n",
    "        assert isinstance(max_length, int), 'The max length between all params must be an int'\n",
    "        # cycle through params for max length param, otherwise infinite cycle\n",
    "        values_padded = (cycle(v) if k!=max_key else v for k,v in self.params.items())\n",
    "        values_padded = zip(*values_padded)  # ('a', 1, 14), ('b', 2, 16), ('c', 3, 16) ...\n",
    "        values_padded = zip(*values_padded)  # ('a', 'b', 'c'), (1, 2, 3), (14, 15, 16)...\n",
    "        padded_params = {}\n",
    "        for k, v in zip(self.params, values_padded):\n",
    "            padded_params[k] = v\n",
    "        self.padded_params = padded_params\n",
    "        print('Params padded')\n",
    "\n",
    "    def _create_fitness_and_indiv(self):\n",
    "        \"\"\"Create GA individual and fitness entities (classes)\"\"\"\n",
    "        ga_cr.create('Fitness', ga_b.Fitness, weights=self.eval_weights)\n",
    "        ga_cr.create('Individual', list, fitness=ga_cr.Fitness)\n",
    "        print('GA entities created')\n",
    "\n",
    "    def _gen_params_to_ga(self):\n",
    "        \"\"\"Generate index for each param for individual\"\"\"\n",
    "        max_dict = len(self.padded_params)\n",
    "        max_length = len(list(self.padded_params.values())[0])\n",
    "        idxs = [randint(0, max_length-1) for _ in range(max_dict)]\n",
    "        return idxs\n",
    "    \n",
    "    def _register_indiv_and_pop_generators(self):\n",
    "        \"\"\"Register GA individual and population generators\"\"\"\n",
    "        self.tb = ga_b.Toolbox()\n",
    "\n",
    "        if self.n_jobs > 1:\n",
    "            from multiprocessing import Pool\n",
    "            pool = Pool()\n",
    "            self.tb.register(\"map\", pool.map)\n",
    "\n",
    "        self.tb.register(\"individual\", ga_t.initIterate, ga_cr.Individual, self._gen_params_to_ga)\n",
    "        self.tb.register(\"population\", ga_t.initRepeat, list, self.tb.individual)\n",
    "        print('GA entities\\' methods registered')\n",
    "        \n",
    "    def _register_eval_func(self):\n",
    "        \"\"\"Set GA evaluate individual function\"\"\"\n",
    "        self.tb.register(\"evaluate\",\n",
    "                        self.eval_func,\n",
    "                        padded_params=self.padded_params,\n",
    "                        img_tr=self.img_tr,\n",
    "                        batch_size=self.batch_size,\n",
    "                        lr=self.lr)\n",
    "        #print(list(self.tb.evaluate(indiv) for indiv in self.tb.population(3)))\n",
    "        print('GA eval function registered')\n",
    "    \n",
    "    def _register_selection_crossover_mutation_methods(self):\n",
    "        self.tb.register(\"select\", ga_t.selTournament, tournsize=self.sel_tournsize)\n",
    "        self.tb.register(\"mate\", ga_t.cxUniform, indpb=self.cx_uniform_prob)\n",
    "        self.tb.register(\"mutate\", ga_t.mutShuffleIndexes, indpb=self.mut_shuffle_idx_prob)\n",
    "        print('GA sel-cx-mut methods registered')\n",
    "        \n",
    "    def run_ga_search(self):\n",
    "        \"\"\"GA Search\"\"\"\n",
    "        pop = self.tb.population(n=self.n_pop)\n",
    "        hof = ga_t.HallOfFame(self.n_hof)\n",
    "\n",
    "        # Stats stdout\n",
    "        #stats = ga_t.Statistics(lambda ind: ind.fitness.values )\n",
    "        stats1 = ga_t.Statistics(lambda ind: ind.fitness.values[0] )\n",
    "        stats2 = ga_t.Statistics(lambda ind: ind.fitness.values[1] )\n",
    "        stats3 = ga_t.Statistics(lambda ind: ind.fitness.values[2] )\n",
    "        stats = ga_t.MultiStatistics(accuracy=stats1, risk=stats2, complexity=stats3)\n",
    "        stats.register(\"avg\", mean)\n",
    "\n",
    "        # GA Run\n",
    "        pop, log = ga_algo.eaSimple(pop, self.tb, cxpb=self.cx_prob, \n",
    "                                    mutpb=self.mut_prob, ngen=self.n_gen, \n",
    "                                    stats=stats, halloffame=hof, verbose=True)\n",
    "        \n",
    "        # Convert back params\n",
    "        hof_ = {}\n",
    "        for i in range(self.n_hof):\n",
    "            hof_['hof_' + str(i)] = self._ga_to_params(hof[i])\n",
    "\n",
    "        return pop, log, hof_\n",
    "    \n",
    "    def _ga_to_params(self, idx_params):\n",
    "        \"\"\"Convert back idx to params\"\"\"\n",
    "        res = {}\n",
    "        for (k,v), idx in zip(self.padded_params.items(), idx_params):\n",
    "            res[k] = v[idx]\n",
    "        return res"
   ]
  },
  {
   "cell_type": "code",
   "execution_count": 7,
   "id": "7ab6fae5",
   "metadata": {
    "execution": {
     "iopub.execute_input": "2022-01-19T05:58:21.873260Z",
     "iopub.status.busy": "2022-01-19T05:58:21.872719Z",
     "iopub.status.idle": "2022-01-19T05:58:21.896401Z",
     "shell.execute_reply": "2022-01-19T05:58:21.896968Z",
     "shell.execute_reply.started": "2022-01-19T05:54:50.697083Z"
    },
    "papermill": {
     "duration": 0.04572,
     "end_time": "2022-01-19T05:58:21.897117",
     "exception": false,
     "start_time": "2022-01-19T05:58:21.851397",
     "status": "completed"
    },
    "tags": []
   },
   "outputs": [],
   "source": [
    "from numpy import mean, linspace, inf\n",
    "\n",
    "net_params = {\n",
    "    'l1': linspace(1,20,30).astype(int),\n",
    "    'k1': linspace(1,20,30).astype(int),\n",
    "    'a1': ['ReLU', 'CELU', 'SELU', 'ELU', 'Softsign'],\n",
    "    'l2': linspace(1,20,30).astype(int),\n",
    "    'k2': linspace(1,20,30).astype(int),\n",
    "    'a2': ['ReLU', 'CELU', 'SELU', 'ELU', 'Softsign'],\n",
    "    'l3': linspace(1,20,30).astype(int),\n",
    "    'k3': linspace(1,20,30).astype(int),\n",
    "    'a3': ['ReLU', 'CELU', 'SELU', 'ELU', 'Softsign'],\n",
    "}\n",
    "\n",
    "def net_eval_indiv(individual, padded_params, img_tr, batch_size, lr):\n",
    "    \"\"\"Evaluate individual's genes (estimator's params)\"\"\"\n",
    "\n",
    "    # Params\n",
    "    indiv_params = {k : list(v)[idx] for (k,v), idx in zip(padded_params.items(), individual)}\n",
    "    \n",
    "    # Net\n",
    "    net = NET(**indiv_params).to(DEVI).train()\n",
    "    try:\n",
    "        net(ones(1,3,128,128))\n",
    "    except BaseException as e:\n",
    "        print('=> Possible Arch Error:', e)\n",
    "        return (0.01, (1/10)**10, 1e7)\n",
    "    \n",
    "    # Optimizer\n",
    "    optimizer = Adam(net.parameters(), lr=lr)\n",
    "    criterion = nn.NLLLoss()\n",
    "    \n",
    "    # Train\n",
    "    img_tr, img_te = img_tr[0], img_tr[1]\n",
    "    \n",
    "    train_dl = DataLoader(img_tr,\n",
    "                        batch_size=batch_size,\n",
    "                        shuffle=True,\n",
    "                        num_workers=1,\n",
    "                        drop_last=True)\n",
    "    \n",
    "    for epoch in range(1):\n",
    "        train_correct = 0\n",
    "        train_total = 0\n",
    "        for i, (inputs, labels) in enumerate(train_dl):\n",
    "            if i <= 3:\n",
    "                outputs = net(inputs.to(DEVI, dtype=pt_float))\n",
    "\n",
    "                optimizer.zero_grad()\n",
    "                loss = criterion(outputs, labels.to(DEVI, dtype=long)).mean()\n",
    "                loss.backward()\n",
    "                optimizer.step()\n",
    "\n",
    "                #_, predicted = pt_max(outputs.data, 1)\n",
    "                #train_total += labels.size(0)\n",
    "                #train_correct += (predicted == labels.to(DEVI, dtype=long)).sum().item()\n",
    "                #train_accuracy = train_correct / train_total * 100\n",
    "                \n",
    "    test_dl = DataLoader(img_te,\n",
    "                        batch_size=batch_size,\n",
    "                        shuffle=True,\n",
    "                        num_workers=1,\n",
    "                        #drop_last=True\n",
    "                        )\n",
    "    \n",
    "    net = net.eval()\n",
    "    test_correct = 0\n",
    "    test_total = 0\n",
    "    \n",
    "    for j, (inputs, labels) in enumerate(test_dl):\n",
    "        if j <= 5:\n",
    "            outputs = net(inputs.to(DEVI, dtype=pt_float))\n",
    "\n",
    "            _, predicted = pt_max(outputs.data, 1)\n",
    "            test_total += labels.size(0)\n",
    "            test_correct += (predicted == labels.to(DEVI, dtype=long)).sum().item()\n",
    "            test_accuracy = test_correct / test_total * 100\n",
    "\n",
    "    # Risk\n",
    "    risk = median(prod(net(inputs.to(DEVI, dtype=pt_float)).exp()*10, dim=1))\n",
    "    if isnan(risk):\n",
    "        risk = 10\n",
    "    else:\n",
    "        risk = float(risk)\n",
    "        \n",
    "    # Complexity\n",
    "    compl = net.count_weights_biases()\n",
    "    \n",
    "    return (test_accuracy, risk, compl,)\n",
    "\n",
    "net_weights = (1, -1, -1,)"
   ]
  },
  {
   "cell_type": "code",
   "execution_count": 8,
   "id": "166fdcf5",
   "metadata": {
    "execution": {
     "iopub.execute_input": "2022-01-19T05:58:21.941515Z",
     "iopub.status.busy": "2022-01-19T05:58:21.941001Z",
     "iopub.status.idle": "2022-01-19T07:08:11.078353Z",
     "shell.execute_reply": "2022-01-19T07:08:11.079049Z",
     "shell.execute_reply.started": "2022-01-19T05:54:50.721680Z"
    },
    "papermill": {
     "duration": 4189.16264,
     "end_time": "2022-01-19T07:08:11.079419",
     "exception": false,
     "start_time": "2022-01-19T05:58:21.916779",
     "status": "completed"
    },
    "tags": []
   },
   "outputs": [
    {
     "name": "stdout",
     "output_type": "stream",
     "text": [
      "Params padded\n",
      "GA entities created\n",
      "GA entities' methods registered\n",
      "GA eval function registered\n",
      "GA sel-cx-mut methods registered\n"
     ]
    },
    {
     "name": "stderr",
     "output_type": "stream",
     "text": [
      "/opt/conda/lib/python3.7/site-packages/torch/nn/modules/lazy.py:178: UserWarning: Lazy modules are a new feature under heavy development so changes to the API or functionality can happen at any moment.\n",
      "  warnings.warn('Lazy modules are a new feature under heavy development '\n"
     ]
    },
    {
     "name": "stdout",
     "output_type": "stream",
     "text": [
      "   \t      \t       accuracy       \t      complexity      \t         risk         \n",
      "   \t      \t----------------------\t----------------------\t----------------------\n",
      "gen\tnevals\tavg    \tgen\tnevals\tavg   \tgen\tnevals\tavg    \tgen\tnevals\n",
      "0  \t40    \t57.2917\t0  \t40    \t247483\t0  \t40    \t5.07158\t0  \t40    \n",
      "1  \t23    \t73.3333\t1  \t23    \t281671\t1  \t23    \t3.59963\t1  \t23    \n",
      "2  \t32    \t74.1667\t2  \t32    \t259181\t2  \t32    \t3.44917\t2  \t32    \n",
      "3  \t19    \t86.9792\t3  \t19    \t277839\t3  \t19    \t3.35424\t3  \t19    \n",
      "4  \t17    \t90     \t4  \t17    \t306967\t4  \t17    \t2.0623 \t4  \t17    \n",
      "5  \t24    \t89.8437\t5  \t24    \t376258\t5  \t24    \t1.6671 \t5  \t24    \n",
      "6  \t23    \t89.7917\t6  \t23    \t404671\t6  \t23    \t0.722851\t6  \t23    \n",
      "7  \t23    \t88.3854\t7  \t23    \t510024\t7  \t23    \t0.055711\t7  \t23    \n",
      "8  \t15    \t90.4687\t8  \t15    \t559989\t8  \t15    \t0.0117811\t8  \t15    \n",
      "9  \t21    \t91.6667\t9  \t21    \t575092\t9  \t21    \t8.58156e-05\t9  \t21    \n",
      "10 \t20    \t91.6667\t10 \t20    \t586338\t10 \t20    \t5.87926e-09\t10 \t20    \n"
     ]
    }
   ],
   "source": [
    "from itertools import cycle\n",
    "from deap import creator as ga_cr, base as ga_b, algorithms as ga_algo, tools as ga_t\n",
    "from random import randint\n",
    "from numpy import mean\n",
    "from torch.optim import Adam\n",
    "from torch import max as pt_max, no_grad, median, prod, isnan, long, float as pt_float\n",
    "from torch.utils.data import DataLoader\n",
    "\n",
    "net_ga_params = GA_Pytorch(net_params,\n",
    "                           net_eval_indiv,\n",
    "                           net_weights,\n",
    "                           ( list(zip(imgs, labs)), list(zip(imgs_te, labs_te)) ) )\n",
    "pop, log, hof = net_ga_params.run_ga_search()"
   ]
  },
  {
   "cell_type": "code",
   "execution_count": null,
   "id": "38a9cdf1",
   "metadata": {
    "papermill": {
     "duration": 0.034015,
     "end_time": "2022-01-19T07:08:11.147018",
     "exception": false,
     "start_time": "2022-01-19T07:08:11.113003",
     "status": "completed"
    },
    "tags": []
   },
   "outputs": [],
   "source": []
  },
  {
   "cell_type": "code",
   "execution_count": null,
   "id": "6e72a984",
   "metadata": {
    "papermill": {
     "duration": 0.032679,
     "end_time": "2022-01-19T07:08:11.213109",
     "exception": false,
     "start_time": "2022-01-19T07:08:11.180430",
     "status": "completed"
    },
    "tags": []
   },
   "outputs": [],
   "source": []
  },
  {
   "cell_type": "code",
   "execution_count": null,
   "id": "fa1f5414",
   "metadata": {
    "papermill": {
     "duration": 0.03449,
     "end_time": "2022-01-19T07:08:11.281581",
     "exception": false,
     "start_time": "2022-01-19T07:08:11.247091",
     "status": "completed"
    },
    "tags": []
   },
   "outputs": [],
   "source": []
  },
  {
   "cell_type": "code",
   "execution_count": null,
   "id": "b57ecf45",
   "metadata": {
    "papermill": {
     "duration": 0.03465,
     "end_time": "2022-01-19T07:08:11.350363",
     "exception": false,
     "start_time": "2022-01-19T07:08:11.315713",
     "status": "completed"
    },
    "tags": []
   },
   "outputs": [],
   "source": []
  },
  {
   "cell_type": "code",
   "execution_count": null,
   "id": "ab6579bd",
   "metadata": {
    "papermill": {
     "duration": 0.03357,
     "end_time": "2022-01-19T07:08:11.419301",
     "exception": false,
     "start_time": "2022-01-19T07:08:11.385731",
     "status": "completed"
    },
    "tags": []
   },
   "outputs": [],
   "source": []
  },
  {
   "cell_type": "code",
   "execution_count": null,
   "id": "e1eaacf6",
   "metadata": {
    "papermill": {
     "duration": 0.034607,
     "end_time": "2022-01-19T07:08:11.487618",
     "exception": false,
     "start_time": "2022-01-19T07:08:11.453011",
     "status": "completed"
    },
    "tags": []
   },
   "outputs": [],
   "source": []
  },
  {
   "cell_type": "code",
   "execution_count": null,
   "id": "9c852031",
   "metadata": {
    "papermill": {
     "duration": 0.033319,
     "end_time": "2022-01-19T07:08:11.555032",
     "exception": false,
     "start_time": "2022-01-19T07:08:11.521713",
     "status": "completed"
    },
    "tags": []
   },
   "outputs": [],
   "source": []
  },
  {
   "cell_type": "code",
   "execution_count": null,
   "id": "273c98fe",
   "metadata": {
    "papermill": {
     "duration": 0.033431,
     "end_time": "2022-01-19T07:08:11.622194",
     "exception": false,
     "start_time": "2022-01-19T07:08:11.588763",
     "status": "completed"
    },
    "tags": []
   },
   "outputs": [],
   "source": []
  },
  {
   "cell_type": "code",
   "execution_count": null,
   "id": "80d030ca",
   "metadata": {
    "papermill": {
     "duration": 0.034112,
     "end_time": "2022-01-19T07:08:11.690329",
     "exception": false,
     "start_time": "2022-01-19T07:08:11.656217",
     "status": "completed"
    },
    "tags": []
   },
   "outputs": [],
   "source": []
  },
  {
   "cell_type": "code",
   "execution_count": null,
   "id": "0bfb9a11",
   "metadata": {
    "papermill": {
     "duration": 0.033242,
     "end_time": "2022-01-19T07:08:11.757235",
     "exception": false,
     "start_time": "2022-01-19T07:08:11.723993",
     "status": "completed"
    },
    "tags": []
   },
   "outputs": [],
   "source": []
  },
  {
   "cell_type": "code",
   "execution_count": null,
   "id": "2377f924",
   "metadata": {
    "papermill": {
     "duration": 0.033463,
     "end_time": "2022-01-19T07:08:11.824801",
     "exception": false,
     "start_time": "2022-01-19T07:08:11.791338",
     "status": "completed"
    },
    "tags": []
   },
   "outputs": [],
   "source": []
  },
  {
   "cell_type": "code",
   "execution_count": null,
   "id": "99965784",
   "metadata": {
    "papermill": {
     "duration": 0.033133,
     "end_time": "2022-01-19T07:08:11.891787",
     "exception": false,
     "start_time": "2022-01-19T07:08:11.858654",
     "status": "completed"
    },
    "tags": []
   },
   "outputs": [],
   "source": []
  },
  {
   "cell_type": "code",
   "execution_count": null,
   "id": "9b3d8a01",
   "metadata": {
    "papermill": {
     "duration": 0.034235,
     "end_time": "2022-01-19T07:08:11.959966",
     "exception": false,
     "start_time": "2022-01-19T07:08:11.925731",
     "status": "completed"
    },
    "tags": []
   },
   "outputs": [],
   "source": []
  },
  {
   "cell_type": "code",
   "execution_count": null,
   "id": "9e7f9a26",
   "metadata": {
    "papermill": {
     "duration": 0.033478,
     "end_time": "2022-01-19T07:08:12.027661",
     "exception": false,
     "start_time": "2022-01-19T07:08:11.994183",
     "status": "completed"
    },
    "tags": []
   },
   "outputs": [],
   "source": []
  },
  {
   "cell_type": "code",
   "execution_count": null,
   "id": "15732128",
   "metadata": {
    "papermill": {
     "duration": 0.033209,
     "end_time": "2022-01-19T07:08:12.094303",
     "exception": false,
     "start_time": "2022-01-19T07:08:12.061094",
     "status": "completed"
    },
    "tags": []
   },
   "outputs": [],
   "source": []
  },
  {
   "cell_type": "code",
   "execution_count": null,
   "id": "95361964",
   "metadata": {
    "papermill": {
     "duration": 0.033706,
     "end_time": "2022-01-19T07:08:12.162665",
     "exception": false,
     "start_time": "2022-01-19T07:08:12.128959",
     "status": "completed"
    },
    "tags": []
   },
   "outputs": [],
   "source": []
  },
  {
   "cell_type": "code",
   "execution_count": null,
   "id": "4791db9b",
   "metadata": {
    "papermill": {
     "duration": 0.033008,
     "end_time": "2022-01-19T07:08:12.229092",
     "exception": false,
     "start_time": "2022-01-19T07:08:12.196084",
     "status": "completed"
    },
    "tags": []
   },
   "outputs": [],
   "source": []
  },
  {
   "cell_type": "code",
   "execution_count": null,
   "id": "3b14f552",
   "metadata": {
    "papermill": {
     "duration": 0.033815,
     "end_time": "2022-01-19T07:08:12.296175",
     "exception": false,
     "start_time": "2022-01-19T07:08:12.262360",
     "status": "completed"
    },
    "tags": []
   },
   "outputs": [],
   "source": []
  },
  {
   "cell_type": "code",
   "execution_count": null,
   "id": "106ea39e",
   "metadata": {
    "papermill": {
     "duration": 0.033851,
     "end_time": "2022-01-19T07:08:12.364310",
     "exception": false,
     "start_time": "2022-01-19T07:08:12.330459",
     "status": "completed"
    },
    "tags": []
   },
   "outputs": [],
   "source": []
  },
  {
   "cell_type": "code",
   "execution_count": null,
   "id": "4654b2d3",
   "metadata": {
    "papermill": {
     "duration": 0.03294,
     "end_time": "2022-01-19T07:08:12.430770",
     "exception": false,
     "start_time": "2022-01-19T07:08:12.397830",
     "status": "completed"
    },
    "tags": []
   },
   "outputs": [],
   "source": []
  },
  {
   "cell_type": "code",
   "execution_count": null,
   "id": "8043f734",
   "metadata": {
    "papermill": {
     "duration": 0.033631,
     "end_time": "2022-01-19T07:08:12.497629",
     "exception": false,
     "start_time": "2022-01-19T07:08:12.463998",
     "status": "completed"
    },
    "tags": []
   },
   "outputs": [],
   "source": []
  },
  {
   "cell_type": "code",
   "execution_count": null,
   "id": "e1f9b030",
   "metadata": {
    "papermill": {
     "duration": 0.033031,
     "end_time": "2022-01-19T07:08:12.564181",
     "exception": false,
     "start_time": "2022-01-19T07:08:12.531150",
     "status": "completed"
    },
    "tags": []
   },
   "outputs": [],
   "source": []
  }
 ],
 "metadata": {
  "kernelspec": {
   "display_name": "Python 3",
   "language": "python",
   "name": "python3"
  },
  "language_info": {
   "codemirror_mode": {
    "name": "ipython",
    "version": 3
   },
   "file_extension": ".py",
   "mimetype": "text/x-python",
   "name": "python",
   "nbconvert_exporter": "python",
   "pygments_lexer": "ipython3",
   "version": "3.7.12"
  },
  "papermill": {
   "default_parameters": {},
   "duration": 4204.811539,
   "end_time": "2022-01-19T07:08:13.719276",
   "environment_variables": {},
   "exception": null,
   "input_path": "__notebook__.ipynb",
   "output_path": "__notebook__.ipynb",
   "parameters": {},
   "start_time": "2022-01-19T05:58:08.907737",
   "version": "2.3.3"
  }
 },
 "nbformat": 4,
 "nbformat_minor": 5
}
