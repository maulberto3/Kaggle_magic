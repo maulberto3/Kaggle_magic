{
 "cells": [
  {
   "cell_type": "code",
   "execution_count": 1,
   "id": "735955c9",
   "metadata": {
    "_cell_guid": "b1076dfc-b9ad-4769-8c92-a6c4dae69d19",
    "_uuid": "8f2839f25d086af736a60e9eeb907d3b93b6e0e5",
    "execution": {
     "iopub.execute_input": "2022-01-19T21:02:46.668615Z",
     "iopub.status.busy": "2022-01-19T21:02:46.667860Z",
     "iopub.status.idle": "2022-01-19T21:02:46.806332Z",
     "shell.execute_reply": "2022-01-19T21:02:46.805586Z",
     "shell.execute_reply.started": "2022-01-19T20:59:46.629932Z"
    },
    "papermill": {
     "duration": 0.175254,
     "end_time": "2022-01-19T21:02:46.806556",
     "exception": false,
     "start_time": "2022-01-19T21:02:46.631302",
     "status": "completed"
    },
    "tags": []
   },
   "outputs": [],
   "source": [
    "%reset -sf\n",
    "\n",
    "from IPython.core.interactiveshell import InteractiveShell\n",
    "InteractiveShell.ast_node_interactivity = 'all'"
   ]
  },
  {
   "cell_type": "code",
   "execution_count": 2,
   "id": "a89a7f01",
   "metadata": {
    "execution": {
     "iopub.execute_input": "2022-01-19T21:02:46.861647Z",
     "iopub.status.busy": "2022-01-19T21:02:46.860899Z",
     "iopub.status.idle": "2022-01-19T21:02:47.983798Z",
     "shell.execute_reply": "2022-01-19T21:02:47.984383Z",
     "shell.execute_reply.started": "2022-01-19T20:59:46.866227Z"
    },
    "papermill": {
     "duration": 1.153322,
     "end_time": "2022-01-19T21:02:47.984599",
     "exception": false,
     "start_time": "2022-01-19T21:02:46.831277",
     "status": "completed"
    },
    "tags": []
   },
   "outputs": [
    {
     "name": "stdout",
     "output_type": "stream",
     "text": [
      "==> Device: cpu\n"
     ]
    },
    {
     "data": {
      "text/plain": [
       "<torch._C.Generator at 0x7f0e85fae7f0>"
      ]
     },
     "execution_count": 2,
     "metadata": {},
     "output_type": "execute_result"
    }
   ],
   "source": [
    "from torch.cuda import is_available\n",
    "DEVI = \"cuda\" if is_available() else \"cpu\"\n",
    "# device = \"cpu\"\n",
    "print(\"==> Device:\", DEVI)\n",
    "\n",
    "from torch import manual_seed\n",
    "manual_seed(16)\n",
    "from random import seed\n",
    "seed(16)"
   ]
  },
  {
   "cell_type": "code",
   "execution_count": 3,
   "id": "18802745",
   "metadata": {
    "execution": {
     "iopub.execute_input": "2022-01-19T21:02:48.038479Z",
     "iopub.status.busy": "2022-01-19T21:02:48.037780Z",
     "iopub.status.idle": "2022-01-19T21:02:50.319934Z",
     "shell.execute_reply": "2022-01-19T21:02:50.318856Z",
     "shell.execute_reply.started": "2022-01-19T20:59:46.883735Z"
    },
    "papermill": {
     "duration": 2.310204,
     "end_time": "2022-01-19T21:02:50.320168",
     "exception": false,
     "start_time": "2022-01-19T21:02:48.009964",
     "status": "completed"
    },
    "tags": []
   },
   "outputs": [
    {
     "data": {
      "text/plain": [
       "[PosixPath('/kaggle/input/mangafaces/imgs.pt'),\n",
       " PosixPath('/kaggle/input/mangafaces/imgs_te.pt'),\n",
       " PosixPath('/kaggle/input/mangafaces/labs_te.pt'),\n",
       " PosixPath('/kaggle/input/mangafaces/labs.pt')]"
      ]
     },
     "execution_count": 3,
     "metadata": {},
     "output_type": "execute_result"
    },
    {
     "data": {
      "text/plain": [
       "(torch.Size([1239, 3, 128, 128]),\n",
       " torch.Size([96, 3, 128, 128]),\n",
       " torch.Size([1239]),\n",
       " torch.Size([96]))"
      ]
     },
     "execution_count": 3,
     "metadata": {},
     "output_type": "execute_result"
    }
   ],
   "source": [
    "from torch.utils.data import Dataset, DataLoader\n",
    "from torch import load\n",
    "\n",
    "from pathlib import Path\n",
    "\n",
    "path = Path('/kaggle/input/mangafaces')\n",
    "list(path.glob('*'))\n",
    "\n",
    "imgs = load(path / 'imgs.pt')\n",
    "imgs_te = load(path / 'imgs_te.pt')\n",
    "labs = load(path / 'labs.pt')\n",
    "labs_te = load(path / 'labs_te.pt')\n",
    "\n",
    "imgs.shape, imgs_te.shape, labs.shape, labs_te.shape"
   ]
  },
  {
   "cell_type": "code",
   "execution_count": 4,
   "id": "94161156",
   "metadata": {
    "execution": {
     "iopub.execute_input": "2022-01-19T21:02:50.376664Z",
     "iopub.status.busy": "2022-01-19T21:02:50.375899Z",
     "iopub.status.idle": "2022-01-19T21:02:50.379395Z",
     "shell.execute_reply": "2022-01-19T21:02:50.378790Z",
     "shell.execute_reply.started": "2022-01-19T20:59:47.077704Z"
    },
    "papermill": {
     "duration": 0.033893,
     "end_time": "2022-01-19T21:02:50.379557",
     "exception": false,
     "start_time": "2022-01-19T21:02:50.345664",
     "status": "completed"
    },
    "tags": []
   },
   "outputs": [],
   "source": [
    "BATCH_SIZE = 64\n",
    "LR = 0.0005"
   ]
  },
  {
   "cell_type": "code",
   "execution_count": 5,
   "id": "511070ab",
   "metadata": {
    "execution": {
     "iopub.execute_input": "2022-01-19T21:02:50.445056Z",
     "iopub.status.busy": "2022-01-19T21:02:50.444275Z",
     "iopub.status.idle": "2022-01-19T21:02:50.447236Z",
     "shell.execute_reply": "2022-01-19T21:02:50.446631Z",
     "shell.execute_reply.started": "2022-01-19T20:59:47.082090Z"
    },
    "papermill": {
     "duration": 0.041823,
     "end_time": "2022-01-19T21:02:50.447400",
     "exception": false,
     "start_time": "2022-01-19T21:02:50.405577",
     "status": "completed"
    },
    "tags": []
   },
   "outputs": [],
   "source": [
    "from torch import nn\n",
    "from torch import float as pt_float, ones\n",
    "\n",
    "class NET(nn.Module):\n",
    "    def __init__(self, l1, k1, a1, l2, k2, a2, l3, k3, a3):\n",
    "        super().__init__()\n",
    "        \n",
    "        self.cnn1 = nn.Sequential(\n",
    "            nn.LazyConv2d(l1, k1),\n",
    "            nn.Dropout(0.5),\n",
    "            nn.__getattribute__(a1)())\n",
    "        \n",
    "        self.cnn2 = nn.Sequential(\n",
    "            nn.LazyBatchNorm2d(),\n",
    "            nn.LazyConv2d(l2, k2),\n",
    "            nn.Dropout(0.5),\n",
    "            nn.__getattribute__(a2)())\n",
    "\n",
    "        self.cnn3 = nn.Sequential(\n",
    "            nn.LazyBatchNorm2d(),\n",
    "            nn.LazyConv2d(l3, k3),\n",
    "            nn.Dropout(0.5),\n",
    "            nn.__getattribute__(a3)())\n",
    "\n",
    "        self.out1 = nn.Sequential(\n",
    "            nn.Flatten(),\n",
    "            nn.LazyLinear(2),\n",
    "            nn.LogSoftmax(dim=-1))\n",
    "        \n",
    "        self.model1 = nn.Sequential(\n",
    "            self.cnn1,\n",
    "            self.cnn2,\n",
    "            self.cnn3,\n",
    "            self.out1)\n",
    "        \n",
    "    def forward(self, x):\n",
    "        \"\"\"Forward\"\"\"\n",
    "        return self.model1(x)\n",
    "    \n",
    "    def count_weights_biases(self):\n",
    "        return int(sum(p.numel() for p in self.parameters() if p.requires_grad))\n",
    "    \n",
    "#net = NET(10, 2, 'SELU', 10, 2, 'SELU', 10, 2, 'SELU').to(DEVI)\n",
    "#f'Dry run'\n",
    "#net(ones(1, 3, 95, 95).to(DEVI, dtype=pt_float))"
   ]
  },
  {
   "cell_type": "code",
   "execution_count": 6,
   "id": "7dc080ae",
   "metadata": {
    "execution": {
     "iopub.execute_input": "2022-01-19T21:02:50.513018Z",
     "iopub.status.busy": "2022-01-19T21:02:50.507304Z",
     "iopub.status.idle": "2022-01-19T21:02:50.532660Z",
     "shell.execute_reply": "2022-01-19T21:02:50.532013Z",
     "shell.execute_reply.started": "2022-01-19T20:59:47.102925Z"
    },
    "papermill": {
     "duration": 0.059698,
     "end_time": "2022-01-19T21:02:50.532837",
     "exception": false,
     "start_time": "2022-01-19T21:02:50.473139",
     "status": "completed"
    },
    "tags": []
   },
   "outputs": [],
   "source": [
    "class GA_Pytorch():\n",
    "    def __init__(self, \n",
    "                 params, \n",
    "                 eval_func,\n",
    "                 eval_weights,\n",
    "                 img_tr,\n",
    "                 batch_size=BATCH_SIZE,\n",
    "                 lr=LR,\n",
    "                 sel_tournsize=2, \n",
    "                 cx_uniform_prob=0.5, \n",
    "                 mut_shuffle_idx_prob=0.1, \n",
    "                 #\n",
    "                 n_pop=40,\n",
    "                 n_gen=10,\n",
    "                 #\n",
    "                 n_hof=5,\n",
    "                 cx_prob=0.5, \n",
    "                 mut_prob=0.1, \n",
    "                 n_jobs=1\n",
    "                ):\n",
    "        self.params = params\n",
    "        self.eval_func = eval_func\n",
    "        self.eval_weights = eval_weights\n",
    "        \n",
    "        self.img_tr = img_tr\n",
    "        self.batch_size = batch_size\n",
    "        self.lr = lr\n",
    "        \n",
    "        self.sel_tournsize = sel_tournsize\n",
    "        self.cx_uniform_prob = cx_uniform_prob\n",
    "        self.mut_shuffle_idx_prob = mut_shuffle_idx_prob\n",
    "        self.n_pop = n_pop\n",
    "        self.n_gen = n_gen\n",
    "        self.n_hof = n_hof\n",
    "        self.cx_prob = cx_prob\n",
    "        self.mut_prob = mut_prob\n",
    "        \n",
    "        self.n_jobs = n_jobs\n",
    "\n",
    "        self._pad_params()\n",
    "        self._create_fitness_and_indiv()\n",
    "        self._register_indiv_and_pop_generators()\n",
    "        self._register_eval_func()\n",
    "        self._register_selection_crossover_mutation_methods()\n",
    "\n",
    "    def _pad_params(self):\n",
    "        \"\"\"Pad params for crossover shuffle idx method\"\"\"\n",
    "        assert isinstance(self.params, dict), 'Params must be a dict, i.e. estimator.get_params()'\n",
    "        params_count = {k: len(v) for k,v in self.params.items()}\n",
    "        max_length, max_key = -99, ''\n",
    "        for k, v in params_count.items():\n",
    "            if v <= max_length:\n",
    "                continue\n",
    "            else:\n",
    "                max_key = k\n",
    "                max_length = v\n",
    "        assert isinstance(max_length, int), 'The max length between all params must be an int'\n",
    "        # cycle through params for max length param, otherwise infinite cycle\n",
    "        values_padded = (cycle(v) if k!=max_key else v for k,v in self.params.items())\n",
    "        values_padded = zip(*values_padded)  # ('a', 1, 14), ('b', 2, 16), ('c', 3, 16) ...\n",
    "        values_padded = zip(*values_padded)  # ('a', 'b', 'c'), (1, 2, 3), (14, 15, 16)...\n",
    "        padded_params = {}\n",
    "        for k, v in zip(self.params, values_padded):\n",
    "            padded_params[k] = v\n",
    "        self.padded_params = padded_params\n",
    "        print('Params padded')\n",
    "\n",
    "    def _create_fitness_and_indiv(self):\n",
    "        \"\"\"Create GA individual and fitness entities (classes)\"\"\"\n",
    "        ga_cr.create('Fitness', ga_b.Fitness, weights=self.eval_weights)\n",
    "        ga_cr.create('Individual', list, fitness=ga_cr.Fitness)\n",
    "        print('GA entities created')\n",
    "\n",
    "    def _gen_params_to_ga(self):\n",
    "        \"\"\"Generate index for each param for individual\"\"\"\n",
    "        max_dict = len(self.padded_params)\n",
    "        max_length = len(list(self.padded_params.values())[0])\n",
    "        idxs = [randint(0, max_length-1) for _ in range(max_dict)]\n",
    "        return idxs\n",
    "    \n",
    "    def _register_indiv_and_pop_generators(self):\n",
    "        \"\"\"Register GA individual and population generators\"\"\"\n",
    "        self.tb = ga_b.Toolbox()\n",
    "\n",
    "        if self.n_jobs > 1:\n",
    "            from multiprocessing import Pool\n",
    "            pool = Pool()\n",
    "            self.tb.register(\"map\", pool.map)\n",
    "\n",
    "        self.tb.register(\"individual\", ga_t.initIterate, ga_cr.Individual, self._gen_params_to_ga)\n",
    "        self.tb.register(\"population\", ga_t.initRepeat, list, self.tb.individual)\n",
    "        print('GA entities\\' methods registered')\n",
    "        \n",
    "    def _register_eval_func(self):\n",
    "        \"\"\"Set GA evaluate individual function\"\"\"\n",
    "        self.tb.register(\"evaluate\",\n",
    "                        self.eval_func,\n",
    "                        padded_params=self.padded_params,\n",
    "                        img_tr=self.img_tr,\n",
    "                        batch_size=self.batch_size,\n",
    "                        lr=self.lr)\n",
    "        #print(list(self.tb.evaluate(indiv) for indiv in self.tb.population(3)))\n",
    "        print('GA eval function registered')\n",
    "    \n",
    "    def _register_selection_crossover_mutation_methods(self):\n",
    "        self.tb.register(\"select\", ga_t.selTournament, tournsize=self.sel_tournsize)\n",
    "        self.tb.register(\"mate\", ga_t.cxUniform, indpb=self.cx_uniform_prob)\n",
    "        self.tb.register(\"mutate\", ga_t.mutShuffleIndexes, indpb=self.mut_shuffle_idx_prob)\n",
    "        print('GA sel-cx-mut methods registered')\n",
    "        \n",
    "    def run_ga_search(self):\n",
    "        \"\"\"GA Search\"\"\"\n",
    "        pop = self.tb.population(n=self.n_pop)\n",
    "        hof = ga_t.HallOfFame(self.n_hof)\n",
    "\n",
    "        # Stats stdout\n",
    "        #stats = ga_t.Statistics(lambda ind: ind.fitness.values )\n",
    "        stats1 = ga_t.Statistics(lambda ind: ind.fitness.values[0] )\n",
    "        stats2 = ga_t.Statistics(lambda ind: ind.fitness.values[1] )\n",
    "        stats3 = ga_t.Statistics(lambda ind: ind.fitness.values[2] )\n",
    "        stats = ga_t.MultiStatistics(accuracy=stats1, risk=stats2, complexity=stats3)\n",
    "        stats.register(\"avg\", mean)\n",
    "\n",
    "        # GA Run\n",
    "        pop, log = ga_algo.eaSimple(pop, self.tb, cxpb=self.cx_prob, \n",
    "                                    mutpb=self.mut_prob, ngen=self.n_gen, \n",
    "                                    stats=stats, halloffame=hof, verbose=True)\n",
    "        \n",
    "        # Convert back params\n",
    "        hof_ = {}\n",
    "        for i in range(self.n_hof):\n",
    "            hof_['hof_' + str(i)] = self._ga_to_params(hof[i])\n",
    "\n",
    "        return pop, log, hof_\n",
    "    \n",
    "    def _ga_to_params(self, idx_params):\n",
    "        \"\"\"Convert back idx to params\"\"\"\n",
    "        res = {}\n",
    "        for (k,v), idx in zip(self.padded_params.items(), idx_params):\n",
    "            res[k] = v[idx]\n",
    "        return res"
   ]
  },
  {
   "cell_type": "code",
   "execution_count": 7,
   "id": "d0c1faa3",
   "metadata": {
    "execution": {
     "iopub.execute_input": "2022-01-19T21:02:50.588094Z",
     "iopub.status.busy": "2022-01-19T21:02:50.587322Z",
     "iopub.status.idle": "2022-01-19T21:02:50.608459Z",
     "shell.execute_reply": "2022-01-19T21:02:50.609070Z",
     "shell.execute_reply.started": "2022-01-19T20:59:47.139698Z"
    },
    "papermill": {
     "duration": 0.050349,
     "end_time": "2022-01-19T21:02:50.609285",
     "exception": false,
     "start_time": "2022-01-19T21:02:50.558936",
     "status": "completed"
    },
    "tags": []
   },
   "outputs": [],
   "source": [
    "from numpy import mean, linspace, inf\n",
    "\n",
    "net_params = {\n",
    "    'l1': linspace(1,20,30).astype(int),\n",
    "    'k1': linspace(1,20,30).astype(int),\n",
    "    'a1': ['ReLU', 'CELU', 'SELU', 'ELU', 'Softsign'],\n",
    "    'l2': linspace(1,20,30).astype(int),\n",
    "    'k2': linspace(1,20,30).astype(int),\n",
    "    'a2': ['ReLU', 'CELU', 'SELU', 'ELU', 'Softsign'],\n",
    "    'l3': linspace(1,20,30).astype(int),\n",
    "    'k3': linspace(1,20,30).astype(int),\n",
    "    'a3': ['ReLU', 'CELU', 'SELU', 'ELU', 'Softsign'],\n",
    "}\n",
    "\n",
    "def net_eval_indiv(individual, padded_params, img_tr, batch_size, lr):\n",
    "    \"\"\"Evaluate individual's genes (estimator's params)\"\"\"\n",
    "\n",
    "    # Params\n",
    "    indiv_params = {k : list(v)[idx] for (k,v), idx in zip(padded_params.items(), individual)}\n",
    "    \n",
    "    # Net\n",
    "    net = NET(**indiv_params).to(DEVI).train()\n",
    "    try:\n",
    "        net(ones(1,3,128,128))\n",
    "    except BaseException as e:\n",
    "        print('=> Possible Arch Error:', e)\n",
    "        return (0.01, (1/10)**10, 1e7)\n",
    "    \n",
    "    # Optimizer\n",
    "    optimizer = Adam(net.parameters(), lr=lr)\n",
    "    criterion = nn.NLLLoss()\n",
    "    \n",
    "    # Train\n",
    "    img_tr, img_te = img_tr[0], img_tr[1]\n",
    "    \n",
    "    train_dl = DataLoader(img_tr,\n",
    "                        batch_size=batch_size,\n",
    "                        shuffle=True,\n",
    "                        num_workers=2)\n",
    "    \n",
    "    for epoch in range(1):\n",
    "        net = net.train()\n",
    "        train_correct = 0\n",
    "        train_total = 0\n",
    "        for i, (inputs, labels) in enumerate(train_dl):\n",
    "            if i <= 3:\n",
    "                outputs = net(inputs.to(DEVI, dtype=pt_float))\n",
    "\n",
    "                optimizer.zero_grad()\n",
    "                loss = criterion(outputs, labels.to(DEVI, dtype=long)).mean()\n",
    "                loss.backward()\n",
    "                optimizer.step()\n",
    "\n",
    "    test_dl = DataLoader(img_te,\n",
    "                        batch_size=batch_size,\n",
    "                        shuffle=True,\n",
    "                        num_workers=2)\n",
    "    \n",
    "    net = net.eval()\n",
    "    test_correct = 0\n",
    "    test_total = 0\n",
    "    test_accuracy = []\n",
    "    \n",
    "    for j, (inputs, labels) in enumerate(test_dl):\n",
    "        net = net.eval()\n",
    "        outputs = net(inputs.to(DEVI, dtype=pt_float))\n",
    "        \n",
    "        happy_mask = labels==1\n",
    "        if happy_mask.sum() > 0:\n",
    "\n",
    "            outputs = outputs[happy_mask]\n",
    "            labels = labels[happy_mask]\n",
    "\n",
    "            test_total += len(labels)\n",
    "            test_correct += (outputs.argmax(dim=1) == labels).sum()\n",
    "            test_accuracy.append(test_correct / test_total)\n",
    "        else:\n",
    "            continue\n",
    "\n",
    "    # Risk\n",
    "    risk = median(prod(net(inputs.to(DEVI, dtype=pt_float)).exp()*10, dim=1))\n",
    "    if isnan(risk):\n",
    "        risk = 10\n",
    "    else:\n",
    "        risk = float(risk)\n",
    "        \n",
    "    # Complexity\n",
    "    compl = net.count_weights_biases()\n",
    "    \n",
    "    return (pt_mean(stack(test_accuracy)).item(), risk, compl,)\n",
    "\n",
    "net_weights = (1, -1, -1,)"
   ]
  },
  {
   "cell_type": "code",
   "execution_count": 8,
   "id": "3a000d07",
   "metadata": {
    "execution": {
     "iopub.execute_input": "2022-01-19T21:02:50.665745Z",
     "iopub.status.busy": "2022-01-19T21:02:50.665039Z",
     "iopub.status.idle": "2022-01-19T22:40:45.656073Z",
     "shell.execute_reply": "2022-01-19T22:40:45.656802Z",
     "shell.execute_reply.started": "2022-01-19T20:59:47.165418Z"
    },
    "papermill": {
     "duration": 5875.022396,
     "end_time": "2022-01-19T22:40:45.657833",
     "exception": false,
     "start_time": "2022-01-19T21:02:50.635437",
     "status": "completed"
    },
    "tags": []
   },
   "outputs": [
    {
     "name": "stdout",
     "output_type": "stream",
     "text": [
      "Params padded\n",
      "GA entities created\n",
      "GA entities' methods registered\n",
      "GA eval function registered\n",
      "GA sel-cx-mut methods registered\n"
     ]
    },
    {
     "name": "stderr",
     "output_type": "stream",
     "text": [
      "/opt/conda/lib/python3.7/site-packages/torch/nn/modules/lazy.py:178: UserWarning: Lazy modules are a new feature under heavy development so changes to the API or functionality can happen at any moment.\n",
      "  warnings.warn('Lazy modules are a new feature under heavy development '\n"
     ]
    },
    {
     "name": "stdout",
     "output_type": "stream",
     "text": [
      "   \t      \t           accuracy           \t      complexity      \t         risk         \n",
      "   \t      \t------------------------------\t----------------------\t----------------------\n",
      "gen\tnevals\tavg     \tgen\tnevals\tavg   \tgen\tnevals\tavg    \tgen\tnevals\n",
      "0  \t40    \t0.393571\t0  \t40    \t247483\t0  \t40    \t5.92974\t0  \t40    \n",
      "1  \t23    \t0.530417\t1  \t23    \t286278\t1  \t23    \t3.6694 \t1  \t23    \n",
      "2  \t32    \t0.527351\t2  \t32    \t284056\t2  \t32    \t2.67989\t2  \t32    \n",
      "3  \t19    \t0.710536\t3  \t19    \t281492\t3  \t19    \t1.29086\t3  \t19    \n",
      "4  \t17    \t0.771577\t4  \t17    \t299130\t4  \t17    \t2.65239\t4  \t17    \n",
      "5  \t24    \t0.739286\t5  \t24    \t290132\t5  \t24    \t2.78382\t5  \t24    \n",
      "6  \t23    \t0.795982\t6  \t23    \t289201\t6  \t23    \t1.09891\t6  \t23    \n",
      "7  \t23    \t0.813363\t7  \t23    \t294281\t7  \t23    \t1.46194\t7  \t23    \n",
      "8  \t15    \t0.92256 \t8  \t15    \t306114\t8  \t15    \t0.459386\t8  \t15    \n",
      "9  \t21    \t0.781637\t9  \t21    \t307116\t9  \t21    \t1.27864 \t9  \t21    \n",
      "10 \t20    \t0.876458\t10 \t20    \t313230\t10 \t20    \t0.711481\t10 \t20    \n"
     ]
    }
   ],
   "source": [
    "from itertools import cycle\n",
    "from deap import creator as ga_cr, base as ga_b, algorithms as ga_algo, tools as ga_t\n",
    "from random import randint\n",
    "from numpy import mean\n",
    "from torch.optim import Adam\n",
    "from torch import max as pt_max, no_grad, median, prod, isnan, long, float as pt_float, mean as pt_mean, stack\n",
    "from torch.utils.data import DataLoader\n",
    "\n",
    "net_ga_params = GA_Pytorch(net_params,\n",
    "                           net_eval_indiv,\n",
    "                           net_weights,\n",
    "                           ( list(zip(imgs, labs)), list(zip(imgs_te, labs_te)) ) )\n",
    "pop, log, hof = net_ga_params.run_ga_search()"
   ]
  },
  {
   "cell_type": "code",
   "execution_count": 9,
   "id": "5d317727",
   "metadata": {
    "execution": {
     "iopub.execute_input": "2022-01-19T22:40:45.731171Z",
     "iopub.status.busy": "2022-01-19T22:40:45.725100Z",
     "iopub.status.idle": "2022-01-19T22:40:45.736149Z",
     "shell.execute_reply": "2022-01-19T22:40:45.735447Z",
     "shell.execute_reply.started": "2022-01-19T21:01:59.235603Z"
    },
    "papermill": {
     "duration": 0.04675,
     "end_time": "2022-01-19T22:40:45.736310",
     "exception": false,
     "start_time": "2022-01-19T22:40:45.689560",
     "status": "completed"
    },
    "tags": []
   },
   "outputs": [
    {
     "data": {
      "text/plain": [
       "{'hof_0': {'l1': 7,\n",
       "  'k1': 10,\n",
       "  'a1': 'CELU',\n",
       "  'l2': 14,\n",
       "  'k2': 18,\n",
       "  'a2': 'ReLU',\n",
       "  'l3': 14,\n",
       "  'k3': 14,\n",
       "  'a3': 'CELU'},\n",
       " 'hof_1': {'l1': 7,\n",
       "  'k1': 10,\n",
       "  'a1': 'CELU',\n",
       "  'l2': 14,\n",
       "  'k2': 18,\n",
       "  'a2': 'ReLU',\n",
       "  'l3': 14,\n",
       "  'k3': 14,\n",
       "  'a3': 'ELU'},\n",
       " 'hof_2': {'l1': 18,\n",
       "  'k1': 10,\n",
       "  'a1': 'CELU',\n",
       "  'l2': 14,\n",
       "  'k2': 2,\n",
       "  'a2': 'ELU',\n",
       "  'l3': 14,\n",
       "  'k3': 5,\n",
       "  'a3': 'CELU'},\n",
       " 'hof_3': {'l1': 18,\n",
       "  'k1': 14,\n",
       "  'a1': 'SELU',\n",
       "  'l2': 15,\n",
       "  'k2': 18,\n",
       "  'a2': 'ReLU',\n",
       "  'l3': 14,\n",
       "  'k3': 5,\n",
       "  'a3': 'CELU'},\n",
       " 'hof_4': {'l1': 16,\n",
       "  'k1': 15,\n",
       "  'a1': 'Softsign',\n",
       "  'l2': 14,\n",
       "  'k2': 2,\n",
       "  'a2': 'ELU',\n",
       "  'l3': 16,\n",
       "  'k3': 8,\n",
       "  'a3': 'CELU'}}"
      ]
     },
     "execution_count": 9,
     "metadata": {},
     "output_type": "execute_result"
    }
   ],
   "source": [
    "hof"
   ]
  },
  {
   "cell_type": "code",
   "execution_count": 10,
   "id": "2083b921",
   "metadata": {
    "execution": {
     "iopub.execute_input": "2022-01-19T22:40:45.801221Z",
     "iopub.status.busy": "2022-01-19T22:40:45.800451Z",
     "iopub.status.idle": "2022-01-19T22:40:45.911470Z",
     "shell.execute_reply": "2022-01-19T22:40:45.912111Z",
     "shell.execute_reply.started": "2022-01-19T21:01:59.247761Z"
    },
    "papermill": {
     "duration": 0.145545,
     "end_time": "2022-01-19T22:40:45.912317",
     "exception": false,
     "start_time": "2022-01-19T22:40:45.766772",
     "status": "completed"
    },
    "tags": []
   },
   "outputs": [
    {
     "data": {
      "text/html": [
       "<div>\n",
       "<style scoped>\n",
       "    .dataframe tbody tr th:only-of-type {\n",
       "        vertical-align: middle;\n",
       "    }\n",
       "\n",
       "    .dataframe tbody tr th {\n",
       "        vertical-align: top;\n",
       "    }\n",
       "\n",
       "    .dataframe thead th {\n",
       "        text-align: right;\n",
       "    }\n",
       "</style>\n",
       "<table border=\"1\" class=\"dataframe\">\n",
       "  <thead>\n",
       "    <tr style=\"text-align: right;\">\n",
       "      <th></th>\n",
       "      <th>hof_0</th>\n",
       "      <th>hof_1</th>\n",
       "      <th>hof_2</th>\n",
       "      <th>hof_3</th>\n",
       "      <th>hof_4</th>\n",
       "    </tr>\n",
       "  </thead>\n",
       "  <tbody>\n",
       "    <tr>\n",
       "      <th>l1</th>\n",
       "      <td>7</td>\n",
       "      <td>7</td>\n",
       "      <td>18</td>\n",
       "      <td>18</td>\n",
       "      <td>16</td>\n",
       "    </tr>\n",
       "    <tr>\n",
       "      <th>k1</th>\n",
       "      <td>10</td>\n",
       "      <td>10</td>\n",
       "      <td>10</td>\n",
       "      <td>14</td>\n",
       "      <td>15</td>\n",
       "    </tr>\n",
       "    <tr>\n",
       "      <th>a1</th>\n",
       "      <td>CELU</td>\n",
       "      <td>CELU</td>\n",
       "      <td>CELU</td>\n",
       "      <td>SELU</td>\n",
       "      <td>Softsign</td>\n",
       "    </tr>\n",
       "    <tr>\n",
       "      <th>l2</th>\n",
       "      <td>14</td>\n",
       "      <td>14</td>\n",
       "      <td>14</td>\n",
       "      <td>15</td>\n",
       "      <td>14</td>\n",
       "    </tr>\n",
       "    <tr>\n",
       "      <th>k2</th>\n",
       "      <td>18</td>\n",
       "      <td>18</td>\n",
       "      <td>2</td>\n",
       "      <td>18</td>\n",
       "      <td>2</td>\n",
       "    </tr>\n",
       "    <tr>\n",
       "      <th>a2</th>\n",
       "      <td>ReLU</td>\n",
       "      <td>ReLU</td>\n",
       "      <td>ELU</td>\n",
       "      <td>ReLU</td>\n",
       "      <td>ELU</td>\n",
       "    </tr>\n",
       "    <tr>\n",
       "      <th>l3</th>\n",
       "      <td>14</td>\n",
       "      <td>14</td>\n",
       "      <td>14</td>\n",
       "      <td>14</td>\n",
       "      <td>16</td>\n",
       "    </tr>\n",
       "    <tr>\n",
       "      <th>k3</th>\n",
       "      <td>14</td>\n",
       "      <td>14</td>\n",
       "      <td>5</td>\n",
       "      <td>5</td>\n",
       "      <td>8</td>\n",
       "    </tr>\n",
       "    <tr>\n",
       "      <th>a3</th>\n",
       "      <td>CELU</td>\n",
       "      <td>ELU</td>\n",
       "      <td>CELU</td>\n",
       "      <td>CELU</td>\n",
       "      <td>CELU</td>\n",
       "    </tr>\n",
       "  </tbody>\n",
       "</table>\n",
       "</div>"
      ],
      "text/plain": [
       "   hof_0 hof_1 hof_2 hof_3     hof_4\n",
       "l1     7     7    18    18        16\n",
       "k1    10    10    10    14        15\n",
       "a1  CELU  CELU  CELU  SELU  Softsign\n",
       "l2    14    14    14    15        14\n",
       "k2    18    18     2    18         2\n",
       "a2  ReLU  ReLU   ELU  ReLU       ELU\n",
       "l3    14    14    14    14        16\n",
       "k3    14    14     5     5         8\n",
       "a3  CELU   ELU  CELU  CELU      CELU"
      ]
     },
     "execution_count": 10,
     "metadata": {},
     "output_type": "execute_result"
    },
    {
     "data": {
      "text/plain": [
       "['best_params.json']"
      ]
     },
     "execution_count": 10,
     "metadata": {},
     "output_type": "execute_result"
    }
   ],
   "source": [
    "# Saving params\n",
    "\n",
    "from pandas import DataFrame\n",
    "from joblib import dump, load\n",
    "\n",
    "DataFrame(hof)\n",
    "dump(hof, 'best_params.json')"
   ]
  },
  {
   "cell_type": "code",
   "execution_count": null,
   "id": "5a7f63a4",
   "metadata": {
    "papermill": {
     "duration": 0.031688,
     "end_time": "2022-01-19T22:40:45.975552",
     "exception": false,
     "start_time": "2022-01-19T22:40:45.943864",
     "status": "completed"
    },
    "tags": []
   },
   "outputs": [],
   "source": []
  },
  {
   "cell_type": "code",
   "execution_count": null,
   "id": "314e8a22",
   "metadata": {
    "papermill": {
     "duration": 0.031933,
     "end_time": "2022-01-19T22:40:46.040189",
     "exception": false,
     "start_time": "2022-01-19T22:40:46.008256",
     "status": "completed"
    },
    "tags": []
   },
   "outputs": [],
   "source": []
  },
  {
   "cell_type": "code",
   "execution_count": null,
   "id": "e17a5238",
   "metadata": {
    "papermill": {
     "duration": 0.03134,
     "end_time": "2022-01-19T22:40:46.102956",
     "exception": false,
     "start_time": "2022-01-19T22:40:46.071616",
     "status": "completed"
    },
    "tags": []
   },
   "outputs": [],
   "source": []
  },
  {
   "cell_type": "code",
   "execution_count": null,
   "id": "94766b14",
   "metadata": {
    "papermill": {
     "duration": 0.032383,
     "end_time": "2022-01-19T22:40:46.167449",
     "exception": false,
     "start_time": "2022-01-19T22:40:46.135066",
     "status": "completed"
    },
    "tags": []
   },
   "outputs": [],
   "source": []
  },
  {
   "cell_type": "code",
   "execution_count": null,
   "id": "01bd9ec7",
   "metadata": {
    "papermill": {
     "duration": 0.031621,
     "end_time": "2022-01-19T22:40:46.231079",
     "exception": false,
     "start_time": "2022-01-19T22:40:46.199458",
     "status": "completed"
    },
    "tags": []
   },
   "outputs": [],
   "source": []
  },
  {
   "cell_type": "code",
   "execution_count": null,
   "id": "e892ad3e",
   "metadata": {
    "papermill": {
     "duration": 0.031663,
     "end_time": "2022-01-19T22:40:46.294478",
     "exception": false,
     "start_time": "2022-01-19T22:40:46.262815",
     "status": "completed"
    },
    "tags": []
   },
   "outputs": [],
   "source": []
  },
  {
   "cell_type": "code",
   "execution_count": null,
   "id": "80d3229b",
   "metadata": {
    "papermill": {
     "duration": 0.032314,
     "end_time": "2022-01-19T22:40:46.358393",
     "exception": false,
     "start_time": "2022-01-19T22:40:46.326079",
     "status": "completed"
    },
    "tags": []
   },
   "outputs": [],
   "source": []
  },
  {
   "cell_type": "code",
   "execution_count": null,
   "id": "0581a450",
   "metadata": {
    "papermill": {
     "duration": 0.03309,
     "end_time": "2022-01-19T22:40:46.423975",
     "exception": false,
     "start_time": "2022-01-19T22:40:46.390885",
     "status": "completed"
    },
    "tags": []
   },
   "outputs": [],
   "source": []
  },
  {
   "cell_type": "code",
   "execution_count": null,
   "id": "975cc13a",
   "metadata": {
    "papermill": {
     "duration": 0.031564,
     "end_time": "2022-01-19T22:40:46.487205",
     "exception": false,
     "start_time": "2022-01-19T22:40:46.455641",
     "status": "completed"
    },
    "tags": []
   },
   "outputs": [],
   "source": []
  },
  {
   "cell_type": "code",
   "execution_count": null,
   "id": "3fb59ba4",
   "metadata": {
    "papermill": {
     "duration": 0.031655,
     "end_time": "2022-01-19T22:40:46.551014",
     "exception": false,
     "start_time": "2022-01-19T22:40:46.519359",
     "status": "completed"
    },
    "tags": []
   },
   "outputs": [],
   "source": []
  },
  {
   "cell_type": "code",
   "execution_count": null,
   "id": "6cc2a9db",
   "metadata": {
    "papermill": {
     "duration": 0.031623,
     "end_time": "2022-01-19T22:40:46.614404",
     "exception": false,
     "start_time": "2022-01-19T22:40:46.582781",
     "status": "completed"
    },
    "tags": []
   },
   "outputs": [],
   "source": []
  },
  {
   "cell_type": "code",
   "execution_count": null,
   "id": "850caa52",
   "metadata": {
    "papermill": {
     "duration": 0.031516,
     "end_time": "2022-01-19T22:40:46.677828",
     "exception": false,
     "start_time": "2022-01-19T22:40:46.646312",
     "status": "completed"
    },
    "tags": []
   },
   "outputs": [],
   "source": []
  },
  {
   "cell_type": "code",
   "execution_count": null,
   "id": "277b36c8",
   "metadata": {
    "papermill": {
     "duration": 0.03186,
     "end_time": "2022-01-19T22:40:46.741498",
     "exception": false,
     "start_time": "2022-01-19T22:40:46.709638",
     "status": "completed"
    },
    "tags": []
   },
   "outputs": [],
   "source": []
  },
  {
   "cell_type": "code",
   "execution_count": null,
   "id": "0a8fb2c2",
   "metadata": {
    "papermill": {
     "duration": 0.031374,
     "end_time": "2022-01-19T22:40:46.804595",
     "exception": false,
     "start_time": "2022-01-19T22:40:46.773221",
     "status": "completed"
    },
    "tags": []
   },
   "outputs": [],
   "source": []
  },
  {
   "cell_type": "code",
   "execution_count": null,
   "id": "d9155608",
   "metadata": {
    "papermill": {
     "duration": 0.031304,
     "end_time": "2022-01-19T22:40:46.867488",
     "exception": false,
     "start_time": "2022-01-19T22:40:46.836184",
     "status": "completed"
    },
    "tags": []
   },
   "outputs": [],
   "source": []
  },
  {
   "cell_type": "code",
   "execution_count": null,
   "id": "9f55d4e3",
   "metadata": {
    "papermill": {
     "duration": 0.031422,
     "end_time": "2022-01-19T22:40:46.930617",
     "exception": false,
     "start_time": "2022-01-19T22:40:46.899195",
     "status": "completed"
    },
    "tags": []
   },
   "outputs": [],
   "source": []
  },
  {
   "cell_type": "code",
   "execution_count": null,
   "id": "eb3b96ae",
   "metadata": {
    "papermill": {
     "duration": 0.031176,
     "end_time": "2022-01-19T22:40:46.993253",
     "exception": false,
     "start_time": "2022-01-19T22:40:46.962077",
     "status": "completed"
    },
    "tags": []
   },
   "outputs": [],
   "source": []
  },
  {
   "cell_type": "code",
   "execution_count": null,
   "id": "282d1c0d",
   "metadata": {
    "papermill": {
     "duration": 0.031655,
     "end_time": "2022-01-19T22:40:47.057398",
     "exception": false,
     "start_time": "2022-01-19T22:40:47.025743",
     "status": "completed"
    },
    "tags": []
   },
   "outputs": [],
   "source": []
  },
  {
   "cell_type": "code",
   "execution_count": null,
   "id": "e079d7d5",
   "metadata": {
    "papermill": {
     "duration": 0.031837,
     "end_time": "2022-01-19T22:40:47.121218",
     "exception": false,
     "start_time": "2022-01-19T22:40:47.089381",
     "status": "completed"
    },
    "tags": []
   },
   "outputs": [],
   "source": []
  },
  {
   "cell_type": "code",
   "execution_count": null,
   "id": "a41d772c",
   "metadata": {
    "papermill": {
     "duration": 0.03426,
     "end_time": "2022-01-19T22:40:47.188183",
     "exception": false,
     "start_time": "2022-01-19T22:40:47.153923",
     "status": "completed"
    },
    "tags": []
   },
   "outputs": [],
   "source": []
  }
 ],
 "metadata": {
  "kernelspec": {
   "display_name": "Python 3",
   "language": "python",
   "name": "python3"
  },
  "language_info": {
   "codemirror_mode": {
    "name": "ipython",
    "version": 3
   },
   "file_extension": ".py",
   "mimetype": "text/x-python",
   "name": "python",
   "nbconvert_exporter": "python",
   "pygments_lexer": "ipython3",
   "version": "3.7.12"
  },
  "papermill": {
   "default_parameters": {},
   "duration": 5892.183081,
   "end_time": "2022-01-19T22:40:48.553974",
   "environment_variables": {},
   "exception": null,
   "input_path": "__notebook__.ipynb",
   "output_path": "__notebook__.ipynb",
   "parameters": {},
   "start_time": "2022-01-19T21:02:36.370893",
   "version": "2.3.3"
  }
 },
 "nbformat": 4,
 "nbformat_minor": 5
}
