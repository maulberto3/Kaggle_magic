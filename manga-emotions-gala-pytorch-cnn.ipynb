{
 "cells": [
  {
   "cell_type": "code",
   "execution_count": 1,
   "id": "e2bb2fd3",
   "metadata": {
    "_cell_guid": "b1076dfc-b9ad-4769-8c92-a6c4dae69d19",
    "_uuid": "8f2839f25d086af736a60e9eeb907d3b93b6e0e5",
    "execution": {
     "iopub.execute_input": "2022-01-20T06:03:54.412087Z",
     "iopub.status.busy": "2022-01-20T06:03:54.407570Z",
     "iopub.status.idle": "2022-01-20T06:03:54.520771Z",
     "shell.execute_reply": "2022-01-20T06:03:54.519863Z",
     "shell.execute_reply.started": "2022-01-20T05:57:31.195589Z"
    },
    "papermill": {
     "duration": 0.146419,
     "end_time": "2022-01-20T06:03:54.521006",
     "exception": false,
     "start_time": "2022-01-20T06:03:54.374587",
     "status": "completed"
    },
    "tags": []
   },
   "outputs": [],
   "source": [
    "%reset -sf\n",
    "\n",
    "from IPython.core.interactiveshell import InteractiveShell\n",
    "InteractiveShell.ast_node_interactivity = 'all'"
   ]
  },
  {
   "cell_type": "code",
   "execution_count": 2,
   "id": "a55408cb",
   "metadata": {
    "execution": {
     "iopub.execute_input": "2022-01-20T06:03:54.574087Z",
     "iopub.status.busy": "2022-01-20T06:03:54.573369Z",
     "iopub.status.idle": "2022-01-20T06:03:55.744776Z",
     "shell.execute_reply": "2022-01-20T06:03:55.744191Z",
     "shell.execute_reply.started": "2022-01-20T05:57:31.344779Z"
    },
    "papermill": {
     "duration": 1.199236,
     "end_time": "2022-01-20T06:03:55.744945",
     "exception": false,
     "start_time": "2022-01-20T06:03:54.545709",
     "status": "completed"
    },
    "tags": []
   },
   "outputs": [
    {
     "name": "stdout",
     "output_type": "stream",
     "text": [
      "==> Device: cpu\n"
     ]
    },
    {
     "data": {
      "text/plain": [
       "<torch._C.Generator at 0x7fd5ea36e810>"
      ]
     },
     "execution_count": 2,
     "metadata": {},
     "output_type": "execute_result"
    }
   ],
   "source": [
    "from torch.cuda import is_available\n",
    "DEVI = \"cuda\" if is_available() else \"cpu\"\n",
    "# device = \"cpu\"\n",
    "print(\"==> Device:\", DEVI)\n",
    "\n",
    "from torch import manual_seed\n",
    "manual_seed(16)\n",
    "from random import seed\n",
    "seed(16)"
   ]
  },
  {
   "cell_type": "code",
   "execution_count": 3,
   "id": "f09fa1af",
   "metadata": {
    "execution": {
     "iopub.execute_input": "2022-01-20T06:03:55.800404Z",
     "iopub.status.busy": "2022-01-20T06:03:55.799715Z",
     "iopub.status.idle": "2022-01-20T06:03:59.069688Z",
     "shell.execute_reply": "2022-01-20T06:03:59.069125Z",
     "shell.execute_reply.started": "2022-01-20T05:57:31.354925Z"
    },
    "papermill": {
     "duration": 3.302134,
     "end_time": "2022-01-20T06:03:59.069883",
     "exception": false,
     "start_time": "2022-01-20T06:03:55.767749",
     "status": "completed"
    },
    "tags": []
   },
   "outputs": [
    {
     "data": {
      "text/plain": [
       "[PosixPath('/kaggle/input/mangafaces/imgs.pt'),\n",
       " PosixPath('/kaggle/input/mangafaces/imgs_te.pt'),\n",
       " PosixPath('/kaggle/input/mangafaces/labs_te.pt'),\n",
       " PosixPath('/kaggle/input/mangafaces/labs.pt')]"
      ]
     },
     "execution_count": 3,
     "metadata": {},
     "output_type": "execute_result"
    },
    {
     "data": {
      "text/plain": [
       "(torch.Size([1239, 3, 128, 128]),\n",
       " torch.Size([96, 3, 128, 128]),\n",
       " torch.Size([1239]),\n",
       " torch.Size([96]))"
      ]
     },
     "execution_count": 3,
     "metadata": {},
     "output_type": "execute_result"
    },
    {
     "data": {
      "text/plain": [
       "<torch.utils.data.sampler.WeightedRandomSampler at 0x7fd5c0a6ebd0>"
      ]
     },
     "execution_count": 3,
     "metadata": {},
     "output_type": "execute_result"
    }
   ],
   "source": [
    "from torch.utils.data import Dataset, DataLoader\n",
    "from torch import load\n",
    "from torch.utils.data import WeightedRandomSampler\n",
    "from numpy import bincount\n",
    "from pathlib import Path\n",
    "\n",
    "path = Path('/kaggle/input/mangafaces')\n",
    "list(path.glob('*'))\n",
    "\n",
    "imgs = load(path / 'imgs.pt')\n",
    "imgs_te = load(path / 'imgs_te.pt')\n",
    "labs = load(path / 'labs.pt')\n",
    "labs_te = load(path / 'labs_te.pt')\n",
    "\n",
    "imgs.shape, imgs_te.shape, labs.shape, labs_te.shape\n",
    "\n",
    "# balanced sampler\n",
    "counts = bincount(labs)\n",
    "labels_weights = 1. / counts\n",
    "weights = labels_weights[labs]\n",
    "ws = WeightedRandomSampler(weights, len(weights), replacement=True)\n",
    "ws"
   ]
  },
  {
   "cell_type": "code",
   "execution_count": 4,
   "id": "8d2aba29",
   "metadata": {
    "execution": {
     "iopub.execute_input": "2022-01-20T06:03:59.123327Z",
     "iopub.status.busy": "2022-01-20T06:03:59.122414Z",
     "iopub.status.idle": "2022-01-20T06:03:59.125942Z",
     "shell.execute_reply": "2022-01-20T06:03:59.125239Z",
     "shell.execute_reply.started": "2022-01-20T05:57:31.537652Z"
    },
    "papermill": {
     "duration": 0.03242,
     "end_time": "2022-01-20T06:03:59.126121",
     "exception": false,
     "start_time": "2022-01-20T06:03:59.093701",
     "status": "completed"
    },
    "tags": []
   },
   "outputs": [],
   "source": [
    "BATCH_SIZE = 64\n",
    "LR = 0.0005"
   ]
  },
  {
   "cell_type": "code",
   "execution_count": 5,
   "id": "b417c983",
   "metadata": {
    "execution": {
     "iopub.execute_input": "2022-01-20T06:03:59.187720Z",
     "iopub.status.busy": "2022-01-20T06:03:59.187015Z",
     "iopub.status.idle": "2022-01-20T06:03:59.189947Z",
     "shell.execute_reply": "2022-01-20T06:03:59.188942Z",
     "shell.execute_reply.started": "2022-01-20T05:57:31.544188Z"
    },
    "papermill": {
     "duration": 0.040046,
     "end_time": "2022-01-20T06:03:59.190119",
     "exception": false,
     "start_time": "2022-01-20T06:03:59.150073",
     "status": "completed"
    },
    "tags": []
   },
   "outputs": [],
   "source": [
    "from torch import nn\n",
    "from torch import float as pt_float, ones\n",
    "\n",
    "class NET(nn.Module):\n",
    "    def __init__(self, l1, k1, a1, l2, k2, a2, l3, k3, a3):\n",
    "        super().__init__()\n",
    "        \n",
    "        self.cnn1 = nn.Sequential(\n",
    "            nn.LazyConv2d(l1, k1),\n",
    "            nn.Dropout2d(0.5),\n",
    "            nn.__getattribute__(a1)())\n",
    "        \n",
    "        self.cnn2 = nn.Sequential(\n",
    "            nn.LazyBatchNorm2d(),\n",
    "            nn.LazyConv2d(l2, k2),\n",
    "            nn.Dropout2d(0.5),\n",
    "            nn.__getattribute__(a2)())\n",
    "\n",
    "        self.cnn3 = nn.Sequential(\n",
    "            nn.LazyBatchNorm2d(),\n",
    "            nn.LazyConv2d(l3, k3),\n",
    "            nn.Dropout2d(0.5),\n",
    "            nn.__getattribute__(a3)())\n",
    "\n",
    "        self.out1 = nn.Sequential(\n",
    "            nn.Flatten(),\n",
    "            nn.LazyLinear(2),\n",
    "            nn.Dropout(0.5),\n",
    "            nn.LogSoftmax(dim=-1))\n",
    "        \n",
    "        self.model1 = nn.Sequential(\n",
    "            self.cnn1,\n",
    "            self.cnn2,\n",
    "            self.cnn3,\n",
    "            self.out1)\n",
    "        \n",
    "    def forward(self, x):\n",
    "        \"\"\"Forward\"\"\"\n",
    "        return self.model1(x)\n",
    "    \n",
    "    def count_weights_biases(self):\n",
    "        return int(sum(p.numel() for p in self.parameters() if p.requires_grad))\n",
    "    \n",
    "#net = NET(10, 2, 'SELU', 10, 2, 'SELU', 10, 2, 'SELU').to(DEVI)\n",
    "#f'Dry run'\n",
    "#net(ones(1, 3, 95, 95).to(DEVI, dtype=pt_float))"
   ]
  },
  {
   "cell_type": "code",
   "execution_count": 6,
   "id": "94274c4b",
   "metadata": {
    "execution": {
     "iopub.execute_input": "2022-01-20T06:03:59.269254Z",
     "iopub.status.busy": "2022-01-20T06:03:59.252677Z",
     "iopub.status.idle": "2022-01-20T06:03:59.271681Z",
     "shell.execute_reply": "2022-01-20T06:03:59.272197Z",
     "shell.execute_reply.started": "2022-01-20T05:57:31.559216Z"
    },
    "papermill": {
     "duration": 0.058188,
     "end_time": "2022-01-20T06:03:59.272411",
     "exception": false,
     "start_time": "2022-01-20T06:03:59.214223",
     "status": "completed"
    },
    "tags": []
   },
   "outputs": [],
   "source": [
    "class GA_Pytorch():\n",
    "    def __init__(self, \n",
    "                 params, \n",
    "                 eval_func,\n",
    "                 eval_weights,\n",
    "                 img_tr,\n",
    "                 batch_size=BATCH_SIZE,\n",
    "                 lr=LR,\n",
    "                 sel_tournsize=2, \n",
    "                 cx_uniform_prob=0.5, \n",
    "                 mut_shuffle_idx_prob=0.1, \n",
    "                 #\n",
    "                 n_pop=45,\n",
    "                 n_gen=15,\n",
    "                 #\n",
    "                 n_hof=5,\n",
    "                 cx_prob=0.5, \n",
    "                 mut_prob=0.1, \n",
    "                 n_jobs=1\n",
    "                ):\n",
    "        self.params = params\n",
    "        self.eval_func = eval_func\n",
    "        self.eval_weights = eval_weights\n",
    "        \n",
    "        self.img_tr = img_tr\n",
    "        self.batch_size = batch_size\n",
    "        self.lr = lr\n",
    "        \n",
    "        self.sel_tournsize = sel_tournsize\n",
    "        self.cx_uniform_prob = cx_uniform_prob\n",
    "        self.mut_shuffle_idx_prob = mut_shuffle_idx_prob\n",
    "        self.n_pop = n_pop\n",
    "        self.n_gen = n_gen\n",
    "        self.n_hof = n_hof\n",
    "        self.cx_prob = cx_prob\n",
    "        self.mut_prob = mut_prob\n",
    "        \n",
    "        self.n_jobs = n_jobs\n",
    "\n",
    "        self._pad_params()\n",
    "        self._create_fitness_and_indiv()\n",
    "        self._register_indiv_and_pop_generators()\n",
    "        self._register_eval_func()\n",
    "        self._register_selection_crossover_mutation_methods()\n",
    "\n",
    "    def _pad_params(self):\n",
    "        \"\"\"Pad params for crossover shuffle idx method\"\"\"\n",
    "        assert isinstance(self.params, dict), 'Params must be a dict, i.e. estimator.get_params()'\n",
    "        params_count = {k: len(v) for k,v in self.params.items()}\n",
    "        max_length, max_key = -99, ''\n",
    "        for k, v in params_count.items():\n",
    "            if v <= max_length:\n",
    "                continue\n",
    "            else:\n",
    "                max_key = k\n",
    "                max_length = v\n",
    "        assert isinstance(max_length, int), 'The max length between all params must be an int'\n",
    "        # cycle through params for max length param, otherwise infinite cycle\n",
    "        values_padded = (cycle(v) if k!=max_key else v for k,v in self.params.items())\n",
    "        values_padded = zip(*values_padded)  # ('a', 1, 14), ('b', 2, 16), ('c', 3, 16) ...\n",
    "        values_padded = zip(*values_padded)  # ('a', 'b', 'c'), (1, 2, 3), (14, 15, 16)...\n",
    "        padded_params = {}\n",
    "        for k, v in zip(self.params, values_padded):\n",
    "            padded_params[k] = v\n",
    "        self.padded_params = padded_params\n",
    "        print('Params padded')\n",
    "\n",
    "    def _create_fitness_and_indiv(self):\n",
    "        \"\"\"Create GA individual and fitness entities (classes)\"\"\"\n",
    "        ga_cr.create('Fitness', ga_b.Fitness, weights=self.eval_weights)\n",
    "        ga_cr.create('Individual', list, fitness=ga_cr.Fitness)\n",
    "        print('GA entities created')\n",
    "\n",
    "    def _gen_params_to_ga(self):\n",
    "        \"\"\"Generate index for each param for individual\"\"\"\n",
    "        max_dict = len(self.padded_params)\n",
    "        max_length = len(list(self.padded_params.values())[0])\n",
    "        idxs = [randint(0, max_length-1) for _ in range(max_dict)]\n",
    "        return idxs\n",
    "    \n",
    "    def _register_indiv_and_pop_generators(self):\n",
    "        \"\"\"Register GA individual and population generators\"\"\"\n",
    "        self.tb = ga_b.Toolbox()\n",
    "\n",
    "        if self.n_jobs > 1:\n",
    "            from multiprocessing import Pool\n",
    "            pool = Pool()\n",
    "            self.tb.register(\"map\", pool.map)\n",
    "\n",
    "        self.tb.register(\"individual\", ga_t.initIterate, ga_cr.Individual, self._gen_params_to_ga)\n",
    "        self.tb.register(\"population\", ga_t.initRepeat, list, self.tb.individual)\n",
    "        print('GA entities\\' methods registered')\n",
    "        \n",
    "    def _register_eval_func(self):\n",
    "        \"\"\"Set GA evaluate individual function\"\"\"\n",
    "        self.tb.register(\"evaluate\",\n",
    "                        self.eval_func,\n",
    "                        padded_params=self.padded_params,\n",
    "                        img_tr=self.img_tr,\n",
    "                        batch_size=self.batch_size,\n",
    "                        lr=self.lr)\n",
    "        #print(list(self.tb.evaluate(indiv) for indiv in self.tb.population(3)))\n",
    "        print('GA eval function registered')\n",
    "    \n",
    "    def _register_selection_crossover_mutation_methods(self):\n",
    "        self.tb.register(\"select\", ga_t.selTournament, tournsize=self.sel_tournsize)\n",
    "        self.tb.register(\"mate\", ga_t.cxUniform, indpb=self.cx_uniform_prob)\n",
    "        self.tb.register(\"mutate\", ga_t.mutShuffleIndexes, indpb=self.mut_shuffle_idx_prob)\n",
    "        print('GA sel-cx-mut methods registered')\n",
    "        \n",
    "    def run_ga_search(self):\n",
    "        \"\"\"GA Search\"\"\"\n",
    "        pop = self.tb.population(n=self.n_pop)\n",
    "        hof = ga_t.HallOfFame(self.n_hof)\n",
    "\n",
    "        # Stats stdout\n",
    "        #stats = ga_t.Statistics(lambda ind: ind.fitness.values )\n",
    "        stats1 = ga_t.Statistics(lambda ind: ind.fitness.values[0] )\n",
    "        stats2 = ga_t.Statistics(lambda ind: ind.fitness.values[1] )\n",
    "        stats3 = ga_t.Statistics(lambda ind: ind.fitness.values[2] )\n",
    "        stats = ga_t.MultiStatistics(accuracy=stats1, risk=stats2, complexity=stats3)\n",
    "        stats.register(\"avg\", mean)\n",
    "\n",
    "        # GA Run\n",
    "        pop, log = ga_algo.eaSimple(pop, self.tb, cxpb=self.cx_prob, \n",
    "                                    mutpb=self.mut_prob, ngen=self.n_gen, \n",
    "                                    stats=stats, halloffame=hof, verbose=True)\n",
    "        \n",
    "        # Convert back params\n",
    "        hof_ = {}\n",
    "        for i in range(self.n_hof):\n",
    "            hof_['hof_' + str(i)] = self._ga_to_params(hof[i])\n",
    "\n",
    "        return pop, log, hof_\n",
    "    \n",
    "    def _ga_to_params(self, idx_params):\n",
    "        \"\"\"Convert back idx to params\"\"\"\n",
    "        res = {}\n",
    "        for (k,v), idx in zip(self.padded_params.items(), idx_params):\n",
    "            res[k] = v[idx]\n",
    "        return res"
   ]
  },
  {
   "cell_type": "code",
   "execution_count": 7,
   "id": "427adb5a",
   "metadata": {
    "execution": {
     "iopub.execute_input": "2022-01-20T06:03:59.324319Z",
     "iopub.status.busy": "2022-01-20T06:03:59.323298Z",
     "iopub.status.idle": "2022-01-20T06:04:00.308132Z",
     "shell.execute_reply": "2022-01-20T06:04:00.307417Z",
     "shell.execute_reply.started": "2022-01-20T05:57:31.593612Z"
    },
    "papermill": {
     "duration": 1.011965,
     "end_time": "2022-01-20T06:04:00.308289",
     "exception": false,
     "start_time": "2022-01-20T06:03:59.296324",
     "status": "completed"
    },
    "tags": []
   },
   "outputs": [],
   "source": [
    "from sklearn.metrics import f1_score\n",
    "from numpy import mean, linspace, inf\n",
    "\n",
    "net_params = {\n",
    "    'l1': linspace(1,30,30).astype(int),\n",
    "    'k1': linspace(1,30,30).astype(int),\n",
    "    'a1': ['ReLU', 'CELU', 'SELU', 'ELU', 'Softsign'],\n",
    "    'l2': linspace(1,30,30).astype(int),\n",
    "    'k2': linspace(1,30,30).astype(int),\n",
    "    'a2': ['ReLU', 'CELU', 'SELU', 'ELU', 'Softsign'],\n",
    "    'l3': linspace(1,30,30).astype(int),\n",
    "    'k3': linspace(1,30,30).astype(int),\n",
    "    'a3': ['ReLU', 'CELU', 'SELU', 'ELU', 'Softsign'],\n",
    "}\n",
    "\n",
    "def net_eval_indiv(individual, padded_params, img_tr, batch_size, lr):\n",
    "    \"\"\"Evaluate individual's genes (estimator's params)\"\"\"\n",
    "\n",
    "    # Params\n",
    "    indiv_params = {k : list(v)[idx] for (k,v), idx in zip(padded_params.items(), individual)}\n",
    "    \n",
    "    # Net\n",
    "    net = NET(**indiv_params).to(DEVI).train()\n",
    "    try:\n",
    "        net(ones(1,3,128,128))\n",
    "    except BaseException as e:\n",
    "        print('=> Possible Arch Error:', e)\n",
    "        return (0.01, (1/10)**10, 1e7)\n",
    "    \n",
    "    # Optimizer\n",
    "    optimizer = Adam(net.parameters(), lr=lr)\n",
    "    criterion = nn.NLLLoss()\n",
    "    \n",
    "    # Metric\n",
    "    f1 = F1(2)\n",
    "    \n",
    "    # Train\n",
    "    img_tr, img_te = img_tr[0], img_tr[1]\n",
    "    \n",
    "    train_dl = DataLoader(img_tr,\n",
    "                        batch_size=batch_size,\n",
    "                        num_workers=3,\n",
    "                        sampler=ws  # uff\n",
    "                         )\n",
    "    \n",
    "    test_dl = DataLoader(img_te,\n",
    "                        batch_size=batch_size,\n",
    "                        num_workers=3)\n",
    "    \n",
    "    for epoch in range(1):\n",
    "        net = net.train()\n",
    "        train_correct = 0\n",
    "        train_total = 0\n",
    "        for i, (inputs, labels) in enumerate(train_dl):\n",
    "            if i <= 3:\n",
    "                outputs = net(inputs.to(DEVI, dtype=pt_float))\n",
    "\n",
    "                optimizer.zero_grad()\n",
    "                loss = criterion(outputs, labels.to(DEVI, dtype=long)).mean()\n",
    "                loss.backward()\n",
    "                optimizer.step()\n",
    "\n",
    "    with no_grad():\n",
    "        net = net.eval()\n",
    "        f1_scores = []\n",
    "        for j, (inputs, labels) in enumerate(test_dl):\n",
    "            net = net.eval()\n",
    "            \n",
    "            outputs = net(inputs.to(DEVI, dtype=pt_float))\n",
    "            preds = outputs.argmax(dim=1)\n",
    "            f1_scores.append(f1(labels, preds))\n",
    "\n",
    "    # Risk\n",
    "    risk = median(prod(net(inputs.to(DEVI, dtype=pt_float)).exp()*10, dim=1))\n",
    "    if isnan(risk):\n",
    "        risk = 10\n",
    "    else:\n",
    "        risk = float(risk)\n",
    "        \n",
    "    # Complexity\n",
    "    compl = net.count_weights_biases()\n",
    "    \n",
    "    return (stack(f1_scores).mean(), risk, compl,)\n",
    "\n",
    "net_weights = (1, -1, -1,)"
   ]
  },
  {
   "cell_type": "code",
   "execution_count": 8,
   "id": "e254b05d",
   "metadata": {
    "execution": {
     "iopub.execute_input": "2022-01-20T06:04:00.359718Z",
     "iopub.status.busy": "2022-01-20T06:04:00.358761Z",
     "iopub.status.idle": "2022-01-20T14:10:35.042083Z",
     "shell.execute_reply": "2022-01-20T14:10:35.043016Z",
     "shell.execute_reply.started": "2022-01-20T05:57:32.548242Z"
    },
    "papermill": {
     "duration": 29194.711697,
     "end_time": "2022-01-20T14:10:35.043717",
     "exception": false,
     "start_time": "2022-01-20T06:04:00.332020",
     "status": "completed"
    },
    "tags": []
   },
   "outputs": [
    {
     "name": "stdout",
     "output_type": "stream",
     "text": [
      "Params padded\n",
      "GA entities created\n",
      "GA entities' methods registered\n",
      "GA eval function registered\n",
      "GA sel-cx-mut methods registered\n"
     ]
    },
    {
     "name": "stderr",
     "output_type": "stream",
     "text": [
      "/opt/conda/lib/python3.7/site-packages/torch/nn/modules/lazy.py:178: UserWarning: Lazy modules are a new feature under heavy development so changes to the API or functionality can happen at any moment.\n",
      "  warnings.warn('Lazy modules are a new feature under heavy development '\n",
      "/opt/conda/lib/python3.7/site-packages/torch/nn/modules/lazy.py:178: UserWarning: Lazy modules are a new feature under heavy development so changes to the API or functionality can happen at any moment.\n",
      "  warnings.warn('Lazy modules are a new feature under heavy development '\n"
     ]
    },
    {
     "name": "stdout",
     "output_type": "stream",
     "text": [
      "   \t      \t               accuracy               \t      complexity      \t         risk         \n",
      "   \t      \t--------------------------------------\t----------------------\t----------------------\n",
      "gen\tnevals\tavg               \tgen\tnevals\tavg   \tgen\tnevals\tavg    \tgen\tnevals\n",
      "0  \t45    \t0.4185763895511627\t0  \t45    \t379648\t0  \t45    \t10.5419\t0  \t45    \n",
      "1  \t22    \t0.5916666388511658\t1  \t22    \t383061\t1  \t22    \t10.8163\t1  \t22    \n",
      "2  \t23    \t0.589062511920929 \t2  \t23    \t404112\t2  \t23    \t9.87004\t2  \t23    \n",
      "3  \t26    \t0.7036458253860474\t3  \t26    \t429772\t3  \t26    \t7.77976\t3  \t26    \n",
      "4  \t20    \t0.651562511920929 \t4  \t20    \t366528\t4  \t20    \t7.2241 \t4  \t20    \n",
      "5  \t22    \t0.6118055582046509\t5  \t22    \t437530\t5  \t22    \t5.89405\t5  \t22    \n",
      "6  \t19    \t0.7244791388511658\t6  \t19    \t433714\t6  \t19    \t6.32048\t6  \t19    \n",
      "7  \t21    \t0.7347221970558167\t7  \t21    \t494393\t7  \t21    \t4.06144\t7  \t21    \n",
      "8  \t23    \t0.6592013835906982\t8  \t23    \t516552\t8  \t23    \t5.81084\t8  \t23    \n",
      "9  \t26    \t0.636805534362793 \t9  \t26    \t597257\t9  \t26    \t4.18004\t9  \t26    \n",
      "10 \t22    \t0.6887152791023254\t10 \t22    \t570333\t10 \t22    \t2.98917\t10 \t22    \n",
      "11 \t21    \t0.6173611283302307\t11 \t21    \t595291\t11 \t21    \t2.56785\t11 \t21    \n",
      "12 \t26    \t0.6428819298744202\t12 \t26    \t603380\t12 \t26    \t2.25614\t12 \t26    \n",
      "13 \t25    \t0.5685763955116272\t13 \t25    \t583519\t13 \t25    \t2.96443\t13 \t25    \n",
      "14 \t22    \t0.5208333134651184\t14 \t22    \t600584\t14 \t22    \t2.43842\t14 \t22    \n",
      "15 \t24    \t0.4593749940395355\t15 \t24    \t607944\t15 \t24    \t2.08312\t15 \t24    \n"
     ]
    }
   ],
   "source": [
    "from itertools import cycle\n",
    "from deap import creator as ga_cr, base as ga_b, algorithms as ga_algo, tools as ga_t\n",
    "from random import randint\n",
    "from numpy import mean\n",
    "from torch.optim import Adam\n",
    "from torch import max as pt_max, no_grad, median, prod, isnan, long, float as pt_float, stack\n",
    "from torch.utils.data import DataLoader\n",
    "from torchmetrics import F1\n",
    "\n",
    "net_ga_params = GA_Pytorch(net_params,\n",
    "                           net_eval_indiv,\n",
    "                           net_weights,\n",
    "                           ( list(zip(imgs, labs)), list(zip(imgs_te, labs_te)) ) )\n",
    "pop, log, hof = net_ga_params.run_ga_search()"
   ]
  },
  {
   "cell_type": "code",
   "execution_count": 9,
   "id": "2f281981",
   "metadata": {
    "execution": {
     "iopub.execute_input": "2022-01-20T14:10:35.118973Z",
     "iopub.status.busy": "2022-01-20T14:10:35.117882Z",
     "iopub.status.idle": "2022-01-20T14:10:35.122683Z",
     "shell.execute_reply": "2022-01-20T14:10:35.121966Z",
     "shell.execute_reply.started": "2022-01-20T06:00:44.938525Z"
    },
    "papermill": {
     "duration": 0.048716,
     "end_time": "2022-01-20T14:10:35.122870",
     "exception": false,
     "start_time": "2022-01-20T14:10:35.074154",
     "status": "completed"
    },
    "tags": []
   },
   "outputs": [
    {
     "data": {
      "text/plain": [
       "{'hof_0': {'l1': 21,\n",
       "  'k1': 16,\n",
       "  'a1': 'SELU',\n",
       "  'l2': 22,\n",
       "  'k2': 27,\n",
       "  'a2': 'CELU',\n",
       "  'l3': 24,\n",
       "  'k3': 24,\n",
       "  'a3': 'ELU'},\n",
       " 'hof_1': {'l1': 21,\n",
       "  'k1': 28,\n",
       "  'a1': 'SELU',\n",
       "  'l2': 14,\n",
       "  'k2': 1,\n",
       "  'a2': 'ReLU',\n",
       "  'l3': 24,\n",
       "  'k3': 26,\n",
       "  'a3': 'ReLU'},\n",
       " 'hof_2': {'l1': 27,\n",
       "  'k1': 24,\n",
       "  'a1': 'ReLU',\n",
       "  'l2': 22,\n",
       "  'k2': 27,\n",
       "  'a2': 'ELU',\n",
       "  'l3': 22,\n",
       "  'k3': 26,\n",
       "  'a3': 'ELU'},\n",
       " 'hof_3': {'l1': 21,\n",
       "  'k1': 28,\n",
       "  'a1': 'SELU',\n",
       "  'l2': 22,\n",
       "  'k2': 27,\n",
       "  'a2': 'ReLU',\n",
       "  'l3': 24,\n",
       "  'k3': 24,\n",
       "  'a3': 'ELU'},\n",
       " 'hof_4': {'l1': 21,\n",
       "  'k1': 28,\n",
       "  'a1': 'SELU',\n",
       "  'l2': 22,\n",
       "  'k2': 27,\n",
       "  'a2': 'ReLU',\n",
       "  'l3': 24,\n",
       "  'k3': 24,\n",
       "  'a3': 'ELU'}}"
      ]
     },
     "execution_count": 9,
     "metadata": {},
     "output_type": "execute_result"
    }
   ],
   "source": [
    "hof"
   ]
  },
  {
   "cell_type": "code",
   "execution_count": 10,
   "id": "218d2638",
   "metadata": {
    "execution": {
     "iopub.execute_input": "2022-01-20T14:10:35.188975Z",
     "iopub.status.busy": "2022-01-20T14:10:35.187942Z",
     "iopub.status.idle": "2022-01-20T14:10:35.224789Z",
     "shell.execute_reply": "2022-01-20T14:10:35.224185Z",
     "shell.execute_reply.started": "2022-01-20T06:00:44.949956Z"
    },
    "papermill": {
     "duration": 0.071383,
     "end_time": "2022-01-20T14:10:35.224993",
     "exception": false,
     "start_time": "2022-01-20T14:10:35.153610",
     "status": "completed"
    },
    "tags": []
   },
   "outputs": [
    {
     "data": {
      "text/html": [
       "<div>\n",
       "<style scoped>\n",
       "    .dataframe tbody tr th:only-of-type {\n",
       "        vertical-align: middle;\n",
       "    }\n",
       "\n",
       "    .dataframe tbody tr th {\n",
       "        vertical-align: top;\n",
       "    }\n",
       "\n",
       "    .dataframe thead th {\n",
       "        text-align: right;\n",
       "    }\n",
       "</style>\n",
       "<table border=\"1\" class=\"dataframe\">\n",
       "  <thead>\n",
       "    <tr style=\"text-align: right;\">\n",
       "      <th></th>\n",
       "      <th>hof_0</th>\n",
       "      <th>hof_1</th>\n",
       "      <th>hof_2</th>\n",
       "      <th>hof_3</th>\n",
       "      <th>hof_4</th>\n",
       "    </tr>\n",
       "  </thead>\n",
       "  <tbody>\n",
       "    <tr>\n",
       "      <th>l1</th>\n",
       "      <td>21</td>\n",
       "      <td>21</td>\n",
       "      <td>27</td>\n",
       "      <td>21</td>\n",
       "      <td>21</td>\n",
       "    </tr>\n",
       "    <tr>\n",
       "      <th>k1</th>\n",
       "      <td>16</td>\n",
       "      <td>28</td>\n",
       "      <td>24</td>\n",
       "      <td>28</td>\n",
       "      <td>28</td>\n",
       "    </tr>\n",
       "    <tr>\n",
       "      <th>a1</th>\n",
       "      <td>SELU</td>\n",
       "      <td>SELU</td>\n",
       "      <td>ReLU</td>\n",
       "      <td>SELU</td>\n",
       "      <td>SELU</td>\n",
       "    </tr>\n",
       "    <tr>\n",
       "      <th>l2</th>\n",
       "      <td>22</td>\n",
       "      <td>14</td>\n",
       "      <td>22</td>\n",
       "      <td>22</td>\n",
       "      <td>22</td>\n",
       "    </tr>\n",
       "    <tr>\n",
       "      <th>k2</th>\n",
       "      <td>27</td>\n",
       "      <td>1</td>\n",
       "      <td>27</td>\n",
       "      <td>27</td>\n",
       "      <td>27</td>\n",
       "    </tr>\n",
       "    <tr>\n",
       "      <th>a2</th>\n",
       "      <td>CELU</td>\n",
       "      <td>ReLU</td>\n",
       "      <td>ELU</td>\n",
       "      <td>ReLU</td>\n",
       "      <td>ReLU</td>\n",
       "    </tr>\n",
       "    <tr>\n",
       "      <th>l3</th>\n",
       "      <td>24</td>\n",
       "      <td>24</td>\n",
       "      <td>22</td>\n",
       "      <td>24</td>\n",
       "      <td>24</td>\n",
       "    </tr>\n",
       "    <tr>\n",
       "      <th>k3</th>\n",
       "      <td>24</td>\n",
       "      <td>26</td>\n",
       "      <td>26</td>\n",
       "      <td>24</td>\n",
       "      <td>24</td>\n",
       "    </tr>\n",
       "    <tr>\n",
       "      <th>a3</th>\n",
       "      <td>ELU</td>\n",
       "      <td>ReLU</td>\n",
       "      <td>ELU</td>\n",
       "      <td>ELU</td>\n",
       "      <td>ELU</td>\n",
       "    </tr>\n",
       "  </tbody>\n",
       "</table>\n",
       "</div>"
      ],
      "text/plain": [
       "   hof_0 hof_1 hof_2 hof_3 hof_4\n",
       "l1    21    21    27    21    21\n",
       "k1    16    28    24    28    28\n",
       "a1  SELU  SELU  ReLU  SELU  SELU\n",
       "l2    22    14    22    22    22\n",
       "k2    27     1    27    27    27\n",
       "a2  CELU  ReLU   ELU  ReLU  ReLU\n",
       "l3    24    24    22    24    24\n",
       "k3    24    26    26    24    24\n",
       "a3   ELU  ReLU   ELU   ELU   ELU"
      ]
     },
     "execution_count": 10,
     "metadata": {},
     "output_type": "execute_result"
    },
    {
     "data": {
      "text/plain": [
       "['best_params.json']"
      ]
     },
     "execution_count": 10,
     "metadata": {},
     "output_type": "execute_result"
    }
   ],
   "source": [
    "# Saving params\n",
    "\n",
    "from pandas import DataFrame\n",
    "from joblib import dump, load\n",
    "\n",
    "DataFrame(hof)\n",
    "dump(hof, 'best_params.json')"
   ]
  },
  {
   "cell_type": "code",
   "execution_count": null,
   "id": "efed6e00",
   "metadata": {
    "papermill": {
     "duration": 0.03083,
     "end_time": "2022-01-20T14:10:35.287873",
     "exception": false,
     "start_time": "2022-01-20T14:10:35.257043",
     "status": "completed"
    },
    "tags": []
   },
   "outputs": [],
   "source": []
  },
  {
   "cell_type": "code",
   "execution_count": null,
   "id": "f1f07769",
   "metadata": {
    "papermill": {
     "duration": 0.030988,
     "end_time": "2022-01-20T14:10:35.351854",
     "exception": false,
     "start_time": "2022-01-20T14:10:35.320866",
     "status": "completed"
    },
    "tags": []
   },
   "outputs": [],
   "source": []
  },
  {
   "cell_type": "code",
   "execution_count": null,
   "id": "eb91f69c",
   "metadata": {
    "papermill": {
     "duration": 0.031142,
     "end_time": "2022-01-20T14:10:35.414413",
     "exception": false,
     "start_time": "2022-01-20T14:10:35.383271",
     "status": "completed"
    },
    "tags": []
   },
   "outputs": [],
   "source": []
  },
  {
   "cell_type": "code",
   "execution_count": null,
   "id": "27d27fc8",
   "metadata": {
    "papermill": {
     "duration": 0.030908,
     "end_time": "2022-01-20T14:10:35.477052",
     "exception": false,
     "start_time": "2022-01-20T14:10:35.446144",
     "status": "completed"
    },
    "tags": []
   },
   "outputs": [],
   "source": []
  },
  {
   "cell_type": "code",
   "execution_count": null,
   "id": "d262c342",
   "metadata": {
    "papermill": {
     "duration": 0.032524,
     "end_time": "2022-01-20T14:10:35.540943",
     "exception": false,
     "start_time": "2022-01-20T14:10:35.508419",
     "status": "completed"
    },
    "tags": []
   },
   "outputs": [],
   "source": []
  },
  {
   "cell_type": "code",
   "execution_count": null,
   "id": "d1fa6793",
   "metadata": {
    "papermill": {
     "duration": 0.031181,
     "end_time": "2022-01-20T14:10:35.603414",
     "exception": false,
     "start_time": "2022-01-20T14:10:35.572233",
     "status": "completed"
    },
    "tags": []
   },
   "outputs": [],
   "source": []
  },
  {
   "cell_type": "code",
   "execution_count": null,
   "id": "17d8b634",
   "metadata": {
    "papermill": {
     "duration": 0.031105,
     "end_time": "2022-01-20T14:10:35.665840",
     "exception": false,
     "start_time": "2022-01-20T14:10:35.634735",
     "status": "completed"
    },
    "tags": []
   },
   "outputs": [],
   "source": []
  },
  {
   "cell_type": "code",
   "execution_count": null,
   "id": "fd7def27",
   "metadata": {
    "papermill": {
     "duration": 0.031844,
     "end_time": "2022-01-20T14:10:35.728917",
     "exception": false,
     "start_time": "2022-01-20T14:10:35.697073",
     "status": "completed"
    },
    "tags": []
   },
   "outputs": [],
   "source": []
  },
  {
   "cell_type": "code",
   "execution_count": null,
   "id": "c040c2ad",
   "metadata": {
    "papermill": {
     "duration": 0.031567,
     "end_time": "2022-01-20T14:10:35.791932",
     "exception": false,
     "start_time": "2022-01-20T14:10:35.760365",
     "status": "completed"
    },
    "tags": []
   },
   "outputs": [],
   "source": []
  },
  {
   "cell_type": "code",
   "execution_count": null,
   "id": "544684bc",
   "metadata": {
    "papermill": {
     "duration": 0.031091,
     "end_time": "2022-01-20T14:10:35.854426",
     "exception": false,
     "start_time": "2022-01-20T14:10:35.823335",
     "status": "completed"
    },
    "tags": []
   },
   "outputs": [],
   "source": []
  },
  {
   "cell_type": "code",
   "execution_count": null,
   "id": "858c90d8",
   "metadata": {
    "papermill": {
     "duration": 0.031021,
     "end_time": "2022-01-20T14:10:35.916660",
     "exception": false,
     "start_time": "2022-01-20T14:10:35.885639",
     "status": "completed"
    },
    "tags": []
   },
   "outputs": [],
   "source": []
  },
  {
   "cell_type": "code",
   "execution_count": null,
   "id": "2b666249",
   "metadata": {
    "papermill": {
     "duration": 0.031025,
     "end_time": "2022-01-20T14:10:35.979077",
     "exception": false,
     "start_time": "2022-01-20T14:10:35.948052",
     "status": "completed"
    },
    "tags": []
   },
   "outputs": [],
   "source": []
  },
  {
   "cell_type": "code",
   "execution_count": null,
   "id": "9f896c0c",
   "metadata": {
    "papermill": {
     "duration": 0.031931,
     "end_time": "2022-01-20T14:10:36.042251",
     "exception": false,
     "start_time": "2022-01-20T14:10:36.010320",
     "status": "completed"
    },
    "tags": []
   },
   "outputs": [],
   "source": []
  },
  {
   "cell_type": "code",
   "execution_count": null,
   "id": "04954d64",
   "metadata": {
    "papermill": {
     "duration": 0.031789,
     "end_time": "2022-01-20T14:10:36.105353",
     "exception": false,
     "start_time": "2022-01-20T14:10:36.073564",
     "status": "completed"
    },
    "tags": []
   },
   "outputs": [],
   "source": []
  },
  {
   "cell_type": "code",
   "execution_count": null,
   "id": "5ddbb7da",
   "metadata": {
    "papermill": {
     "duration": 0.031096,
     "end_time": "2022-01-20T14:10:36.169958",
     "exception": false,
     "start_time": "2022-01-20T14:10:36.138862",
     "status": "completed"
    },
    "tags": []
   },
   "outputs": [],
   "source": []
  },
  {
   "cell_type": "code",
   "execution_count": null,
   "id": "ac25b504",
   "metadata": {
    "papermill": {
     "duration": 0.030846,
     "end_time": "2022-01-20T14:10:36.232003",
     "exception": false,
     "start_time": "2022-01-20T14:10:36.201157",
     "status": "completed"
    },
    "tags": []
   },
   "outputs": [],
   "source": []
  },
  {
   "cell_type": "code",
   "execution_count": null,
   "id": "97ec3688",
   "metadata": {
    "papermill": {
     "duration": 0.031168,
     "end_time": "2022-01-20T14:10:36.295441",
     "exception": false,
     "start_time": "2022-01-20T14:10:36.264273",
     "status": "completed"
    },
    "tags": []
   },
   "outputs": [],
   "source": []
  },
  {
   "cell_type": "code",
   "execution_count": null,
   "id": "f7b22139",
   "metadata": {
    "papermill": {
     "duration": 0.030886,
     "end_time": "2022-01-20T14:10:36.357740",
     "exception": false,
     "start_time": "2022-01-20T14:10:36.326854",
     "status": "completed"
    },
    "tags": []
   },
   "outputs": [],
   "source": []
  },
  {
   "cell_type": "code",
   "execution_count": null,
   "id": "130a88a4",
   "metadata": {
    "papermill": {
     "duration": 0.030951,
     "end_time": "2022-01-20T14:10:36.420144",
     "exception": false,
     "start_time": "2022-01-20T14:10:36.389193",
     "status": "completed"
    },
    "tags": []
   },
   "outputs": [],
   "source": []
  },
  {
   "cell_type": "code",
   "execution_count": null,
   "id": "334fc16a",
   "metadata": {
    "papermill": {
     "duration": 0.030714,
     "end_time": "2022-01-20T14:10:36.482450",
     "exception": false,
     "start_time": "2022-01-20T14:10:36.451736",
     "status": "completed"
    },
    "tags": []
   },
   "outputs": [],
   "source": []
  }
 ],
 "metadata": {
  "kernelspec": {
   "display_name": "Python 3",
   "language": "python",
   "name": "python3"
  },
  "language_info": {
   "codemirror_mode": {
    "name": "ipython",
    "version": 3
   },
   "file_extension": ".py",
   "mimetype": "text/x-python",
   "name": "python",
   "nbconvert_exporter": "python",
   "pygments_lexer": "ipython3",
   "version": "3.7.12"
  },
  "papermill": {
   "default_parameters": {},
   "duration": 29216.323713,
   "end_time": "2022-01-20T14:10:40.128494",
   "environment_variables": {},
   "exception": null,
   "input_path": "__notebook__.ipynb",
   "output_path": "__notebook__.ipynb",
   "parameters": {},
   "start_time": "2022-01-20T06:03:43.804781",
   "version": "2.3.3"
  }
 },
 "nbformat": 4,
 "nbformat_minor": 5
}
