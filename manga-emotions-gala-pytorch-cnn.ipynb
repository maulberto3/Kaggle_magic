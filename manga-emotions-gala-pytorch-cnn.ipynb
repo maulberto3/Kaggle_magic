{
 "cells": [
  {
   "cell_type": "code",
   "execution_count": 1,
   "id": "a5f14c60",
   "metadata": {
    "_cell_guid": "b1076dfc-b9ad-4769-8c92-a6c4dae69d19",
    "_uuid": "8f2839f25d086af736a60e9eeb907d3b93b6e0e5",
    "execution": {
     "iopub.execute_input": "2022-01-20T04:58:10.808123Z",
     "iopub.status.busy": "2022-01-20T04:58:10.807047Z",
     "iopub.status.idle": "2022-01-20T04:58:10.907471Z",
     "shell.execute_reply": "2022-01-20T04:58:10.906814Z",
     "shell.execute_reply.started": "2022-01-20T04:41:11.599371Z"
    },
    "papermill": {
     "duration": 0.122707,
     "end_time": "2022-01-20T04:58:10.907656",
     "exception": false,
     "start_time": "2022-01-20T04:58:10.784949",
     "status": "completed"
    },
    "tags": []
   },
   "outputs": [],
   "source": [
    "%reset -sf\n",
    "\n",
    "from IPython.core.interactiveshell import InteractiveShell\n",
    "InteractiveShell.ast_node_interactivity = 'all'"
   ]
  },
  {
   "cell_type": "code",
   "execution_count": 2,
   "id": "acb1280f",
   "metadata": {
    "execution": {
     "iopub.execute_input": "2022-01-20T04:58:10.943449Z",
     "iopub.status.busy": "2022-01-20T04:58:10.942823Z",
     "iopub.status.idle": "2022-01-20T04:58:12.012350Z",
     "shell.execute_reply": "2022-01-20T04:58:12.012806Z",
     "shell.execute_reply.started": "2022-01-20T04:41:12.132756Z"
    },
    "papermill": {
     "duration": 1.088941,
     "end_time": "2022-01-20T04:58:12.012981",
     "exception": false,
     "start_time": "2022-01-20T04:58:10.924040",
     "status": "completed"
    },
    "tags": []
   },
   "outputs": [
    {
     "name": "stdout",
     "output_type": "stream",
     "text": [
      "==> Device: cpu\n"
     ]
    },
    {
     "data": {
      "text/plain": [
       "<torch._C.Generator at 0x7f9d8846d870>"
      ]
     },
     "execution_count": 2,
     "metadata": {},
     "output_type": "execute_result"
    }
   ],
   "source": [
    "from torch.cuda import is_available\n",
    "DEVI = \"cuda\" if is_available() else \"cpu\"\n",
    "# device = \"cpu\"\n",
    "print(\"==> Device:\", DEVI)\n",
    "\n",
    "from torch import manual_seed\n",
    "manual_seed(16)\n",
    "from random import seed\n",
    "seed(16)"
   ]
  },
  {
   "cell_type": "code",
   "execution_count": 3,
   "id": "fe5e95f3",
   "metadata": {
    "execution": {
     "iopub.execute_input": "2022-01-20T04:58:12.050794Z",
     "iopub.status.busy": "2022-01-20T04:58:12.049862Z",
     "iopub.status.idle": "2022-01-20T04:58:14.786733Z",
     "shell.execute_reply": "2022-01-20T04:58:14.786253Z",
     "shell.execute_reply.started": "2022-01-20T04:41:12.150743Z"
    },
    "papermill": {
     "duration": 2.756362,
     "end_time": "2022-01-20T04:58:14.786872",
     "exception": false,
     "start_time": "2022-01-20T04:58:12.030510",
     "status": "completed"
    },
    "tags": []
   },
   "outputs": [
    {
     "data": {
      "text/plain": [
       "[PosixPath('/kaggle/input/mangafaces/imgs.pt'),\n",
       " PosixPath('/kaggle/input/mangafaces/imgs_te.pt'),\n",
       " PosixPath('/kaggle/input/mangafaces/labs_te.pt'),\n",
       " PosixPath('/kaggle/input/mangafaces/labs.pt')]"
      ]
     },
     "execution_count": 3,
     "metadata": {},
     "output_type": "execute_result"
    },
    {
     "data": {
      "text/plain": [
       "(torch.Size([1239, 3, 128, 128]),\n",
       " torch.Size([96, 3, 128, 128]),\n",
       " torch.Size([1239]),\n",
       " torch.Size([96]))"
      ]
     },
     "execution_count": 3,
     "metadata": {},
     "output_type": "execute_result"
    },
    {
     "data": {
      "text/plain": [
       "<torch.utils.data.sampler.WeightedRandomSampler at 0x7f9d753f8c90>"
      ]
     },
     "execution_count": 3,
     "metadata": {},
     "output_type": "execute_result"
    }
   ],
   "source": [
    "from torch.utils.data import Dataset, DataLoader\n",
    "from torch import load\n",
    "from torch.utils.data import WeightedRandomSampler\n",
    "from numpy import bincount\n",
    "from pathlib import Path\n",
    "\n",
    "path = Path('/kaggle/input/mangafaces')\n",
    "list(path.glob('*'))\n",
    "\n",
    "imgs = load(path / 'imgs.pt')\n",
    "imgs_te = load(path / 'imgs_te.pt')\n",
    "labs = load(path / 'labs.pt')\n",
    "labs_te = load(path / 'labs_te.pt')\n",
    "\n",
    "imgs.shape, imgs_te.shape, labs.shape, labs_te.shape\n",
    "\n",
    "# balanced sampler\n",
    "counts = bincount(labs)\n",
    "labels_weights = 1. / counts\n",
    "weights = labels_weights[labs]\n",
    "ws = WeightedRandomSampler(weights, len(weights), replacement=True)\n",
    "ws"
   ]
  },
  {
   "cell_type": "code",
   "execution_count": 4,
   "id": "2aee802c",
   "metadata": {
    "execution": {
     "iopub.execute_input": "2022-01-20T04:58:14.828084Z",
     "iopub.status.busy": "2022-01-20T04:58:14.827456Z",
     "iopub.status.idle": "2022-01-20T04:58:14.829582Z",
     "shell.execute_reply": "2022-01-20T04:58:14.829975Z",
     "shell.execute_reply.started": "2022-01-20T04:41:12.429051Z"
    },
    "papermill": {
     "duration": 0.025137,
     "end_time": "2022-01-20T04:58:14.830139",
     "exception": false,
     "start_time": "2022-01-20T04:58:14.805002",
     "status": "completed"
    },
    "tags": []
   },
   "outputs": [],
   "source": [
    "BATCH_SIZE = 64\n",
    "LR = 0.0005"
   ]
  },
  {
   "cell_type": "code",
   "execution_count": 5,
   "id": "c8da186d",
   "metadata": {
    "execution": {
     "iopub.execute_input": "2022-01-20T04:58:14.869768Z",
     "iopub.status.busy": "2022-01-20T04:58:14.869099Z",
     "iopub.status.idle": "2022-01-20T04:58:14.879355Z",
     "shell.execute_reply": "2022-01-20T04:58:14.878750Z",
     "shell.execute_reply.started": "2022-01-20T04:41:12.436270Z"
    },
    "papermill": {
     "duration": 0.031163,
     "end_time": "2022-01-20T04:58:14.879507",
     "exception": false,
     "start_time": "2022-01-20T04:58:14.848344",
     "status": "completed"
    },
    "tags": []
   },
   "outputs": [],
   "source": [
    "from torch import nn\n",
    "from torch import float as pt_float, ones\n",
    "\n",
    "class NET(nn.Module):\n",
    "    def __init__(self, l1, k1, a1, l2, k2, a2, l3, k3, a3):\n",
    "        super().__init__()\n",
    "        \n",
    "        self.cnn1 = nn.Sequential(\n",
    "            nn.LazyConv2d(l1, k1),\n",
    "            nn.Dropout(0.5),\n",
    "            nn.__getattribute__(a1)())\n",
    "        \n",
    "        self.cnn2 = nn.Sequential(\n",
    "            nn.LazyBatchNorm2d(),\n",
    "            nn.LazyConv2d(l2, k2),\n",
    "            nn.Dropout(0.5),\n",
    "            nn.__getattribute__(a2)())\n",
    "\n",
    "        self.cnn3 = nn.Sequential(\n",
    "            nn.LazyBatchNorm2d(),\n",
    "            nn.LazyConv2d(l3, k3),\n",
    "            nn.Dropout(0.5),\n",
    "            nn.__getattribute__(a3)())\n",
    "\n",
    "        self.out1 = nn.Sequential(\n",
    "            nn.Flatten(),\n",
    "            nn.LazyLinear(2),\n",
    "            nn.LogSoftmax(dim=-1))\n",
    "        \n",
    "        self.model1 = nn.Sequential(\n",
    "            self.cnn1,\n",
    "            self.cnn2,\n",
    "            self.cnn3,\n",
    "            self.out1)\n",
    "        \n",
    "    def forward(self, x):\n",
    "        \"\"\"Forward\"\"\"\n",
    "        return self.model1(x)\n",
    "    \n",
    "    def count_weights_biases(self):\n",
    "        return int(sum(p.numel() for p in self.parameters() if p.requires_grad))\n",
    "    \n",
    "#net = NET(10, 2, 'SELU', 10, 2, 'SELU', 10, 2, 'SELU').to(DEVI)\n",
    "#f'Dry run'\n",
    "#net(ones(1, 3, 95, 95).to(DEVI, dtype=pt_float))"
   ]
  },
  {
   "cell_type": "code",
   "execution_count": 6,
   "id": "ce351128",
   "metadata": {
    "execution": {
     "iopub.execute_input": "2022-01-20T04:58:14.937072Z",
     "iopub.status.busy": "2022-01-20T04:58:14.936121Z",
     "iopub.status.idle": "2022-01-20T04:58:14.938883Z",
     "shell.execute_reply": "2022-01-20T04:58:14.938310Z",
     "shell.execute_reply.started": "2022-01-20T04:41:12.452561Z"
    },
    "papermill": {
     "duration": 0.042033,
     "end_time": "2022-01-20T04:58:14.939014",
     "exception": false,
     "start_time": "2022-01-20T04:58:14.896981",
     "status": "completed"
    },
    "tags": []
   },
   "outputs": [],
   "source": [
    "class GA_Pytorch():\n",
    "    def __init__(self, \n",
    "                 params, \n",
    "                 eval_func,\n",
    "                 eval_weights,\n",
    "                 img_tr,\n",
    "                 batch_size=BATCH_SIZE,\n",
    "                 lr=LR,\n",
    "                 sel_tournsize=2, \n",
    "                 cx_uniform_prob=0.5, \n",
    "                 mut_shuffle_idx_prob=0.1, \n",
    "                 #\n",
    "                 n_pop=20,\n",
    "                 n_gen=10,\n",
    "                 #\n",
    "                 n_hof=5,\n",
    "                 cx_prob=0.5, \n",
    "                 mut_prob=0.1, \n",
    "                 n_jobs=1\n",
    "                ):\n",
    "        self.params = params\n",
    "        self.eval_func = eval_func\n",
    "        self.eval_weights = eval_weights\n",
    "        \n",
    "        self.img_tr = img_tr\n",
    "        self.batch_size = batch_size\n",
    "        self.lr = lr\n",
    "        \n",
    "        self.sel_tournsize = sel_tournsize\n",
    "        self.cx_uniform_prob = cx_uniform_prob\n",
    "        self.mut_shuffle_idx_prob = mut_shuffle_idx_prob\n",
    "        self.n_pop = n_pop\n",
    "        self.n_gen = n_gen\n",
    "        self.n_hof = n_hof\n",
    "        self.cx_prob = cx_prob\n",
    "        self.mut_prob = mut_prob\n",
    "        \n",
    "        self.n_jobs = n_jobs\n",
    "\n",
    "        self._pad_params()\n",
    "        self._create_fitness_and_indiv()\n",
    "        self._register_indiv_and_pop_generators()\n",
    "        self._register_eval_func()\n",
    "        self._register_selection_crossover_mutation_methods()\n",
    "\n",
    "    def _pad_params(self):\n",
    "        \"\"\"Pad params for crossover shuffle idx method\"\"\"\n",
    "        assert isinstance(self.params, dict), 'Params must be a dict, i.e. estimator.get_params()'\n",
    "        params_count = {k: len(v) for k,v in self.params.items()}\n",
    "        max_length, max_key = -99, ''\n",
    "        for k, v in params_count.items():\n",
    "            if v <= max_length:\n",
    "                continue\n",
    "            else:\n",
    "                max_key = k\n",
    "                max_length = v\n",
    "        assert isinstance(max_length, int), 'The max length between all params must be an int'\n",
    "        # cycle through params for max length param, otherwise infinite cycle\n",
    "        values_padded = (cycle(v) if k!=max_key else v for k,v in self.params.items())\n",
    "        values_padded = zip(*values_padded)  # ('a', 1, 14), ('b', 2, 16), ('c', 3, 16) ...\n",
    "        values_padded = zip(*values_padded)  # ('a', 'b', 'c'), (1, 2, 3), (14, 15, 16)...\n",
    "        padded_params = {}\n",
    "        for k, v in zip(self.params, values_padded):\n",
    "            padded_params[k] = v\n",
    "        self.padded_params = padded_params\n",
    "        print('Params padded')\n",
    "\n",
    "    def _create_fitness_and_indiv(self):\n",
    "        \"\"\"Create GA individual and fitness entities (classes)\"\"\"\n",
    "        ga_cr.create('Fitness', ga_b.Fitness, weights=self.eval_weights)\n",
    "        ga_cr.create('Individual', list, fitness=ga_cr.Fitness)\n",
    "        print('GA entities created')\n",
    "\n",
    "    def _gen_params_to_ga(self):\n",
    "        \"\"\"Generate index for each param for individual\"\"\"\n",
    "        max_dict = len(self.padded_params)\n",
    "        max_length = len(list(self.padded_params.values())[0])\n",
    "        idxs = [randint(0, max_length-1) for _ in range(max_dict)]\n",
    "        return idxs\n",
    "    \n",
    "    def _register_indiv_and_pop_generators(self):\n",
    "        \"\"\"Register GA individual and population generators\"\"\"\n",
    "        self.tb = ga_b.Toolbox()\n",
    "\n",
    "        if self.n_jobs > 1:\n",
    "            from multiprocessing import Pool\n",
    "            pool = Pool()\n",
    "            self.tb.register(\"map\", pool.map)\n",
    "\n",
    "        self.tb.register(\"individual\", ga_t.initIterate, ga_cr.Individual, self._gen_params_to_ga)\n",
    "        self.tb.register(\"population\", ga_t.initRepeat, list, self.tb.individual)\n",
    "        print('GA entities\\' methods registered')\n",
    "        \n",
    "    def _register_eval_func(self):\n",
    "        \"\"\"Set GA evaluate individual function\"\"\"\n",
    "        self.tb.register(\"evaluate\",\n",
    "                        self.eval_func,\n",
    "                        padded_params=self.padded_params,\n",
    "                        img_tr=self.img_tr,\n",
    "                        batch_size=self.batch_size,\n",
    "                        lr=self.lr)\n",
    "        #print(list(self.tb.evaluate(indiv) for indiv in self.tb.population(3)))\n",
    "        print('GA eval function registered')\n",
    "    \n",
    "    def _register_selection_crossover_mutation_methods(self):\n",
    "        self.tb.register(\"select\", ga_t.selTournament, tournsize=self.sel_tournsize)\n",
    "        self.tb.register(\"mate\", ga_t.cxUniform, indpb=self.cx_uniform_prob)\n",
    "        self.tb.register(\"mutate\", ga_t.mutShuffleIndexes, indpb=self.mut_shuffle_idx_prob)\n",
    "        print('GA sel-cx-mut methods registered')\n",
    "        \n",
    "    def run_ga_search(self):\n",
    "        \"\"\"GA Search\"\"\"\n",
    "        pop = self.tb.population(n=self.n_pop)\n",
    "        hof = ga_t.HallOfFame(self.n_hof)\n",
    "\n",
    "        # Stats stdout\n",
    "        #stats = ga_t.Statistics(lambda ind: ind.fitness.values )\n",
    "        stats1 = ga_t.Statistics(lambda ind: ind.fitness.values[0] )\n",
    "        stats2 = ga_t.Statistics(lambda ind: ind.fitness.values[1] )\n",
    "        stats3 = ga_t.Statistics(lambda ind: ind.fitness.values[2] )\n",
    "        stats = ga_t.MultiStatistics(accuracy=stats1, risk=stats2, complexity=stats3)\n",
    "        stats.register(\"avg\", mean)\n",
    "\n",
    "        # GA Run\n",
    "        pop, log = ga_algo.eaSimple(pop, self.tb, cxpb=self.cx_prob, \n",
    "                                    mutpb=self.mut_prob, ngen=self.n_gen, \n",
    "                                    stats=stats, halloffame=hof, verbose=True)\n",
    "        \n",
    "        # Convert back params\n",
    "        hof_ = {}\n",
    "        for i in range(self.n_hof):\n",
    "            hof_['hof_' + str(i)] = self._ga_to_params(hof[i])\n",
    "\n",
    "        return pop, log, hof_\n",
    "    \n",
    "    def _ga_to_params(self, idx_params):\n",
    "        \"\"\"Convert back idx to params\"\"\"\n",
    "        res = {}\n",
    "        for (k,v), idx in zip(self.padded_params.items(), idx_params):\n",
    "            res[k] = v[idx]\n",
    "        return res"
   ]
  },
  {
   "cell_type": "code",
   "execution_count": 7,
   "id": "05a77f86",
   "metadata": {
    "execution": {
     "iopub.execute_input": "2022-01-20T04:58:14.988350Z",
     "iopub.status.busy": "2022-01-20T04:58:14.976610Z",
     "iopub.status.idle": "2022-01-20T04:58:15.885912Z",
     "shell.execute_reply": "2022-01-20T04:58:15.885360Z",
     "shell.execute_reply.started": "2022-01-20T04:41:12.487615Z"
    },
    "papermill": {
     "duration": 0.929739,
     "end_time": "2022-01-20T04:58:15.886062",
     "exception": false,
     "start_time": "2022-01-20T04:58:14.956323",
     "status": "completed"
    },
    "tags": []
   },
   "outputs": [],
   "source": [
    "from sklearn.metrics import f1_score\n",
    "from numpy import mean, linspace, inf\n",
    "\n",
    "net_params = {\n",
    "    'l1': linspace(1,20,30).astype(int),\n",
    "    'k1': linspace(1,20,30).astype(int),\n",
    "    'a1': ['ReLU', 'CELU', 'SELU', 'ELU', 'Softsign'],\n",
    "    'l2': linspace(1,20,30).astype(int),\n",
    "    'k2': linspace(1,20,30).astype(int),\n",
    "    'a2': ['ReLU', 'CELU', 'SELU', 'ELU', 'Softsign'],\n",
    "    'l3': linspace(1,20,30).astype(int),\n",
    "    'k3': linspace(1,20,30).astype(int),\n",
    "    'a3': ['ReLU', 'CELU', 'SELU', 'ELU', 'Softsign'],\n",
    "}\n",
    "\n",
    "def net_eval_indiv(individual, padded_params, img_tr, batch_size, lr):\n",
    "    \"\"\"Evaluate individual's genes (estimator's params)\"\"\"\n",
    "\n",
    "    # Params\n",
    "    indiv_params = {k : list(v)[idx] for (k,v), idx in zip(padded_params.items(), individual)}\n",
    "    \n",
    "    # Net\n",
    "    net = NET(**indiv_params).to(DEVI).train()\n",
    "    try:\n",
    "        net(ones(1,3,128,128))\n",
    "    except BaseException as e:\n",
    "        print('=> Possible Arch Error:', e)\n",
    "        return (0.01, (1/10)**10, 1e7)\n",
    "    \n",
    "    # Optimizer\n",
    "    optimizer = Adam(net.parameters(), lr=lr)\n",
    "    criterion = nn.NLLLoss()\n",
    "    \n",
    "    # Metric\n",
    "    f1 = F1(2)\n",
    "    \n",
    "    # Train\n",
    "    img_tr, img_te = img_tr[0], img_tr[1]\n",
    "    \n",
    "    train_dl = DataLoader(img_tr,\n",
    "                        batch_size=batch_size,\n",
    "                        num_workers=3,\n",
    "                        sampler=ws  # uff\n",
    "                         )\n",
    "    \n",
    "    test_dl = DataLoader(img_te,\n",
    "                        batch_size=batch_size,\n",
    "                        num_workers=3)\n",
    "    \n",
    "    for epoch in range(1):\n",
    "        net = net.train()\n",
    "        train_correct = 0\n",
    "        train_total = 0\n",
    "        for i, (inputs, labels) in enumerate(train_dl):\n",
    "            if i <= 3:\n",
    "                outputs = net(inputs.to(DEVI, dtype=pt_float))\n",
    "\n",
    "                optimizer.zero_grad()\n",
    "                loss = criterion(outputs, labels.to(DEVI, dtype=long)).mean()\n",
    "                loss.backward()\n",
    "                optimizer.step()\n",
    "\n",
    "    with no_grad():\n",
    "        net = net.eval()\n",
    "        f1_scores = []\n",
    "        for j, (inputs, labels) in enumerate(test_dl):\n",
    "            net = net.eval()\n",
    "            outputs = net(inputs.to(DEVI, dtype=pt_float))\n",
    "            preds = outputs.argmax(dim=1)\n",
    "            f1_scores.append(f1(labels, preds))\n",
    "\n",
    "    # Risk\n",
    "    risk = median(prod(net(inputs.to(DEVI, dtype=pt_float)).exp()*10, dim=1))\n",
    "    if isnan(risk):\n",
    "        risk = 10\n",
    "    else:\n",
    "        risk = float(risk)\n",
    "        \n",
    "    # Complexity\n",
    "    compl = net.count_weights_biases()\n",
    "    \n",
    "    return (mean(f1_scores), risk, compl,)\n",
    "\n",
    "net_weights = (1, -1, -1,)"
   ]
  },
  {
   "cell_type": "code",
   "execution_count": 8,
   "id": "60019148",
   "metadata": {
    "execution": {
     "iopub.execute_input": "2022-01-20T04:58:15.927329Z",
     "iopub.status.busy": "2022-01-20T04:58:15.926734Z",
     "iopub.status.idle": "2022-01-20T05:44:47.835808Z",
     "shell.execute_reply": "2022-01-20T05:44:47.836360Z"
    },
    "papermill": {
     "duration": 2791.933086,
     "end_time": "2022-01-20T05:44:47.836806",
     "exception": false,
     "start_time": "2022-01-20T04:58:15.903720",
     "status": "completed"
    },
    "tags": []
   },
   "outputs": [
    {
     "name": "stdout",
     "output_type": "stream",
     "text": [
      "Params padded\n",
      "GA entities created\n",
      "GA entities' methods registered\n",
      "GA eval function registered\n",
      "GA sel-cx-mut methods registered\n"
     ]
    },
    {
     "name": "stderr",
     "output_type": "stream",
     "text": [
      "/opt/conda/lib/python3.7/site-packages/torch/nn/modules/lazy.py:178: UserWarning: Lazy modules are a new feature under heavy development so changes to the API or functionality can happen at any moment.\n",
      "  warnings.warn('Lazy modules are a new feature under heavy development '\n",
      "/opt/conda/lib/python3.7/site-packages/torch/nn/modules/lazy.py:178: UserWarning: Lazy modules are a new feature under heavy development so changes to the API or functionality can happen at any moment.\n",
      "  warnings.warn('Lazy modules are a new feature under heavy development '\n"
     ]
    },
    {
     "name": "stdout",
     "output_type": "stream",
     "text": [
      "   \t      \t           accuracy           \t      complexity      \t         risk         \n",
      "   \t      \t------------------------------\t----------------------\t----------------------\n",
      "gen\tnevals\tavg     \tgen\tnevals\tavg   \tgen\tnevals\tavg    \tgen\tnevals\n",
      "0  \t20    \t0.366406\t0  \t20    \t252875\t0  \t20    \t12.4774\t0  \t20    \n",
      "1  \t13    \t0.453125\t1  \t13    \t269572\t1  \t13    \t12.3684\t1  \t13    \n",
      "2  \t13    \t0.440625\t2  \t13    \t292972\t2  \t13    \t8.68797\t2  \t13    \n",
      "3  \t4     \t0.669922\t3  \t4     \t273107\t3  \t4     \t12.2749\t3  \t4     \n",
      "4  \t18    \t0.528125\t4  \t18    \t259380\t4  \t18    \t13.6344\t4  \t18    \n",
      "5  \t14    \t0.561328\t5  \t14    \t247712\t5  \t14    \t15.2745\t5  \t14    \n",
      "6  \t12    \t0.567187\t6  \t12    \t226781\t6  \t12    \t17.8314\t6  \t12    \n",
      "7  \t9     \t0.6625  \t7  \t9     \t217529\t7  \t9     \t16.3585\t7  \t9     \n",
      "8  \t12    \t0.636719\t8  \t12    \t222839\t8  \t12    \t13.8974\t8  \t12    \n",
      "9  \t6     \t0.683203\t9  \t6     \t232464\t9  \t6     \t14.4797\t9  \t6     \n",
      "10 \t11    \t0.718359\t10 \t11    \t221529\t10 \t11    \t12.3526\t10 \t11    \n"
     ]
    }
   ],
   "source": [
    "from itertools import cycle\n",
    "from deap import creator as ga_cr, base as ga_b, algorithms as ga_algo, tools as ga_t\n",
    "from random import randint\n",
    "from numpy import mean\n",
    "from torch.optim import Adam\n",
    "from torch import max as pt_max, no_grad, median, prod, isnan, long, float as pt_float, stack\n",
    "from torch.utils.data import DataLoader\n",
    "from torchmetrics import F1\n",
    "\n",
    "net_ga_params = GA_Pytorch(net_params,\n",
    "                           net_eval_indiv,\n",
    "                           net_weights,\n",
    "                           ( list(zip(imgs, labs)), list(zip(imgs_te, labs_te)) ) )\n",
    "pop, log, hof = net_ga_params.run_ga_search()"
   ]
  },
  {
   "cell_type": "code",
   "execution_count": 9,
   "id": "21122f44",
   "metadata": {
    "execution": {
     "iopub.execute_input": "2022-01-20T05:44:47.888628Z",
     "iopub.status.busy": "2022-01-20T05:44:47.882954Z",
     "iopub.status.idle": "2022-01-20T05:44:47.892010Z",
     "shell.execute_reply": "2022-01-20T05:44:47.892489Z"
    },
    "papermill": {
     "duration": 0.035014,
     "end_time": "2022-01-20T05:44:47.892665",
     "exception": false,
     "start_time": "2022-01-20T05:44:47.857651",
     "status": "completed"
    },
    "tags": []
   },
   "outputs": [
    {
     "data": {
      "text/plain": [
       "{'hof_0': {'l1': 10,\n",
       "  'k1': 18,\n",
       "  'a1': 'SELU',\n",
       "  'l2': 1,\n",
       "  'k2': 6,\n",
       "  'a2': 'CELU',\n",
       "  'l3': 13,\n",
       "  'k3': 6,\n",
       "  'a3': 'ReLU'},\n",
       " 'hof_1': {'l1': 10,\n",
       "  'k1': 16,\n",
       "  'a1': 'ReLU',\n",
       "  'l2': 18,\n",
       "  'k2': 14,\n",
       "  'a2': 'SELU',\n",
       "  'l3': 8,\n",
       "  'k3': 5,\n",
       "  'a3': 'ReLU'},\n",
       " 'hof_2': {'l1': 6,\n",
       "  'k1': 11,\n",
       "  'a1': 'ReLU',\n",
       "  'l2': 17,\n",
       "  'k2': 18,\n",
       "  'a2': 'SELU',\n",
       "  'l3': 8,\n",
       "  'k3': 14,\n",
       "  'a3': 'ReLU'},\n",
       " 'hof_3': {'l1': 6,\n",
       "  'k1': 11,\n",
       "  'a1': 'ReLU',\n",
       "  'l2': 17,\n",
       "  'k2': 18,\n",
       "  'a2': 'SELU',\n",
       "  'l3': 8,\n",
       "  'k3': 5,\n",
       "  'a3': 'ReLU'},\n",
       " 'hof_4': {'l1': 10,\n",
       "  'k1': 16,\n",
       "  'a1': 'ReLU',\n",
       "  'l2': 18,\n",
       "  'k2': 14,\n",
       "  'a2': 'Softsign',\n",
       "  'l3': 13,\n",
       "  'k3': 10,\n",
       "  'a3': 'ReLU'}}"
      ]
     },
     "execution_count": 9,
     "metadata": {},
     "output_type": "execute_result"
    }
   ],
   "source": [
    "hof"
   ]
  },
  {
   "cell_type": "code",
   "execution_count": 10,
   "id": "625673a8",
   "metadata": {
    "execution": {
     "iopub.execute_input": "2022-01-20T05:44:47.956826Z",
     "iopub.status.busy": "2022-01-20T05:44:47.951004Z",
     "iopub.status.idle": "2022-01-20T05:44:47.976327Z",
     "shell.execute_reply": "2022-01-20T05:44:47.976843Z"
    },
    "papermill": {
     "duration": 0.063022,
     "end_time": "2022-01-20T05:44:47.977018",
     "exception": false,
     "start_time": "2022-01-20T05:44:47.913996",
     "status": "completed"
    },
    "tags": []
   },
   "outputs": [
    {
     "data": {
      "text/html": [
       "<div>\n",
       "<style scoped>\n",
       "    .dataframe tbody tr th:only-of-type {\n",
       "        vertical-align: middle;\n",
       "    }\n",
       "\n",
       "    .dataframe tbody tr th {\n",
       "        vertical-align: top;\n",
       "    }\n",
       "\n",
       "    .dataframe thead th {\n",
       "        text-align: right;\n",
       "    }\n",
       "</style>\n",
       "<table border=\"1\" class=\"dataframe\">\n",
       "  <thead>\n",
       "    <tr style=\"text-align: right;\">\n",
       "      <th></th>\n",
       "      <th>hof_0</th>\n",
       "      <th>hof_1</th>\n",
       "      <th>hof_2</th>\n",
       "      <th>hof_3</th>\n",
       "      <th>hof_4</th>\n",
       "    </tr>\n",
       "  </thead>\n",
       "  <tbody>\n",
       "    <tr>\n",
       "      <th>l1</th>\n",
       "      <td>10</td>\n",
       "      <td>10</td>\n",
       "      <td>6</td>\n",
       "      <td>6</td>\n",
       "      <td>10</td>\n",
       "    </tr>\n",
       "    <tr>\n",
       "      <th>k1</th>\n",
       "      <td>18</td>\n",
       "      <td>16</td>\n",
       "      <td>11</td>\n",
       "      <td>11</td>\n",
       "      <td>16</td>\n",
       "    </tr>\n",
       "    <tr>\n",
       "      <th>a1</th>\n",
       "      <td>SELU</td>\n",
       "      <td>ReLU</td>\n",
       "      <td>ReLU</td>\n",
       "      <td>ReLU</td>\n",
       "      <td>ReLU</td>\n",
       "    </tr>\n",
       "    <tr>\n",
       "      <th>l2</th>\n",
       "      <td>1</td>\n",
       "      <td>18</td>\n",
       "      <td>17</td>\n",
       "      <td>17</td>\n",
       "      <td>18</td>\n",
       "    </tr>\n",
       "    <tr>\n",
       "      <th>k2</th>\n",
       "      <td>6</td>\n",
       "      <td>14</td>\n",
       "      <td>18</td>\n",
       "      <td>18</td>\n",
       "      <td>14</td>\n",
       "    </tr>\n",
       "    <tr>\n",
       "      <th>a2</th>\n",
       "      <td>CELU</td>\n",
       "      <td>SELU</td>\n",
       "      <td>SELU</td>\n",
       "      <td>SELU</td>\n",
       "      <td>Softsign</td>\n",
       "    </tr>\n",
       "    <tr>\n",
       "      <th>l3</th>\n",
       "      <td>13</td>\n",
       "      <td>8</td>\n",
       "      <td>8</td>\n",
       "      <td>8</td>\n",
       "      <td>13</td>\n",
       "    </tr>\n",
       "    <tr>\n",
       "      <th>k3</th>\n",
       "      <td>6</td>\n",
       "      <td>5</td>\n",
       "      <td>14</td>\n",
       "      <td>5</td>\n",
       "      <td>10</td>\n",
       "    </tr>\n",
       "    <tr>\n",
       "      <th>a3</th>\n",
       "      <td>ReLU</td>\n",
       "      <td>ReLU</td>\n",
       "      <td>ReLU</td>\n",
       "      <td>ReLU</td>\n",
       "      <td>ReLU</td>\n",
       "    </tr>\n",
       "  </tbody>\n",
       "</table>\n",
       "</div>"
      ],
      "text/plain": [
       "   hof_0 hof_1 hof_2 hof_3     hof_4\n",
       "l1    10    10     6     6        10\n",
       "k1    18    16    11    11        16\n",
       "a1  SELU  ReLU  ReLU  ReLU      ReLU\n",
       "l2     1    18    17    17        18\n",
       "k2     6    14    18    18        14\n",
       "a2  CELU  SELU  SELU  SELU  Softsign\n",
       "l3    13     8     8     8        13\n",
       "k3     6     5    14     5        10\n",
       "a3  ReLU  ReLU  ReLU  ReLU      ReLU"
      ]
     },
     "execution_count": 10,
     "metadata": {},
     "output_type": "execute_result"
    },
    {
     "data": {
      "text/plain": [
       "['best_params.json']"
      ]
     },
     "execution_count": 10,
     "metadata": {},
     "output_type": "execute_result"
    }
   ],
   "source": [
    "# Saving params\n",
    "\n",
    "from pandas import DataFrame\n",
    "from joblib import dump, load\n",
    "\n",
    "DataFrame(hof)\n",
    "dump(hof, 'best_params.json')"
   ]
  },
  {
   "cell_type": "code",
   "execution_count": null,
   "id": "2f72b33c",
   "metadata": {
    "papermill": {
     "duration": 0.022678,
     "end_time": "2022-01-20T05:44:48.022028",
     "exception": false,
     "start_time": "2022-01-20T05:44:47.999350",
     "status": "completed"
    },
    "tags": []
   },
   "outputs": [],
   "source": []
  },
  {
   "cell_type": "code",
   "execution_count": null,
   "id": "c37d90ba",
   "metadata": {
    "papermill": {
     "duration": 0.022239,
     "end_time": "2022-01-20T05:44:48.066444",
     "exception": false,
     "start_time": "2022-01-20T05:44:48.044205",
     "status": "completed"
    },
    "tags": []
   },
   "outputs": [],
   "source": []
  },
  {
   "cell_type": "code",
   "execution_count": null,
   "id": "0b7c45a9",
   "metadata": {
    "papermill": {
     "duration": 0.02195,
     "end_time": "2022-01-20T05:44:48.110102",
     "exception": false,
     "start_time": "2022-01-20T05:44:48.088152",
     "status": "completed"
    },
    "tags": []
   },
   "outputs": [],
   "source": []
  },
  {
   "cell_type": "code",
   "execution_count": null,
   "id": "6768a79f",
   "metadata": {
    "papermill": {
     "duration": 0.021934,
     "end_time": "2022-01-20T05:44:48.153860",
     "exception": false,
     "start_time": "2022-01-20T05:44:48.131926",
     "status": "completed"
    },
    "tags": []
   },
   "outputs": [],
   "source": []
  },
  {
   "cell_type": "code",
   "execution_count": null,
   "id": "c8c0fc8a",
   "metadata": {
    "papermill": {
     "duration": 0.021829,
     "end_time": "2022-01-20T05:44:48.198172",
     "exception": false,
     "start_time": "2022-01-20T05:44:48.176343",
     "status": "completed"
    },
    "tags": []
   },
   "outputs": [],
   "source": []
  },
  {
   "cell_type": "code",
   "execution_count": null,
   "id": "856cc4b1",
   "metadata": {
    "papermill": {
     "duration": 0.023135,
     "end_time": "2022-01-20T05:44:48.243881",
     "exception": false,
     "start_time": "2022-01-20T05:44:48.220746",
     "status": "completed"
    },
    "tags": []
   },
   "outputs": [],
   "source": []
  },
  {
   "cell_type": "code",
   "execution_count": null,
   "id": "2e1dd49c",
   "metadata": {
    "papermill": {
     "duration": 0.021405,
     "end_time": "2022-01-20T05:44:48.287017",
     "exception": false,
     "start_time": "2022-01-20T05:44:48.265612",
     "status": "completed"
    },
    "tags": []
   },
   "outputs": [],
   "source": []
  },
  {
   "cell_type": "code",
   "execution_count": null,
   "id": "77a6f39f",
   "metadata": {
    "papermill": {
     "duration": 0.021473,
     "end_time": "2022-01-20T05:44:48.330840",
     "exception": false,
     "start_time": "2022-01-20T05:44:48.309367",
     "status": "completed"
    },
    "tags": []
   },
   "outputs": [],
   "source": []
  },
  {
   "cell_type": "code",
   "execution_count": null,
   "id": "6ed51a8c",
   "metadata": {
    "papermill": {
     "duration": 0.021807,
     "end_time": "2022-01-20T05:44:48.374291",
     "exception": false,
     "start_time": "2022-01-20T05:44:48.352484",
     "status": "completed"
    },
    "tags": []
   },
   "outputs": [],
   "source": []
  },
  {
   "cell_type": "code",
   "execution_count": null,
   "id": "5fabdc2b",
   "metadata": {
    "papermill": {
     "duration": 0.021448,
     "end_time": "2022-01-20T05:44:48.418060",
     "exception": false,
     "start_time": "2022-01-20T05:44:48.396612",
     "status": "completed"
    },
    "tags": []
   },
   "outputs": [],
   "source": []
  },
  {
   "cell_type": "code",
   "execution_count": null,
   "id": "18706a92",
   "metadata": {
    "papermill": {
     "duration": 0.021312,
     "end_time": "2022-01-20T05:44:48.461885",
     "exception": false,
     "start_time": "2022-01-20T05:44:48.440573",
     "status": "completed"
    },
    "tags": []
   },
   "outputs": [],
   "source": []
  },
  {
   "cell_type": "code",
   "execution_count": null,
   "id": "050911d0",
   "metadata": {
    "papermill": {
     "duration": 0.021973,
     "end_time": "2022-01-20T05:44:48.505703",
     "exception": false,
     "start_time": "2022-01-20T05:44:48.483730",
     "status": "completed"
    },
    "tags": []
   },
   "outputs": [],
   "source": []
  },
  {
   "cell_type": "code",
   "execution_count": null,
   "id": "2de92e23",
   "metadata": {
    "papermill": {
     "duration": 0.021371,
     "end_time": "2022-01-20T05:44:48.548815",
     "exception": false,
     "start_time": "2022-01-20T05:44:48.527444",
     "status": "completed"
    },
    "tags": []
   },
   "outputs": [],
   "source": []
  },
  {
   "cell_type": "code",
   "execution_count": null,
   "id": "9be72267",
   "metadata": {
    "papermill": {
     "duration": 0.021342,
     "end_time": "2022-01-20T05:44:48.592273",
     "exception": false,
     "start_time": "2022-01-20T05:44:48.570931",
     "status": "completed"
    },
    "tags": []
   },
   "outputs": [],
   "source": []
  },
  {
   "cell_type": "code",
   "execution_count": null,
   "id": "787a1487",
   "metadata": {
    "papermill": {
     "duration": 0.021455,
     "end_time": "2022-01-20T05:44:48.635445",
     "exception": false,
     "start_time": "2022-01-20T05:44:48.613990",
     "status": "completed"
    },
    "tags": []
   },
   "outputs": [],
   "source": []
  },
  {
   "cell_type": "code",
   "execution_count": null,
   "id": "b7bd3b2d",
   "metadata": {
    "papermill": {
     "duration": 0.021591,
     "end_time": "2022-01-20T05:44:48.678754",
     "exception": false,
     "start_time": "2022-01-20T05:44:48.657163",
     "status": "completed"
    },
    "tags": []
   },
   "outputs": [],
   "source": []
  },
  {
   "cell_type": "code",
   "execution_count": null,
   "id": "79ad64be",
   "metadata": {
    "papermill": {
     "duration": 0.021416,
     "end_time": "2022-01-20T05:44:48.722453",
     "exception": false,
     "start_time": "2022-01-20T05:44:48.701037",
     "status": "completed"
    },
    "tags": []
   },
   "outputs": [],
   "source": []
  },
  {
   "cell_type": "code",
   "execution_count": null,
   "id": "c7752da0",
   "metadata": {
    "papermill": {
     "duration": 0.021804,
     "end_time": "2022-01-20T05:44:48.765969",
     "exception": false,
     "start_time": "2022-01-20T05:44:48.744165",
     "status": "completed"
    },
    "tags": []
   },
   "outputs": [],
   "source": []
  },
  {
   "cell_type": "code",
   "execution_count": null,
   "id": "a2adc71d",
   "metadata": {
    "papermill": {
     "duration": 0.021899,
     "end_time": "2022-01-20T05:44:48.809760",
     "exception": false,
     "start_time": "2022-01-20T05:44:48.787861",
     "status": "completed"
    },
    "tags": []
   },
   "outputs": [],
   "source": []
  },
  {
   "cell_type": "code",
   "execution_count": null,
   "id": "876fe2a6",
   "metadata": {
    "papermill": {
     "duration": 0.021628,
     "end_time": "2022-01-20T05:44:48.853587",
     "exception": false,
     "start_time": "2022-01-20T05:44:48.831959",
     "status": "completed"
    },
    "tags": []
   },
   "outputs": [],
   "source": []
  }
 ],
 "metadata": {
  "kernelspec": {
   "display_name": "Python 3",
   "language": "python",
   "name": "python3"
  },
  "language_info": {
   "codemirror_mode": {
    "name": "ipython",
    "version": 3
   },
   "file_extension": ".py",
   "mimetype": "text/x-python",
   "name": "python",
   "nbconvert_exporter": "python",
   "pygments_lexer": "ipython3",
   "version": "3.7.12"
  },
  "papermill": {
   "default_parameters": {},
   "duration": 2809.739391,
   "end_time": "2022-01-20T05:44:52.021298",
   "environment_variables": {},
   "exception": null,
   "input_path": "__notebook__.ipynb",
   "output_path": "__notebook__.ipynb",
   "parameters": {},
   "start_time": "2022-01-20T04:58:02.281907",
   "version": "2.3.3"
  }
 },
 "nbformat": 4,
 "nbformat_minor": 5
}
