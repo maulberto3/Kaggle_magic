{
 "cells": [
  {
   "cell_type": "code",
   "execution_count": 1,
   "id": "fa65f64e",
   "metadata": {
    "execution": {
     "iopub.execute_input": "2022-01-13T23:29:36.381152Z",
     "iopub.status.busy": "2022-01-13T23:29:36.380196Z",
     "iopub.status.idle": "2022-01-13T23:29:36.384336Z",
     "shell.execute_reply": "2022-01-13T23:29:36.384931Z",
     "shell.execute_reply.started": "2022-01-13T21:47:46.50423Z"
    },
    "papermill": {
     "duration": 0.030359,
     "end_time": "2022-01-13T23:29:36.385260",
     "exception": false,
     "start_time": "2022-01-13T23:29:36.354901",
     "status": "completed"
    },
    "tags": []
   },
   "outputs": [],
   "source": [
    "from IPython.core.interactiveshell import InteractiveShell\n",
    "InteractiveShell.ast_node_interactivity = 'all'"
   ]
  },
  {
   "cell_type": "code",
   "execution_count": 2,
   "id": "8f7c4e9d",
   "metadata": {
    "execution": {
     "iopub.execute_input": "2022-01-13T23:29:36.420606Z",
     "iopub.status.busy": "2022-01-13T23:29:36.419643Z",
     "iopub.status.idle": "2022-01-13T23:29:36.437769Z",
     "shell.execute_reply": "2022-01-13T23:29:36.438271Z",
     "shell.execute_reply.started": "2022-01-13T21:47:46.813811Z"
    },
    "papermill": {
     "duration": 0.037136,
     "end_time": "2022-01-13T23:29:36.438450",
     "exception": false,
     "start_time": "2022-01-13T23:29:36.401314",
     "status": "completed"
    },
    "tags": []
   },
   "outputs": [
    {
     "data": {
      "text/plain": [
       "[PosixPath('/kaggle/input/hydrangea-dataset-compressed/data_CNN/test'),\n",
       " PosixPath('/kaggle/input/hydrangea-dataset-compressed/data_CNN/train')]"
      ]
     },
     "execution_count": 2,
     "metadata": {},
     "output_type": "execute_result"
    }
   ],
   "source": [
    "from pprint import pprint\n",
    "from pathlib import Path\n",
    "\n",
    "path = Path('/kaggle/input/hydrangea-dataset-compressed/data_CNN')\n",
    "list(path.glob('*'))"
   ]
  },
  {
   "cell_type": "code",
   "execution_count": 3,
   "id": "f584ed87",
   "metadata": {
    "execution": {
     "iopub.execute_input": "2022-01-13T23:29:36.474185Z",
     "iopub.status.busy": "2022-01-13T23:29:36.473188Z",
     "iopub.status.idle": "2022-01-13T23:29:36.476970Z",
     "shell.execute_reply": "2022-01-13T23:29:36.477586Z",
     "shell.execute_reply.started": "2022-01-13T21:47:47.155377Z"
    },
    "papermill": {
     "duration": 0.023261,
     "end_time": "2022-01-13T23:29:36.477757",
     "exception": false,
     "start_time": "2022-01-13T23:29:36.454496",
     "status": "completed"
    },
    "tags": []
   },
   "outputs": [],
   "source": [
    "train_path = path / 'train'\n",
    "test_path = path / 'test'"
   ]
  },
  {
   "cell_type": "code",
   "execution_count": 4,
   "id": "27437fc7",
   "metadata": {
    "execution": {
     "iopub.execute_input": "2022-01-13T23:29:36.513187Z",
     "iopub.status.busy": "2022-01-13T23:29:36.512504Z",
     "iopub.status.idle": "2022-01-13T23:29:37.733832Z",
     "shell.execute_reply": "2022-01-13T23:29:37.733349Z",
     "shell.execute_reply.started": "2022-01-13T21:47:47.636473Z"
    },
    "papermill": {
     "duration": 1.240522,
     "end_time": "2022-01-13T23:29:37.733974",
     "exception": false,
     "start_time": "2022-01-13T23:29:36.493452",
     "status": "completed"
    },
    "tags": []
   },
   "outputs": [
    {
     "data": {
      "text/plain": [
       "'cpu'"
      ]
     },
     "execution_count": 4,
     "metadata": {},
     "output_type": "execute_result"
    }
   ],
   "source": [
    "from torch.cuda import is_available\n",
    "\n",
    "devi = 'cuda' if is_available() else 'cpu'\n",
    "devi"
   ]
  },
  {
   "cell_type": "markdown",
   "id": "e55665bb",
   "metadata": {
    "papermill": {
     "duration": 0.016089,
     "end_time": "2022-01-13T23:29:37.766222",
     "exception": false,
     "start_time": "2022-01-13T23:29:37.750133",
     "status": "completed"
    },
    "tags": []
   },
   "source": [
    "### HPs\n",
    "***"
   ]
  },
  {
   "cell_type": "code",
   "execution_count": 5,
   "id": "1da96069",
   "metadata": {
    "execution": {
     "iopub.execute_input": "2022-01-13T23:29:37.804163Z",
     "iopub.status.busy": "2022-01-13T23:29:37.803474Z",
     "iopub.status.idle": "2022-01-13T23:29:37.805146Z",
     "shell.execute_reply": "2022-01-13T23:29:37.805583Z",
     "shell.execute_reply.started": "2022-01-13T21:47:49.187496Z"
    },
    "papermill": {
     "duration": 0.023188,
     "end_time": "2022-01-13T23:29:37.805750",
     "exception": false,
     "start_time": "2022-01-13T23:29:37.782562",
     "status": "completed"
    },
    "tags": []
   },
   "outputs": [],
   "source": [
    "EPOCHS = 10\n",
    "BATCH_SIZE = 128\n",
    "LR = 0.0005"
   ]
  },
  {
   "cell_type": "markdown",
   "id": "93de0e04",
   "metadata": {
    "papermill": {
     "duration": 0.015769,
     "end_time": "2022-01-13T23:29:37.837653",
     "exception": false,
     "start_time": "2022-01-13T23:29:37.821884",
     "status": "completed"
    },
    "tags": []
   },
   "source": [
    "### Data\n",
    "***"
   ]
  },
  {
   "cell_type": "code",
   "execution_count": 6,
   "id": "a49f3e65",
   "metadata": {
    "execution": {
     "iopub.execute_input": "2022-01-13T23:29:37.873308Z",
     "iopub.status.busy": "2022-01-13T23:29:37.872622Z",
     "iopub.status.idle": "2022-01-13T23:29:38.391081Z",
     "shell.execute_reply": "2022-01-13T23:29:38.391674Z",
     "shell.execute_reply.started": "2022-01-13T23:13:31.49537Z"
    },
    "papermill": {
     "duration": 0.538049,
     "end_time": "2022-01-13T23:29:38.391847",
     "exception": false,
     "start_time": "2022-01-13T23:29:37.853798",
     "status": "completed"
    },
    "tags": []
   },
   "outputs": [
    {
     "data": {
      "text/plain": [
       "torch.Size([3, 95, 95])"
      ]
     },
     "execution_count": 6,
     "metadata": {},
     "output_type": "execute_result"
    }
   ],
   "source": [
    "from torchvision.datasets import ImageFolder\n",
    "from torch.utils.data import DataLoader\n",
    "from torchvision.transforms import Compose, ToTensor, Normalize, Resize, ColorJitter, GaussianBlur, RandomHorizontalFlip, RandomVerticalFlip\n",
    "\n",
    "transf = Compose([\n",
    "    RandomHorizontalFlip(),\n",
    "    RandomVerticalFlip(),\n",
    "    ColorJitter(0.1, 0.1, 0.1),\n",
    "    GaussianBlur(1),\n",
    "    Resize((95,95)),\n",
    "    ToTensor(),\n",
    "    Normalize((0.5, 0.5, 0.5), (0.5, 0.5, 0.5))\n",
    "])\n",
    "\n",
    "img_tr = ImageFolder(train_path, transform=transf)\n",
    "img_tr[0][0].shape\n",
    "tr_dl = DataLoader(img_tr, \n",
    "                   batch_size=BATCH_SIZE, \n",
    "                   num_workers=2,\n",
    "                   drop_last=True)\n",
    "\n",
    "img_te = ImageFolder(test_path, transform=transf)\n",
    "te_dl = DataLoader(img_tr, \n",
    "                   batch_size=BATCH_SIZE, \n",
    "                   num_workers=2,\n",
    "                   drop_last=True)"
   ]
  },
  {
   "cell_type": "markdown",
   "id": "4ee91225",
   "metadata": {
    "papermill": {
     "duration": 0.016157,
     "end_time": "2022-01-13T23:29:38.424798",
     "exception": false,
     "start_time": "2022-01-13T23:29:38.408641",
     "status": "completed"
    },
    "tags": []
   },
   "source": [
    "## Baseline\n",
    "***"
   ]
  },
  {
   "cell_type": "code",
   "execution_count": 7,
   "id": "cf6002d5",
   "metadata": {
    "execution": {
     "iopub.execute_input": "2022-01-13T23:29:38.461047Z",
     "iopub.status.busy": "2022-01-13T23:29:38.460423Z",
     "iopub.status.idle": "2022-01-13T23:29:38.464340Z",
     "shell.execute_reply": "2022-01-13T23:29:38.464864Z",
     "shell.execute_reply.started": "2022-01-13T23:13:34.307059Z"
    },
    "papermill": {
     "duration": 0.023694,
     "end_time": "2022-01-13T23:29:38.465027",
     "exception": false,
     "start_time": "2022-01-13T23:29:38.441333",
     "status": "completed"
    },
    "tags": []
   },
   "outputs": [],
   "source": [
    "from torch import nn, numel, float as pt_float, long as pt_long, mean, as_tensor, rand\n",
    "from torch.optim import Adam"
   ]
  },
  {
   "cell_type": "code",
   "execution_count": 8,
   "id": "7e14b53d",
   "metadata": {
    "execution": {
     "iopub.execute_input": "2022-01-13T23:29:38.501289Z",
     "iopub.status.busy": "2022-01-13T23:29:38.500626Z",
     "iopub.status.idle": "2022-01-13T23:30:20.811550Z",
     "shell.execute_reply": "2022-01-13T23:30:20.812070Z",
     "shell.execute_reply.started": "2022-01-13T23:15:04.543729Z"
    },
    "papermill": {
     "duration": 42.330784,
     "end_time": "2022-01-13T23:30:20.812295",
     "exception": false,
     "start_time": "2022-01-13T23:29:38.481511",
     "status": "completed"
    },
    "tags": []
   },
   "outputs": [
    {
     "name": "stdout",
     "output_type": "stream",
     "text": [
      "# Params: 1,735,010\n",
      "Epoch  0  | Accuracy 0.50 | Loss: 2.22\n",
      "Epoch  1  | Accuracy 0.53 | Loss: 0.67\n",
      "Epoch  2  | Accuracy 0.46 | Loss: 0.72\n",
      "Epoch  3  | Accuracy 0.57 | Loss: 0.70\n",
      "Epoch  4  | Accuracy 0.62 | Loss: 0.66\n",
      "Epoch  5  | Accuracy 0.64 | Loss: 0.65\n",
      "Epoch  6  | Accuracy 0.67 | Loss: 0.63\n",
      "Epoch  7  | Accuracy 0.68 | Loss: 0.61\n",
      "Epoch  8  | Accuracy 0.70 | Loss: 0.59\n",
      "Epoch  9  | Accuracy 0.69 | Loss: 0.60\n",
      "Test Accuracy 0.75\n"
     ]
    }
   ],
   "source": [
    "# linear, no dropout, no batchnorm, no cnn, \n",
    "\n",
    "class BL_NET(nn.Module):\n",
    "    def __init__(self, in_features=3*95*95):\n",
    "        super().__init__()\n",
    "        self.in_features = in_features\n",
    "        \n",
    "        self.model = nn.Sequential(\n",
    "            nn.Flatten(),  # C * H * W\n",
    "            nn.Linear(self.in_features, 64),\n",
    "            nn.ReLU(),\n",
    "            nn.Linear(64, 32),\n",
    "            nn.ReLU(),\n",
    "            nn.Linear(32, 2),\n",
    "            nn.LogSoftmax(dim=-1)\n",
    "        )\n",
    "        \n",
    "        self.count_w_b()\n",
    "    \n",
    "    def forward(self, x):\n",
    "        return self.model(x)\n",
    "    \n",
    "    def count_w_b(self):\n",
    "        print(f'# Params: {sum(numel(p) for p in self.parameters()):,}')\n",
    "    \n",
    "bl_net = BL_NET().to(devi)\n",
    "#bl_net.count_w_b()\n",
    "#bl_net(next(iter(tr_dl))[0]).shape\n",
    "\n",
    "opt = Adam(bl_net.parameters(), lr=LR)\n",
    "criterion = nn.NLLLoss(reduction='mean')\n",
    "\n",
    "bl_net = bl_net.train()\n",
    "for epoch in range(EPOCHS):\n",
    "    running_acc = []\n",
    "    running_loss = []\n",
    "    for images, labels in tr_dl:\n",
    "        images = images.to(devi, dtype=pt_float)\n",
    "        labels = labels.to(devi, dtype=pt_long)\n",
    "\n",
    "        out = bl_net(images)\n",
    "        loss = criterion(out, labels)\n",
    "        \n",
    "        opt.zero_grad()\n",
    "        loss.backward()\n",
    "        opt.step()\n",
    "        \n",
    "        running_acc.append( (out.argmax(dim=1) == labels).sum() / len(labels) )\n",
    "        running_loss.append(loss)\n",
    "        \n",
    "    print(f'Epoch {epoch:^3} | Accuracy {mean(as_tensor(running_acc)):^3.2f} | Loss: {mean(as_tensor(running_loss)):^3.2f}')\n",
    "    \n",
    "bl_net = bl_net.eval()\n",
    "test_acc = []\n",
    "for images, labels in te_dl:\n",
    "    images = images.to(devi, dtype=pt_float)\n",
    "    labels = labels.to(devi, dtype=pt_long)\n",
    "\n",
    "    out = bl_net(images)\n",
    "\n",
    "    test_acc.append((out.argmax(dim=1) == labels).sum() / len(labels))\n",
    "\n",
    "print(f'Test Accuracy {mean(as_tensor(test_acc)):^3.2f}')"
   ]
  },
  {
   "cell_type": "markdown",
   "id": "9486387c",
   "metadata": {
    "papermill": {
     "duration": 0.020991,
     "end_time": "2022-01-13T23:30:20.854645",
     "exception": false,
     "start_time": "2022-01-13T23:30:20.833654",
     "status": "completed"
    },
    "tags": []
   },
   "source": [
    "## CNN\n",
    "***"
   ]
  },
  {
   "cell_type": "code",
   "execution_count": 9,
   "id": "20f4eb48",
   "metadata": {
    "execution": {
     "iopub.execute_input": "2022-01-13T23:30:20.901448Z",
     "iopub.status.busy": "2022-01-13T23:30:20.900690Z",
     "iopub.status.idle": "2022-01-13T23:30:20.924246Z",
     "shell.execute_reply": "2022-01-13T23:30:20.924930Z",
     "shell.execute_reply.started": "2022-01-13T23:18:38.238544Z"
    },
    "papermill": {
     "duration": 0.049597,
     "end_time": "2022-01-13T23:30:20.925190",
     "exception": false,
     "start_time": "2022-01-13T23:30:20.875593",
     "status": "completed"
    },
    "tags": []
   },
   "outputs": [
    {
     "data": {
      "text/plain": [
       "torch.Size([1, 32, 46, 46])"
      ]
     },
     "execution_count": 9,
     "metadata": {},
     "output_type": "execute_result"
    }
   ],
   "source": [
    "class INPUTS(nn.Module):\n",
    "    def __init__(self):\n",
    "        super().__init__()\n",
    "        \n",
    "        self.inputs = nn.Sequential(\n",
    "            nn.Conv2d(3, 32, 3),\n",
    "            nn.BatchNorm2d(32),\n",
    "            nn.MaxPool2d(2),\n",
    "            nn.Softshrink())\n",
    "        \n",
    "    def forward(self, x):\n",
    "        return self.inputs(x)\n",
    "\n",
    "inputs_block = INPUTS()\n",
    "inputs_block(rand(1,3,95,95)).shape"
   ]
  },
  {
   "cell_type": "code",
   "execution_count": 10,
   "id": "d4dcd78b",
   "metadata": {
    "execution": {
     "iopub.execute_input": "2022-01-13T23:30:20.977386Z",
     "iopub.status.busy": "2022-01-13T23:30:20.976599Z",
     "iopub.status.idle": "2022-01-13T23:30:20.993621Z",
     "shell.execute_reply": "2022-01-13T23:30:20.994234Z",
     "shell.execute_reply.started": "2022-01-13T23:18:44.427299Z"
    },
    "papermill": {
     "duration": 0.046205,
     "end_time": "2022-01-13T23:30:20.994430",
     "exception": false,
     "start_time": "2022-01-13T23:30:20.948225",
     "status": "completed"
    },
    "tags": []
   },
   "outputs": [
    {
     "data": {
      "text/plain": [
       "torch.Size([1, 32, 46, 46])"
      ]
     },
     "execution_count": 10,
     "metadata": {},
     "output_type": "execute_result"
    }
   ],
   "source": [
    "class BLOCK(nn.Module):\n",
    "    def __init__(self):\n",
    "        super().__init__()\n",
    "        \n",
    "        self.block = nn.Sequential(\n",
    "            nn.Conv2d(32, 32, 3),\n",
    "            nn.Dropout2d(0.25),\n",
    "            nn.BatchNorm2d(32),\n",
    "            #nn.MaxPool2d(2),\n",
    "            nn.Softshrink(),\n",
    "            nn.ConstantPad2d(1, 0)\n",
    "        )\n",
    "        \n",
    "    def forward(self, x):\n",
    "        return self.block(x)\n",
    "\n",
    "block = BLOCK()\n",
    "block(rand(1,32,46,46)).shape\n"
   ]
  },
  {
   "cell_type": "code",
   "execution_count": 11,
   "id": "465a717c",
   "metadata": {
    "execution": {
     "iopub.execute_input": "2022-01-13T23:30:21.047928Z",
     "iopub.status.busy": "2022-01-13T23:30:21.046465Z",
     "iopub.status.idle": "2022-01-13T23:30:21.062550Z",
     "shell.execute_reply": "2022-01-13T23:30:21.063413Z",
     "shell.execute_reply.started": "2022-01-13T23:19:16.092364Z"
    },
    "papermill": {
     "duration": 0.045964,
     "end_time": "2022-01-13T23:30:21.063687",
     "exception": false,
     "start_time": "2022-01-13T23:30:21.017723",
     "status": "completed"
    },
    "tags": []
   },
   "outputs": [
    {
     "data": {
      "text/plain": [
       "torch.Size([1, 32, 23, 23])"
      ]
     },
     "execution_count": 11,
     "metadata": {},
     "output_type": "execute_result"
    }
   ],
   "source": [
    "class RES_BLOCK(nn.Module):\n",
    "    def __init__(self, block):\n",
    "        super().__init__()\n",
    "        self.block = block\n",
    "        \n",
    "        self.pool = nn.AvgPool2d(2)\n",
    "        \n",
    "    def forward(self, x):\n",
    "        return self.pool(self.block(x) + x)\n",
    "\n",
    "res_block = RES_BLOCK(block)\n",
    "res_block(rand(1,32,46,46)).shape\n"
   ]
  },
  {
   "cell_type": "code",
   "execution_count": 12,
   "id": "52cc3571",
   "metadata": {
    "execution": {
     "iopub.execute_input": "2022-01-13T23:30:21.124813Z",
     "iopub.status.busy": "2022-01-13T23:30:21.123833Z",
     "iopub.status.idle": "2022-01-13T23:30:21.146312Z",
     "shell.execute_reply": "2022-01-13T23:30:21.147187Z",
     "shell.execute_reply.started": "2022-01-13T23:20:16.078037Z"
    },
    "papermill": {
     "duration": 0.057133,
     "end_time": "2022-01-13T23:30:21.147450",
     "exception": false,
     "start_time": "2022-01-13T23:30:21.090317",
     "status": "completed"
    },
    "tags": []
   },
   "outputs": [
    {
     "data": {
      "text/plain": [
       "torch.Size([1, 2])"
      ]
     },
     "execution_count": 12,
     "metadata": {},
     "output_type": "execute_result"
    }
   ],
   "source": [
    "class LINEAR(nn.Module):\n",
    "    def __init__(self):\n",
    "        super().__init__()\n",
    "        \n",
    "        self.linear = nn.Sequential(\n",
    "            nn.Flatten(),\n",
    "            nn.Linear(800, int(800**0.5)),\n",
    "            nn.Dropout(0.25),\n",
    "            nn.Linear(int(800**0.5), 2),\n",
    "            nn.Dropout(0.25),\n",
    "            nn.LogSoftmax(dim=-1))\n",
    "        \n",
    "    def forward(self, x):\n",
    "        return self.linear(x)\n",
    "\n",
    "linear = LINEAR()\n",
    "linear(res_block(\n",
    "    res_block(\n",
    "        res_block(rand(1,32,46,46))))).shape\n"
   ]
  },
  {
   "cell_type": "code",
   "execution_count": 13,
   "id": "8daec7c0",
   "metadata": {
    "execution": {
     "iopub.execute_input": "2022-01-13T23:30:21.196595Z",
     "iopub.status.busy": "2022-01-13T23:30:21.194750Z",
     "iopub.status.idle": "2022-01-13T23:30:21.198796Z",
     "shell.execute_reply": "2022-01-13T23:30:21.199372Z"
    },
    "papermill": {
     "duration": 0.0296,
     "end_time": "2022-01-13T23:30:21.199546",
     "exception": false,
     "start_time": "2022-01-13T23:30:21.169946",
     "status": "completed"
    },
    "tags": []
   },
   "outputs": [],
   "source": [
    "# class ARM..."
   ]
  },
  {
   "cell_type": "code",
   "execution_count": 14,
   "id": "615cf382",
   "metadata": {
    "execution": {
     "iopub.execute_input": "2022-01-13T23:30:21.251824Z",
     "iopub.status.busy": "2022-01-13T23:30:21.245896Z",
     "iopub.status.idle": "2022-01-13T23:34:47.614404Z",
     "shell.execute_reply": "2022-01-13T23:34:47.613379Z",
     "shell.execute_reply.started": "2022-01-13T23:20:46.659778Z"
    },
    "papermill": {
     "duration": 266.393421,
     "end_time": "2022-01-13T23:34:47.614686",
     "exception": false,
     "start_time": "2022-01-13T23:30:21.221265",
     "status": "completed"
    },
    "tags": []
   },
   "outputs": [
    {
     "name": "stdout",
     "output_type": "stream",
     "text": [
      "# Params: 32,758\n"
     ]
    },
    {
     "data": {
      "text/plain": [
       "torch.Size([128, 2])"
      ]
     },
     "execution_count": 14,
     "metadata": {},
     "output_type": "execute_result"
    },
    {
     "name": "stdout",
     "output_type": "stream",
     "text": [
      "Epoch  0  | Accuracy 0.50 | Loss (-log(softmax())): 1.04\n",
      "Epoch  1  | Accuracy 0.59 | Loss (-log(softmax())): 0.67\n",
      "Epoch  2  | Accuracy 0.61 | Loss (-log(softmax())): 0.66\n",
      "Epoch  3  | Accuracy 0.61 | Loss (-log(softmax())): 0.67\n",
      "Epoch  4  | Accuracy 0.62 | Loss (-log(softmax())): 0.66\n",
      "Epoch  5  | Accuracy 0.66 | Loss (-log(softmax())): 0.64\n",
      "Epoch  6  | Accuracy 0.67 | Loss (-log(softmax())): 0.61\n",
      "Epoch  7  | Accuracy 0.68 | Loss (-log(softmax())): 0.60\n",
      "Epoch  8  | Accuracy 0.69 | Loss (-log(softmax())): 0.60\n",
      "Epoch  9  | Accuracy 0.67 | Loss (-log(softmax())): 0.60\n",
      "Epoch 10  | Accuracy 0.68 | Loss (-log(softmax())): 0.58\n",
      "Epoch 11  | Accuracy 0.71 | Loss (-log(softmax())): 0.57\n",
      "Epoch 12  | Accuracy 0.72 | Loss (-log(softmax())): 0.55\n",
      "Epoch 13  | Accuracy 0.72 | Loss (-log(softmax())): 0.56\n",
      "Epoch 14  | Accuracy 0.73 | Loss (-log(softmax())): 0.55\n",
      "Epoch 15  | Accuracy 0.73 | Loss (-log(softmax())): 0.57\n",
      "Epoch 16  | Accuracy 0.70 | Loss (-log(softmax())): 0.56\n",
      "Epoch 17  | Accuracy 0.71 | Loss (-log(softmax())): 0.57\n",
      "Epoch 18  | Accuracy 0.74 | Loss (-log(softmax())): 0.53\n",
      "Epoch 19  | Accuracy 0.75 | Loss (-log(softmax())): 0.53\n",
      "Epoch 20  | Accuracy 0.72 | Loss (-log(softmax())): 0.55\n",
      "Epoch 21  | Accuracy 0.72 | Loss (-log(softmax())): 0.55\n",
      "Epoch 22  | Accuracy 0.76 | Loss (-log(softmax())): 0.53\n",
      "Epoch 23  | Accuracy 0.76 | Loss (-log(softmax())): 0.51\n",
      "Epoch 24  | Accuracy 0.76 | Loss (-log(softmax())): 0.52\n",
      "Test Accuracy 0.70\n"
     ]
    }
   ],
   "source": [
    "class CNN(nn.Module):\n",
    "    def __init__(self, inputs_block, res_block, linear):\n",
    "        super().__init__()\n",
    "        \n",
    "        self.inputs_block = inputs_block\n",
    "        self.res_block = res_block\n",
    "        self.linear = linear\n",
    "        \n",
    "        self.model = nn.Sequential(\n",
    "            self.inputs_block,\n",
    "            self.res_block,\n",
    "            self.res_block,\n",
    "            self.res_block,\n",
    "            #self.res_block,\n",
    "            #nn.Flatten()\n",
    "            self.linear,\n",
    "        )\n",
    "        \n",
    "        self.count_w_b()\n",
    "    \n",
    "    def forward(self, x):\n",
    "        return self.model(x)\n",
    "    \n",
    "    def count_w_b(self):\n",
    "        print(f'# Params: {sum(numel(p) for p in self.parameters()):,}')\n",
    "\n",
    "cnn_net = CNN(inputs_block, res_block, linear).to(devi)\n",
    "cnn_net(next(iter(tr_dl))[0]).shape\n",
    "\n",
    "opt = Adam(cnn_net.parameters(), lr=LR)\n",
    "criterion = nn.NLLLoss(reduction='mean')\n",
    "\n",
    "cnn_net = cnn_net.train()\n",
    "for epoch in range(25):\n",
    "    running_acc = []\n",
    "    running_loss = []\n",
    "    for images, labels in tr_dl:\n",
    "        images = images.to(devi, dtype=pt_float)\n",
    "        labels = labels.to(devi, dtype=pt_long)\n",
    "\n",
    "        out = cnn_net(images)\n",
    "        loss = criterion(out, labels)\n",
    "        \n",
    "        opt.zero_grad()\n",
    "        loss.backward()\n",
    "        opt.step()\n",
    "        \n",
    "        running_acc.append((out.argmax(dim=1) == labels).sum() / len(labels))\n",
    "        running_loss.append(loss)\n",
    "        \n",
    "    print(f'Epoch {epoch:^3} | Accuracy {mean(as_tensor(running_acc)):^3.2f} | Loss (-log(softmax())): {mean(as_tensor(running_loss)):^3.2f}')\n",
    "    \n",
    "cnn_net = cnn_net.eval()\n",
    "test_acc = []\n",
    "for images, labels in te_dl:\n",
    "    images = images.to(devi, dtype=pt_float)\n",
    "    labels = labels.to(devi, dtype=pt_long)\n",
    "\n",
    "    out = cnn_net(images)\n",
    "\n",
    "    test_acc.append((out.argmax(dim=1) == labels).sum() / len(labels))\n",
    "\n",
    "print(f'Test Accuracy {mean(as_tensor(test_acc)):^3.2f}')"
   ]
  },
  {
   "cell_type": "code",
   "execution_count": null,
   "id": "8fc3a066",
   "metadata": {
    "papermill": {
     "duration": 0.031686,
     "end_time": "2022-01-13T23:34:47.683915",
     "exception": false,
     "start_time": "2022-01-13T23:34:47.652229",
     "status": "completed"
    },
    "tags": []
   },
   "outputs": [],
   "source": []
  },
  {
   "cell_type": "code",
   "execution_count": null,
   "id": "bef5447e",
   "metadata": {
    "papermill": {
     "duration": 0.030743,
     "end_time": "2022-01-13T23:34:47.745802",
     "exception": false,
     "start_time": "2022-01-13T23:34:47.715059",
     "status": "completed"
    },
    "tags": []
   },
   "outputs": [],
   "source": []
  }
 ],
 "metadata": {
  "kernelspec": {
   "display_name": "Python 3",
   "language": "python",
   "name": "python3"
  },
  "language_info": {
   "codemirror_mode": {
    "name": "ipython",
    "version": 3
   },
   "file_extension": ".py",
   "mimetype": "text/x-python",
   "name": "python",
   "nbconvert_exporter": "python",
   "pygments_lexer": "ipython3",
   "version": "3.7.12"
  },
  "papermill": {
   "default_parameters": {},
   "duration": 322.247161,
   "end_time": "2022-01-13T23:34:48.691521",
   "environment_variables": {},
   "exception": null,
   "input_path": "__notebook__.ipynb",
   "output_path": "__notebook__.ipynb",
   "parameters": {},
   "start_time": "2022-01-13T23:29:26.444360",
   "version": "2.3.3"
  }
 },
 "nbformat": 4,
 "nbformat_minor": 5
}
