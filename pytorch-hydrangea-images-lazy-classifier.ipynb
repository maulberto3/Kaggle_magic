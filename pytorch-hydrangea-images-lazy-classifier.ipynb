{
 "cells": [
  {
   "cell_type": "code",
   "execution_count": 1,
   "id": "86df7f91",
   "metadata": {
    "execution": {
     "iopub.execute_input": "2022-01-15T07:10:50.540782Z",
     "iopub.status.busy": "2022-01-15T07:10:50.540166Z",
     "iopub.status.idle": "2022-01-15T07:10:50.643754Z",
     "shell.execute_reply": "2022-01-15T07:10:50.644590Z",
     "shell.execute_reply.started": "2022-01-15T06:57:11.273068Z"
    },
    "papermill": {
     "duration": 0.133282,
     "end_time": "2022-01-15T07:10:50.645003",
     "exception": false,
     "start_time": "2022-01-15T07:10:50.511721",
     "status": "completed"
    },
    "tags": []
   },
   "outputs": [],
   "source": [
    "%reset -sf"
   ]
  },
  {
   "cell_type": "code",
   "execution_count": 2,
   "id": "dc2aa94f",
   "metadata": {
    "execution": {
     "iopub.execute_input": "2022-01-15T07:10:50.689543Z",
     "iopub.status.busy": "2022-01-15T07:10:50.688759Z",
     "iopub.status.idle": "2022-01-15T07:10:50.691789Z",
     "shell.execute_reply": "2022-01-15T07:10:50.692528Z",
     "shell.execute_reply.started": "2022-01-15T06:57:11.414280Z"
    },
    "papermill": {
     "duration": 0.025786,
     "end_time": "2022-01-15T07:10:50.692806",
     "exception": false,
     "start_time": "2022-01-15T07:10:50.667020",
     "status": "completed"
    },
    "tags": []
   },
   "outputs": [],
   "source": [
    "from IPython.core.interactiveshell import InteractiveShell\n",
    "InteractiveShell.ast_node_interactivity = 'all'"
   ]
  },
  {
   "cell_type": "code",
   "execution_count": 3,
   "id": "1b04a5ca",
   "metadata": {
    "execution": {
     "iopub.execute_input": "2022-01-15T07:10:50.732632Z",
     "iopub.status.busy": "2022-01-15T07:10:50.731998Z",
     "iopub.status.idle": "2022-01-15T07:10:51.824434Z",
     "shell.execute_reply": "2022-01-15T07:10:51.823892Z",
     "shell.execute_reply.started": "2022-01-15T06:57:11.430233Z"
    },
    "papermill": {
     "duration": 1.112128,
     "end_time": "2022-01-15T07:10:51.824566",
     "exception": false,
     "start_time": "2022-01-15T07:10:50.712438",
     "status": "completed"
    },
    "tags": []
   },
   "outputs": [
    {
     "data": {
      "text/plain": [
       "<torch._C.Generator at 0x7f782326e870>"
      ]
     },
     "execution_count": 3,
     "metadata": {},
     "output_type": "execute_result"
    }
   ],
   "source": [
    "from torch import manual_seed\n",
    "from random import seed\n",
    "manual_seed(16)\n",
    "seed(16)"
   ]
  },
  {
   "cell_type": "code",
   "execution_count": 4,
   "id": "592f1d3c",
   "metadata": {
    "execution": {
     "iopub.execute_input": "2022-01-15T07:10:51.863513Z",
     "iopub.status.busy": "2022-01-15T07:10:51.862760Z",
     "iopub.status.idle": "2022-01-15T07:10:51.876823Z",
     "shell.execute_reply": "2022-01-15T07:10:51.877436Z",
     "shell.execute_reply.started": "2022-01-15T06:57:11.444914Z"
    },
    "papermill": {
     "duration": 0.035505,
     "end_time": "2022-01-15T07:10:51.877600",
     "exception": false,
     "start_time": "2022-01-15T07:10:51.842095",
     "status": "completed"
    },
    "tags": []
   },
   "outputs": [
    {
     "data": {
      "text/plain": [
       "[PosixPath('/kaggle/input/hydrangea-dataset-compressed/data_CNN/test'),\n",
       " PosixPath('/kaggle/input/hydrangea-dataset-compressed/data_CNN/train')]"
      ]
     },
     "execution_count": 4,
     "metadata": {},
     "output_type": "execute_result"
    }
   ],
   "source": [
    "from pprint import pprint\n",
    "from pathlib import Path\n",
    "\n",
    "path = Path('/kaggle/input/hydrangea-dataset-compressed/data_CNN')\n",
    "list(path.glob('*'))"
   ]
  },
  {
   "cell_type": "code",
   "execution_count": 5,
   "id": "1a90c5b9",
   "metadata": {
    "execution": {
     "iopub.execute_input": "2022-01-15T07:10:51.917062Z",
     "iopub.status.busy": "2022-01-15T07:10:51.916414Z",
     "iopub.status.idle": "2022-01-15T07:10:51.918278Z",
     "shell.execute_reply": "2022-01-15T07:10:51.918806Z",
     "shell.execute_reply.started": "2022-01-15T06:57:11.464879Z"
    },
    "papermill": {
     "duration": 0.024194,
     "end_time": "2022-01-15T07:10:51.918987",
     "exception": false,
     "start_time": "2022-01-15T07:10:51.894793",
     "status": "completed"
    },
    "tags": []
   },
   "outputs": [],
   "source": [
    "train_path = path / 'train'\n",
    "test_path = path / 'test'"
   ]
  },
  {
   "cell_type": "code",
   "execution_count": 6,
   "id": "c4f61c20",
   "metadata": {
    "execution": {
     "iopub.execute_input": "2022-01-15T07:10:51.956097Z",
     "iopub.status.busy": "2022-01-15T07:10:51.955433Z",
     "iopub.status.idle": "2022-01-15T07:10:51.959521Z",
     "shell.execute_reply": "2022-01-15T07:10:51.960059Z",
     "shell.execute_reply.started": "2022-01-15T06:57:11.472517Z"
    },
    "papermill": {
     "duration": 0.024306,
     "end_time": "2022-01-15T07:10:51.960223",
     "exception": false,
     "start_time": "2022-01-15T07:10:51.935917",
     "status": "completed"
    },
    "tags": []
   },
   "outputs": [
    {
     "data": {
      "text/plain": [
       "'cpu'"
      ]
     },
     "execution_count": 6,
     "metadata": {},
     "output_type": "execute_result"
    }
   ],
   "source": [
    "from torch.cuda import is_available\n",
    "\n",
    "DEVI = 'cuda' if is_available() else 'cpu'\n",
    "DEVI"
   ]
  },
  {
   "cell_type": "code",
   "execution_count": 7,
   "id": "f9dca39d",
   "metadata": {
    "execution": {
     "iopub.execute_input": "2022-01-15T07:10:51.996900Z",
     "iopub.status.busy": "2022-01-15T07:10:51.996334Z",
     "iopub.status.idle": "2022-01-15T07:10:51.999513Z",
     "shell.execute_reply": "2022-01-15T07:10:51.999932Z",
     "shell.execute_reply.started": "2022-01-15T06:57:11.486783Z"
    },
    "papermill": {
     "duration": 0.022862,
     "end_time": "2022-01-15T07:10:52.000118",
     "exception": false,
     "start_time": "2022-01-15T07:10:51.977256",
     "status": "completed"
    },
    "tags": []
   },
   "outputs": [],
   "source": [
    "BATCH_SIZE = 64\n",
    "LR = 0.0005"
   ]
  },
  {
   "cell_type": "code",
   "execution_count": 8,
   "id": "a720a2f6",
   "metadata": {
    "execution": {
     "iopub.execute_input": "2022-01-15T07:10:52.036812Z",
     "iopub.status.busy": "2022-01-15T07:10:52.036243Z",
     "iopub.status.idle": "2022-01-15T07:10:52.835039Z",
     "shell.execute_reply": "2022-01-15T07:10:52.835544Z",
     "shell.execute_reply.started": "2022-01-15T06:57:11.498852Z"
    },
    "papermill": {
     "duration": 0.818872,
     "end_time": "2022-01-15T07:10:52.835707",
     "exception": false,
     "start_time": "2022-01-15T07:10:52.016835",
     "status": "completed"
    },
    "tags": []
   },
   "outputs": [
    {
     "data": {
      "text/plain": [
       "torch.Size([3, 95, 95])"
      ]
     },
     "execution_count": 8,
     "metadata": {},
     "output_type": "execute_result"
    }
   ],
   "source": [
    "from torchvision.datasets import ImageFolder\n",
    "from torch.utils.data import DataLoader\n",
    "import torchvision.transforms as tr\n",
    "\n",
    "transf = tr.Compose([\n",
    "    tr.RandomHorizontalFlip(),\n",
    "    tr.RandomVerticalFlip(),\n",
    "    tr.ColorJitter(0.1, 0.1, 0.1),\n",
    "    tr.GaussianBlur(1),\n",
    "    #tr.RandAugment()\n",
    "    tr.Resize((95,95)),\n",
    "    tr.ToTensor(),\n",
    "    tr.Normalize((0.485, 0.456, 0.406), (0.229, 0.224, 0.225))\n",
    "])\n",
    "\n",
    "img_tr = ImageFolder(train_path, transform=transf)\n",
    "img_tr[0][0].shape\n",
    "\n",
    "img_te = ImageFolder(test_path, transform=transf)"
   ]
  },
  {
   "cell_type": "code",
   "execution_count": 9,
   "id": "2906fe12",
   "metadata": {
    "execution": {
     "iopub.execute_input": "2022-01-15T07:10:52.876215Z",
     "iopub.status.busy": "2022-01-15T07:10:52.875577Z",
     "iopub.status.idle": "2022-01-15T07:11:09.358998Z",
     "shell.execute_reply": "2022-01-15T07:11:09.358332Z",
     "shell.execute_reply.started": "2022-01-15T06:57:11.545339Z"
    },
    "papermill": {
     "duration": 16.506274,
     "end_time": "2022-01-15T07:11:09.359136",
     "exception": false,
     "start_time": "2022-01-15T07:10:52.852862",
     "status": "completed"
    },
    "tags": []
   },
   "outputs": [],
   "source": [
    "# From folder to tensors ready for training\n",
    "\n",
    "from torch import stack, as_tensor\n",
    "\n",
    "imgs, labs = [], []\n",
    "for i, (img, lab) in enumerate(img_tr):\n",
    "    imgs.append(img)\n",
    "    labs.append(as_tensor(lab))\n",
    "\n",
    "img_tr2 = stack(imgs)\n",
    "lab_tr2 = stack(labs)\n",
    "\n",
    "imgs, labs = [], []\n",
    "for i, (img, lab) in enumerate(img_te):\n",
    "    imgs.append(img)\n",
    "    labs.append(as_tensor(lab))\n",
    "\n",
    "img_te2 = stack(imgs)\n",
    "lab_te2 = stack(labs)"
   ]
  },
  {
   "cell_type": "code",
   "execution_count": 10,
   "id": "b925bbd2",
   "metadata": {
    "execution": {
     "iopub.execute_input": "2022-01-15T07:11:09.398251Z",
     "iopub.status.busy": "2022-01-15T07:11:09.397262Z",
     "iopub.status.idle": "2022-01-15T07:11:09.455986Z",
     "shell.execute_reply": "2022-01-15T07:11:09.455481Z",
     "shell.execute_reply.started": "2022-01-15T06:57:20.879442Z"
    },
    "papermill": {
     "duration": 0.079291,
     "end_time": "2022-01-15T07:11:09.456116",
     "exception": false,
     "start_time": "2022-01-15T07:11:09.376825",
     "status": "completed"
    },
    "tags": []
   },
   "outputs": [
    {
     "name": "stderr",
     "output_type": "stream",
     "text": [
      "/opt/conda/lib/python3.7/site-packages/torch/nn/modules/lazy.py:178: UserWarning: Lazy modules are a new feature under heavy development so changes to the API or functionality can happen at any moment.\n",
      "  warnings.warn('Lazy modules are a new feature under heavy development '\n"
     ]
    },
    {
     "data": {
      "text/plain": [
       "'Dry run: torch.Size([1, 10])'"
      ]
     },
     "execution_count": 10,
     "metadata": {},
     "output_type": "execute_result"
    }
   ],
   "source": [
    "from torch import nn\n",
    "from torch import float as pt_float, ones\n",
    "\n",
    "class NET(nn.Module):\n",
    "    def __init__(self, l1, k1, a1, l2, k2, a2, l3, k3, a3):\n",
    "        super().__init__()\n",
    "        \n",
    "        self.cnn1 = nn.Sequential(\n",
    "            nn.LazyConv2d(l1, k1),\n",
    "            nn.Dropout(0.5),\n",
    "            nn.__getattribute__(a1)())\n",
    "        \n",
    "        self.cnn2 = nn.Sequential(\n",
    "            nn.LazyBatchNorm2d(),\n",
    "            nn.LazyConv2d(l2, k2),\n",
    "            nn.Dropout(0.5),\n",
    "            nn.__getattribute__(a2)())\n",
    "\n",
    "        self.cnn3 = nn.Sequential(\n",
    "            nn.LazyBatchNorm2d(),\n",
    "            nn.LazyConv2d(l3, k3),\n",
    "            nn.Dropout(0.5),\n",
    "            nn.__getattribute__(a3)())\n",
    "\n",
    "        self.out = nn.Sequential(\n",
    "            nn.Flatten(),\n",
    "            nn.LazyLinear(10),\n",
    "            nn.LogSoftmax(dim=-1))\n",
    "        \n",
    "        self.model = nn.Sequential(\n",
    "            self.cnn1,\n",
    "            self.cnn2,\n",
    "            self.cnn3,\n",
    "            self.out\n",
    "        )\n",
    "                \n",
    "    def forward(self, x):\n",
    "        \"\"\"Forward\"\"\"\n",
    "        return self.model(x)\n",
    "    \n",
    "    def count_weights_biases(self):\n",
    "        return int(sum(p.numel() for p in self.parameters() if p.requires_grad))\n",
    "    \n",
    "net = NET(10, 2, 'SELU', 10, 2, 'SELU', 10, 2, 'SELU').to(DEVI)\n",
    "f'Dry run: {net(ones(1, 1, 28, 28).to(DEVI, dtype=pt_float)).shape}'"
   ]
  },
  {
   "cell_type": "code",
   "execution_count": 11,
   "id": "9ce0b1ac",
   "metadata": {
    "execution": {
     "iopub.execute_input": "2022-01-15T07:11:09.517670Z",
     "iopub.status.busy": "2022-01-15T07:11:09.516788Z",
     "iopub.status.idle": "2022-01-15T07:11:09.519170Z",
     "shell.execute_reply": "2022-01-15T07:11:09.519598Z",
     "shell.execute_reply.started": "2022-01-15T06:57:20.900664Z"
    },
    "papermill": {
     "duration": 0.044442,
     "end_time": "2022-01-15T07:11:09.519768",
     "exception": false,
     "start_time": "2022-01-15T07:11:09.475326",
     "status": "completed"
    },
    "tags": []
   },
   "outputs": [],
   "source": [
    "class GA_Pytorch():\n",
    "    def __init__(self, \n",
    "                 params, \n",
    "                 eval_func,\n",
    "                 eval_weights,\n",
    "                 #\n",
    "                 train_df,\n",
    "                 test_df,\n",
    "                 #\n",
    "                 sel_tournsize=2, \n",
    "                 cx_uniform_prob=0.5, \n",
    "                 mut_shuffle_idx_prob=0.1, \n",
    "                 n_pop=40, \n",
    "                 n_gen=30, \n",
    "                 n_hof=5, \n",
    "                 cx_prob=0.5, \n",
    "                 mut_prob=0.1, \n",
    "                 #\n",
    "                 n_jobs=1\n",
    "                ):\n",
    "        self.params = params\n",
    "        self.eval_func = eval_func\n",
    "        self.eval_weights = eval_weights\n",
    "        \n",
    "        self.train_df=train_df\n",
    "        self.test_df=test_df\n",
    "        \n",
    "        self.sel_tournsize = sel_tournsize\n",
    "        self.cx_uniform_prob = cx_uniform_prob\n",
    "        self.mut_shuffle_idx_prob = mut_shuffle_idx_prob\n",
    "        self.n_pop = n_pop\n",
    "        self.n_gen = n_gen\n",
    "        self.n_hof = n_hof\n",
    "        self.cx_prob = cx_prob\n",
    "        self.mut_prob = mut_prob\n",
    "        \n",
    "        self.n_jobs = n_jobs\n",
    "\n",
    "        self._pad_params()\n",
    "        self._create_fitness_and_indiv()\n",
    "        self._register_indiv_and_pop_generators()\n",
    "        self._register_eval_func()\n",
    "        self._register_selection_crossover_mutation_methods()\n",
    "\n",
    "    def _pad_params(self):\n",
    "        \"\"\"Pad params for crossover shuffle idx method\"\"\"\n",
    "        assert isinstance(self.params, dict), 'Params must be a dict, i.e. estimator.get_params()'\n",
    "        params_count = {k: len(v) for k,v in self.params.items()}\n",
    "        max_length, max_key = -99, ''\n",
    "        for k, v in params_count.items():\n",
    "            if v <= max_length:\n",
    "                continue\n",
    "            else:\n",
    "                max_key = k\n",
    "                max_length = v\n",
    "        assert isinstance(max_length, int), 'The max length between all params must be an int'\n",
    "        # cycle through params for max length param, otherwise infinite cycle\n",
    "        values_padded = (cycle(v) if k!=max_key else v for k,v in self.params.items())\n",
    "        values_padded = zip(*values_padded)  # ('a', 1, 14), ('b', 2, 16), ('c', 3, 16) ...\n",
    "        values_padded = zip(*values_padded)  # ('a', 'b', 'c'), (1, 2, 3), (14, 15, 16)...\n",
    "        padded_params = {}\n",
    "        for k, v in zip(self.params, values_padded):\n",
    "            padded_params[k] = v\n",
    "        self.padded_params = padded_params\n",
    "        print('Params padded')\n",
    "\n",
    "    def _create_fitness_and_indiv(self):\n",
    "        \"\"\"Create GA individual and fitness entities (classes)\"\"\"\n",
    "        ga_cr.create('Fitness', ga_b.Fitness, weights=self.eval_weights)\n",
    "        ga_cr.create('Individual', list, fitness=ga_cr.Fitness)\n",
    "        print('GA entities created')\n",
    "\n",
    "    def _gen_params_to_ga(self):\n",
    "        \"\"\"Generate index for each param for individual\"\"\"\n",
    "        max_dict = len(self.padded_params)\n",
    "        max_length = len(list(self.padded_params.values())[0])\n",
    "        idxs = [randint(0, max_length-1) for _ in range(max_dict)]\n",
    "        return idxs\n",
    "    \n",
    "    def _register_indiv_and_pop_generators(self):\n",
    "        \"\"\"Register GA individual and population generators\"\"\"\n",
    "        self.tb = ga_b.Toolbox()\n",
    "\n",
    "        if self.n_jobs > 1:\n",
    "            from multiprocessing import Pool\n",
    "            pool = Pool()\n",
    "            self.tb.register(\"map\", pool.map)\n",
    "\n",
    "        self.tb.register(\"individual\", ga_t.initIterate, ga_cr.Individual, self._gen_params_to_ga)\n",
    "        self.tb.register(\"population\", ga_t.initRepeat, list, self.tb.individual)\n",
    "        print('GA entities\\' methods registered')\n",
    "        \n",
    "    def _register_eval_func(self):\n",
    "        \"\"\"Set GA evaluate individual function\"\"\"\n",
    "        self.tb.register(\"evaluate\",\n",
    "                        self.eval_func,\n",
    "                        padded_params=self.padded_params,\n",
    "                        train_df=self.train_df,\n",
    "                        test_df=self.test_df,\n",
    "                        batch_size=BATCH_SIZE,\n",
    "                        lr=LR)\n",
    "        #print(list(self.tb.evaluate(indiv) for indiv in self.tb.population(3)))\n",
    "        print('GA eval function registered')\n",
    "    \n",
    "    def _register_selection_crossover_mutation_methods(self):\n",
    "        self.tb.register(\"select\", ga_t.selTournament, tournsize=self.sel_tournsize)\n",
    "        self.tb.register(\"mate\", ga_t.cxUniform, indpb=self.cx_uniform_prob)\n",
    "        self.tb.register(\"mutate\", ga_t.mutShuffleIndexes, indpb=self.mut_shuffle_idx_prob)\n",
    "        print('GA sel-cx-mut methods registered')\n",
    "        \n",
    "    def run_ga_search(self):\n",
    "        \"\"\"GA Search\"\"\"\n",
    "        pop = self.tb.population(n=self.n_pop)\n",
    "        hof = ga_t.HallOfFame(self.n_hof)\n",
    "\n",
    "        # Stats stdout\n",
    "        #stats = ga_t.Statistics(lambda ind: ind.fitness.values )\n",
    "        stats1 = ga_t.Statistics(lambda ind: ind.fitness.values[0] )\n",
    "        stats2 = ga_t.Statistics(lambda ind: ind.fitness.values[1] )\n",
    "        stats3 = ga_t.Statistics(lambda ind: ind.fitness.values[2] )\n",
    "        stats = ga_t.MultiStatistics(accuracy=stats1, risk=stats2, complexity=stats3)\n",
    "        stats.register(\"avg\", mean)\n",
    "        #stats.register(\"std\", np.std)\n",
    "        #stats.register(\"min\", np.min)\n",
    "        #stats.register(\"max\", np.max)\n",
    "\n",
    "        # History\n",
    "        #hist = tools.History()\n",
    "        #toolbox.decorate(\"select\", hist.decorator)\n",
    "        #tb.decorate(\"mate\", hist.decorator)\n",
    "        #tb.decorate(\"mutate\", hist.decorator)\n",
    "        #hist.update(pop)\n",
    "\n",
    "        # GA Run\n",
    "        pop, log = ga_algo.eaSimple(pop, self.tb, cxpb=self.cx_prob, \n",
    "                                    mutpb=self.mut_prob, ngen=self.n_gen, \n",
    "                                    stats=stats, halloffame=hof, verbose=True)\n",
    "        \n",
    "        # Convert back params\n",
    "        hof_ = {}\n",
    "        for i in range(self.n_hof):\n",
    "            hof_['hof_' + str(i)] = self._ga_to_params(hof[i])\n",
    "\n",
    "        return pop, log, hof_\n",
    "    \n",
    "    def _ga_to_params(self, idx_params):\n",
    "        \"\"\"Convert back idx to params\"\"\"\n",
    "        res = {}\n",
    "        for (k,v), idx in zip(self.padded_params.items(), idx_params):\n",
    "            res[k] = v[idx]\n",
    "        return res"
   ]
  },
  {
   "cell_type": "code",
   "execution_count": 12,
   "id": "4effe1bc",
   "metadata": {
    "execution": {
     "iopub.execute_input": "2022-01-15T07:11:09.558380Z",
     "iopub.status.busy": "2022-01-15T07:11:09.557698Z",
     "iopub.status.idle": "2022-01-15T07:11:09.574407Z",
     "shell.execute_reply": "2022-01-15T07:11:09.573746Z",
     "shell.execute_reply.started": "2022-01-15T06:57:20.933755Z"
    },
    "papermill": {
     "duration": 0.037168,
     "end_time": "2022-01-15T07:11:09.574537",
     "exception": false,
     "start_time": "2022-01-15T07:11:09.537369",
     "status": "completed"
    },
    "tags": []
   },
   "outputs": [],
   "source": [
    "from numpy import mean, linspace, inf\n",
    "\n",
    "net_params = {\n",
    "    'l1': linspace(1,20,20).astype(int),\n",
    "    'k1': linspace(1,20,20).astype(int),\n",
    "    'a1': ['ReLU', 'CELU', 'SELU', 'ELU', 'Softsign'],\n",
    "    'l2': linspace(1,20,20).astype(int),\n",
    "    'k2': linspace(1,20,20).astype(int),\n",
    "    'a2': ['ReLU', 'CELU', 'SELU', 'ELU', 'Softsign'],\n",
    "    'l3': linspace(1,20,20).astype(int),\n",
    "    'k3': linspace(1,20,20).astype(int),\n",
    "    'a3': ['ReLU', 'CELU', 'SELU', 'ELU', 'Softsign'],\n",
    "}\n",
    "\n",
    "def net_eval_indiv(individual, padded_params, train_df, test_df, batch_size, lr):\n",
    "    \"\"\"Evaluate individual's genes (estimator's params)\"\"\"\n",
    "\n",
    "    # Params\n",
    "    indiv_params = {k : list(v)[idx] for (k,v), idx in zip(padded_params.items(), individual)}\n",
    "    \n",
    "    # Net\n",
    "    net = NET(**indiv_params).to(DEVI)\n",
    "    try:\n",
    "        net(ones(1,3,95,95).to(DEVI))\n",
    "    except BaseException as e:\n",
    "        print('=> Possible Arch Error:', e)\n",
    "        return (0.01, (1/10)**10, 1000000)\n",
    "    \n",
    "    # Optimizer\n",
    "    optimizer = Adam(net.parameters(), lr=lr)\n",
    "    criterion = nn.NLLLoss()\n",
    "    \n",
    "    # Data\n",
    "    train_dl = DataLoader(train_df, \n",
    "                   batch_size=batch_size, \n",
    "                   num_workers=2,\n",
    "                   drop_last=True,\n",
    "                   shuffle=True)\n",
    "    \n",
    "    test_dl = DataLoader(test_df, \n",
    "                   batch_size=batch_size, \n",
    "                   num_workers=2,\n",
    "                   drop_last=True,\n",
    "                   shuffle=True)\n",
    "    \n",
    "    # Train\n",
    "    for epoch in range(1):\n",
    "        train_correct = 0\n",
    "        train_total = 0\n",
    "        for i, (inputs, labels) in enumerate(train_dl):\n",
    "            if i <= 10:\n",
    "                outputs = net(inputs.to(DEVI))\n",
    "\n",
    "                optimizer.zero_grad()\n",
    "                loss = criterion(outputs, labels.to(DEVI)).mean()\n",
    "                loss.backward()\n",
    "                optimizer.step()\n",
    "\n",
    "                _, predicted = pt_max(outputs.data, 1)\n",
    "                train_total += labels.size(0)\n",
    "                train_correct += (predicted == labels.to(DEVI)).sum().item()\n",
    "            else:\n",
    "                break\n",
    "        \n",
    "    # Eval\n",
    "    with no_grad():\n",
    "        net = net.eval()\n",
    "        test_correct = 0\n",
    "        test_total = 0\n",
    "        for i, (inputs, labels) in enumerate(test_dl):\n",
    "            if i <= 5:\n",
    "                outputs = net(inputs.to(DEVI))\n",
    "                _, predicted = pt_max(outputs.data, 1)\n",
    "                test_total += labels.size(0)\n",
    "                test_correct += (predicted == labels.to(DEVI)).sum().item()\n",
    "                test_accuracy = test_correct / test_total * 100\n",
    "            else:\n",
    "                break\n",
    "        \n",
    "    # Risk\n",
    "    risk = median(prod(net(inputs.to(DEVI)).exp()*10, dim=1))\n",
    "    if isnan(risk):\n",
    "        risk = 10\n",
    "    else:\n",
    "        risk = float(risk)\n",
    "        \n",
    "    # Complexity\n",
    "    compl = net.count_weights_biases()\n",
    "    \n",
    "\n",
    "    return (test_accuracy, risk, compl,)\n",
    "\n",
    "net_weights = (1, -1, -1)"
   ]
  },
  {
   "cell_type": "code",
   "execution_count": 13,
   "id": "1d5a2984",
   "metadata": {
    "execution": {
     "iopub.execute_input": "2022-01-15T07:11:09.616616Z",
     "iopub.status.busy": "2022-01-15T07:11:09.615941Z",
     "iopub.status.idle": "2022-01-15T14:01:08.485383Z",
     "shell.execute_reply": "2022-01-15T14:01:08.486325Z",
     "shell.execute_reply.started": "2022-01-15T06:57:20.958120Z"
    },
    "papermill": {
     "duration": 24598.895291,
     "end_time": "2022-01-15T14:01:08.487671",
     "exception": false,
     "start_time": "2022-01-15T07:11:09.592380",
     "status": "completed"
    },
    "tags": []
   },
   "outputs": [
    {
     "name": "stdout",
     "output_type": "stream",
     "text": [
      "Params padded\n",
      "GA entities created\n",
      "GA entities' methods registered\n",
      "GA eval function registered\n",
      "GA sel-cx-mut methods registered\n",
      "   \t      \t       accuracy       \t      complexity      \t             risk             \n",
      "   \t      \t----------------------\t----------------------\t------------------------------\n",
      "gen\tnevals\tavg    \tgen\tnevals\tavg   \tgen\tnevals\tavg      \tgen\tnevals\n",
      "0  \t40    \t51.7383\t0  \t40    \t454474\t0  \t40    \t0.0249961\t0  \t40    \n",
      "1  \t22    \t56.0938\t1  \t22    \t439728\t1  \t22    \t0.00642845\t1  \t22    \n",
      "2  \t22    \t59.6549\t2  \t22    \t460594\t2  \t22    \t0.000810705\t2  \t22    \n",
      "3  \t19    \t60.638 \t3  \t19    \t413443\t3  \t19    \t0.00108943 \t3  \t19    \n",
      "4  \t28    \t59.0625\t4  \t28    \t393846\t4  \t28    \t0.000202236\t4  \t28    \n",
      "5  \t20    \t60.8919\t5  \t20    \t401462\t5  \t20    \t1.36084e-08\t5  \t20    \n",
      "6  \t20    \t61.5039\t6  \t20    \t372249\t6  \t20    \t1.01043e-06\t6  \t20    \n",
      "7  \t20    \t62.1875\t7  \t20    \t358727\t7  \t20    \t0.000266744\t7  \t20    \n",
      "8  \t19    \t64.694 \t8  \t19    \t345839\t8  \t19    \t1.54699e-06\t8  \t19    \n",
      "9  \t23    \t64.6875\t9  \t23    \t338513\t9  \t23    \t1.64391e-09\t9  \t23    \n",
      "10 \t20    \t65.3646\t10 \t20    \t346954\t10 \t20    \t3.25187e-18\t10 \t20    \n",
      "11 \t19    \t67.2917\t11 \t19    \t320614\t11 \t19    \t2.13278e-07\t11 \t19    \n",
      "12 \t23    \t66.3802\t12 \t23    \t332995\t12 \t23    \t7.21381e-07\t12 \t23    \n",
      "13 \t26    \t64.1862\t13 \t26    \t313482\t13 \t26    \t3.07625e-09\t13 \t26    \n",
      "14 \t24    \t64.5508\t14 \t24    \t325238\t14 \t24    \t3.07603e-09\t14 \t24    \n",
      "15 \t18    \t65.5078\t15 \t18    \t333210\t15 \t18    \t2.5413e-09 \t15 \t18    \n",
      "16 \t16    \t64.0625\t16 \t16    \t322463\t16 \t16    \t5.42791e-09\t16 \t16    \n",
      "17 \t17    \t65.5924\t17 \t17    \t339399\t17 \t17    \t8.65227e-11\t17 \t17    \n",
      "18 \t25    \t64.1536\t18 \t25    \t383538\t18 \t25    \t0.00400588 \t18 \t25    \n",
      "19 \t21    \t65.332 \t19 \t21    \t353666\t19 \t21    \t2.09121e-10\t19 \t21    \n",
      "20 \t20    \t66.4844\t20 \t20    \t384126\t20 \t20    \t2.09122e-10\t20 \t20    \n",
      "21 \t22    \t64.9349\t21 \t22    \t434555\t21 \t22    \t7.32762e-05\t21 \t22    \n",
      "22 \t28    \t67.0312\t22 \t28    \t474315\t22 \t28    \t5.87847e-11\t22 \t28    \n",
      "23 \t23    \t66.1458\t23 \t23    \t542149\t23 \t23    \t0.0173441  \t23 \t23    \n",
      "24 \t23    \t66.5169\t24 \t23    \t579157\t24 \t23    \t6.86717e-16\t24 \t23    \n",
      "25 \t15    \t66.8424\t25 \t15    \t590532\t25 \t15    \t4.81915e-19\t25 \t15    \n",
      "26 \t21    \t65.3906\t26 \t21    \t642750\t26 \t21    \t0.000702179\t26 \t21    \n",
      "27 \t22    \t63.3529\t27 \t22    \t710937\t27 \t22    \t0.000701815\t27 \t22    \n",
      "28 \t22    \t65.5924\t28 \t22    \t732400\t28 \t22    \t6.42386e-16\t28 \t22    \n",
      "29 \t24    \t65.2474\t29 \t24    \t693513\t29 \t24    \t1.22939e-17\t29 \t24    \n",
      "30 \t19    \t65.8594\t30 \t19    \t685898\t30 \t19    \t3.17479e-10\t30 \t19    \n"
     ]
    }
   ],
   "source": [
    "from itertools import cycle\n",
    "from deap import creator as ga_cr, base as ga_b, algorithms as ga_algo, tools as ga_t\n",
    "from random import randint\n",
    "from numpy import mean\n",
    "from torch.optim import Adam\n",
    "from torch import max as pt_max, no_grad, median, prod, isnan\n",
    "\n",
    "net_ga_params = GA_Pytorch(net_params, \n",
    "                           net_eval_indiv, \n",
    "                           net_weights,\n",
    "                           list(zip(img_tr2, lab_tr2)),\n",
    "                           list(zip(img_te2, lab_te2)))\n",
    "pop, log, hof = net_ga_params.run_ga_search()"
   ]
  },
  {
   "cell_type": "code",
   "execution_count": 14,
   "id": "c354eb4f",
   "metadata": {
    "execution": {
     "iopub.execute_input": "2022-01-15T14:01:08.560392Z",
     "iopub.status.busy": "2022-01-15T14:01:08.559571Z",
     "iopub.status.idle": "2022-01-15T14:01:08.802570Z",
     "shell.execute_reply": "2022-01-15T14:01:08.803190Z",
     "shell.execute_reply.started": "2022-01-15T07:01:10.670739Z"
    },
    "papermill": {
     "duration": 0.288719,
     "end_time": "2022-01-15T14:01:08.803388",
     "exception": false,
     "start_time": "2022-01-15T14:01:08.514669",
     "status": "completed"
    },
    "tags": []
   },
   "outputs": [
    {
     "data": {
      "text/html": [
       "<div>\n",
       "<style scoped>\n",
       "    .dataframe tbody tr th:only-of-type {\n",
       "        vertical-align: middle;\n",
       "    }\n",
       "\n",
       "    .dataframe tbody tr th {\n",
       "        vertical-align: top;\n",
       "    }\n",
       "\n",
       "    .dataframe thead th {\n",
       "        text-align: right;\n",
       "    }\n",
       "</style>\n",
       "<table border=\"1\" class=\"dataframe\">\n",
       "  <thead>\n",
       "    <tr style=\"text-align: right;\">\n",
       "      <th></th>\n",
       "      <th>hof_0</th>\n",
       "      <th>hof_1</th>\n",
       "      <th>hof_2</th>\n",
       "      <th>hof_3</th>\n",
       "      <th>hof_4</th>\n",
       "    </tr>\n",
       "  </thead>\n",
       "  <tbody>\n",
       "    <tr>\n",
       "      <th>l1</th>\n",
       "      <td>19</td>\n",
       "      <td>19</td>\n",
       "      <td>19</td>\n",
       "      <td>10</td>\n",
       "      <td>10</td>\n",
       "    </tr>\n",
       "    <tr>\n",
       "      <th>k1</th>\n",
       "      <td>10</td>\n",
       "      <td>10</td>\n",
       "      <td>10</td>\n",
       "      <td>10</td>\n",
       "      <td>10</td>\n",
       "    </tr>\n",
       "    <tr>\n",
       "      <th>a1</th>\n",
       "      <td>ReLU</td>\n",
       "      <td>ReLU</td>\n",
       "      <td>ReLU</td>\n",
       "      <td>ReLU</td>\n",
       "      <td>ReLU</td>\n",
       "    </tr>\n",
       "    <tr>\n",
       "      <th>l2</th>\n",
       "      <td>20</td>\n",
       "      <td>1</td>\n",
       "      <td>20</td>\n",
       "      <td>15</td>\n",
       "      <td>15</td>\n",
       "    </tr>\n",
       "    <tr>\n",
       "      <th>k2</th>\n",
       "      <td>9</td>\n",
       "      <td>15</td>\n",
       "      <td>9</td>\n",
       "      <td>15</td>\n",
       "      <td>6</td>\n",
       "    </tr>\n",
       "    <tr>\n",
       "      <th>a2</th>\n",
       "      <td>ReLU</td>\n",
       "      <td>ReLU</td>\n",
       "      <td>ReLU</td>\n",
       "      <td>ReLU</td>\n",
       "      <td>SELU</td>\n",
       "    </tr>\n",
       "    <tr>\n",
       "      <th>l3</th>\n",
       "      <td>15</td>\n",
       "      <td>15</td>\n",
       "      <td>6</td>\n",
       "      <td>6</td>\n",
       "      <td>15</td>\n",
       "    </tr>\n",
       "    <tr>\n",
       "      <th>k3</th>\n",
       "      <td>4</td>\n",
       "      <td>15</td>\n",
       "      <td>4</td>\n",
       "      <td>16</td>\n",
       "      <td>15</td>\n",
       "    </tr>\n",
       "    <tr>\n",
       "      <th>a3</th>\n",
       "      <td>ReLU</td>\n",
       "      <td>ReLU</td>\n",
       "      <td>ReLU</td>\n",
       "      <td>ReLU</td>\n",
       "      <td>ReLU</td>\n",
       "    </tr>\n",
       "  </tbody>\n",
       "</table>\n",
       "</div>"
      ],
      "text/plain": [
       "   hof_0 hof_1 hof_2 hof_3 hof_4\n",
       "l1    19    19    19    10    10\n",
       "k1    10    10    10    10    10\n",
       "a1  ReLU  ReLU  ReLU  ReLU  ReLU\n",
       "l2    20     1    20    15    15\n",
       "k2     9    15     9    15     6\n",
       "a2  ReLU  ReLU  ReLU  ReLU  SELU\n",
       "l3    15    15     6     6    15\n",
       "k3     4    15     4    16    15\n",
       "a3  ReLU  ReLU  ReLU  ReLU  ReLU"
      ]
     },
     "execution_count": 14,
     "metadata": {},
     "output_type": "execute_result"
    },
    {
     "data": {
      "text/plain": [
       "['best_params.json']"
      ]
     },
     "execution_count": 14,
     "metadata": {},
     "output_type": "execute_result"
    }
   ],
   "source": [
    "# Saving params\n",
    "\n",
    "from pandas import DataFrame\n",
    "from joblib import dump, load\n",
    "\n",
    "DataFrame(hof)\n",
    "dump(hof, 'best_params.json')"
   ]
  },
  {
   "cell_type": "code",
   "execution_count": null,
   "id": "3d32b94b",
   "metadata": {
    "papermill": {
     "duration": 0.026105,
     "end_time": "2022-01-15T14:01:08.856691",
     "exception": false,
     "start_time": "2022-01-15T14:01:08.830586",
     "status": "completed"
    },
    "tags": []
   },
   "outputs": [],
   "source": []
  },
  {
   "cell_type": "code",
   "execution_count": 15,
   "id": "1b857a85",
   "metadata": {
    "execution": {
     "iopub.execute_input": "2022-01-15T14:01:08.935922Z",
     "iopub.status.busy": "2022-01-15T14:01:08.934839Z",
     "iopub.status.idle": "2022-01-15T14:04:07.709748Z",
     "shell.execute_reply": "2022-01-15T14:04:07.709155Z",
     "shell.execute_reply.started": "2022-01-15T07:06:48.357107Z"
    },
    "papermill": {
     "duration": 178.822184,
     "end_time": "2022-01-15T14:04:07.709911",
     "exception": false,
     "start_time": "2022-01-15T14:01:08.887727",
     "status": "completed"
    },
    "tags": []
   },
   "outputs": [
    {
     "name": "stderr",
     "output_type": "stream",
     "text": [
      "/opt/conda/lib/python3.7/site-packages/torch/nn/modules/lazy.py:178: UserWarning: Lazy modules are a new feature under heavy development so changes to the API or functionality can happen at any moment.\n",
      "  warnings.warn('Lazy modules are a new feature under heavy development '\n"
     ]
    },
    {
     "name": "stdout",
     "output_type": "stream",
     "text": [
      "TRAIN 59.06 % => TEST 74.22 %\n",
      "TRAIN 76.15 % => TEST 78.65 %\n",
      "TRAIN 78.33 % => TEST 80.99 %\n",
      "TRAIN 82.19 % => TEST 78.65 %\n",
      "TRAIN 83.65 % => TEST 79.69 %\n"
     ]
    }
   ],
   "source": [
    "# Full train\n",
    "EPOCHS = 5\n",
    "\n",
    "# Params\n",
    "params = load('best_params.json')['hof_0']\n",
    "\n",
    "# Net\n",
    "net = NET(**params).to(DEVI)\n",
    "\n",
    "# Optimizer\n",
    "optimizer = Adam(net.parameters(), lr=LR)\n",
    "criterion = nn.NLLLoss()\n",
    "\n",
    "# Data\n",
    "train_dl = DataLoader(list(zip(img_tr2, lab_tr2)), \n",
    "               batch_size=BATCH_SIZE, \n",
    "               num_workers=2,\n",
    "               drop_last=True,\n",
    "               shuffle=True)\n",
    "\n",
    "test_dl = DataLoader(list(zip(img_te2, lab_te2)), \n",
    "               batch_size=BATCH_SIZE, \n",
    "               num_workers=2,\n",
    "               drop_last=True,\n",
    "               shuffle=True)\n",
    "\n",
    "# Train\n",
    "for epoch in range(EPOCHS):\n",
    "    net = net.train()\n",
    "    train_correct = 0\n",
    "    train_total = 0\n",
    "    for i, (inputs, labels) in enumerate(train_dl):\n",
    "        outputs = net(inputs.to(DEVI))\n",
    "\n",
    "        optimizer.zero_grad()\n",
    "        loss = criterion(outputs, labels.to(DEVI)).mean()\n",
    "        loss.backward()\n",
    "        optimizer.step()\n",
    "\n",
    "        _, predicted = pt_max(outputs.data, 1)\n",
    "        train_total += labels.size(0)\n",
    "        train_correct += (predicted == labels.to(DEVI)).sum().item()\n",
    "    print(f'TRAIN {train_correct / train_total * 100:^5.2f} %', end=' ')\n",
    "    \n",
    "    # Eval\n",
    "    with no_grad():\n",
    "        net = net.eval()\n",
    "        test_correct = 0\n",
    "        test_total = 0\n",
    "        for i, (inputs, labels) in enumerate(test_dl):\n",
    "            outputs = net(inputs.to(DEVI))\n",
    "            _, predicted = pt_max(outputs.data, 1)\n",
    "            test_total += labels.size(0)\n",
    "            test_correct += (predicted == labels.to(DEVI)).sum().item()\n",
    "            test_accuracy = test_correct / test_total * 100\n",
    "    print(f'=> TEST {test_accuracy:^5.2f} %')"
   ]
  },
  {
   "cell_type": "code",
   "execution_count": null,
   "id": "dfd2f240",
   "metadata": {
    "papermill": {
     "duration": 0.029175,
     "end_time": "2022-01-15T14:04:07.772877",
     "exception": false,
     "start_time": "2022-01-15T14:04:07.743702",
     "status": "completed"
    },
    "tags": []
   },
   "outputs": [],
   "source": []
  },
  {
   "cell_type": "code",
   "execution_count": null,
   "id": "f3b94051",
   "metadata": {
    "papermill": {
     "duration": 0.030912,
     "end_time": "2022-01-15T14:04:07.833525",
     "exception": false,
     "start_time": "2022-01-15T14:04:07.802613",
     "status": "completed"
    },
    "tags": []
   },
   "outputs": [],
   "source": []
  },
  {
   "cell_type": "code",
   "execution_count": null,
   "id": "a4841528",
   "metadata": {
    "papermill": {
     "duration": 0.029035,
     "end_time": "2022-01-15T14:04:07.892689",
     "exception": false,
     "start_time": "2022-01-15T14:04:07.863654",
     "status": "completed"
    },
    "tags": []
   },
   "outputs": [],
   "source": []
  },
  {
   "cell_type": "code",
   "execution_count": null,
   "id": "002f5e76",
   "metadata": {
    "papermill": {
     "duration": 0.028748,
     "end_time": "2022-01-15T14:04:07.950355",
     "exception": false,
     "start_time": "2022-01-15T14:04:07.921607",
     "status": "completed"
    },
    "tags": []
   },
   "outputs": [],
   "source": []
  },
  {
   "cell_type": "code",
   "execution_count": null,
   "id": "482956ab",
   "metadata": {
    "papermill": {
     "duration": 0.028795,
     "end_time": "2022-01-15T14:04:08.009439",
     "exception": false,
     "start_time": "2022-01-15T14:04:07.980644",
     "status": "completed"
    },
    "tags": []
   },
   "outputs": [],
   "source": []
  },
  {
   "cell_type": "code",
   "execution_count": 16,
   "id": "2e711400",
   "metadata": {
    "execution": {
     "iopub.execute_input": "2022-01-15T14:04:08.079069Z",
     "iopub.status.busy": "2022-01-15T14:04:08.078239Z",
     "iopub.status.idle": "2022-01-15T14:04:08.081204Z",
     "shell.execute_reply": "2022-01-15T14:04:08.081784Z",
     "shell.execute_reply.started": "2022-01-15T07:01:10.804175Z"
    },
    "papermill": {
     "duration": 0.041141,
     "end_time": "2022-01-15T14:04:08.081973",
     "exception": false,
     "start_time": "2022-01-15T14:04:08.040832",
     "status": "completed"
    },
    "tags": []
   },
   "outputs": [],
   "source": [
    "class INPUTS(nn.Module):\n",
    "    def __init__(self):\n",
    "        super().__init__()\n",
    "        \n",
    "        self.inputs = nn.Sequential(\n",
    "            nn.Conv2d(3, 32, 3),\n",
    "            nn.BatchNorm2d(32),\n",
    "            nn.MaxPool2d(2),\n",
    "            nn.Softshrink())\n",
    "        \n",
    "    def forward(self, x):\n",
    "        return self.inputs(x)\n",
    "\n"
   ]
  },
  {
   "cell_type": "code",
   "execution_count": 17,
   "id": "50256b7e",
   "metadata": {
    "execution": {
     "iopub.execute_input": "2022-01-15T14:04:08.146325Z",
     "iopub.status.busy": "2022-01-15T14:04:08.145314Z",
     "iopub.status.idle": "2022-01-15T14:04:08.151364Z",
     "shell.execute_reply": "2022-01-15T14:04:08.151987Z",
     "shell.execute_reply.started": "2022-01-15T07:01:10.806470Z"
    },
    "papermill": {
     "duration": 0.040124,
     "end_time": "2022-01-15T14:04:08.152174",
     "exception": false,
     "start_time": "2022-01-15T14:04:08.112050",
     "status": "completed"
    },
    "tags": []
   },
   "outputs": [],
   "source": [
    "class BLOCK(nn.Module):\n",
    "    def __init__(self):\n",
    "        super().__init__()\n",
    "        \n",
    "        self.block = nn.Sequential(\n",
    "            nn.Conv2d(32, 32, 3),\n",
    "            nn.Dropout2d(0.25),\n",
    "            nn.BatchNorm2d(32),\n",
    "            #nn.MaxPool2d(2),\n",
    "            nn.Softshrink(),\n",
    "            nn.ConstantPad2d(1, 0)\n",
    "        )\n",
    "        \n",
    "    def forward(self, x):\n",
    "        return self.block(x)\n",
    "\n"
   ]
  },
  {
   "cell_type": "code",
   "execution_count": 18,
   "id": "a26adbe3",
   "metadata": {
    "execution": {
     "iopub.execute_input": "2022-01-15T14:04:08.222901Z",
     "iopub.status.busy": "2022-01-15T14:04:08.221923Z",
     "iopub.status.idle": "2022-01-15T14:04:08.225676Z",
     "shell.execute_reply": "2022-01-15T14:04:08.225172Z",
     "shell.execute_reply.started": "2022-01-15T07:01:10.808308Z"
    },
    "papermill": {
     "duration": 0.042165,
     "end_time": "2022-01-15T14:04:08.225818",
     "exception": false,
     "start_time": "2022-01-15T14:04:08.183653",
     "status": "completed"
    },
    "tags": []
   },
   "outputs": [],
   "source": [
    "class RES_BLOCK(nn.Module):\n",
    "    def __init__(self, block):\n",
    "        super().__init__()\n",
    "        self.block = block\n",
    "        \n",
    "        self.pool = nn.AvgPool2d(2)\n",
    "        \n",
    "    def forward(self, x):\n",
    "        return self.pool(self.block(x) + x)\n",
    "\n"
   ]
  },
  {
   "cell_type": "code",
   "execution_count": 19,
   "id": "c2f3f8ad",
   "metadata": {
    "execution": {
     "iopub.execute_input": "2022-01-15T14:04:08.294725Z",
     "iopub.status.busy": "2022-01-15T14:04:08.293663Z",
     "iopub.status.idle": "2022-01-15T14:04:08.296217Z",
     "shell.execute_reply": "2022-01-15T14:04:08.296631Z",
     "shell.execute_reply.started": "2022-01-15T07:01:10.810075Z"
    },
    "papermill": {
     "duration": 0.041191,
     "end_time": "2022-01-15T14:04:08.296815",
     "exception": false,
     "start_time": "2022-01-15T14:04:08.255624",
     "status": "completed"
    },
    "tags": []
   },
   "outputs": [],
   "source": [
    "class LINEAR(nn.Module):\n",
    "    def __init__(self):\n",
    "        super().__init__()\n",
    "        \n",
    "        self.linear = nn.Sequential(\n",
    "            nn.Flatten(),\n",
    "            nn.Linear(800, int(800**0.5)),\n",
    "            nn.Dropout(0.25),\n",
    "            nn.Linear(int(800**0.5), 2),\n",
    "            nn.Dropout(0.25),\n",
    "            nn.LogSoftmax(dim=-1))\n",
    "        \n",
    "    def forward(self, x):\n",
    "        return self.linear(x)\n",
    "\n"
   ]
  },
  {
   "cell_type": "code",
   "execution_count": null,
   "id": "5a6aacba",
   "metadata": {
    "papermill": {
     "duration": 0.029465,
     "end_time": "2022-01-15T14:04:08.357321",
     "exception": false,
     "start_time": "2022-01-15T14:04:08.327856",
     "status": "completed"
    },
    "tags": []
   },
   "outputs": [],
   "source": []
  }
 ],
 "metadata": {
  "kernelspec": {
   "display_name": "Python 3",
   "language": "python",
   "name": "python3"
  },
  "language_info": {
   "codemirror_mode": {
    "name": "ipython",
    "version": 3
   },
   "file_extension": ".py",
   "mimetype": "text/x-python",
   "name": "python",
   "nbconvert_exporter": "python",
   "pygments_lexer": "ipython3",
   "version": "3.7.12"
  },
  "papermill": {
   "default_parameters": {},
   "duration": 24808.338348,
   "end_time": "2022-01-15T14:04:10.139790",
   "environment_variables": {},
   "exception": null,
   "input_path": "__notebook__.ipynb",
   "output_path": "__notebook__.ipynb",
   "parameters": {},
   "start_time": "2022-01-15T07:10:41.801442",
   "version": "2.3.3"
  }
 },
 "nbformat": 4,
 "nbformat_minor": 5
}
