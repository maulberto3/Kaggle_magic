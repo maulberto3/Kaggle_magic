{
 "cells": [
  {
   "cell_type": "code",
   "execution_count": 1,
   "id": "72782c5b",
   "metadata": {
    "_cell_guid": "b1076dfc-b9ad-4769-8c92-a6c4dae69d19",
    "_uuid": "8f2839f25d086af736a60e9eeb907d3b93b6e0e5",
    "execution": {
     "iopub.execute_input": "2022-01-02T02:53:48.311150Z",
     "iopub.status.busy": "2022-01-02T02:53:48.310218Z",
     "iopub.status.idle": "2022-01-02T02:53:48.457166Z",
     "shell.execute_reply": "2022-01-02T02:53:48.456364Z",
     "shell.execute_reply.started": "2022-01-02T00:14:16.101401Z"
    },
    "papermill": {
     "duration": 0.18679,
     "end_time": "2022-01-02T02:53:48.457381",
     "exception": false,
     "start_time": "2022-01-02T02:53:48.270591",
     "status": "completed"
    },
    "tags": []
   },
   "outputs": [],
   "source": [
    "%reset -sf"
   ]
  },
  {
   "cell_type": "code",
   "execution_count": 2,
   "id": "a908a313",
   "metadata": {
    "execution": {
     "iopub.execute_input": "2022-01-02T02:53:48.516643Z",
     "iopub.status.busy": "2022-01-02T02:53:48.515796Z",
     "iopub.status.idle": "2022-01-02T02:53:49.484329Z",
     "shell.execute_reply": "2022-01-02T02:53:49.483596Z",
     "shell.execute_reply.started": "2022-01-02T00:14:16.353515Z"
    },
    "papermill": {
     "duration": 1.001567,
     "end_time": "2022-01-02T02:53:49.484496",
     "exception": false,
     "start_time": "2022-01-02T02:53:48.482929",
     "status": "completed"
    },
    "tags": []
   },
   "outputs": [],
   "source": [
    "from pprint import pprint\n",
    "from collections import defaultdict, OrderedDict, namedtuple, deque\n",
    "from random import choice, seed, randint, shuffle, random\n",
    "from tqdm import tqdm\n",
    "from itertools import repeat, product, combinations, cycle\n",
    "from pathlib import Path\n",
    "from string import ascii_lowercase\n",
    "from gc import collect\n",
    "\n",
    "import numpy as np\n",
    "import pandas as pd\n",
    "\n",
    "from sklearn.model_selection import train_test_split\n",
    "\n",
    "import matplotlib.pyplot as plt\n",
    "\n",
    "from deap import creator as ga_cr, base as ga_b, algorithms as ga_algo, tools as ga_t"
   ]
  },
  {
   "cell_type": "code",
   "execution_count": 3,
   "id": "ecb9c617",
   "metadata": {
    "execution": {
     "iopub.execute_input": "2022-01-02T02:53:49.540820Z",
     "iopub.status.busy": "2022-01-02T02:53:49.540116Z",
     "iopub.status.idle": "2022-01-02T02:53:49.542500Z",
     "shell.execute_reply": "2022-01-02T02:53:49.541926Z",
     "shell.execute_reply.started": "2022-01-02T00:14:16.364892Z"
    },
    "papermill": {
     "duration": 0.032778,
     "end_time": "2022-01-02T02:53:49.542658",
     "exception": false,
     "start_time": "2022-01-02T02:53:49.509880",
     "status": "completed"
    },
    "tags": []
   },
   "outputs": [],
   "source": [
    "from IPython.core.interactiveshell import InteractiveShell\n",
    "InteractiveShell.ast_node_interactivity = 'all'"
   ]
  },
  {
   "cell_type": "code",
   "execution_count": 4,
   "id": "2ad4081c",
   "metadata": {
    "execution": {
     "iopub.execute_input": "2022-01-02T02:53:49.599679Z",
     "iopub.status.busy": "2022-01-02T02:53:49.598979Z",
     "iopub.status.idle": "2022-01-02T02:53:49.609801Z",
     "shell.execute_reply": "2022-01-02T02:53:49.609189Z",
     "shell.execute_reply.started": "2022-01-02T00:14:16.379956Z"
    },
    "papermill": {
     "duration": 0.041898,
     "end_time": "2022-01-02T02:53:49.609978",
     "exception": false,
     "start_time": "2022-01-02T02:53:49.568080",
     "status": "completed"
    },
    "tags": []
   },
   "outputs": [
    {
     "data": {
      "text/plain": [
       "[PosixPath('/kaggle/input/hashcode-2021-oqr-extension/hashcode.in'),\n",
       " PosixPath('/kaggle/input/hashcode-2021-oqr-extension/full_problem_description.pdf')]"
      ]
     },
     "execution_count": 4,
     "metadata": {},
     "output_type": "execute_result"
    }
   ],
   "source": [
    "path = Path('/kaggle') / 'input' / 'hashcode-2021-oqr-extension'\n",
    "files = list(path.glob('*'))\n",
    "files"
   ]
  },
  {
   "cell_type": "code",
   "execution_count": 5,
   "id": "5ae95450",
   "metadata": {
    "execution": {
     "iopub.execute_input": "2022-01-02T02:53:49.691016Z",
     "iopub.status.busy": "2022-01-02T02:53:49.690090Z",
     "iopub.status.idle": "2022-01-02T02:53:49.778079Z",
     "shell.execute_reply": "2022-01-02T02:53:49.778720Z",
     "shell.execute_reply.started": "2022-01-02T00:14:16.398888Z"
    },
    "papermill": {
     "duration": 0.142899,
     "end_time": "2022-01-02T02:53:49.778998",
     "exception": false,
     "start_time": "2022-01-02T02:53:49.636099",
     "status": "completed"
    },
    "tags": []
   },
   "outputs": [],
   "source": [
    "def read_input_file(input_file_path):\n",
    "    with open(input_file_path) as f:\n",
    "        arr = f.readlines()\n",
    "    return arr\n",
    "\n",
    "inputs = read_input_file(files[0])\n",
    "\n",
    "def parse_input(inputs):\n",
    "    #with open(input_file_path) as f:\n",
    "      #  arr = f.readlines()\n",
    "    arr = inputs.copy()\n",
    "    arr = arr[::-1]\n",
    "\n",
    "    # first line\n",
    "    line = arr.pop().split()\n",
    "    duration, num_inters, num_streets, num_cars, fixed_score = [\n",
    "        int(x) for x in line]\n",
    "    # print(duration, num_inters, num_streets, num_cars, fixed_score)\n",
    "\n",
    "    # parse streets with inters\n",
    "    streets = {}\n",
    "    for _ in range(num_streets):\n",
    "        line = arr.pop().split()\n",
    "        start = int(line[0])\n",
    "        end = int(line[1])\n",
    "        street_name = line[2]\n",
    "        length = int(line[-1])\n",
    "        streets[street_name] = {\"start\": start, \"end\": end, \"length\": length}\n",
    "    # print(f\"Unique Streets: {len(streets)}\")\n",
    "\n",
    "    # parse cars paths\n",
    "    cars_paths = []\n",
    "    for _ in range(num_cars):\n",
    "        line = arr.pop().split()\n",
    "        # [1:] because the first word is the length of the sequence\n",
    "        sequence = line[1:]\n",
    "        cars_paths.append(sequence)\n",
    "    # print(f\"Unique Car Paths: {len(cars_paths)}\")\n",
    "\n",
    "    return streets, cars_paths\n",
    "\n",
    "\n",
    "class MutableValue:\n",
    "    def __init__(self, val=None):\n",
    "        self.val = val\n",
    "\n",
    "\n",
    "Street = namedtuple(\n",
    "    \"Street\",\n",
    "    [\n",
    "        \"id\",  # The index of the street\n",
    "        \"start\",  # The inters object at the start of the street\n",
    "        \"end\",  # The inters object at the end of the street\n",
    "        \"name\",  # A str\n",
    "        \"duration\",  # The length of the street in seconds\n",
    "        \"driving_cars\",  # A dict mapping car ids (int) to remaining seconds\n",
    "        \"waiting_cars\",  # A deque of car ids (int)\n",
    "        \"arrival_times\",  # A dict mapping car ids (int) to their arrival times\n",
    "        # A dict mapping car ids (int) to their departure times\n",
    "        \"departure_times\"\n",
    "        # You can compute the seconds that a car\n",
    "        # was waiting at the end of the street\n",
    "        # by subtracting the arrival time from the departure time.\n",
    "    ],\n",
    ")\n",
    "\n",
    "Inters = namedtuple(\n",
    "    \"Inters\",\n",
    "    [\n",
    "        \"id\",  # The index of the Inters\n",
    "        \"incomings\",  # A deque of incoming Street objects\n",
    "        \"outgoings\",  # A deque of outgoing Street objects\n",
    "        # The Street object that currently has a green light.\n",
    "        # Will be wrapped in a MutableValue with a \"val\" attribute to allow\n",
    "        # mutating the value without mutating the namedtuple.\n",
    "        \"green_street\",\n",
    "        # An int representing the total number of waiting cars across all\n",
    "        # incoming streets of this inters.\n",
    "        # Will be wrapped in a MutableValue with a \"val\" attribute to allow\n",
    "        # mutating the value without mutating the namedtuple.\n",
    "        \"num_waiting_cars\",\n",
    "        # The sum of green times of all incoming streets in the schedule.\n",
    "        # Will be wrapped in a MutableValue with a \"val\" attribute to allow\n",
    "        # mutating the value without mutating the namedtuple.\n",
    "        \"schedule_duration\",\n",
    "        # A list mapping (t mod schedule_duration.val) to the street object\n",
    "        # that is green at time t.\n",
    "        \"green_street_per_t_mod\",  # green_street_per_t_mod: name too long\n",
    "        # A bool indicating whether the green_street ever needs to be\n",
    "        # updated during the simulation (i.e., whether the schedule has\n",
    "        # more than one street).\n",
    "        # Will be wrapped in a MutableValue with a \"val\" attribute to allow\n",
    "        # mutating the value without mutating the namedtuple.\n",
    "        \"needs_updates\",\n",
    "    ],\n",
    ")\n",
    "\n",
    "# We only use street indices and inters indices here to allow\n",
    "# fast deep-copies of a schedule for testing out and reverting modifications.\n",
    "Schedule = namedtuple(\n",
    "    \"Schedule\",\n",
    "    [\n",
    "        \"i_inters\",  # The index of the inters\n",
    "        \"order\",  # A list of street ids\n",
    "        \"green_times\",  # A dict mapping street ids to green times (seconds)\n",
    "    ],\n",
    ")\n",
    "\n",
    "\n",
    "def read_input_file_(input_file_path):\n",
    "    with open(input_file_path) as f:\n",
    "        lines = deque(f.readlines())\n",
    "    return lines\n",
    "\n",
    "inputs_ = read_input_file_(files[0])\n",
    "\n",
    "\n",
    "def parse_input2(inputs_):\n",
    "    #with open(input_file_path) as f:\n",
    "     #   lines = deque(f.readlines())\n",
    "\n",
    "    # Parse the first line\n",
    "    lines = inputs_.copy()\n",
    "    total_duration, num_interss, num_streets, num_cars, bonus_points = map(\n",
    "        int, lines.popleft().split()\n",
    "    )\n",
    "\n",
    "    # Create empty interss\n",
    "    interss = tuple(\n",
    "        Inters(\n",
    "            id=i,\n",
    "            incomings=deque(),\n",
    "            outgoings=deque(),\n",
    "            green_street=MutableValue(),\n",
    "            num_waiting_cars=MutableValue(0),\n",
    "            green_street_per_t_mod=[],\n",
    "            schedule_duration=MutableValue(),\n",
    "            needs_updates=MutableValue(False),\n",
    "        )\n",
    "        for i in range(num_interss)\n",
    "    )\n",
    "\n",
    "    # Parse the streets\n",
    "    streets = []\n",
    "    name_to_street = {}\n",
    "    for i_street in range(num_streets):\n",
    "        line = lines.popleft().split()\n",
    "        start, end = map(int, line[:2])\n",
    "        name = line[2]\n",
    "        duration = int(line[3])\n",
    "        street = Street(\n",
    "            id=i_street,\n",
    "            start=interss[start],\n",
    "            end=interss[end],\n",
    "            name=name,\n",
    "            duration=duration,\n",
    "            driving_cars={},\n",
    "            waiting_cars=deque(),\n",
    "            arrival_times={},\n",
    "            departure_times={},\n",
    "        )\n",
    "        name_to_street[name] = street\n",
    "        interss[start].outgoings.append(street)\n",
    "        interss[end].incomings.append(street)\n",
    "        streets.append(street)\n",
    "\n",
    "    # Parse the paths\n",
    "    paths = []\n",
    "    for i_car in range(num_cars):\n",
    "        line = lines.popleft().split()\n",
    "        path_length = int(line[0])\n",
    "        path = line[1:]\n",
    "        assert len(path) == path_length\n",
    "        path = deque(name_to_street[name] for name in path)\n",
    "        paths.append(path)\n",
    "\n",
    "    return (total_duration, bonus_points, interss,\n",
    "            streets, name_to_street, paths)"
   ]
  },
  {
   "cell_type": "code",
   "execution_count": 6,
   "id": "39bf58f0",
   "metadata": {
    "execution": {
     "iopub.execute_input": "2022-01-02T02:53:49.835319Z",
     "iopub.status.busy": "2022-01-02T02:53:49.834523Z",
     "iopub.status.idle": "2022-01-02T02:53:49.876821Z",
     "shell.execute_reply": "2022-01-02T02:53:49.876096Z",
     "shell.execute_reply.started": "2022-01-02T00:14:16.450713Z"
    },
    "papermill": {
     "duration": 0.071189,
     "end_time": "2022-01-02T02:53:49.877002",
     "exception": false,
     "start_time": "2022-01-02T02:53:49.805813",
     "status": "completed"
    },
    "tags": []
   },
   "outputs": [],
   "source": [
    "def create_inters(streets, cars_paths, cars_paths_order='descending'):\n",
    "    if cars_paths_order == 'descending':\n",
    "        cars_paths = reversed(sorted(cars_paths, key=len))\n",
    "    if cars_paths_order == 'ascending':\n",
    "        cars_paths = sorted(cars_paths, key=len)\n",
    "    if cars_paths_order == 'random':\n",
    "        shuffle(cars_paths)\n",
    "\n",
    "    inters_streets = defaultdict(set)\n",
    "    for car_path in cars_paths:\n",
    "        for street in car_path:\n",
    "            inters_streets[streets[street][\"end\"]].add(street)\n",
    "    # print(f\"Unique Intersections: {len(inters_streets)}\")\n",
    "\n",
    "    return inters_streets\n",
    "\n",
    "\n",
    "# NOTE: There are some intersections never reached by cars paths\n",
    "# So, they should not be accounted for in schedules, otherwise error!\n",
    "\n",
    "\n",
    "def create_time_fractions(interss, light_times):\n",
    "    # each inters gets a light\n",
    "    # each light gets own schedule\n",
    "    # very granular!\n",
    "    #inters_sched = defaultdict(dict)\n",
    "    #for i, inters in enumerate(interss):\n",
    "     #    for j, street in enumerate(interss[inters]):\n",
    "      #          inters_sched[inters][street] = randint(1, 3)\n",
    "                \n",
    "    inters_sched = defaultdict(dict)\n",
    "    for inters, time_fraction in zip(interss, light_times):\n",
    "        for street in interss[inters]:\n",
    "            inters_sched[inters][street] = time_fraction\n",
    "\n",
    "    return inters_sched\n",
    "\n",
    "\n",
    "def set_schedules(inters_streets, time_fractions):\n",
    "    # Set schedules\n",
    "    schedules = []\n",
    "    for inters, streets in inters_streets.items():\n",
    "        cycle = []\n",
    "        for street in streets:\n",
    "            # time_fraction = 1  # int(randint(1, 5))\n",
    "            # time_fraction = 1\n",
    "            cycle.append([inters, street, time_fractions[inters][street]])\n",
    "        schedules.append(cycle)\n",
    "    return schedules\n",
    "\n",
    "\n",
    "def format_schedules(schedules):\n",
    "    # Parse solution into submission\n",
    "    res = []\n",
    "    res.append([len(schedules)])  # requirement\n",
    "    for cycle in schedules:\n",
    "        res.append([cycle[0][0]])  # requirement: inters ID\n",
    "        res.append([len(cycle)])  # requirement: lenght of inters\n",
    "        for inters, street, time_fraction in cycle:\n",
    "            res.append([street, time_fraction])\n",
    "    res1 = \"\\n\".join(\" \".join([str(x) for x in row]) for row in res)\n",
    "    # with open(\"submission.csv\", \"w\") as text_file:\n",
    "    #     text_file.write(res1)\n",
    "    res2 = [\" \".join([str(x) for x in row]) for row in res]\n",
    "    return res1, res2\n",
    "\n",
    "\n",
    "def parse_schedules(output_file_path, name_to_street):\n",
    "    # with open(output_file_path) as f:\n",
    "    #     lines = f.readlines()\n",
    "    #     lines = deque(lines)\n",
    "    # adusted to consume from variables,\n",
    "    # instead of file path\n",
    "    lines = deque(output_file_path)\n",
    "    num_schedules = int(lines.popleft())\n",
    "    schedules = []\n",
    "    for i_schedule in range(num_schedules):\n",
    "        i_inters = int(lines.popleft())\n",
    "        num_incomings = int(lines.popleft())\n",
    "        order = []\n",
    "        green_times = {}\n",
    "        for i_incoming in range(num_incomings):\n",
    "            street_name, green_time = lines.popleft().split()\n",
    "            green_time = int(green_time)\n",
    "            street = name_to_street[street_name]\n",
    "            order.append(street.id)\n",
    "            green_times[street.id] = green_time\n",
    "\n",
    "        schedule = Schedule(i_inters=i_inters, order=order,\n",
    "                            green_times=green_times)\n",
    "        schedules.append(schedule)\n",
    "    return schedules\n",
    "\n",
    "\n",
    "def reset(streets, interss):\n",
    "    # Reinitialize mutable data structures\n",
    "    for street in streets:\n",
    "        street.driving_cars.clear()\n",
    "        street.waiting_cars.clear()\n",
    "        street.arrival_times.clear()\n",
    "        street.departure_times.clear()\n",
    "\n",
    "    for inters in interss:\n",
    "        inters.green_street.val = None\n",
    "        inters.num_waiting_cars.val = 0\n",
    "        inters.green_street_per_t_mod.clear()\n",
    "        inters.schedule_duration.val = None\n",
    "        inters.needs_updates.val = False\n",
    "\n",
    "\n",
    "def grade(schedules, streets, interss, paths,\n",
    "          total_duration, bonus_points):\n",
    "    reset(streets, interss)\n",
    "\n",
    "    # We will consume the deques in the paths list. Save a copy of them\n",
    "    # for later to reset the paths after the simulation.\n",
    "    paths_copy = [path.copy() for path in paths]\n",
    "\n",
    "    # Iterate through the schedules and initialize the interss.\n",
    "    inters_ids_with_schedules = set()\n",
    "    for schedule in schedules:\n",
    "        inters = interss[schedule.i_inters]\n",
    "        inters_ids_with_schedules.add(inters.id)\n",
    "        first_street = streets[schedule.order[0]]\n",
    "        inters.green_street.val = first_street\n",
    "        inters.needs_updates.val = len(schedule.order) > 1\n",
    "        schedule_duration = 0\n",
    "        green_street_per_t_mod = inters.green_street_per_t_mod\n",
    "        for street_id in schedule.order:\n",
    "            green_time = schedule.green_times[street_id]\n",
    "            for _ in range(green_time):\n",
    "                green_street_per_t_mod.append(streets[street_id])\n",
    "            schedule_duration += green_time\n",
    "        inters.schedule_duration.val = schedule_duration\n",
    "\n",
    "    # inters_ids_with_waiting_cars is restricted to interss\n",
    "    # with schedules\n",
    "    inters_ids_with_waiting_cars = set()\n",
    "    for i_car, path in enumerate(paths):\n",
    "        street = path.popleft()\n",
    "        street.waiting_cars.append(i_car)\n",
    "        if street.end.id in inters_ids_with_schedules:\n",
    "            inters_ids_with_waiting_cars.add(street.end.id)\n",
    "        street.end.num_waiting_cars.val += 1\n",
    "\n",
    "    street_ids_with_driving_cars = set()\n",
    "    score = 0\n",
    "\n",
    "    # Main simulation loop\n",
    "    for t in range(total_duration):\n",
    "\n",
    "        # Drive across interss\n",
    "        # Store the ids of interss that\n",
    "        # don't have waiting cars after this.\n",
    "        inters_ids_to_remove = set()\n",
    "        for i_inters in inters_ids_with_waiting_cars:\n",
    "            inters = interss[i_inters]\n",
    "\n",
    "            if inters.needs_updates.val:\n",
    "                # Update the green street\n",
    "                t_mod = t % inters.schedule_duration.val\n",
    "                inters.green_street.val = inters.green_street_per_t_mod[t_mod]\n",
    "\n",
    "            green_street = inters.green_street.val\n",
    "            waiting_cars = green_street.waiting_cars\n",
    "            if len(waiting_cars) > 0:\n",
    "                # Drive across the inters\n",
    "                waiting_car = waiting_cars.popleft()\n",
    "                green_street.departure_times[waiting_car] = t\n",
    "                next_street = paths[waiting_car].popleft()\n",
    "                next_street.driving_cars[waiting_car] = next_street.duration\n",
    "                street_ids_with_driving_cars.add(next_street.id)\n",
    "\n",
    "                inters.num_waiting_cars.val -= 1\n",
    "                if inters.num_waiting_cars.val == 0:\n",
    "                    inters_ids_to_remove.add(i_inters)\n",
    "\n",
    "        inters_ids_with_waiting_cars.difference_update(inters_ids_to_remove)\n",
    "\n",
    "        # Drive across roads\n",
    "        # Store the ids of streets that don't have driving cars after this.\n",
    "        street_ids_to_remove = set()\n",
    "        for i_street in street_ids_with_driving_cars:\n",
    "            street = streets[i_street]\n",
    "            driving_cars = street.driving_cars\n",
    "            for car in list(driving_cars):\n",
    "                # Update the \"time to live\" of this car,\n",
    "                # i.e. the remaining driving seconds.\n",
    "                ttl = driving_cars[car]\n",
    "                ttl -= 1\n",
    "                if ttl < 0:\n",
    "                    raise ValueError\n",
    "                elif ttl == 0:\n",
    "                    # Reached the end of the street\n",
    "                    del driving_cars[car]\n",
    "                    if len(paths[car]) == 0:\n",
    "                        # FINISH\n",
    "                        score += bonus_points\n",
    "                        score += total_duration - t - 1\n",
    "\n",
    "                    else:\n",
    "                        street.waiting_cars.append(car)\n",
    "                        street.end.num_waiting_cars.val += 1\n",
    "                        street.arrival_times[car] = t + 1\n",
    "                        inters_id = street.end.id\n",
    "                        if inters_id in inters_ids_with_schedules:\n",
    "                            inters_ids_with_waiting_cars.add(inters_id)\n",
    "                else:\n",
    "                    # The car is still driving on the street\n",
    "                    driving_cars[car] = ttl\n",
    "            if len(driving_cars) == 0:\n",
    "                street_ids_to_remove.add(i_street)\n",
    "        street_ids_with_driving_cars.difference_update(street_ids_to_remove)\n",
    "\n",
    "    # We are done with the simulation. Restore the paths.\n",
    "    for i_path in range(len(paths)):\n",
    "        paths[i_path] = paths_copy[i_path]\n",
    "\n",
    "    return score\n",
    "\n",
    "def write_best_score(score, schedules):\n",
    "    with open(f\"submission_score_{score:,}.csv\", \"w\") as text_file:\n",
    "        text_file.write(schedules)"
   ]
  },
  {
   "cell_type": "code",
   "execution_count": 7,
   "id": "1b6985d8",
   "metadata": {
    "execution": {
     "iopub.execute_input": "2022-01-02T02:53:49.933506Z",
     "iopub.status.busy": "2022-01-02T02:53:49.932622Z",
     "iopub.status.idle": "2022-01-02T02:53:49.961997Z",
     "shell.execute_reply": "2022-01-02T02:53:49.961354Z",
     "shell.execute_reply.started": "2022-01-02T00:14:16.497333Z"
    },
    "papermill": {
     "duration": 0.059349,
     "end_time": "2022-01-02T02:53:49.962180",
     "exception": false,
     "start_time": "2022-01-02T02:53:49.902831",
     "status": "completed"
    },
    "tags": []
   },
   "outputs": [],
   "source": [
    "class GA_Hash_Traffic_Light():\n",
    "    def __init__(self, \n",
    "                 #params, \n",
    "                 eval_func,\n",
    "                 eval_weights,\n",
    "                 #\n",
    "                 #input_file,\n",
    "                 inputs,\n",
    "                 inputs_,\n",
    "                 #\n",
    "                 lb_light_time=1,\n",
    "                 ub_light_time=10,\n",
    "                 #\n",
    "                 #inters_streets=inters_streets,\n",
    "                 #name_to_i_street=name_to_i_street, \n",
    "                 #streets2=streets2,\n",
    "                 #inters=inters,\n",
    "                 #paths=paths,\n",
    "                 #duration=duration,\n",
    "                 #bonus_points=bonus_points,\n",
    "                 #\n",
    "                 sel_tournsize=2, \n",
    "                 cx_uniform_prob=0.5, \n",
    "                 mut_shuffle_idx_prob=0.1, \n",
    "                 n_pop=150, \n",
    "                 n_gen=20, \n",
    "                 n_hof=1, \n",
    "                 cx_prob=0.5, \n",
    "                 mut_prob=0.1, \n",
    "                 n_jobs=4\n",
    "                ):\n",
    "        #self.params = params\n",
    "        self.eval_func = eval_func\n",
    "        self.eval_weights = eval_weights\n",
    "        \n",
    "        #self.input_file = input_file\n",
    "        self.inputs = inputs\n",
    "        self.inputs_ = inputs_\n",
    "        self.lb_light_time = lb_light_time\n",
    "        self.ub_light_time = ub_light_time\n",
    "        \n",
    "        #self.inters_streets = inters_streets\n",
    "        #self.name_to_i_street = name_to_i_street\n",
    "        #self.streets2 = streets2\n",
    "        #self.inters = inters\n",
    "        #self.paths = paths\n",
    "        #self.duration = duration\n",
    "        #self.bonus_points = bonus_points\n",
    "        \n",
    "        self.sel_tournsize = sel_tournsize\n",
    "        self.cx_uniform_prob = cx_uniform_prob\n",
    "        self.mut_shuffle_idx_prob = mut_shuffle_idx_prob\n",
    "        self.n_pop = n_pop\n",
    "        self.n_gen = n_gen\n",
    "        self.n_hof = n_hof\n",
    "        self.cx_prob = cx_prob\n",
    "        self.mut_prob = mut_prob\n",
    "        \n",
    "        self.n_jobs = n_jobs\n",
    "\n",
    "        self._create_fitness_and_indiv()\n",
    "        self._register_indiv_and_pop_generators()\n",
    "        self._register_eval_func()\n",
    "        self._register_selection_crossover_mutation_methods()\n",
    "\n",
    "    def _create_fitness_and_indiv(self):\n",
    "        \"\"\"Create GA individual and fitness entities (classes)\"\"\"\n",
    "        ga_cr.create('Fitness', ga_b.Fitness, weights=self.eval_weights)\n",
    "        ga_cr.create('Individual', list, fitness=ga_cr.Fitness)\n",
    "        print('GA entities created')\n",
    "\n",
    "    def _gen_params_to_ga(self):\n",
    "        \"\"\"Generate index for each param for individual\"\"\"\n",
    "        idxs = [randint(self.lb_light_time, self.ub_light_time) for _ in range(7999)]\n",
    "        return idxs\n",
    "    \n",
    "    def _register_indiv_and_pop_generators(self):\n",
    "        \"\"\"Register GA individual and population generators\"\"\"\n",
    "        self.tb = ga_b.Toolbox()\n",
    "\n",
    "        if self.n_jobs > 1:\n",
    "            from multiprocessing import Pool\n",
    "            pool = Pool()\n",
    "            self.tb.register(\"map\", pool.map)\n",
    "\n",
    "        self.tb.register(\"individual\", ga_t.initIterate, ga_cr.Individual, self._gen_params_to_ga)\n",
    "        #print('indiv', self.tb.individual())\n",
    "        self.tb.register(\"population\", ga_t.initRepeat, list, self.tb.individual)\n",
    "        #print('population', self.tb.population(n=2))\n",
    "        print('GA entities\\' methods registered')\n",
    "        \n",
    "    def _register_eval_func(self):\n",
    "        \"\"\"Set GA evaluate individual function\"\"\"\n",
    "        self.tb.register(\"evaluate\",\n",
    "                        self.eval_func,\n",
    "                        inputs=self.inputs,\n",
    "                        inputs_=self.inputs_,\n",
    "                        )\n",
    "        #print(list(self.tb.evaluate(indiv) for indiv in self.tb.population(3)))\n",
    "        print('GA eval function registered')\n",
    "    \n",
    "    def _register_selection_crossover_mutation_methods(self):\n",
    "        self.tb.register(\"select\", ga_t.selTournament, tournsize=self.sel_tournsize)\n",
    "        self.tb.register(\"mate\", ga_t.cxUniformPartialyMatched, indpb=self.cx_uniform_prob)  # , (cxUniform, indpb=self.cx_uniform_prob) (PartialyMatched) (cxUniformPartialyMatched, indpb=self.cx_uniform_prob)\n",
    "        self.tb.register(\"mutate\", ga_t.mutUniformInt, low=self.lb_light_time, up=self.ub_light_time, indpb=self.mut_shuffle_idx_prob)\n",
    "        print('GA sel-cx-mut methods registered')\n",
    "        \n",
    "    def run_ga_search(self):\n",
    "        \"\"\"GA Search\"\"\"\n",
    "        pop = self.tb.population(n=self.n_pop)\n",
    "        hof = ga_t.HallOfFame(self.n_hof)\n",
    "\n",
    "        # Stats stdout\n",
    "        stats = ga_t.Statistics(lambda ind: ind.fitness.values )\n",
    "        #stats1 = ga_t.Statistics(lambda ind: ind.fitness.values[0] )\n",
    "        #stats2 = ga_t.Statistics(lambda ind: ind.fitness.values[1] )\n",
    "        #stats3 = ga_t.Statistics(lambda ind: ind.fitness.values[2] )\n",
    "        stats = ga_t.MultiStatistics(traffic_score=stats)\n",
    "        stats.register(\"avg\", np.mean)\n",
    "        #stats.register(\"std\", np.std)\n",
    "        #stats.register(\"min\", np.min)\n",
    "        stats.register(\"max\", np.max)\n",
    "\n",
    "        # History\n",
    "        #hist = tools.History()\n",
    "        #toolbox.decorate(\"select\", hist.decorator)\n",
    "        #tb.decorate(\"mate\", hist.decorator)\n",
    "        #tb.decorate(\"mutate\", hist.decorator)\n",
    "        #hist.update(pop)\n",
    "\n",
    "        # GA Run\n",
    "        pop, log = ga_algo.eaSimple(pop, self.tb, cxpb=self.cx_prob, \n",
    "                                    mutpb=self.mut_prob, ngen=self.n_gen, \n",
    "                                    stats=stats, halloffame=hof, verbose=True)\n",
    "        \n",
    "        # Convert back params\n",
    "        #hof_ = {}\n",
    "        #for i in range(self.n_hof):\n",
    "         #   hof_['hof_' + str(i)] = self._ga_to_params(hof[i])\n",
    "\n",
    "        return pop, log, hof\n",
    "    \n",
    "    def _ga_to_params(self, idx_params):\n",
    "        \"\"\"Convert back idx to params\"\"\"\n",
    "        res = {}\n",
    "        for (k,v), idx in zip(self.padded_params.items(), idx_params):\n",
    "            res[k] = v[idx]\n",
    "        return res"
   ]
  },
  {
   "cell_type": "code",
   "execution_count": 8,
   "id": "97577ed2",
   "metadata": {
    "execution": {
     "iopub.execute_input": "2022-01-02T02:53:50.022385Z",
     "iopub.status.busy": "2022-01-02T02:53:50.021673Z",
     "iopub.status.idle": "2022-01-02T02:53:50.024761Z",
     "shell.execute_reply": "2022-01-02T02:53:50.024180Z",
     "shell.execute_reply.started": "2022-01-02T00:14:16.523787Z"
    },
    "papermill": {
     "duration": 0.036717,
     "end_time": "2022-01-02T02:53:50.024933",
     "exception": false,
     "start_time": "2022-01-02T02:53:49.988216",
     "status": "completed"
    },
    "tags": []
   },
   "outputs": [],
   "source": [
    "def hash_eval_indiv(individual, inputs, inputs_):\n",
    "    \"\"\"Evaluate individual's genes (estimator's params)\"\"\"\n",
    "    # Containers\n",
    "    streets, cars_paths = parse_input(inputs)\n",
    "    duration, bonus_points, inters, streets2, name_to_i_street, paths = parse_input2(inputs_)\n",
    "\n",
    "    # Create intersections\n",
    "    inters_streets = create_inters(streets, cars_paths)\n",
    "\n",
    "    # Create schedules times\n",
    "    time_fractions = create_time_fractions(inters_streets, individual)\n",
    "\n",
    "    # Schedules\n",
    "    schedules = set_schedules(inters_streets, time_fractions)\n",
    "    schedules_str, schedules_file = format_schedules(schedules)\n",
    "\n",
    "    # Evaluation\n",
    "    schedules_for_grade = parse_schedules(schedules_file, name_to_i_street)\n",
    "    score = grade(schedules_for_grade, streets2, inters, paths, duration, bonus_points)\n",
    "    \n",
    "    collect()\n",
    "\n",
    "    return (score,)\n",
    "\n",
    "hash_weights = (1,)"
   ]
  },
  {
   "cell_type": "code",
   "execution_count": 9,
   "id": "c0b77ac6",
   "metadata": {
    "execution": {
     "iopub.execute_input": "2022-01-02T02:53:50.081483Z",
     "iopub.status.busy": "2022-01-02T02:53:50.080726Z",
     "iopub.status.idle": "2022-01-02T04:36:57.572630Z",
     "shell.execute_reply": "2022-01-02T04:36:57.573203Z",
     "shell.execute_reply.started": "2022-01-02T00:14:16.540454Z"
    },
    "papermill": {
     "duration": 6187.522267,
     "end_time": "2022-01-02T04:36:57.573421",
     "exception": false,
     "start_time": "2022-01-02T02:53:50.051154",
     "status": "completed"
    },
    "tags": []
   },
   "outputs": [
    {
     "name": "stdout",
     "output_type": "stream",
     "text": [
      "GA entities created\n",
      "GA entities' methods registered\n",
      "GA eval function registered\n",
      "GA sel-cx-mut methods registered\n",
      "   \t      \t                traffic_score                 \n",
      "   \t      \t----------------------------------------------\n",
      "gen\tnevals\tavg       \tgen\tmax        \tnevals\n",
      "0  \t150   \t3.0979e+06\t0  \t3.29326e+06\t150   \n",
      "1  \t90    \t3.1463e+06\t1  \t3.36258e+06\t90    \n",
      "2  \t76    \t3.1891e+06\t2  \t3.36258e+06\t76    \n",
      "3  \t91    \t3.22114e+06\t3  \t3.36258e+06\t91    \n",
      "4  \t92    \t3.25123e+06\t4  \t3.39766e+06\t92    \n",
      "5  \t95    \t3.27182e+06\t5  \t3.39766e+06\t95    \n",
      "6  \t89    \t3.2976e+06 \t6  \t3.42868e+06\t89    \n",
      "7  \t84    \t3.31219e+06\t7  \t3.42868e+06\t84    \n",
      "8  \t90    \t3.33391e+06\t8  \t3.43665e+06\t90    \n",
      "9  \t82    \t3.35073e+06\t9  \t3.44009e+06\t82    \n",
      "10 \t87    \t3.36638e+06\t10 \t3.4484e+06 \t87    \n",
      "11 \t97    \t3.38212e+06\t11 \t3.47172e+06\t97    \n",
      "12 \t72    \t3.40002e+06\t12 \t3.47722e+06\t72    \n",
      "13 \t77    \t3.41374e+06\t13 \t3.49843e+06\t77    \n",
      "14 \t76    \t3.42803e+06\t14 \t3.49843e+06\t76    \n",
      "15 \t92    \t3.44042e+06\t15 \t3.49843e+06\t92    \n",
      "16 \t77    \t3.45255e+06\t16 \t3.5074e+06 \t77    \n",
      "17 \t94    \t3.4638e+06 \t17 \t3.51965e+06\t94    \n",
      "18 \t88    \t3.47072e+06\t18 \t3.52441e+06\t88    \n",
      "19 \t84    \t3.48399e+06\t19 \t3.52441e+06\t84    \n",
      "20 \t94    \t3.49284e+06\t20 \t3.53443e+06\t94    \n"
     ]
    }
   ],
   "source": [
    "ga_hash = GA_Hash_Traffic_Light(hash_eval_indiv, \n",
    "                                hash_weights,\n",
    "                                #\n",
    "                                inputs,\n",
    "                                inputs_,\n",
    "                                #\n",
    "                                ub_light_time=3\n",
    "                               )\n",
    "pop, log, hof = ga_hash.run_ga_search()"
   ]
  },
  {
   "cell_type": "code",
   "execution_count": 10,
   "id": "3f8ebb97",
   "metadata": {
    "execution": {
     "iopub.execute_input": "2022-01-02T04:36:57.644276Z",
     "iopub.status.busy": "2022-01-02T04:36:57.643537Z",
     "iopub.status.idle": "2022-01-02T04:36:57.654939Z",
     "shell.execute_reply": "2022-01-02T04:36:57.655518Z",
     "shell.execute_reply.started": "2022-01-02T00:15:27.254628Z"
    },
    "papermill": {
     "duration": 0.049636,
     "end_time": "2022-01-02T04:36:57.655709",
     "exception": false,
     "start_time": "2022-01-02T04:36:57.606073",
     "status": "completed"
    },
    "tags": []
   },
   "outputs": [
    {
     "data": {
      "text/plain": [
       "array([1, 3, 3, ..., 3, 3, 1])"
      ]
     },
     "execution_count": 10,
     "metadata": {},
     "output_type": "execute_result"
    }
   ],
   "source": [
    "np.array(hof[0])"
   ]
  },
  {
   "cell_type": "code",
   "execution_count": 11,
   "id": "81562aab",
   "metadata": {
    "execution": {
     "iopub.execute_input": "2022-01-02T04:36:57.771271Z",
     "iopub.status.busy": "2022-01-02T04:36:57.766352Z",
     "iopub.status.idle": "2022-01-02T04:37:05.695447Z",
     "shell.execute_reply": "2022-01-02T04:37:05.694645Z",
     "shell.execute_reply.started": "2022-01-02T00:15:29.220901Z"
    },
    "papermill": {
     "duration": 8.00665,
     "end_time": "2022-01-02T04:37:05.695619",
     "exception": false,
     "start_time": "2022-01-02T04:36:57.688969",
     "status": "completed"
    },
    "tags": []
   },
   "outputs": [
    {
     "data": {
      "text/plain": [
       "3534429"
      ]
     },
     "execution_count": 11,
     "metadata": {},
     "output_type": "execute_result"
    }
   ],
   "source": [
    "# Hash with best HoF\n",
    "\n",
    "# Containers\n",
    "streets, cars_paths = parse_input(inputs)\n",
    "duration, bonus_points, inters, streets2, name_to_i_street, paths = parse_input2(inputs_)\n",
    "    \n",
    "# Create intersections\n",
    "inters_streets = create_inters(streets, cars_paths)\n",
    "\n",
    "# Create schedules times\n",
    "time_fractions = create_time_fractions(inters_streets, light_times=hof[0])\n",
    "    \n",
    "# Schedules\n",
    "schedules = set_schedules(inters_streets, time_fractions)\n",
    "schedules_str, schedules_file = format_schedules(schedules)\n",
    "\n",
    "# Evaluation\n",
    "schedules_for_grade = parse_schedules(schedules_file, name_to_i_street)\n",
    "score = grade(schedules_for_grade, streets2, inters, paths, duration, bonus_points)\n",
    "score"
   ]
  },
  {
   "cell_type": "code",
   "execution_count": 12,
   "id": "45ce5ea1",
   "metadata": {
    "execution": {
     "iopub.execute_input": "2022-01-02T04:37:05.769393Z",
     "iopub.status.busy": "2022-01-02T04:37:05.768467Z",
     "iopub.status.idle": "2022-01-02T04:37:05.771320Z",
     "shell.execute_reply": "2022-01-02T04:37:05.771775Z",
     "shell.execute_reply.started": "2022-01-02T00:15:27.208595Z"
    },
    "papermill": {
     "duration": 0.042411,
     "end_time": "2022-01-02T04:37:05.772021",
     "exception": false,
     "start_time": "2022-01-02T04:37:05.729610",
     "status": "completed"
    },
    "tags": []
   },
   "outputs": [],
   "source": [
    "# Write\n",
    "write_best_score(score, schedules_str)"
   ]
  },
  {
   "cell_type": "code",
   "execution_count": null,
   "id": "1ca12204",
   "metadata": {
    "papermill": {
     "duration": 0.033014,
     "end_time": "2022-01-02T04:37:05.838456",
     "exception": false,
     "start_time": "2022-01-02T04:37:05.805442",
     "status": "completed"
    },
    "tags": []
   },
   "outputs": [],
   "source": []
  },
  {
   "cell_type": "code",
   "execution_count": null,
   "id": "04c4ad00",
   "metadata": {
    "papermill": {
     "duration": 0.033684,
     "end_time": "2022-01-02T04:37:05.905988",
     "exception": false,
     "start_time": "2022-01-02T04:37:05.872304",
     "status": "completed"
    },
    "tags": []
   },
   "outputs": [],
   "source": []
  },
  {
   "cell_type": "code",
   "execution_count": null,
   "id": "694cde8f",
   "metadata": {
    "papermill": {
     "duration": 0.033355,
     "end_time": "2022-01-02T04:37:05.972753",
     "exception": false,
     "start_time": "2022-01-02T04:37:05.939398",
     "status": "completed"
    },
    "tags": []
   },
   "outputs": [],
   "source": []
  },
  {
   "cell_type": "code",
   "execution_count": 13,
   "id": "c110e437",
   "metadata": {
    "execution": {
     "iopub.execute_input": "2022-01-02T04:37:06.049376Z",
     "iopub.status.busy": "2022-01-02T04:37:06.048574Z",
     "iopub.status.idle": "2022-01-02T04:37:06.050039Z",
     "shell.execute_reply": "2022-01-02T04:37:06.050579Z",
     "shell.execute_reply.started": "2022-01-02T00:15:27.214769Z"
    },
    "papermill": {
     "duration": 0.044188,
     "end_time": "2022-01-02T04:37:06.050773",
     "exception": false,
     "start_time": "2022-01-02T04:37:06.006585",
     "status": "completed"
    },
    "tags": []
   },
   "outputs": [],
   "source": [
    "if False:\n",
    "    # one light schedule for all inters!\n",
    "        # OPT_TIME_FRACTION = int(trial.suggest_float(\n",
    "        #     'opt_time_fraction', lower_time_fraction, upper_time_fraction))\n",
    "        # inters_sched = defaultdict(dict)\n",
    "        # for inters in interss:\n",
    "        #     for j, street in enumerate(interss[inters]):\n",
    "        #         inters_sched[inters][street] = OPT_TIME_FRACTION\n",
    "\n",
    "        if grouping:\n",
    "            time_fractions = []\n",
    "            for i in range(grouping):\n",
    "                OPT_TIME_FRACTION = int(trial.suggest_float(\n",
    "                    'OPT_TIME_FRACTION_' + str(i),\n",
    "                    lower_time_fraction,\n",
    "                    upper_time_fraction))\n",
    "                time_fractions.append(OPT_TIME_FRACTION)\n",
    "            inters_sched = defaultdict(dict)\n",
    "            for inters, time_fraction in zip(interss, cycle(time_fractions)):\n",
    "                for j, street in enumerate(interss[inters]):\n",
    "                    inters_sched[inters][street] = time_fraction\n",
    "\n",
    "        ###################\n",
    "        # num_inc_strs = []\n",
    "        # for inters in interss:\n",
    "        #     num_inc_strs.append(len(list(interss[inters])))\n",
    "        # print(f'mean street per inters:', {array(num_inc_strs).mean()})\n",
    "        ###################\n",
    "\n",
    "        # each inters gets light\n",
    "        # each light has same schedule\n",
    "        # time_fractions = []\n",
    "        # for i in range(len(interss)):\n",
    "        #     name = \"OPT_TIME_FRACTION_\" + str(i)  # + '_' + str(j)\n",
    "        #     # OPT_TIME_FRACTION = trial.suggest_int(\n",
    "        #     #     name, lower_time_fraction, upper_time_fraction)\n",
    "        #     OPT_TIME_FRACTION = int(trial.suggest_float(\n",
    "        #         name, lower_time_fraction, upper_time_fraction))\n",
    "        #     time_fractions.append(OPT_TIME_FRACTION)\n",
    "        # inters_sched = defaultdict(dict)\n",
    "        # for inters, time_fraction in zip(interss, cycle(time_fractions)):\n",
    "        #     for j, street in enumerate(interss[inters]):\n",
    "        #         inters_sched[inters][street] = time_fraction\n",
    "\n",
    "        # in-between previous and next one"
   ]
  },
  {
   "cell_type": "code",
   "execution_count": 14,
   "id": "c849fd50",
   "metadata": {
    "execution": {
     "iopub.execute_input": "2022-01-02T04:37:06.121350Z",
     "iopub.status.busy": "2022-01-02T04:37:06.120697Z",
     "iopub.status.idle": "2022-01-02T04:37:06.125562Z",
     "shell.execute_reply": "2022-01-02T04:37:06.126150Z",
     "shell.execute_reply.started": "2022-01-02T00:15:27.227615Z"
    },
    "papermill": {
     "duration": 0.042084,
     "end_time": "2022-01-02T04:37:06.126333",
     "exception": false,
     "start_time": "2022-01-02T04:37:06.084249",
     "status": "completed"
    },
    "tags": []
   },
   "outputs": [
    {
     "data": {
      "text/plain": [
       "'from torch import optim\\nfrom torch.utils.data import DataLoader, Dataset\\nfrom torchvision.datasets import ImageFolder\\nfrom torch import (load, amax as pt_amax, max as pt_max, ones, save, no_grad, stack, numel, tensor, \\n                   manual_seed, sigmoid, tanh, add, mul, sub, div, amin as pt_amin, cat,\\n                  maximum, minimum, device, cuda, rand, prod, median, log as pt_log, round as pt_round,\\n                  isnan, flatten, mean)\\nfrom torch import nn\\nfrom torch.nn import functional as F\\nfrom torch.optim import Adam\\n#from torchviz import make_dot\\nimport torchvision\\nimport torchvision.transforms as transforms'"
      ]
     },
     "execution_count": 14,
     "metadata": {},
     "output_type": "execute_result"
    }
   ],
   "source": [
    "\n",
    "\"\"\"from torch import optim\n",
    "from torch.utils.data import DataLoader, Dataset\n",
    "from torchvision.datasets import ImageFolder\n",
    "from torch import (load, amax as pt_amax, max as pt_max, ones, save, no_grad, stack, numel, tensor, \n",
    "                   manual_seed, sigmoid, tanh, add, mul, sub, div, amin as pt_amin, cat,\n",
    "                  maximum, minimum, device, cuda, rand, prod, median, log as pt_log, round as pt_round,\n",
    "                  isnan, flatten, mean)\n",
    "from torch import nn\n",
    "from torch.nn import functional as F\n",
    "from torch.optim import Adam\n",
    "#from torchviz import make_dot\n",
    "import torchvision\n",
    "import torchvision.transforms as transforms\"\"\""
   ]
  },
  {
   "cell_type": "code",
   "execution_count": 15,
   "id": "645b917f",
   "metadata": {
    "execution": {
     "iopub.execute_input": "2022-01-02T04:37:06.197534Z",
     "iopub.status.busy": "2022-01-02T04:37:06.196879Z",
     "iopub.status.idle": "2022-01-02T04:37:06.205090Z",
     "shell.execute_reply": "2022-01-02T04:37:06.205563Z",
     "shell.execute_reply.started": "2022-01-02T00:15:27.242916Z"
    },
    "papermill": {
     "duration": 0.045692,
     "end_time": "2022-01-02T04:37:06.205764",
     "exception": false,
     "start_time": "2022-01-02T04:37:06.160072",
     "status": "completed"
    },
    "tags": []
   },
   "outputs": [],
   "source": [
    "def _pad_params(self):\n",
    "        \"\"\"Pad params for crossover shuffle idx method\"\"\"\n",
    "        assert isinstance(self.params, dict), 'Params must be a dict, i.e. estimator.get_params()'\n",
    "        params_count = {k: len(v) for k,v in self.params.items()}\n",
    "        max_length, max_key = -99, ''\n",
    "        for k, v in params_count.items():\n",
    "            if v <= max_length:\n",
    "                continue\n",
    "            else:\n",
    "                max_key = k\n",
    "                max_length = v\n",
    "        assert isinstance(max_length, int), 'The max length between all params must be an int'\n",
    "        # cycle through params for max length param, otherwise infinite cycle\n",
    "        values_padded = (cycle(v) if k!=max_key else v for k,v in self.params.items())\n",
    "        values_padded = zip(*values_padded)  # ('a', 1, 14), ('b', 2, 16), ('c', 3, 16) ...\n",
    "        values_padded = zip(*values_padded)  # ('a', 'b', 'c'), (1, 2, 3), (14, 15, 16)...\n",
    "        padded_params = {}\n",
    "        for k, v in zip(self.params, values_padded):\n",
    "            padded_params[k] = v\n",
    "        self.padded_params = padded_params\n",
    "        print('Params padded')"
   ]
  },
  {
   "cell_type": "code",
   "execution_count": null,
   "id": "90ca3f81",
   "metadata": {
    "papermill": {
     "duration": 0.033655,
     "end_time": "2022-01-02T04:37:06.273054",
     "exception": false,
     "start_time": "2022-01-02T04:37:06.239399",
     "status": "completed"
    },
    "tags": []
   },
   "outputs": [],
   "source": []
  },
  {
   "cell_type": "code",
   "execution_count": null,
   "id": "94dfeea1",
   "metadata": {
    "papermill": {
     "duration": 0.03304,
     "end_time": "2022-01-02T04:37:06.339488",
     "exception": false,
     "start_time": "2022-01-02T04:37:06.306448",
     "status": "completed"
    },
    "tags": []
   },
   "outputs": [],
   "source": []
  },
  {
   "cell_type": "code",
   "execution_count": null,
   "id": "f19e40d0",
   "metadata": {
    "papermill": {
     "duration": 0.033278,
     "end_time": "2022-01-02T04:37:06.406484",
     "exception": false,
     "start_time": "2022-01-02T04:37:06.373206",
     "status": "completed"
    },
    "tags": []
   },
   "outputs": [],
   "source": []
  },
  {
   "cell_type": "code",
   "execution_count": null,
   "id": "db3d842d",
   "metadata": {
    "papermill": {
     "duration": 0.033356,
     "end_time": "2022-01-02T04:37:06.473378",
     "exception": false,
     "start_time": "2022-01-02T04:37:06.440022",
     "status": "completed"
    },
    "tags": []
   },
   "outputs": [],
   "source": []
  },
  {
   "cell_type": "code",
   "execution_count": null,
   "id": "3b724e8f",
   "metadata": {
    "papermill": {
     "duration": 0.033134,
     "end_time": "2022-01-02T04:37:06.540030",
     "exception": false,
     "start_time": "2022-01-02T04:37:06.506896",
     "status": "completed"
    },
    "tags": []
   },
   "outputs": [],
   "source": []
  },
  {
   "cell_type": "code",
   "execution_count": null,
   "id": "76564d54",
   "metadata": {
    "papermill": {
     "duration": 0.033228,
     "end_time": "2022-01-02T04:37:06.607019",
     "exception": false,
     "start_time": "2022-01-02T04:37:06.573791",
     "status": "completed"
    },
    "tags": []
   },
   "outputs": [],
   "source": []
  },
  {
   "cell_type": "code",
   "execution_count": null,
   "id": "48dd2561",
   "metadata": {
    "papermill": {
     "duration": 0.033297,
     "end_time": "2022-01-02T04:37:06.673601",
     "exception": false,
     "start_time": "2022-01-02T04:37:06.640304",
     "status": "completed"
    },
    "tags": []
   },
   "outputs": [],
   "source": []
  },
  {
   "cell_type": "code",
   "execution_count": null,
   "id": "e2e045d2",
   "metadata": {
    "papermill": {
     "duration": 0.033125,
     "end_time": "2022-01-02T04:37:06.740379",
     "exception": false,
     "start_time": "2022-01-02T04:37:06.707254",
     "status": "completed"
    },
    "tags": []
   },
   "outputs": [],
   "source": []
  },
  {
   "cell_type": "code",
   "execution_count": null,
   "id": "48d5c23c",
   "metadata": {
    "papermill": {
     "duration": 0.033195,
     "end_time": "2022-01-02T04:37:06.807410",
     "exception": false,
     "start_time": "2022-01-02T04:37:06.774215",
     "status": "completed"
    },
    "tags": []
   },
   "outputs": [],
   "source": []
  },
  {
   "cell_type": "code",
   "execution_count": null,
   "id": "c4837842",
   "metadata": {
    "papermill": {
     "duration": 0.033388,
     "end_time": "2022-01-02T04:37:06.874493",
     "exception": false,
     "start_time": "2022-01-02T04:37:06.841105",
     "status": "completed"
    },
    "tags": []
   },
   "outputs": [],
   "source": []
  },
  {
   "cell_type": "code",
   "execution_count": null,
   "id": "bce6eb03",
   "metadata": {
    "papermill": {
     "duration": 0.033345,
     "end_time": "2022-01-02T04:37:06.942326",
     "exception": false,
     "start_time": "2022-01-02T04:37:06.908981",
     "status": "completed"
    },
    "tags": []
   },
   "outputs": [],
   "source": []
  },
  {
   "cell_type": "code",
   "execution_count": null,
   "id": "5ff6ddae",
   "metadata": {
    "papermill": {
     "duration": 0.033231,
     "end_time": "2022-01-02T04:37:07.009405",
     "exception": false,
     "start_time": "2022-01-02T04:37:06.976174",
     "status": "completed"
    },
    "tags": []
   },
   "outputs": [],
   "source": []
  },
  {
   "cell_type": "code",
   "execution_count": null,
   "id": "db3a4eff",
   "metadata": {
    "papermill": {
     "duration": 0.03337,
     "end_time": "2022-01-02T04:37:07.076507",
     "exception": false,
     "start_time": "2022-01-02T04:37:07.043137",
     "status": "completed"
    },
    "tags": []
   },
   "outputs": [],
   "source": []
  },
  {
   "cell_type": "code",
   "execution_count": null,
   "id": "54a39085",
   "metadata": {
    "papermill": {
     "duration": 0.033381,
     "end_time": "2022-01-02T04:37:07.143471",
     "exception": false,
     "start_time": "2022-01-02T04:37:07.110090",
     "status": "completed"
    },
    "tags": []
   },
   "outputs": [],
   "source": []
  }
 ],
 "metadata": {
  "kernelspec": {
   "display_name": "Python 3",
   "language": "python",
   "name": "python3"
  },
  "language_info": {
   "codemirror_mode": {
    "name": "ipython",
    "version": 3
   },
   "file_extension": ".py",
   "mimetype": "text/x-python",
   "name": "python",
   "nbconvert_exporter": "python",
   "pygments_lexer": "ipython3",
   "version": "3.7.12"
  },
  "papermill": {
   "default_parameters": {},
   "duration": 6210.876719,
   "end_time": "2022-01-02T04:37:08.812192",
   "environment_variables": {},
   "exception": null,
   "input_path": "__notebook__.ipynb",
   "output_path": "__notebook__.ipynb",
   "parameters": {},
   "start_time": "2022-01-02T02:53:37.935473",
   "version": "2.3.3"
  }
 },
 "nbformat": 4,
 "nbformat_minor": 5
}
