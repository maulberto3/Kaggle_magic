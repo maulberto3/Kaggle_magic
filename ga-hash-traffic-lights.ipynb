{
 "cells": [
  {
   "cell_type": "code",
   "execution_count": 1,
   "id": "0be7d919",
   "metadata": {
    "_cell_guid": "b1076dfc-b9ad-4769-8c92-a6c4dae69d19",
    "_uuid": "8f2839f25d086af736a60e9eeb907d3b93b6e0e5",
    "execution": {
     "iopub.execute_input": "2022-01-01T19:04:21.632767Z",
     "iopub.status.busy": "2022-01-01T19:04:21.631587Z",
     "iopub.status.idle": "2022-01-01T19:04:21.734168Z",
     "shell.execute_reply": "2022-01-01T19:04:21.733505Z",
     "shell.execute_reply.started": "2022-01-01T18:57:45.681422Z"
    },
    "papermill": {
     "duration": 0.137513,
     "end_time": "2022-01-01T19:04:21.734337",
     "exception": false,
     "start_time": "2022-01-01T19:04:21.596824",
     "status": "completed"
    },
    "tags": []
   },
   "outputs": [],
   "source": [
    "%reset -sf"
   ]
  },
  {
   "cell_type": "code",
   "execution_count": 2,
   "id": "d5c16408",
   "metadata": {
    "execution": {
     "iopub.execute_input": "2022-01-01T19:04:21.788925Z",
     "iopub.status.busy": "2022-01-01T19:04:21.788305Z",
     "iopub.status.idle": "2022-01-01T19:04:22.778641Z",
     "shell.execute_reply": "2022-01-01T19:04:22.778074Z",
     "shell.execute_reply.started": "2022-01-01T18:59:59.758397Z"
    },
    "papermill": {
     "duration": 1.017607,
     "end_time": "2022-01-01T19:04:22.778796",
     "exception": false,
     "start_time": "2022-01-01T19:04:21.761189",
     "status": "completed"
    },
    "tags": []
   },
   "outputs": [],
   "source": [
    "from pprint import pprint\n",
    "from collections import defaultdict, OrderedDict, namedtuple, deque\n",
    "from random import choice, seed, randint, shuffle, random\n",
    "from tqdm import tqdm\n",
    "from itertools import repeat, product, combinations, cycle\n",
    "from pathlib import Path\n",
    "from string import ascii_lowercase\n",
    "from gc import collect\n",
    "\n",
    "import numpy as np\n",
    "import pandas as pd\n",
    "\n",
    "from sklearn.model_selection import train_test_split\n",
    "\n",
    "import matplotlib.pyplot as plt\n",
    "\n",
    "from deap import creator as ga_cr, base as ga_b, algorithms as ga_algo, tools as ga_t"
   ]
  },
  {
   "cell_type": "code",
   "execution_count": 3,
   "id": "0b19d75b",
   "metadata": {
    "execution": {
     "iopub.execute_input": "2022-01-01T19:04:22.831721Z",
     "iopub.status.busy": "2022-01-01T19:04:22.831100Z",
     "iopub.status.idle": "2022-01-01T19:04:22.834483Z",
     "shell.execute_reply": "2022-01-01T19:04:22.835075Z",
     "shell.execute_reply.started": "2022-01-01T18:57:46.942369Z"
    },
    "papermill": {
     "duration": 0.031662,
     "end_time": "2022-01-01T19:04:22.835232",
     "exception": false,
     "start_time": "2022-01-01T19:04:22.803570",
     "status": "completed"
    },
    "tags": []
   },
   "outputs": [],
   "source": [
    "from IPython.core.interactiveshell import InteractiveShell\n",
    "InteractiveShell.ast_node_interactivity = 'all'"
   ]
  },
  {
   "cell_type": "code",
   "execution_count": 4,
   "id": "b072f2c0",
   "metadata": {
    "execution": {
     "iopub.execute_input": "2022-01-01T19:04:22.889628Z",
     "iopub.status.busy": "2022-01-01T19:04:22.889050Z",
     "iopub.status.idle": "2022-01-01T19:04:22.897785Z",
     "shell.execute_reply": "2022-01-01T19:04:22.898242Z",
     "shell.execute_reply.started": "2022-01-01T18:57:47.122580Z"
    },
    "papermill": {
     "duration": 0.038417,
     "end_time": "2022-01-01T19:04:22.898395",
     "exception": false,
     "start_time": "2022-01-01T19:04:22.859978",
     "status": "completed"
    },
    "tags": []
   },
   "outputs": [
    {
     "data": {
      "text/plain": [
       "[PosixPath('/kaggle/input/hashcode-2021-oqr-extension/hashcode.in'),\n",
       " PosixPath('/kaggle/input/hashcode-2021-oqr-extension/full_problem_description.pdf')]"
      ]
     },
     "execution_count": 4,
     "metadata": {},
     "output_type": "execute_result"
    }
   ],
   "source": [
    "path = Path('/kaggle') / 'input' / 'hashcode-2021-oqr-extension'\n",
    "files = list(path.glob('*'))\n",
    "files"
   ]
  },
  {
   "cell_type": "code",
   "execution_count": 5,
   "id": "88149112",
   "metadata": {
    "execution": {
     "iopub.execute_input": "2022-01-01T19:04:22.951716Z",
     "iopub.status.busy": "2022-01-01T19:04:22.951021Z",
     "iopub.status.idle": "2022-01-01T19:04:23.056196Z",
     "shell.execute_reply": "2022-01-01T19:04:23.056669Z",
     "shell.execute_reply.started": "2022-01-01T18:58:57.580815Z"
    },
    "papermill": {
     "duration": 0.13348,
     "end_time": "2022-01-01T19:04:23.056862",
     "exception": false,
     "start_time": "2022-01-01T19:04:22.923382",
     "status": "completed"
    },
    "tags": []
   },
   "outputs": [],
   "source": [
    "def read_input_file(input_file_path):\n",
    "    with open(input_file_path) as f:\n",
    "        arr = f.readlines()\n",
    "    return arr\n",
    "\n",
    "inputs = read_input_file(files[0])\n",
    "\n",
    "def parse_input(arr):\n",
    "    #with open(input_file) as f:\n",
    "      #  arr = f.readlines()\n",
    "    arr = arr[::-1]\n",
    "\n",
    "    # first line\n",
    "    line = arr.pop().split()\n",
    "    duration, num_inters, num_streets, num_cars, fixed_score = [\n",
    "        int(x) for x in line]\n",
    "    # print(duration, num_inters, num_streets, num_cars, fixed_score)\n",
    "\n",
    "    # parse streets with inters\n",
    "    streets = {}\n",
    "    for _ in range(num_streets):\n",
    "        line = arr.pop().split()\n",
    "        start = int(line[0])\n",
    "        end = int(line[1])\n",
    "        street_name = line[2]\n",
    "        length = int(line[-1])\n",
    "        streets[street_name] = {\"start\": start, \"end\": end, \"length\": length}\n",
    "    # print(f\"Unique Streets: {len(streets)}\")\n",
    "\n",
    "    # parse cars paths\n",
    "    cars_paths = []\n",
    "    for _ in range(num_cars):\n",
    "        line = arr.pop().split()\n",
    "        # [1:] because the first word is the length of the sequence\n",
    "        sequence = line[1:]\n",
    "        cars_paths.append(sequence)\n",
    "    # print(f\"Unique Car Paths: {len(cars_paths)}\")\n",
    "\n",
    "    return streets, cars_paths\n",
    "\n",
    "\n",
    "class MutableValue:\n",
    "    def __init__(self, val=None):\n",
    "        self.val = val\n",
    "\n",
    "\n",
    "Street = namedtuple(\n",
    "    \"Street\",\n",
    "    [\n",
    "        \"id\",  # The index of the street\n",
    "        \"start\",  # The inters object at the start of the street\n",
    "        \"end\",  # The inters object at the end of the street\n",
    "        \"name\",  # A str\n",
    "        \"duration\",  # The length of the street in seconds\n",
    "        \"driving_cars\",  # A dict mapping car ids (int) to remaining seconds\n",
    "        \"waiting_cars\",  # A deque of car ids (int)\n",
    "        \"arrival_times\",  # A dict mapping car ids (int) to their arrival times\n",
    "        # A dict mapping car ids (int) to their departure times\n",
    "        \"departure_times\"\n",
    "        # You can compute the seconds that a car\n",
    "        # was waiting at the end of the street\n",
    "        # by subtracting the arrival time from the departure time.\n",
    "    ],\n",
    ")\n",
    "\n",
    "Inters = namedtuple(\n",
    "    \"Inters\",\n",
    "    [\n",
    "        \"id\",  # The index of the Inters\n",
    "        \"incomings\",  # A deque of incoming Street objects\n",
    "        \"outgoings\",  # A deque of outgoing Street objects\n",
    "        # The Street object that currently has a green light.\n",
    "        # Will be wrapped in a MutableValue with a \"val\" attribute to allow\n",
    "        # mutating the value without mutating the namedtuple.\n",
    "        \"green_street\",\n",
    "        # An int representing the total number of waiting cars across all\n",
    "        # incoming streets of this inters.\n",
    "        # Will be wrapped in a MutableValue with a \"val\" attribute to allow\n",
    "        # mutating the value without mutating the namedtuple.\n",
    "        \"num_waiting_cars\",\n",
    "        # The sum of green times of all incoming streets in the schedule.\n",
    "        # Will be wrapped in a MutableValue with a \"val\" attribute to allow\n",
    "        # mutating the value without mutating the namedtuple.\n",
    "        \"schedule_duration\",\n",
    "        # A list mapping (t mod schedule_duration.val) to the street object\n",
    "        # that is green at time t.\n",
    "        \"green_street_per_t_mod\",  # green_street_per_t_mod: name too long\n",
    "        # A bool indicating whether the green_street ever needs to be\n",
    "        # updated during the simulation (i.e., whether the schedule has\n",
    "        # more than one street).\n",
    "        # Will be wrapped in a MutableValue with a \"val\" attribute to allow\n",
    "        # mutating the value without mutating the namedtuple.\n",
    "        \"needs_updates\",\n",
    "    ],\n",
    ")\n",
    "\n",
    "# We only use street indices and inters indices here to allow\n",
    "# fast deep-copies of a schedule for testing out and reverting modifications.\n",
    "Schedule = namedtuple(\n",
    "    \"Schedule\",\n",
    "    [\n",
    "        \"i_inters\",  # The index of the inters\n",
    "        \"order\",  # A list of street ids\n",
    "        \"green_times\",  # A dict mapping street ids to green times (seconds)\n",
    "    ],\n",
    ")\n",
    "\n",
    "\n",
    "def read_input_file_(input_file_path):\n",
    "    with open(input_file_path) as f:\n",
    "        lines = deque(f.readlines())\n",
    "    return lines\n",
    "\n",
    "inputs_ = read_input_file_(files[0])\n",
    "\n",
    "\n",
    "def parse_input2(lines):\n",
    "    #with open(input_file_path) as f:\n",
    "      #  lines = deque(f.readlines())\n",
    "\n",
    "    # Parse the first line\n",
    "    total_duration, num_interss, num_streets, num_cars, bonus_points = map(\n",
    "        int, lines.popleft().split()\n",
    "    )\n",
    "\n",
    "    # Create empty interss\n",
    "    interss = tuple(\n",
    "        Inters(\n",
    "            id=i,\n",
    "            incomings=deque(),\n",
    "            outgoings=deque(),\n",
    "            green_street=MutableValue(),\n",
    "            num_waiting_cars=MutableValue(0),\n",
    "            green_street_per_t_mod=[],\n",
    "            schedule_duration=MutableValue(),\n",
    "            needs_updates=MutableValue(False),\n",
    "        )\n",
    "        for i in range(num_interss)\n",
    "    )\n",
    "\n",
    "    # Parse the streets\n",
    "    streets = []\n",
    "    name_to_street = {}\n",
    "    for i_street in range(num_streets):\n",
    "        line = lines.popleft().split()\n",
    "        start, end = map(int, line[:2])\n",
    "        name = line[2]\n",
    "        duration = int(line[3])\n",
    "        street = Street(\n",
    "            id=i_street,\n",
    "            start=interss[start],\n",
    "            end=interss[end],\n",
    "            name=name,\n",
    "            duration=duration,\n",
    "            driving_cars={},\n",
    "            waiting_cars=deque(),\n",
    "            arrival_times={},\n",
    "            departure_times={},\n",
    "        )\n",
    "        name_to_street[name] = street\n",
    "        interss[start].outgoings.append(street)\n",
    "        interss[end].incomings.append(street)\n",
    "        streets.append(street)\n",
    "\n",
    "    # Parse the paths\n",
    "    paths = []\n",
    "    for i_car in range(num_cars):\n",
    "        line = lines.popleft().split()\n",
    "        path_length = int(line[0])\n",
    "        path = line[1:]\n",
    "        assert len(path) == path_length\n",
    "        path = deque(name_to_street[name] for name in path)\n",
    "        paths.append(path)\n",
    "\n",
    "    return (total_duration, bonus_points, interss,\n",
    "            streets, name_to_street, paths)"
   ]
  },
  {
   "cell_type": "code",
   "execution_count": 6,
   "id": "c149557d",
   "metadata": {
    "execution": {
     "iopub.execute_input": "2022-01-01T19:04:23.111080Z",
     "iopub.status.busy": "2022-01-01T19:04:23.110311Z",
     "iopub.status.idle": "2022-01-01T19:04:23.149224Z",
     "shell.execute_reply": "2022-01-01T19:04:23.149745Z",
     "shell.execute_reply.started": "2022-01-01T18:58:58.508777Z"
    },
    "papermill": {
     "duration": 0.06711,
     "end_time": "2022-01-01T19:04:23.149913",
     "exception": false,
     "start_time": "2022-01-01T19:04:23.082803",
     "status": "completed"
    },
    "tags": []
   },
   "outputs": [],
   "source": [
    "def create_inters(streets, cars_paths, cars_paths_order='descending'):\n",
    "    if cars_paths_order == 'descending':\n",
    "        cars_paths = reversed(sorted(cars_paths, key=len))\n",
    "    if cars_paths_order == 'ascending':\n",
    "        cars_paths = sorted(cars_paths, key=len)\n",
    "    if cars_paths_order == 'random':\n",
    "        shuffle(cars_paths)\n",
    "\n",
    "    inters_streets = defaultdict(set)\n",
    "    for car_path in cars_paths:\n",
    "        for street in car_path:\n",
    "            inters_streets[streets[street][\"end\"]].add(street)\n",
    "    # print(f\"Unique Intersections: {len(inters_streets)}\")\n",
    "\n",
    "    return inters_streets\n",
    "\n",
    "\n",
    "# NOTE: There are some intersections never reached by cars paths\n",
    "# So, they should not be accounted for in schedules, otherwise error!\n",
    "\n",
    "\n",
    "def create_time_fractions(interss, light_times):\n",
    "    # each inters gets a light\n",
    "    # each light gets own schedule\n",
    "    # very granular!\n",
    "    #inters_sched = defaultdict(dict)\n",
    "    #for i, inters in enumerate(interss):\n",
    "     #    for j, street in enumerate(interss[inters]):\n",
    "      #          inters_sched[inters][street] = randint(1, 3)\n",
    "                \n",
    "    inters_sched = defaultdict(dict)\n",
    "    for inters, time_fraction in zip(interss, light_times):\n",
    "        for street in interss[inters]:\n",
    "            inters_sched[inters][street] = time_fraction\n",
    "\n",
    "    return inters_sched\n",
    "\n",
    "\n",
    "def set_schedules(inters_streets, time_fractions):\n",
    "    # Set schedules\n",
    "    schedules = []\n",
    "    for inters, streets in inters_streets.items():\n",
    "        cycle = []\n",
    "        for street in streets:\n",
    "            # time_fraction = 1  # int(randint(1, 5))\n",
    "            # time_fraction = 1\n",
    "            cycle.append([inters, street, time_fractions[inters][street]])\n",
    "        schedules.append(cycle)\n",
    "    return schedules\n",
    "\n",
    "\n",
    "def format_schedules(schedules):\n",
    "    # Parse solution into submission\n",
    "    res = []\n",
    "    res.append([len(schedules)])  # requirement\n",
    "    for cycle in schedules:\n",
    "        res.append([cycle[0][0]])  # requirement: inters ID\n",
    "        res.append([len(cycle)])  # requirement: lenght of inters\n",
    "        for inters, street, time_fraction in cycle:\n",
    "            res.append([street, time_fraction])\n",
    "    res1 = \"\\n\".join(\" \".join([str(x) for x in row]) for row in res)\n",
    "    # with open(\"submission.csv\", \"w\") as text_file:\n",
    "    #     text_file.write(res1)\n",
    "    res2 = [\" \".join([str(x) for x in row]) for row in res]\n",
    "    return res1, res2\n",
    "\n",
    "\n",
    "def parse_schedules(output_file_path, name_to_street):\n",
    "    # with open(output_file_path) as f:\n",
    "    #     lines = f.readlines()\n",
    "    #     lines = deque(lines)\n",
    "    # adusted to consume from variables,\n",
    "    # instead of file path\n",
    "    lines = deque(output_file_path)\n",
    "    num_schedules = int(lines.popleft())\n",
    "    schedules = []\n",
    "    for i_schedule in range(num_schedules):\n",
    "        i_inters = int(lines.popleft())\n",
    "        num_incomings = int(lines.popleft())\n",
    "        order = []\n",
    "        green_times = {}\n",
    "        for i_incoming in range(num_incomings):\n",
    "            street_name, green_time = lines.popleft().split()\n",
    "            green_time = int(green_time)\n",
    "            street = name_to_street[street_name]\n",
    "            order.append(street.id)\n",
    "            green_times[street.id] = green_time\n",
    "\n",
    "        schedule = Schedule(i_inters=i_inters, order=order,\n",
    "                            green_times=green_times)\n",
    "        schedules.append(schedule)\n",
    "    return schedules\n",
    "\n",
    "\n",
    "def reset(streets, interss):\n",
    "    # Reinitialize mutable data structures\n",
    "    for street in streets:\n",
    "        street.driving_cars.clear()\n",
    "        street.waiting_cars.clear()\n",
    "        street.arrival_times.clear()\n",
    "        street.departure_times.clear()\n",
    "\n",
    "    for inters in interss:\n",
    "        inters.green_street.val = None\n",
    "        inters.num_waiting_cars.val = 0\n",
    "        inters.green_street_per_t_mod.clear()\n",
    "        inters.schedule_duration.val = None\n",
    "        inters.needs_updates.val = False\n",
    "\n",
    "\n",
    "def grade(schedules, streets, interss, paths,\n",
    "          total_duration, bonus_points):\n",
    "    reset(streets, interss)\n",
    "\n",
    "    # We will consume the deques in the paths list. Save a copy of them\n",
    "    # for later to reset the paths after the simulation.\n",
    "    paths_copy = [path.copy() for path in paths]\n",
    "\n",
    "    # Iterate through the schedules and initialize the interss.\n",
    "    inters_ids_with_schedules = set()\n",
    "    for schedule in schedules:\n",
    "        inters = interss[schedule.i_inters]\n",
    "        inters_ids_with_schedules.add(inters.id)\n",
    "        first_street = streets[schedule.order[0]]\n",
    "        inters.green_street.val = first_street\n",
    "        inters.needs_updates.val = len(schedule.order) > 1\n",
    "        schedule_duration = 0\n",
    "        green_street_per_t_mod = inters.green_street_per_t_mod\n",
    "        for street_id in schedule.order:\n",
    "            green_time = schedule.green_times[street_id]\n",
    "            for _ in range(green_time):\n",
    "                green_street_per_t_mod.append(streets[street_id])\n",
    "            schedule_duration += green_time\n",
    "        inters.schedule_duration.val = schedule_duration\n",
    "\n",
    "    # inters_ids_with_waiting_cars is restricted to interss\n",
    "    # with schedules\n",
    "    inters_ids_with_waiting_cars = set()\n",
    "    for i_car, path in enumerate(paths):\n",
    "        street = path.popleft()\n",
    "        street.waiting_cars.append(i_car)\n",
    "        if street.end.id in inters_ids_with_schedules:\n",
    "            inters_ids_with_waiting_cars.add(street.end.id)\n",
    "        street.end.num_waiting_cars.val += 1\n",
    "\n",
    "    street_ids_with_driving_cars = set()\n",
    "    score = 0\n",
    "\n",
    "    # Main simulation loop\n",
    "    for t in range(total_duration):\n",
    "\n",
    "        # Drive across interss\n",
    "        # Store the ids of interss that\n",
    "        # don't have waiting cars after this.\n",
    "        inters_ids_to_remove = set()\n",
    "        for i_inters in inters_ids_with_waiting_cars:\n",
    "            inters = interss[i_inters]\n",
    "\n",
    "            if inters.needs_updates.val:\n",
    "                # Update the green street\n",
    "                t_mod = t % inters.schedule_duration.val\n",
    "                inters.green_street.val = inters.green_street_per_t_mod[t_mod]\n",
    "\n",
    "            green_street = inters.green_street.val\n",
    "            waiting_cars = green_street.waiting_cars\n",
    "            if len(waiting_cars) > 0:\n",
    "                # Drive across the inters\n",
    "                waiting_car = waiting_cars.popleft()\n",
    "                green_street.departure_times[waiting_car] = t\n",
    "                next_street = paths[waiting_car].popleft()\n",
    "                next_street.driving_cars[waiting_car] = next_street.duration\n",
    "                street_ids_with_driving_cars.add(next_street.id)\n",
    "\n",
    "                inters.num_waiting_cars.val -= 1\n",
    "                if inters.num_waiting_cars.val == 0:\n",
    "                    inters_ids_to_remove.add(i_inters)\n",
    "\n",
    "        inters_ids_with_waiting_cars.difference_update(inters_ids_to_remove)\n",
    "\n",
    "        # Drive across roads\n",
    "        # Store the ids of streets that don't have driving cars after this.\n",
    "        street_ids_to_remove = set()\n",
    "        for i_street in street_ids_with_driving_cars:\n",
    "            street = streets[i_street]\n",
    "            driving_cars = street.driving_cars\n",
    "            for car in list(driving_cars):\n",
    "                # Update the \"time to live\" of this car,\n",
    "                # i.e. the remaining driving seconds.\n",
    "                ttl = driving_cars[car]\n",
    "                ttl -= 1\n",
    "                if ttl < 0:\n",
    "                    raise ValueError\n",
    "                elif ttl == 0:\n",
    "                    # Reached the end of the street\n",
    "                    del driving_cars[car]\n",
    "                    if len(paths[car]) == 0:\n",
    "                        # FINISH\n",
    "                        score += bonus_points\n",
    "                        score += total_duration - t - 1\n",
    "\n",
    "                    else:\n",
    "                        street.waiting_cars.append(car)\n",
    "                        street.end.num_waiting_cars.val += 1\n",
    "                        street.arrival_times[car] = t + 1\n",
    "                        inters_id = street.end.id\n",
    "                        if inters_id in inters_ids_with_schedules:\n",
    "                            inters_ids_with_waiting_cars.add(inters_id)\n",
    "                else:\n",
    "                    # The car is still driving on the street\n",
    "                    driving_cars[car] = ttl\n",
    "            if len(driving_cars) == 0:\n",
    "                street_ids_to_remove.add(i_street)\n",
    "        street_ids_with_driving_cars.difference_update(street_ids_to_remove)\n",
    "\n",
    "    # We are done with the simulation. Restore the paths.\n",
    "    for i_path in range(len(paths)):\n",
    "        paths[i_path] = paths_copy[i_path]\n",
    "\n",
    "    return score\n",
    "\n",
    "def write_best_score(score, schedules):\n",
    "    with open(f\"submission_score_{score:,}.csv\", \"w\") as text_file:\n",
    "        text_file.write(schedules)"
   ]
  },
  {
   "cell_type": "code",
   "execution_count": 7,
   "id": "2d47a0e4",
   "metadata": {
    "execution": {
     "iopub.execute_input": "2022-01-01T19:04:23.226461Z",
     "iopub.status.busy": "2022-01-01T19:04:23.225666Z",
     "iopub.status.idle": "2022-01-01T19:04:23.227128Z",
     "shell.execute_reply": "2022-01-01T19:04:23.227602Z",
     "shell.execute_reply.started": "2022-01-01T18:59:04.887554Z"
    },
    "papermill": {
     "duration": 0.052709,
     "end_time": "2022-01-01T19:04:23.227786",
     "exception": false,
     "start_time": "2022-01-01T19:04:23.175077",
     "status": "completed"
    },
    "tags": []
   },
   "outputs": [],
   "source": [
    "class GA_Hash_Traffic_Light():\n",
    "    def __init__(self, \n",
    "                 #params, \n",
    "                 eval_func,\n",
    "                 eval_weights,\n",
    "                 #\n",
    "                 inputs,\n",
    "                 inputs_,\n",
    "                 #\n",
    "                 #inters_streets=inters_streets,\n",
    "                 #name_to_i_street=name_to_i_street, \n",
    "                 #streets2=streets2,\n",
    "                 #inters=inters,\n",
    "                 #paths=paths,\n",
    "                 #duration=duration,\n",
    "                 #bonus_points=bonus_points,\n",
    "                 #\n",
    "                 sel_tournsize=2, \n",
    "                 cx_uniform_prob=0.5, \n",
    "                 mut_shuffle_idx_prob=0.1, \n",
    "                 n_pop=2, \n",
    "                 n_gen=2, \n",
    "                 n_hof=1, \n",
    "                 cx_prob=0.5, \n",
    "                 mut_prob=0.1, \n",
    "                 n_jobs=4\n",
    "                ):\n",
    "        #self.params = params\n",
    "        self.eval_func = eval_func\n",
    "        self.eval_weights = eval_weights\n",
    "        \n",
    "        self.inputs = inputs\n",
    "        self.inputs_ = inputs_\n",
    "        \n",
    "        #self.inters_streets = inters_streets\n",
    "        #self.name_to_i_street = name_to_i_street\n",
    "        #self.streets2 = streets2\n",
    "        #self.inters = inters\n",
    "        #self.paths = paths\n",
    "        #self.duration = duration\n",
    "        #self.bonus_points = bonus_points\n",
    "        \n",
    "        self.sel_tournsize = sel_tournsize\n",
    "        self.cx_uniform_prob = cx_uniform_prob\n",
    "        self.mut_shuffle_idx_prob = mut_shuffle_idx_prob\n",
    "        self.n_pop = n_pop\n",
    "        self.n_gen = n_gen\n",
    "        self.n_hof = n_hof\n",
    "        self.cx_prob = cx_prob\n",
    "        self.mut_prob = mut_prob\n",
    "        \n",
    "        self.n_jobs = n_jobs\n",
    "\n",
    "        self._create_fitness_and_indiv()\n",
    "        self._register_indiv_and_pop_generators()\n",
    "        self._register_eval_func()\n",
    "        self._register_selection_crossover_mutation_methods()\n",
    "\n",
    "    def _create_fitness_and_indiv(self):\n",
    "        \"\"\"Create GA individual and fitness entities (classes)\"\"\"\n",
    "        ga_cr.create('Fitness', ga_b.Fitness, weights=self.eval_weights)\n",
    "        ga_cr.create('Individual', list, fitness=ga_cr.Fitness)\n",
    "        print('GA entities created')\n",
    "\n",
    "    def _gen_params_to_ga(self):\n",
    "        \"\"\"Generate index for each param for individual\"\"\"\n",
    "        idxs = [randint(1, 5) for _ in range(7999)]\n",
    "        return idxs\n",
    "    \n",
    "    def _register_indiv_and_pop_generators(self):\n",
    "        \"\"\"Register GA individual and population generators\"\"\"\n",
    "        self.tb = ga_b.Toolbox()\n",
    "\n",
    "        if self.n_jobs > 1:\n",
    "            from multiprocessing import Pool\n",
    "            pool = Pool()\n",
    "            self.tb.register(\"map\", pool.map)\n",
    "\n",
    "        self.tb.register(\"individual\", ga_t.initIterate, ga_cr.Individual, self._gen_params_to_ga)\n",
    "        #print('indiv', self.tb.individual())\n",
    "        self.tb.register(\"population\", ga_t.initRepeat, list, self.tb.individual)\n",
    "        #print('population', self.tb.population(n=2))\n",
    "        print('GA entities\\' methods registered')\n",
    "        \n",
    "    def _register_eval_func(self):\n",
    "        \"\"\"Set GA evaluate individual function\"\"\"\n",
    "        self.tb.register(\"evaluate\",\n",
    "                        self.eval_func,\n",
    "                        inputs=self.inputs,\n",
    "                        inputs_=self.inputs_,\n",
    "                        #inters_streets=self.inters_streets,\n",
    "                        #name_to_i_street=self.name_to_i_street, \n",
    "                        #streets2=self.streets2, \n",
    "                        #inters=self.inters, \n",
    "                        #paths=self.paths, \n",
    "                        #duration=self.duration, \n",
    "                        #bonus_points=self.bonus_points\n",
    "                        )\n",
    "        #print(list(self.tb.evaluate(indiv) for indiv in self.tb.population(3)))\n",
    "        print('GA eval function registered')\n",
    "    \n",
    "    def _register_selection_crossover_mutation_methods(self):\n",
    "        self.tb.register(\"select\", ga_t.selTournament, tournsize=self.sel_tournsize)\n",
    "        self.tb.register(\"mate\", ga_t.cxPartialyMatched)  # , indpb=self.cx_uniform_prob\n",
    "        self.tb.register(\"mutate\", ga_t.mutShuffleIndexes, indpb=self.mut_shuffle_idx_prob)\n",
    "        print('GA sel-cx-mut methods registered')\n",
    "        \n",
    "    def run_ga_search(self):\n",
    "        \"\"\"GA Search\"\"\"\n",
    "        pop = self.tb.population(n=self.n_pop)\n",
    "        hof = ga_t.HallOfFame(self.n_hof)\n",
    "\n",
    "        # Stats stdout\n",
    "        stats = ga_t.Statistics(lambda ind: ind.fitness.values )\n",
    "        #stats1 = ga_t.Statistics(lambda ind: ind.fitness.values[0] )\n",
    "        #stats2 = ga_t.Statistics(lambda ind: ind.fitness.values[1] )\n",
    "        #stats3 = ga_t.Statistics(lambda ind: ind.fitness.values[2] )\n",
    "        stats = ga_t.MultiStatistics(traffic_score=stats)\n",
    "        stats.register(\"avg\", np.mean)\n",
    "        #stats.register(\"std\", np.std)\n",
    "        #stats.register(\"min\", np.min)\n",
    "        stats.register(\"max\", np.max)\n",
    "\n",
    "        # History\n",
    "        #hist = tools.History()\n",
    "        #toolbox.decorate(\"select\", hist.decorator)\n",
    "        #tb.decorate(\"mate\", hist.decorator)\n",
    "        #tb.decorate(\"mutate\", hist.decorator)\n",
    "        #hist.update(pop)\n",
    "\n",
    "        # GA Run\n",
    "        pop, log = ga_algo.eaSimple(pop, self.tb, cxpb=self.cx_prob, \n",
    "                                    mutpb=self.mut_prob, ngen=self.n_gen, \n",
    "                                    stats=stats, halloffame=hof, verbose=True)\n",
    "        \n",
    "        # Convert back params\n",
    "        #hof_ = {}\n",
    "        #for i in range(self.n_hof):\n",
    "         #   hof_['hof_' + str(i)] = self._ga_to_params(hof[i])\n",
    "\n",
    "        return pop, log, hof\n",
    "    \n",
    "    def _ga_to_params(self, idx_params):\n",
    "        \"\"\"Convert back idx to params\"\"\"\n",
    "        res = {}\n",
    "        for (k,v), idx in zip(self.padded_params.items(), idx_params):\n",
    "            res[k] = v[idx]\n",
    "        return res"
   ]
  },
  {
   "cell_type": "code",
   "execution_count": 8,
   "id": "bf93d754",
   "metadata": {
    "execution": {
     "iopub.execute_input": "2022-01-01T19:04:23.285472Z",
     "iopub.status.busy": "2022-01-01T19:04:23.280692Z",
     "iopub.status.idle": "2022-01-01T19:04:23.287361Z",
     "shell.execute_reply": "2022-01-01T19:04:23.287909Z",
     "shell.execute_reply.started": "2022-01-01T19:01:22.473124Z"
    },
    "papermill": {
     "duration": 0.03502,
     "end_time": "2022-01-01T19:04:23.288068",
     "exception": false,
     "start_time": "2022-01-01T19:04:23.253048",
     "status": "completed"
    },
    "tags": []
   },
   "outputs": [],
   "source": [
    "def hash_eval_indiv(individual, inputs, inputs_):\n",
    "    \"\"\"Evaluate individual's genes (estimator's params)\"\"\"\n",
    "    # Containers\n",
    "    streets, cars_paths = parse_input(inputs)\n",
    "    duration, bonus_points, inters, streets2, name_to_i_street, paths = parse_input2(inputs_)\n",
    "\n",
    "    # Create intersections\n",
    "    inters_streets = create_inters(streets, cars_paths)\n",
    "\n",
    "    # Create schedules times\n",
    "    time_fractions = create_time_fractions(inters_streets, individual)\n",
    "\n",
    "    # Schedules\n",
    "    schedules = set_schedules(inters_streets, time_fractions)\n",
    "    schedules_str, schedules_file = format_schedules(schedules)\n",
    "\n",
    "    # Evaluation\n",
    "    schedules_for_grade = parse_schedules(schedules_file, name_to_i_street)\n",
    "    score = grade(schedules_for_grade, streets2, inters, paths, duration, bonus_points)\n",
    "    \n",
    "    collect()\n",
    "\n",
    "    return (score,)\n",
    "\n",
    "hash_weights = (1,)"
   ]
  },
  {
   "cell_type": "code",
   "execution_count": 9,
   "id": "dec06ab0",
   "metadata": {
    "execution": {
     "iopub.execute_input": "2022-01-01T19:04:23.342115Z",
     "iopub.status.busy": "2022-01-01T19:04:23.341139Z",
     "iopub.status.idle": "2022-01-01T19:04:39.580967Z",
     "shell.execute_reply": "2022-01-01T19:04:39.581500Z",
     "shell.execute_reply.started": "2022-01-01T19:01:22.822152Z"
    },
    "papermill": {
     "duration": 16.268292,
     "end_time": "2022-01-01T19:04:39.581668",
     "exception": false,
     "start_time": "2022-01-01T19:04:23.313376",
     "status": "completed"
    },
    "tags": []
   },
   "outputs": [
    {
     "name": "stdout",
     "output_type": "stream",
     "text": [
      "GA entities created\n",
      "GA entities' methods registered\n",
      "GA eval function registered\n",
      "GA sel-cx-mut methods registered\n",
      "   \t      \t                traffic_score                 \n",
      "   \t      \t----------------------------------------------\n",
      "gen\tnevals\tavg        \tgen\tmax        \tnevals\n",
      "0  \t2     \t2.32811e+06\t0  \t2.50039e+06\t2     \n",
      "1  \t0     \t2.32811e+06\t1  \t2.50039e+06\t0     \n",
      "2  \t2     \t2.33621e+06\t2  \t2.48619e+06\t2     \n"
     ]
    }
   ],
   "source": [
    "ga_hash = GA_Hash_Traffic_Light(hash_eval_indiv, \n",
    "                                hash_weights,\n",
    "                                #\n",
    "                                inputs,\n",
    "                                inputs_,\n",
    "                                #\n",
    "                                #inters_streets,\n",
    "                                #streets2,\n",
    "                                #inters,\n",
    "                                #paths,\n",
    "                                #duration,\n",
    "                                #bonus_points,\n",
    "                               )\n",
    "pop, log, hof = ga_hash.run_ga_search()"
   ]
  },
  {
   "cell_type": "code",
   "execution_count": 10,
   "id": "67f954da",
   "metadata": {
    "execution": {
     "iopub.execute_input": "2022-01-01T19:04:39.638491Z",
     "iopub.status.busy": "2022-01-01T19:04:39.637871Z",
     "iopub.status.idle": "2022-01-01T19:04:39.648434Z",
     "shell.execute_reply": "2022-01-01T19:04:39.649038Z",
     "shell.execute_reply.started": "2022-01-01T18:59:35.127080Z"
    },
    "papermill": {
     "duration": 0.041125,
     "end_time": "2022-01-01T19:04:39.649202",
     "exception": false,
     "start_time": "2022-01-01T19:04:39.608077",
     "status": "completed"
    },
    "tags": []
   },
   "outputs": [
    {
     "data": {
      "text/plain": [
       "array([3, 5, 2, ..., 4, 2, 5])"
      ]
     },
     "execution_count": 10,
     "metadata": {},
     "output_type": "execute_result"
    }
   ],
   "source": [
    "np.array(hof[0])"
   ]
  },
  {
   "cell_type": "code",
   "execution_count": 11,
   "id": "53b4cf8c",
   "metadata": {
    "execution": {
     "iopub.execute_input": "2022-01-01T19:04:39.705391Z",
     "iopub.status.busy": "2022-01-01T19:04:39.704816Z",
     "iopub.status.idle": "2022-01-01T19:04:46.913433Z",
     "shell.execute_reply": "2022-01-01T19:04:46.912942Z",
     "shell.execute_reply.started": "2022-01-01T05:26:43.850555Z"
    },
    "papermill": {
     "duration": 7.237738,
     "end_time": "2022-01-01T19:04:46.913569",
     "exception": false,
     "start_time": "2022-01-01T19:04:39.675831",
     "status": "completed"
    },
    "tags": []
   },
   "outputs": [
    {
     "data": {
      "text/plain": [
       "2500394"
      ]
     },
     "execution_count": 11,
     "metadata": {},
     "output_type": "execute_result"
    }
   ],
   "source": [
    "# Hash with best HoF\n",
    "\n",
    "# Containers\n",
    "streets, cars_paths = parse_input(inputs)\n",
    "duration, bonus_points, inters, streets2, name_to_i_street, paths = parse_input2(inputs_)\n",
    "    \n",
    "# Create intersections\n",
    "inters_streets = create_inters(streets, cars_paths)\n",
    "\n",
    "# Create schedules times\n",
    "time_fractions = create_time_fractions(inters_streets, light_times=hof[0])\n",
    "    \n",
    "# Schedules\n",
    "schedules = set_schedules(inters_streets, time_fractions)\n",
    "schedules_str, schedules_file = format_schedules(schedules)\n",
    "\n",
    "# Evaluation\n",
    "schedules_for_grade = parse_schedules(schedules_file, name_to_i_street)\n",
    "score = grade(schedules_for_grade, streets2, inters, paths, duration, bonus_points)\n",
    "score"
   ]
  },
  {
   "cell_type": "code",
   "execution_count": 12,
   "id": "ded49c51",
   "metadata": {
    "execution": {
     "iopub.execute_input": "2022-01-01T19:04:46.969363Z",
     "iopub.status.busy": "2022-01-01T19:04:46.968330Z",
     "iopub.status.idle": "2022-01-01T19:04:46.972658Z",
     "shell.execute_reply": "2022-01-01T19:04:46.973215Z",
     "shell.execute_reply.started": "2022-01-01T05:26:53.236067Z"
    },
    "papermill": {
     "duration": 0.033705,
     "end_time": "2022-01-01T19:04:46.973367",
     "exception": false,
     "start_time": "2022-01-01T19:04:46.939662",
     "status": "completed"
    },
    "tags": []
   },
   "outputs": [],
   "source": [
    "# Write\n",
    "write_best_score(score, schedules_str)"
   ]
  },
  {
   "cell_type": "code",
   "execution_count": null,
   "id": "69690d32",
   "metadata": {
    "papermill": {
     "duration": 0.02598,
     "end_time": "2022-01-01T19:04:47.024847",
     "exception": false,
     "start_time": "2022-01-01T19:04:46.998867",
     "status": "completed"
    },
    "tags": []
   },
   "outputs": [],
   "source": []
  },
  {
   "cell_type": "code",
   "execution_count": null,
   "id": "154a1f6b",
   "metadata": {
    "papermill": {
     "duration": 0.026573,
     "end_time": "2022-01-01T19:04:47.077677",
     "exception": false,
     "start_time": "2022-01-01T19:04:47.051104",
     "status": "completed"
    },
    "tags": []
   },
   "outputs": [],
   "source": []
  },
  {
   "cell_type": "code",
   "execution_count": null,
   "id": "ea9eedc1",
   "metadata": {
    "papermill": {
     "duration": 0.02587,
     "end_time": "2022-01-01T19:04:47.130850",
     "exception": false,
     "start_time": "2022-01-01T19:04:47.104980",
     "status": "completed"
    },
    "tags": []
   },
   "outputs": [],
   "source": []
  },
  {
   "cell_type": "code",
   "execution_count": 13,
   "id": "3a6bb666",
   "metadata": {
    "execution": {
     "iopub.execute_input": "2022-01-01T19:04:47.187461Z",
     "iopub.status.busy": "2022-01-01T19:04:47.186471Z",
     "iopub.status.idle": "2022-01-01T19:04:47.193650Z",
     "shell.execute_reply": "2022-01-01T19:04:47.194194Z",
     "shell.execute_reply.started": "2022-01-01T05:26:53.244716Z"
    },
    "papermill": {
     "duration": 0.037188,
     "end_time": "2022-01-01T19:04:47.194397",
     "exception": false,
     "start_time": "2022-01-01T19:04:47.157209",
     "status": "completed"
    },
    "tags": []
   },
   "outputs": [],
   "source": [
    "if False:\n",
    "    # one light schedule for all inters!\n",
    "        # OPT_TIME_FRACTION = int(trial.suggest_float(\n",
    "        #     'opt_time_fraction', lower_time_fraction, upper_time_fraction))\n",
    "        # inters_sched = defaultdict(dict)\n",
    "        # for inters in interss:\n",
    "        #     for j, street in enumerate(interss[inters]):\n",
    "        #         inters_sched[inters][street] = OPT_TIME_FRACTION\n",
    "\n",
    "        if grouping:\n",
    "            time_fractions = []\n",
    "            for i in range(grouping):\n",
    "                OPT_TIME_FRACTION = int(trial.suggest_float(\n",
    "                    'OPT_TIME_FRACTION_' + str(i),\n",
    "                    lower_time_fraction,\n",
    "                    upper_time_fraction))\n",
    "                time_fractions.append(OPT_TIME_FRACTION)\n",
    "            inters_sched = defaultdict(dict)\n",
    "            for inters, time_fraction in zip(interss, cycle(time_fractions)):\n",
    "                for j, street in enumerate(interss[inters]):\n",
    "                    inters_sched[inters][street] = time_fraction\n",
    "\n",
    "        ###################\n",
    "        # num_inc_strs = []\n",
    "        # for inters in interss:\n",
    "        #     num_inc_strs.append(len(list(interss[inters])))\n",
    "        # print(f'mean street per inters:', {array(num_inc_strs).mean()})\n",
    "        ###################\n",
    "\n",
    "        # each inters gets light\n",
    "        # each light has same schedule\n",
    "        # time_fractions = []\n",
    "        # for i in range(len(interss)):\n",
    "        #     name = \"OPT_TIME_FRACTION_\" + str(i)  # + '_' + str(j)\n",
    "        #     # OPT_TIME_FRACTION = trial.suggest_int(\n",
    "        #     #     name, lower_time_fraction, upper_time_fraction)\n",
    "        #     OPT_TIME_FRACTION = int(trial.suggest_float(\n",
    "        #         name, lower_time_fraction, upper_time_fraction))\n",
    "        #     time_fractions.append(OPT_TIME_FRACTION)\n",
    "        # inters_sched = defaultdict(dict)\n",
    "        # for inters, time_fraction in zip(interss, cycle(time_fractions)):\n",
    "        #     for j, street in enumerate(interss[inters]):\n",
    "        #         inters_sched[inters][street] = time_fraction\n",
    "\n",
    "        # in-between previous and next one"
   ]
  },
  {
   "cell_type": "code",
   "execution_count": 14,
   "id": "97ec33d0",
   "metadata": {
    "execution": {
     "iopub.execute_input": "2022-01-01T19:04:47.251418Z",
     "iopub.status.busy": "2022-01-01T19:04:47.250657Z",
     "iopub.status.idle": "2022-01-01T19:04:47.255840Z",
     "shell.execute_reply": "2022-01-01T19:04:47.256357Z",
     "shell.execute_reply.started": "2022-01-01T05:26:53.261704Z"
    },
    "papermill": {
     "duration": 0.035096,
     "end_time": "2022-01-01T19:04:47.256501",
     "exception": false,
     "start_time": "2022-01-01T19:04:47.221405",
     "status": "completed"
    },
    "tags": []
   },
   "outputs": [
    {
     "data": {
      "text/plain": [
       "'from torch import optim\\nfrom torch.utils.data import DataLoader, Dataset\\nfrom torchvision.datasets import ImageFolder\\nfrom torch import (load, amax as pt_amax, max as pt_max, ones, save, no_grad, stack, numel, tensor, \\n                   manual_seed, sigmoid, tanh, add, mul, sub, div, amin as pt_amin, cat,\\n                  maximum, minimum, device, cuda, rand, prod, median, log as pt_log, round as pt_round,\\n                  isnan, flatten, mean)\\nfrom torch import nn\\nfrom torch.nn import functional as F\\nfrom torch.optim import Adam\\n#from torchviz import make_dot\\nimport torchvision\\nimport torchvision.transforms as transforms'"
      ]
     },
     "execution_count": 14,
     "metadata": {},
     "output_type": "execute_result"
    }
   ],
   "source": [
    "\n",
    "\"\"\"from torch import optim\n",
    "from torch.utils.data import DataLoader, Dataset\n",
    "from torchvision.datasets import ImageFolder\n",
    "from torch import (load, amax as pt_amax, max as pt_max, ones, save, no_grad, stack, numel, tensor, \n",
    "                   manual_seed, sigmoid, tanh, add, mul, sub, div, amin as pt_amin, cat,\n",
    "                  maximum, minimum, device, cuda, rand, prod, median, log as pt_log, round as pt_round,\n",
    "                  isnan, flatten, mean)\n",
    "from torch import nn\n",
    "from torch.nn import functional as F\n",
    "from torch.optim import Adam\n",
    "#from torchviz import make_dot\n",
    "import torchvision\n",
    "import torchvision.transforms as transforms\"\"\""
   ]
  },
  {
   "cell_type": "code",
   "execution_count": 15,
   "id": "67f76d85",
   "metadata": {
    "execution": {
     "iopub.execute_input": "2022-01-01T19:04:47.312849Z",
     "iopub.status.busy": "2022-01-01T19:04:47.311895Z",
     "iopub.status.idle": "2022-01-01T19:04:47.319870Z",
     "shell.execute_reply": "2022-01-01T19:04:47.320320Z",
     "shell.execute_reply.started": "2022-01-01T05:26:53.281276Z"
    },
    "papermill": {
     "duration": 0.037843,
     "end_time": "2022-01-01T19:04:47.320479",
     "exception": false,
     "start_time": "2022-01-01T19:04:47.282636",
     "status": "completed"
    },
    "tags": []
   },
   "outputs": [],
   "source": [
    "def _pad_params(self):\n",
    "        \"\"\"Pad params for crossover shuffle idx method\"\"\"\n",
    "        assert isinstance(self.params, dict), 'Params must be a dict, i.e. estimator.get_params()'\n",
    "        params_count = {k: len(v) for k,v in self.params.items()}\n",
    "        max_length, max_key = -99, ''\n",
    "        for k, v in params_count.items():\n",
    "            if v <= max_length:\n",
    "                continue\n",
    "            else:\n",
    "                max_key = k\n",
    "                max_length = v\n",
    "        assert isinstance(max_length, int), 'The max length between all params must be an int'\n",
    "        # cycle through params for max length param, otherwise infinite cycle\n",
    "        values_padded = (cycle(v) if k!=max_key else v for k,v in self.params.items())\n",
    "        values_padded = zip(*values_padded)  # ('a', 1, 14), ('b', 2, 16), ('c', 3, 16) ...\n",
    "        values_padded = zip(*values_padded)  # ('a', 'b', 'c'), (1, 2, 3), (14, 15, 16)...\n",
    "        padded_params = {}\n",
    "        for k, v in zip(self.params, values_padded):\n",
    "            padded_params[k] = v\n",
    "        self.padded_params = padded_params\n",
    "        print('Params padded')"
   ]
  },
  {
   "cell_type": "code",
   "execution_count": null,
   "id": "9437cb46",
   "metadata": {
    "papermill": {
     "duration": 0.02616,
     "end_time": "2022-01-01T19:04:47.373202",
     "exception": false,
     "start_time": "2022-01-01T19:04:47.347042",
     "status": "completed"
    },
    "tags": []
   },
   "outputs": [],
   "source": []
  },
  {
   "cell_type": "code",
   "execution_count": null,
   "id": "49147da2",
   "metadata": {
    "papermill": {
     "duration": 0.026018,
     "end_time": "2022-01-01T19:04:47.425884",
     "exception": false,
     "start_time": "2022-01-01T19:04:47.399866",
     "status": "completed"
    },
    "tags": []
   },
   "outputs": [],
   "source": []
  },
  {
   "cell_type": "code",
   "execution_count": null,
   "id": "a478f33c",
   "metadata": {
    "papermill": {
     "duration": 0.026669,
     "end_time": "2022-01-01T19:04:47.479003",
     "exception": false,
     "start_time": "2022-01-01T19:04:47.452334",
     "status": "completed"
    },
    "tags": []
   },
   "outputs": [],
   "source": []
  },
  {
   "cell_type": "code",
   "execution_count": null,
   "id": "f8529942",
   "metadata": {
    "papermill": {
     "duration": 0.026103,
     "end_time": "2022-01-01T19:04:47.531267",
     "exception": false,
     "start_time": "2022-01-01T19:04:47.505164",
     "status": "completed"
    },
    "tags": []
   },
   "outputs": [],
   "source": []
  },
  {
   "cell_type": "code",
   "execution_count": null,
   "id": "ceb58150",
   "metadata": {
    "papermill": {
     "duration": 0.026323,
     "end_time": "2022-01-01T19:04:47.584125",
     "exception": false,
     "start_time": "2022-01-01T19:04:47.557802",
     "status": "completed"
    },
    "tags": []
   },
   "outputs": [],
   "source": []
  },
  {
   "cell_type": "code",
   "execution_count": null,
   "id": "6ce6ca16",
   "metadata": {
    "papermill": {
     "duration": 0.026625,
     "end_time": "2022-01-01T19:04:47.637177",
     "exception": false,
     "start_time": "2022-01-01T19:04:47.610552",
     "status": "completed"
    },
    "tags": []
   },
   "outputs": [],
   "source": []
  },
  {
   "cell_type": "code",
   "execution_count": null,
   "id": "aed5945a",
   "metadata": {
    "papermill": {
     "duration": 0.026737,
     "end_time": "2022-01-01T19:04:47.691040",
     "exception": false,
     "start_time": "2022-01-01T19:04:47.664303",
     "status": "completed"
    },
    "tags": []
   },
   "outputs": [],
   "source": []
  },
  {
   "cell_type": "code",
   "execution_count": null,
   "id": "f121ab16",
   "metadata": {
    "papermill": {
     "duration": 0.025919,
     "end_time": "2022-01-01T19:04:47.743430",
     "exception": false,
     "start_time": "2022-01-01T19:04:47.717511",
     "status": "completed"
    },
    "tags": []
   },
   "outputs": [],
   "source": []
  },
  {
   "cell_type": "code",
   "execution_count": null,
   "id": "5009277a",
   "metadata": {
    "papermill": {
     "duration": 0.026651,
     "end_time": "2022-01-01T19:04:47.796486",
     "exception": false,
     "start_time": "2022-01-01T19:04:47.769835",
     "status": "completed"
    },
    "tags": []
   },
   "outputs": [],
   "source": []
  },
  {
   "cell_type": "code",
   "execution_count": null,
   "id": "8e293568",
   "metadata": {
    "papermill": {
     "duration": 0.026573,
     "end_time": "2022-01-01T19:04:47.850045",
     "exception": false,
     "start_time": "2022-01-01T19:04:47.823472",
     "status": "completed"
    },
    "tags": []
   },
   "outputs": [],
   "source": []
  },
  {
   "cell_type": "code",
   "execution_count": null,
   "id": "85634678",
   "metadata": {
    "papermill": {
     "duration": 0.026969,
     "end_time": "2022-01-01T19:04:47.903935",
     "exception": false,
     "start_time": "2022-01-01T19:04:47.876966",
     "status": "completed"
    },
    "tags": []
   },
   "outputs": [],
   "source": []
  },
  {
   "cell_type": "code",
   "execution_count": null,
   "id": "8804b50f",
   "metadata": {
    "papermill": {
     "duration": 0.027621,
     "end_time": "2022-01-01T19:04:47.959248",
     "exception": false,
     "start_time": "2022-01-01T19:04:47.931627",
     "status": "completed"
    },
    "tags": []
   },
   "outputs": [],
   "source": []
  },
  {
   "cell_type": "code",
   "execution_count": null,
   "id": "2c7d96ab",
   "metadata": {
    "papermill": {
     "duration": 0.026608,
     "end_time": "2022-01-01T19:04:48.012192",
     "exception": false,
     "start_time": "2022-01-01T19:04:47.985584",
     "status": "completed"
    },
    "tags": []
   },
   "outputs": [],
   "source": []
  },
  {
   "cell_type": "code",
   "execution_count": null,
   "id": "b70da80a",
   "metadata": {
    "papermill": {
     "duration": 0.02663,
     "end_time": "2022-01-01T19:04:48.065712",
     "exception": false,
     "start_time": "2022-01-01T19:04:48.039082",
     "status": "completed"
    },
    "tags": []
   },
   "outputs": [],
   "source": []
  }
 ],
 "metadata": {
  "kernelspec": {
   "display_name": "Python 3",
   "language": "python",
   "name": "python3"
  },
  "language_info": {
   "codemirror_mode": {
    "name": "ipython",
    "version": 3
   },
   "file_extension": ".py",
   "mimetype": "text/x-python",
   "name": "python",
   "nbconvert_exporter": "python",
   "pygments_lexer": "ipython3",
   "version": "3.7.12"
  },
  "papermill": {
   "default_parameters": {},
   "duration": 37.053414,
   "end_time": "2022-01-01T19:04:49.104939",
   "environment_variables": {},
   "exception": null,
   "input_path": "__notebook__.ipynb",
   "output_path": "__notebook__.ipynb",
   "parameters": {},
   "start_time": "2022-01-01T19:04:12.051525",
   "version": "2.3.3"
  }
 },
 "nbformat": 4,
 "nbformat_minor": 5
}
