{
 "cells": [
  {
   "cell_type": "code",
   "execution_count": 1,
   "id": "78a924c4",
   "metadata": {
    "_cell_guid": "b1076dfc-b9ad-4769-8c92-a6c4dae69d19",
    "_uuid": "8f2839f25d086af736a60e9eeb907d3b93b6e0e5",
    "execution": {
     "iopub.execute_input": "2022-01-01T05:28:08.415755Z",
     "iopub.status.busy": "2022-01-01T05:28:08.414788Z",
     "iopub.status.idle": "2022-01-01T05:28:08.520650Z",
     "shell.execute_reply": "2022-01-01T05:28:08.521262Z",
     "shell.execute_reply.started": "2022-01-01T05:25:56.489537Z"
    },
    "papermill": {
     "duration": 0.146165,
     "end_time": "2022-01-01T05:28:08.521590",
     "exception": false,
     "start_time": "2022-01-01T05:28:08.375425",
     "status": "completed"
    },
    "tags": []
   },
   "outputs": [],
   "source": [
    "%reset -sf"
   ]
  },
  {
   "cell_type": "code",
   "execution_count": 2,
   "id": "3ec75c7e",
   "metadata": {
    "execution": {
     "iopub.execute_input": "2022-01-01T05:28:08.581903Z",
     "iopub.status.busy": "2022-01-01T05:28:08.580922Z",
     "iopub.status.idle": "2022-01-01T05:28:09.573209Z",
     "shell.execute_reply": "2022-01-01T05:28:09.573775Z",
     "shell.execute_reply.started": "2022-01-01T05:25:56.804055Z"
    },
    "papermill": {
     "duration": 1.022769,
     "end_time": "2022-01-01T05:28:09.573964",
     "exception": false,
     "start_time": "2022-01-01T05:28:08.551195",
     "status": "completed"
    },
    "tags": []
   },
   "outputs": [],
   "source": [
    "from pprint import pprint\n",
    "from collections import defaultdict, OrderedDict, namedtuple, deque\n",
    "from random import choice, seed, randint, shuffle, random\n",
    "from tqdm import tqdm\n",
    "from itertools import repeat, product, combinations, cycle\n",
    "from pathlib import Path\n",
    "from string import ascii_lowercase\n",
    "\n",
    "import numpy as np\n",
    "import pandas as pd\n",
    "\n",
    "from sklearn.model_selection import train_test_split\n",
    "\n",
    "import matplotlib.pyplot as plt\n",
    "\n",
    "from deap import creator as ga_cr, base as ga_b, algorithms as ga_algo, tools as ga_t"
   ]
  },
  {
   "cell_type": "code",
   "execution_count": 3,
   "id": "e1206b84",
   "metadata": {
    "execution": {
     "iopub.execute_input": "2022-01-01T05:28:09.629931Z",
     "iopub.status.busy": "2022-01-01T05:28:09.629260Z",
     "iopub.status.idle": "2022-01-01T05:28:09.634137Z",
     "shell.execute_reply": "2022-01-01T05:28:09.633554Z",
     "shell.execute_reply.started": "2022-01-01T05:25:56.811626Z"
    },
    "papermill": {
     "duration": 0.033635,
     "end_time": "2022-01-01T05:28:09.634316",
     "exception": false,
     "start_time": "2022-01-01T05:28:09.600681",
     "status": "completed"
    },
    "tags": []
   },
   "outputs": [],
   "source": [
    "from IPython.core.interactiveshell import InteractiveShell\n",
    "InteractiveShell.ast_node_interactivity = 'all'"
   ]
  },
  {
   "cell_type": "code",
   "execution_count": 4,
   "id": "7916b1ca",
   "metadata": {
    "execution": {
     "iopub.execute_input": "2022-01-01T05:28:09.692902Z",
     "iopub.status.busy": "2022-01-01T05:28:09.692058Z",
     "iopub.status.idle": "2022-01-01T05:28:09.700937Z",
     "shell.execute_reply": "2022-01-01T05:28:09.701486Z",
     "shell.execute_reply.started": "2022-01-01T05:25:56.827868Z"
    },
    "papermill": {
     "duration": 0.040272,
     "end_time": "2022-01-01T05:28:09.701666",
     "exception": false,
     "start_time": "2022-01-01T05:28:09.661394",
     "status": "completed"
    },
    "tags": []
   },
   "outputs": [
    {
     "data": {
      "text/plain": [
       "[PosixPath('/kaggle/input/hashcode-2021-oqr-extension/hashcode.in'),\n",
       " PosixPath('/kaggle/input/hashcode-2021-oqr-extension/full_problem_description.pdf')]"
      ]
     },
     "execution_count": 4,
     "metadata": {},
     "output_type": "execute_result"
    }
   ],
   "source": [
    "path = Path('/kaggle') / 'input' / 'hashcode-2021-oqr-extension'\n",
    "files = list(path.glob('*'))\n",
    "files"
   ]
  },
  {
   "cell_type": "code",
   "execution_count": 5,
   "id": "a9b821d5",
   "metadata": {
    "execution": {
     "iopub.execute_input": "2022-01-01T05:28:09.758799Z",
     "iopub.status.busy": "2022-01-01T05:28:09.757610Z",
     "iopub.status.idle": "2022-01-01T05:28:09.782848Z",
     "shell.execute_reply": "2022-01-01T05:28:09.783430Z",
     "shell.execute_reply.started": "2022-01-01T05:25:56.850486Z"
    },
    "papermill": {
     "duration": 0.055106,
     "end_time": "2022-01-01T05:28:09.783638",
     "exception": false,
     "start_time": "2022-01-01T05:28:09.728532",
     "status": "completed"
    },
    "tags": []
   },
   "outputs": [],
   "source": [
    "def parse_input(input_file):\n",
    "    with open(input_file) as f:\n",
    "        arr = f.readlines()\n",
    "    arr = arr[::-1]\n",
    "\n",
    "    # first line\n",
    "    line = arr.pop().split()\n",
    "    duration, num_inters, num_streets, num_cars, fixed_score = [\n",
    "        int(x) for x in line]\n",
    "    # print(duration, num_inters, num_streets, num_cars, fixed_score)\n",
    "\n",
    "    # parse streets with inters\n",
    "    streets = {}\n",
    "    for _ in range(num_streets):\n",
    "        line = arr.pop().split()\n",
    "        start = int(line[0])\n",
    "        end = int(line[1])\n",
    "        street_name = line[2]\n",
    "        length = int(line[-1])\n",
    "        streets[street_name] = {\"start\": start, \"end\": end, \"length\": length}\n",
    "    # print(f\"Unique Streets: {len(streets)}\")\n",
    "\n",
    "    # parse cars paths\n",
    "    cars_paths = []\n",
    "    for _ in range(num_cars):\n",
    "        line = arr.pop().split()\n",
    "        # [1:] because the first word is the length of the sequence\n",
    "        sequence = line[1:]\n",
    "        cars_paths.append(sequence)\n",
    "    # print(f\"Unique Car Paths: {len(cars_paths)}\")\n",
    "\n",
    "    return streets, cars_paths\n",
    "\n",
    "\n",
    "class MutableValue:\n",
    "    def __init__(self, val=None):\n",
    "        self.val = val\n",
    "\n",
    "\n",
    "Street = namedtuple(\n",
    "    \"Street\",\n",
    "    [\n",
    "        \"id\",  # The index of the street\n",
    "        \"start\",  # The inters object at the start of the street\n",
    "        \"end\",  # The inters object at the end of the street\n",
    "        \"name\",  # A str\n",
    "        \"duration\",  # The length of the street in seconds\n",
    "        \"driving_cars\",  # A dict mapping car ids (int) to remaining seconds\n",
    "        \"waiting_cars\",  # A deque of car ids (int)\n",
    "        \"arrival_times\",  # A dict mapping car ids (int) to their arrival times\n",
    "        # A dict mapping car ids (int) to their departure times\n",
    "        \"departure_times\"\n",
    "        # You can compute the seconds that a car\n",
    "        # was waiting at the end of the street\n",
    "        # by subtracting the arrival time from the departure time.\n",
    "    ],\n",
    ")\n",
    "\n",
    "Inters = namedtuple(\n",
    "    \"Inters\",\n",
    "    [\n",
    "        \"id\",  # The index of the Inters\n",
    "        \"incomings\",  # A deque of incoming Street objects\n",
    "        \"outgoings\",  # A deque of outgoing Street objects\n",
    "        # The Street object that currently has a green light.\n",
    "        # Will be wrapped in a MutableValue with a \"val\" attribute to allow\n",
    "        # mutating the value without mutating the namedtuple.\n",
    "        \"green_street\",\n",
    "        # An int representing the total number of waiting cars across all\n",
    "        # incoming streets of this inters.\n",
    "        # Will be wrapped in a MutableValue with a \"val\" attribute to allow\n",
    "        # mutating the value without mutating the namedtuple.\n",
    "        \"num_waiting_cars\",\n",
    "        # The sum of green times of all incoming streets in the schedule.\n",
    "        # Will be wrapped in a MutableValue with a \"val\" attribute to allow\n",
    "        # mutating the value without mutating the namedtuple.\n",
    "        \"schedule_duration\",\n",
    "        # A list mapping (t mod schedule_duration.val) to the street object\n",
    "        # that is green at time t.\n",
    "        \"green_street_per_t_mod\",  # green_street_per_t_mod: name too long\n",
    "        # A bool indicating whether the green_street ever needs to be\n",
    "        # updated during the simulation (i.e., whether the schedule has\n",
    "        # more than one street).\n",
    "        # Will be wrapped in a MutableValue with a \"val\" attribute to allow\n",
    "        # mutating the value without mutating the namedtuple.\n",
    "        \"needs_updates\",\n",
    "    ],\n",
    ")\n",
    "\n",
    "# We only use street indices and inters indices here to allow\n",
    "# fast deep-copies of a schedule for testing out and reverting modifications.\n",
    "Schedule = namedtuple(\n",
    "    \"Schedule\",\n",
    "    [\n",
    "        \"i_inters\",  # The index of the inters\n",
    "        \"order\",  # A list of street ids\n",
    "        \"green_times\",  # A dict mapping street ids to green times (seconds)\n",
    "    ],\n",
    ")\n",
    "\n",
    "\n",
    "def parse_input2(input_file_path):\n",
    "    with open(input_file_path) as f:\n",
    "        lines = deque(f.readlines())\n",
    "\n",
    "    # Parse the first line\n",
    "    total_duration, num_interss, num_streets, num_cars, bonus_points = map(\n",
    "        int, lines.popleft().split()\n",
    "    )\n",
    "\n",
    "    # Create empty interss\n",
    "    interss = tuple(\n",
    "        Inters(\n",
    "            id=i,\n",
    "            incomings=deque(),\n",
    "            outgoings=deque(),\n",
    "            green_street=MutableValue(),\n",
    "            num_waiting_cars=MutableValue(0),\n",
    "            green_street_per_t_mod=[],\n",
    "            schedule_duration=MutableValue(),\n",
    "            needs_updates=MutableValue(False),\n",
    "        )\n",
    "        for i in range(num_interss)\n",
    "    )\n",
    "\n",
    "    # Parse the streets\n",
    "    streets = []\n",
    "    name_to_street = {}\n",
    "    for i_street in range(num_streets):\n",
    "        line = lines.popleft().split()\n",
    "        start, end = map(int, line[:2])\n",
    "        name = line[2]\n",
    "        duration = int(line[3])\n",
    "        street = Street(\n",
    "            id=i_street,\n",
    "            start=interss[start],\n",
    "            end=interss[end],\n",
    "            name=name,\n",
    "            duration=duration,\n",
    "            driving_cars={},\n",
    "            waiting_cars=deque(),\n",
    "            arrival_times={},\n",
    "            departure_times={},\n",
    "        )\n",
    "        name_to_street[name] = street\n",
    "        interss[start].outgoings.append(street)\n",
    "        interss[end].incomings.append(street)\n",
    "        streets.append(street)\n",
    "\n",
    "    # Parse the paths\n",
    "    paths = []\n",
    "    for i_car in range(num_cars):\n",
    "        line = lines.popleft().split()\n",
    "        path_length = int(line[0])\n",
    "        path = line[1:]\n",
    "        assert len(path) == path_length\n",
    "        path = deque(name_to_street[name] for name in path)\n",
    "        paths.append(path)\n",
    "\n",
    "    return (total_duration, bonus_points, interss,\n",
    "            streets, name_to_street, paths)"
   ]
  },
  {
   "cell_type": "code",
   "execution_count": 6,
   "id": "40f6610a",
   "metadata": {
    "execution": {
     "iopub.execute_input": "2022-01-01T05:28:09.880389Z",
     "iopub.status.busy": "2022-01-01T05:28:09.867237Z",
     "iopub.status.idle": "2022-01-01T05:28:09.882626Z",
     "shell.execute_reply": "2022-01-01T05:28:09.882048Z",
     "shell.execute_reply.started": "2022-01-01T05:25:56.869404Z"
    },
    "papermill": {
     "duration": 0.072925,
     "end_time": "2022-01-01T05:28:09.882777",
     "exception": false,
     "start_time": "2022-01-01T05:28:09.809852",
     "status": "completed"
    },
    "tags": []
   },
   "outputs": [],
   "source": [
    "def create_inters(streets, cars_paths, cars_paths_order='descending'):\n",
    "    if cars_paths_order == 'descending':\n",
    "        cars_paths = reversed(sorted(cars_paths, key=len))\n",
    "    if cars_paths_order == 'ascending':\n",
    "        cars_paths = sorted(cars_paths, key=len)\n",
    "    if cars_paths_order == 'random':\n",
    "        shuffle(cars_paths)\n",
    "\n",
    "    inters_streets = defaultdict(set)\n",
    "    for car_path in cars_paths:\n",
    "        for street in car_path:\n",
    "            inters_streets[streets[street][\"end\"]].add(street)\n",
    "    # print(f\"Unique Intersections: {len(inters_streets)}\")\n",
    "\n",
    "    return inters_streets\n",
    "\n",
    "\n",
    "# NOTE: There are some intersections never reached by cars paths\n",
    "# So, they should not be accounted for in schedules, otherwise error!\n",
    "\n",
    "\n",
    "def create_time_fractions(interss, light_times):\n",
    "    # each inters gets a light\n",
    "    # each light gets own schedule\n",
    "    # very granular!\n",
    "    #inters_sched = defaultdict(dict)\n",
    "    #for i, inters in enumerate(interss):\n",
    "     #    for j, street in enumerate(interss[inters]):\n",
    "      #          inters_sched[inters][street] = randint(1, 3)\n",
    "                \n",
    "    inters_sched = defaultdict(dict)\n",
    "    for inters, time_fraction in zip(interss, light_times):\n",
    "        for street in interss[inters]:\n",
    "            inters_sched[inters][street] = time_fraction\n",
    "\n",
    "    return inters_sched\n",
    "\n",
    "\n",
    "def set_schedules(inters_streets, time_fractions):\n",
    "    # Set schedules\n",
    "    schedules = []\n",
    "    for inters, streets in inters_streets.items():\n",
    "        cycle = []\n",
    "        for street in streets:\n",
    "            # time_fraction = 1  # int(randint(1, 5))\n",
    "            # time_fraction = 1\n",
    "            cycle.append([inters, street, time_fractions[inters][street]])\n",
    "        schedules.append(cycle)\n",
    "    return schedules\n",
    "\n",
    "\n",
    "def format_schedules(schedules):\n",
    "    # Parse solution into submission\n",
    "    res = []\n",
    "    res.append([len(schedules)])  # requirement\n",
    "    for cycle in schedules:\n",
    "        res.append([cycle[0][0]])  # requirement: inters ID\n",
    "        res.append([len(cycle)])  # requirement: lenght of inters\n",
    "        for inters, street, time_fraction in cycle:\n",
    "            res.append([street, time_fraction])\n",
    "    res1 = \"\\n\".join(\" \".join([str(x) for x in row]) for row in res)\n",
    "    # with open(\"submission.csv\", \"w\") as text_file:\n",
    "    #     text_file.write(res1)\n",
    "    res2 = [\" \".join([str(x) for x in row]) for row in res]\n",
    "    return res1, res2\n",
    "\n",
    "\n",
    "def parse_schedules(output_file_path, name_to_street):\n",
    "    # with open(output_file_path) as f:\n",
    "    #     lines = f.readlines()\n",
    "    #     lines = deque(lines)\n",
    "    # adusted to consume from variables,\n",
    "    # instead of file path\n",
    "    lines = deque(output_file_path)\n",
    "    num_schedules = int(lines.popleft())\n",
    "    schedules = []\n",
    "    for i_schedule in range(num_schedules):\n",
    "        i_inters = int(lines.popleft())\n",
    "        num_incomings = int(lines.popleft())\n",
    "        order = []\n",
    "        green_times = {}\n",
    "        for i_incoming in range(num_incomings):\n",
    "            street_name, green_time = lines.popleft().split()\n",
    "            green_time = int(green_time)\n",
    "            street = name_to_street[street_name]\n",
    "            order.append(street.id)\n",
    "            green_times[street.id] = green_time\n",
    "\n",
    "        schedule = Schedule(i_inters=i_inters, order=order,\n",
    "                            green_times=green_times)\n",
    "        schedules.append(schedule)\n",
    "    return schedules\n",
    "\n",
    "\n",
    "def reset(streets, interss):\n",
    "    # Reinitialize mutable data structures\n",
    "    for street in streets:\n",
    "        street.driving_cars.clear()\n",
    "        street.waiting_cars.clear()\n",
    "        street.arrival_times.clear()\n",
    "        street.departure_times.clear()\n",
    "\n",
    "    for inters in interss:\n",
    "        inters.green_street.val = None\n",
    "        inters.num_waiting_cars.val = 0\n",
    "        inters.green_street_per_t_mod.clear()\n",
    "        inters.schedule_duration.val = None\n",
    "        inters.needs_updates.val = False\n",
    "\n",
    "\n",
    "def grade(schedules, streets, interss, paths,\n",
    "          total_duration, bonus_points):\n",
    "    reset(streets, interss)\n",
    "\n",
    "    # We will consume the deques in the paths list. Save a copy of them\n",
    "    # for later to reset the paths after the simulation.\n",
    "    paths_copy = [path.copy() for path in paths]\n",
    "\n",
    "    # Iterate through the schedules and initialize the interss.\n",
    "    inters_ids_with_schedules = set()\n",
    "    for schedule in schedules:\n",
    "        inters = interss[schedule.i_inters]\n",
    "        inters_ids_with_schedules.add(inters.id)\n",
    "        first_street = streets[schedule.order[0]]\n",
    "        inters.green_street.val = first_street\n",
    "        inters.needs_updates.val = len(schedule.order) > 1\n",
    "        schedule_duration = 0\n",
    "        green_street_per_t_mod = inters.green_street_per_t_mod\n",
    "        for street_id in schedule.order:\n",
    "            green_time = schedule.green_times[street_id]\n",
    "            for _ in range(green_time):\n",
    "                green_street_per_t_mod.append(streets[street_id])\n",
    "            schedule_duration += green_time\n",
    "        inters.schedule_duration.val = schedule_duration\n",
    "\n",
    "    # inters_ids_with_waiting_cars is restricted to interss\n",
    "    # with schedules\n",
    "    inters_ids_with_waiting_cars = set()\n",
    "    for i_car, path in enumerate(paths):\n",
    "        street = path.popleft()\n",
    "        street.waiting_cars.append(i_car)\n",
    "        if street.end.id in inters_ids_with_schedules:\n",
    "            inters_ids_with_waiting_cars.add(street.end.id)\n",
    "        street.end.num_waiting_cars.val += 1\n",
    "\n",
    "    street_ids_with_driving_cars = set()\n",
    "    score = 0\n",
    "\n",
    "    # Main simulation loop\n",
    "    for t in range(total_duration):\n",
    "\n",
    "        # Drive across interss\n",
    "        # Store the ids of interss that\n",
    "        # don't have waiting cars after this.\n",
    "        inters_ids_to_remove = set()\n",
    "        for i_inters in inters_ids_with_waiting_cars:\n",
    "            inters = interss[i_inters]\n",
    "\n",
    "            if inters.needs_updates.val:\n",
    "                # Update the green street\n",
    "                t_mod = t % inters.schedule_duration.val\n",
    "                inters.green_street.val = inters.green_street_per_t_mod[t_mod]\n",
    "\n",
    "            green_street = inters.green_street.val\n",
    "            waiting_cars = green_street.waiting_cars\n",
    "            if len(waiting_cars) > 0:\n",
    "                # Drive across the inters\n",
    "                waiting_car = waiting_cars.popleft()\n",
    "                green_street.departure_times[waiting_car] = t\n",
    "                next_street = paths[waiting_car].popleft()\n",
    "                next_street.driving_cars[waiting_car] = next_street.duration\n",
    "                street_ids_with_driving_cars.add(next_street.id)\n",
    "\n",
    "                inters.num_waiting_cars.val -= 1\n",
    "                if inters.num_waiting_cars.val == 0:\n",
    "                    inters_ids_to_remove.add(i_inters)\n",
    "\n",
    "        inters_ids_with_waiting_cars.difference_update(inters_ids_to_remove)\n",
    "\n",
    "        # Drive across roads\n",
    "        # Store the ids of streets that don't have driving cars after this.\n",
    "        street_ids_to_remove = set()\n",
    "        for i_street in street_ids_with_driving_cars:\n",
    "            street = streets[i_street]\n",
    "            driving_cars = street.driving_cars\n",
    "            for car in list(driving_cars):\n",
    "                # Update the \"time to live\" of this car,\n",
    "                # i.e. the remaining driving seconds.\n",
    "                ttl = driving_cars[car]\n",
    "                ttl -= 1\n",
    "                if ttl < 0:\n",
    "                    raise ValueError\n",
    "                elif ttl == 0:\n",
    "                    # Reached the end of the street\n",
    "                    del driving_cars[car]\n",
    "                    if len(paths[car]) == 0:\n",
    "                        # FINISH\n",
    "                        score += bonus_points\n",
    "                        score += total_duration - t - 1\n",
    "\n",
    "                    else:\n",
    "                        street.waiting_cars.append(car)\n",
    "                        street.end.num_waiting_cars.val += 1\n",
    "                        street.arrival_times[car] = t + 1\n",
    "                        inters_id = street.end.id\n",
    "                        if inters_id in inters_ids_with_schedules:\n",
    "                            inters_ids_with_waiting_cars.add(inters_id)\n",
    "                else:\n",
    "                    # The car is still driving on the street\n",
    "                    driving_cars[car] = ttl\n",
    "            if len(driving_cars) == 0:\n",
    "                street_ids_to_remove.add(i_street)\n",
    "        street_ids_with_driving_cars.difference_update(street_ids_to_remove)\n",
    "\n",
    "    # We are done with the simulation. Restore the paths.\n",
    "    for i_path in range(len(paths)):\n",
    "        paths[i_path] = paths_copy[i_path]\n",
    "\n",
    "    return score\n",
    "\n",
    "def write_best_score(score, schedules):\n",
    "    with open(f\"submission_score_{score:,}.csv\", \"w\") as text_file:\n",
    "        text_file.write(schedules)"
   ]
  },
  {
   "cell_type": "code",
   "execution_count": null,
   "id": "06531122",
   "metadata": {
    "papermill": {
     "duration": 0.026072,
     "end_time": "2022-01-01T05:28:09.936722",
     "exception": false,
     "start_time": "2022-01-01T05:28:09.910650",
     "status": "completed"
    },
    "tags": []
   },
   "outputs": [],
   "source": []
  },
  {
   "cell_type": "code",
   "execution_count": 7,
   "id": "39a495d8",
   "metadata": {
    "execution": {
     "iopub.execute_input": "2022-01-01T05:28:09.995134Z",
     "iopub.status.busy": "2022-01-01T05:28:09.993974Z",
     "iopub.status.idle": "2022-01-01T05:28:10.017831Z",
     "shell.execute_reply": "2022-01-01T05:28:10.017049Z",
     "shell.execute_reply.started": "2022-01-01T05:25:56.908379Z"
    },
    "papermill": {
     "duration": 0.054431,
     "end_time": "2022-01-01T05:28:10.017980",
     "exception": false,
     "start_time": "2022-01-01T05:28:09.963549",
     "status": "completed"
    },
    "tags": []
   },
   "outputs": [],
   "source": [
    "class GA_Hash_Traffic_Light():\n",
    "    def __init__(self, \n",
    "                 #params, \n",
    "                 eval_func,\n",
    "                 eval_weights,\n",
    "                 #\n",
    "                 input_file,\n",
    "                 #\n",
    "                 #inters_streets=inters_streets,\n",
    "                 #name_to_i_street=name_to_i_street, \n",
    "                 #streets2=streets2,\n",
    "                 #inters=inters,\n",
    "                 #paths=paths,\n",
    "                 #duration=duration,\n",
    "                 #bonus_points=bonus_points,\n",
    "                 #\n",
    "                 sel_tournsize=3, \n",
    "                 cx_uniform_prob=0.5, \n",
    "                 mut_shuffle_idx_prob=0.1, \n",
    "                 n_pop=75, \n",
    "                 n_gen=75, \n",
    "                 n_hof=1, \n",
    "                 cx_prob=0.5, \n",
    "                 mut_prob=0.1, \n",
    "                 n_jobs=4\n",
    "                ):\n",
    "        #self.params = params\n",
    "        self.eval_func = eval_func\n",
    "        self.eval_weights = eval_weights\n",
    "        \n",
    "        self.input_file = input_file\n",
    "        \n",
    "        #self.inters_streets = inters_streets\n",
    "        #self.name_to_i_street = name_to_i_street\n",
    "        #self.streets2 = streets2\n",
    "        #self.inters = inters\n",
    "        #self.paths = paths\n",
    "        #self.duration = duration\n",
    "        #self.bonus_points = bonus_points\n",
    "        \n",
    "        self.sel_tournsize = sel_tournsize\n",
    "        self.cx_uniform_prob = cx_uniform_prob\n",
    "        self.mut_shuffle_idx_prob = mut_shuffle_idx_prob\n",
    "        self.n_pop = n_pop\n",
    "        self.n_gen = n_gen\n",
    "        self.n_hof = n_hof\n",
    "        self.cx_prob = cx_prob\n",
    "        self.mut_prob = mut_prob\n",
    "        \n",
    "        self.n_jobs = n_jobs\n",
    "\n",
    "        self._create_fitness_and_indiv()\n",
    "        self._register_indiv_and_pop_generators()\n",
    "        self._register_eval_func()\n",
    "        self._register_selection_crossover_mutation_methods()\n",
    "\n",
    "    def _create_fitness_and_indiv(self):\n",
    "        \"\"\"Create GA individual and fitness entities (classes)\"\"\"\n",
    "        ga_cr.create('Fitness', ga_b.Fitness, weights=self.eval_weights)\n",
    "        ga_cr.create('Individual', list, fitness=ga_cr.Fitness)\n",
    "        print('GA entities created')\n",
    "\n",
    "    def _gen_params_to_ga(self):\n",
    "        \"\"\"Generate index for each param for individual\"\"\"\n",
    "        idxs = [randint(1, 5) for _ in range(7999)]\n",
    "        return idxs\n",
    "    \n",
    "    def _register_indiv_and_pop_generators(self):\n",
    "        \"\"\"Register GA individual and population generators\"\"\"\n",
    "        self.tb = ga_b.Toolbox()\n",
    "\n",
    "        if self.n_jobs > 1:\n",
    "            from multiprocessing import Pool\n",
    "            pool = Pool()\n",
    "            self.tb.register(\"map\", pool.map)\n",
    "\n",
    "        self.tb.register(\"individual\", ga_t.initIterate, ga_cr.Individual, self._gen_params_to_ga)\n",
    "        #print('indiv', self.tb.individual())\n",
    "        self.tb.register(\"population\", ga_t.initRepeat, list, self.tb.individual)\n",
    "        #print('population', self.tb.population(n=2))\n",
    "        print('GA entities\\' methods registered')\n",
    "        \n",
    "    def _register_eval_func(self):\n",
    "        \"\"\"Set GA evaluate individual function\"\"\"\n",
    "        self.tb.register(\"evaluate\",\n",
    "                        self.eval_func,\n",
    "                        input_file=self.input_file,\n",
    "                        #inters_streets=self.inters_streets,\n",
    "                        #name_to_i_street=self.name_to_i_street, \n",
    "                        #streets2=self.streets2, \n",
    "                        #inters=self.inters, \n",
    "                        #paths=self.paths, \n",
    "                        #duration=self.duration, \n",
    "                        #bonus_points=self.bonus_points\n",
    "                        )\n",
    "        #print(list(self.tb.evaluate(indiv) for indiv in self.tb.population(3)))\n",
    "        print('GA eval function registered')\n",
    "    \n",
    "    def _register_selection_crossover_mutation_methods(self):\n",
    "        self.tb.register(\"select\", ga_t.selTournament, tournsize=self.sel_tournsize)\n",
    "        self.tb.register(\"mate\", ga_t.cxUniform, indpb=self.cx_uniform_prob)\n",
    "        self.tb.register(\"mutate\", ga_t.mutShuffleIndexes, indpb=self.mut_shuffle_idx_prob)\n",
    "        print('GA sel-cx-mut methods registered')\n",
    "        \n",
    "    def run_ga_search(self):\n",
    "        \"\"\"GA Search\"\"\"\n",
    "        pop = self.tb.population(n=self.n_pop)\n",
    "        hof = ga_t.HallOfFame(self.n_hof)\n",
    "\n",
    "        # Stats stdout\n",
    "        stats = ga_t.Statistics(lambda ind: ind.fitness.values )\n",
    "        #stats1 = ga_t.Statistics(lambda ind: ind.fitness.values[0] )\n",
    "        #stats2 = ga_t.Statistics(lambda ind: ind.fitness.values[1] )\n",
    "        #stats3 = ga_t.Statistics(lambda ind: ind.fitness.values[2] )\n",
    "        stats = ga_t.MultiStatistics(traffic_score=stats)\n",
    "        stats.register(\"avg\", np.mean)\n",
    "        #stats.register(\"std\", np.std)\n",
    "        #stats.register(\"min\", np.min)\n",
    "        #stats.register(\"max\", np.max)\n",
    "\n",
    "        # History\n",
    "        #hist = tools.History()\n",
    "        #toolbox.decorate(\"select\", hist.decorator)\n",
    "        #tb.decorate(\"mate\", hist.decorator)\n",
    "        #tb.decorate(\"mutate\", hist.decorator)\n",
    "        #hist.update(pop)\n",
    "\n",
    "        # GA Run\n",
    "        pop, log = ga_algo.eaSimple(pop, self.tb, cxpb=self.cx_prob, \n",
    "                                    mutpb=self.mut_prob, ngen=self.n_gen, \n",
    "                                    stats=stats, halloffame=hof, verbose=True)\n",
    "        \n",
    "        # Convert back params\n",
    "        #hof_ = {}\n",
    "        #for i in range(self.n_hof):\n",
    "         #   hof_['hof_' + str(i)] = self._ga_to_params(hof[i])\n",
    "\n",
    "        return pop, log, hof\n",
    "    \n",
    "    def _ga_to_params(self, idx_params):\n",
    "        \"\"\"Convert back idx to params\"\"\"\n",
    "        res = {}\n",
    "        for (k,v), idx in zip(self.padded_params.items(), idx_params):\n",
    "            res[k] = v[idx]\n",
    "        return res"
   ]
  },
  {
   "cell_type": "code",
   "execution_count": 8,
   "id": "57ebdcb9",
   "metadata": {
    "execution": {
     "iopub.execute_input": "2022-01-01T05:28:10.079374Z",
     "iopub.status.busy": "2022-01-01T05:28:10.078589Z",
     "iopub.status.idle": "2022-01-01T05:28:10.080073Z",
     "shell.execute_reply": "2022-01-01T05:28:10.080579Z",
     "shell.execute_reply.started": "2022-01-01T05:25:56.936397Z"
    },
    "papermill": {
     "duration": 0.035364,
     "end_time": "2022-01-01T05:28:10.080749",
     "exception": false,
     "start_time": "2022-01-01T05:28:10.045385",
     "status": "completed"
    },
    "tags": []
   },
   "outputs": [],
   "source": [
    "def hash_eval_indiv(individual, input_file):\n",
    "    \"\"\"Evaluate individual's genes (estimator's params)\"\"\"\n",
    "    # Containers\n",
    "    streets, cars_paths = parse_input(input_file)\n",
    "    duration, bonus_points, inters, streets2, name_to_i_street, paths = parse_input2(input_file)\n",
    "\n",
    "    # Create intersections\n",
    "    inters_streets = create_inters(streets, cars_paths)\n",
    "\n",
    "    # Create schedules times\n",
    "    time_fractions = create_time_fractions(inters_streets, individual)\n",
    "\n",
    "    # Schedules\n",
    "    schedules = set_schedules(inters_streets, time_fractions)\n",
    "    schedules_str, schedules_file = format_schedules(schedules)\n",
    "\n",
    "    # Evaluation\n",
    "    schedules_for_grade = parse_schedules(schedules_file, name_to_i_street)\n",
    "    score = grade(schedules_for_grade, streets2, inters, paths, duration, bonus_points)\n",
    "\n",
    "    return (score,)\n",
    "\n",
    "hash_weights = (1,)"
   ]
  },
  {
   "cell_type": "code",
   "execution_count": 9,
   "id": "b6f81a04",
   "metadata": {
    "execution": {
     "iopub.execute_input": "2022-01-01T05:28:10.140392Z",
     "iopub.status.busy": "2022-01-01T05:28:10.137114Z",
     "iopub.status.idle": "2022-01-01T08:35:33.561079Z",
     "shell.execute_reply": "2022-01-01T08:35:33.561812Z",
     "shell.execute_reply.started": "2022-01-01T05:25:56.956552Z"
    },
    "papermill": {
     "duration": 11243.455671,
     "end_time": "2022-01-01T08:35:33.562244",
     "exception": false,
     "start_time": "2022-01-01T05:28:10.106573",
     "status": "completed"
    },
    "tags": []
   },
   "outputs": [
    {
     "name": "stdout",
     "output_type": "stream",
     "text": [
      "GA entities created\n",
      "GA entities' methods registered\n",
      "GA eval function registered\n",
      "GA sel-cx-mut methods registered\n",
      "   \t      \t        traffic_score         \n",
      "   \t      \t------------------------------\n",
      "gen\tnevals\tavg        \tgen\tnevals\n",
      "0  \t75    \t2.12182e+06\t0  \t75    \n",
      "1  \t31    \t2.26288e+06\t1  \t31    \n",
      "2  \t37    \t2.34351e+06\t2  \t37    \n",
      "3  \t38    \t2.41904e+06\t3  \t38    \n",
      "4  \t38    \t2.50648e+06\t4  \t38    \n",
      "5  \t47    \t2.5558e+06 \t5  \t47    \n",
      "6  \t38    \t2.59788e+06\t6  \t38    \n",
      "7  \t37    \t2.63734e+06\t7  \t37    \n",
      "8  \t35    \t2.66117e+06\t8  \t35    \n",
      "9  \t41    \t2.68929e+06\t9  \t41    \n",
      "10 \t47    \t2.70689e+06\t10 \t47    \n",
      "11 \t35    \t2.73611e+06\t11 \t35    \n",
      "12 \t38    \t2.75064e+06\t12 \t38    \n",
      "13 \t42    \t2.77928e+06\t13 \t42    \n",
      "14 \t32    \t2.80306e+06\t14 \t32    \n",
      "15 \t33    \t2.81309e+06\t15 \t33    \n",
      "16 \t34    \t2.84067e+06\t16 \t34    \n",
      "17 \t43    \t2.85598e+06\t17 \t43    \n",
      "18 \t41    \t2.8622e+06 \t18 \t41    \n",
      "19 \t42    \t2.88571e+06\t19 \t42    \n",
      "20 \t37    \t2.89937e+06\t20 \t37    \n",
      "21 \t38    \t2.91353e+06\t21 \t38    \n",
      "22 \t37    \t2.91869e+06\t22 \t37    \n",
      "23 \t40    \t2.93199e+06\t23 \t40    \n",
      "24 \t42    \t2.93673e+06\t24 \t42    \n",
      "25 \t36    \t2.95163e+06\t25 \t36    \n",
      "26 \t40    \t2.96668e+06\t26 \t40    \n",
      "27 \t40    \t2.97168e+06\t27 \t40    \n",
      "28 \t44    \t2.98195e+06\t28 \t44    \n",
      "29 \t44    \t2.98332e+06\t29 \t44    \n",
      "30 \t46    \t2.99411e+06\t30 \t46    \n",
      "31 \t45    \t2.99787e+06\t31 \t45    \n",
      "32 \t43    \t3.00137e+06\t32 \t43    \n",
      "33 \t47    \t3.00598e+06\t33 \t47    \n",
      "34 \t51    \t3.0161e+06 \t34 \t51    \n",
      "35 \t44    \t3.0287e+06 \t35 \t44    \n",
      "36 \t36    \t3.02672e+06\t36 \t36    \n",
      "37 \t40    \t3.03834e+06\t37 \t40    \n",
      "38 \t42    \t3.04172e+06\t38 \t42    \n",
      "39 \t39    \t3.02456e+06\t39 \t39    \n",
      "40 \t35    \t3.04228e+06\t40 \t35    \n",
      "41 \t33    \t3.04404e+06\t41 \t33    \n",
      "42 \t25    \t3.05162e+06\t42 \t25    \n",
      "43 \t29    \t3.05105e+06\t43 \t29    \n",
      "44 \t46    \t3.0509e+06 \t44 \t46    \n",
      "45 \t43    \t3.05642e+06\t45 \t43    \n",
      "46 \t48    \t3.04711e+06\t46 \t48    \n",
      "47 \t46    \t3.05374e+06\t47 \t46    \n",
      "48 \t39    \t3.05363e+06\t48 \t39    \n",
      "49 \t46    \t3.05864e+06\t49 \t46    \n",
      "50 \t40    \t3.0681e+06 \t50 \t40    \n",
      "51 \t42    \t3.07012e+06\t51 \t42    \n",
      "52 \t37    \t3.07951e+06\t52 \t37    \n",
      "53 \t50    \t3.07382e+06\t53 \t50    \n",
      "54 \t50    \t3.06777e+06\t54 \t50    \n",
      "55 \t41    \t3.07804e+06\t55 \t41    \n",
      "56 \t46    \t3.09536e+06\t56 \t46    \n",
      "57 \t41    \t3.09507e+06\t57 \t41    \n",
      "58 \t38    \t3.08323e+06\t58 \t38    \n",
      "59 \t35    \t3.08931e+06\t59 \t35    \n",
      "60 \t38    \t3.09379e+06\t60 \t38    \n",
      "61 \t34    \t3.08792e+06\t61 \t34    \n",
      "62 \t36    \t3.0943e+06 \t62 \t36    \n",
      "63 \t40    \t3.07727e+06\t63 \t40    \n",
      "64 \t27    \t3.07323e+06\t64 \t27    \n",
      "65 \t30    \t3.08542e+06\t65 \t30    \n",
      "66 \t46    \t3.09007e+06\t66 \t46    \n",
      "67 \t33    \t3.09521e+06\t67 \t33    \n",
      "68 \t38    \t3.0987e+06 \t68 \t38    \n",
      "69 \t36    \t3.10036e+06\t69 \t36    \n",
      "70 \t49    \t3.08393e+06\t70 \t49    \n",
      "71 \t46    \t3.08686e+06\t71 \t46    \n",
      "72 \t42    \t3.09238e+06\t72 \t42    \n",
      "73 \t44    \t3.08633e+06\t73 \t44    \n",
      "74 \t39    \t3.0929e+06 \t74 \t39    \n",
      "75 \t43    \t3.09517e+06\t75 \t43    \n"
     ]
    }
   ],
   "source": [
    "ga_hash = GA_Hash_Traffic_Light(hash_eval_indiv, \n",
    "                                hash_weights,\n",
    "                                #\n",
    "                                files[0],\n",
    "                                #\n",
    "                                #inters_streets,\n",
    "                                #streets2,\n",
    "                                #inters,\n",
    "                                #paths,\n",
    "                                #duration,\n",
    "                                #bonus_points,\n",
    "                               )\n",
    "pop, log, hof = ga_hash.run_ga_search()"
   ]
  },
  {
   "cell_type": "code",
   "execution_count": 10,
   "id": "5ff52ec0",
   "metadata": {
    "execution": {
     "iopub.execute_input": "2022-01-01T08:35:33.675329Z",
     "iopub.status.busy": "2022-01-01T08:35:33.672073Z",
     "iopub.status.idle": "2022-01-01T08:35:33.677781Z",
     "shell.execute_reply": "2022-01-01T08:35:33.678391Z",
     "shell.execute_reply.started": "2022-01-01T05:26:43.838543Z"
    },
    "papermill": {
     "duration": 0.067242,
     "end_time": "2022-01-01T08:35:33.678560",
     "exception": false,
     "start_time": "2022-01-01T08:35:33.611318",
     "status": "completed"
    },
    "tags": []
   },
   "outputs": [
    {
     "data": {
      "text/plain": [
       "array([5, 1, 3, ..., 4, 5, 3])"
      ]
     },
     "execution_count": 10,
     "metadata": {},
     "output_type": "execute_result"
    }
   ],
   "source": [
    "np.array(hof[0])"
   ]
  },
  {
   "cell_type": "code",
   "execution_count": 11,
   "id": "47654c13",
   "metadata": {
    "execution": {
     "iopub.execute_input": "2022-01-01T08:35:33.785705Z",
     "iopub.status.busy": "2022-01-01T08:35:33.784980Z",
     "iopub.status.idle": "2022-01-01T08:35:42.044153Z",
     "shell.execute_reply": "2022-01-01T08:35:42.043504Z",
     "shell.execute_reply.started": "2022-01-01T05:26:43.850555Z"
    },
    "papermill": {
     "duration": 8.316331,
     "end_time": "2022-01-01T08:35:42.044309",
     "exception": false,
     "start_time": "2022-01-01T08:35:33.727978",
     "status": "completed"
    },
    "tags": []
   },
   "outputs": [
    {
     "data": {
      "text/plain": [
       "3117775"
      ]
     },
     "execution_count": 11,
     "metadata": {},
     "output_type": "execute_result"
    }
   ],
   "source": [
    "# Hash with best HoF\n",
    "\n",
    "# Containers\n",
    "streets, cars_paths = parse_input(files[0])\n",
    "duration, bonus_points, inters, streets2, name_to_i_street, paths = parse_input2(files[0])\n",
    "    \n",
    "# Create intersections\n",
    "inters_streets = create_inters(streets, cars_paths)\n",
    "\n",
    "# Create schedules times\n",
    "time_fractions = create_time_fractions(inters_streets, light_times=hof[0])\n",
    "    \n",
    "# Schedules\n",
    "schedules = set_schedules(inters_streets, time_fractions)\n",
    "schedules_str, schedules_file = format_schedules(schedules)\n",
    "\n",
    "# Evaluation\n",
    "schedules_for_grade = parse_schedules(schedules_file, name_to_i_street)\n",
    "score = grade(schedules_for_grade, streets2, inters, paths, duration, bonus_points)\n",
    "score"
   ]
  },
  {
   "cell_type": "code",
   "execution_count": 12,
   "id": "6fb9af27",
   "metadata": {
    "execution": {
     "iopub.execute_input": "2022-01-01T08:35:42.148312Z",
     "iopub.status.busy": "2022-01-01T08:35:42.147687Z",
     "iopub.status.idle": "2022-01-01T08:35:42.153013Z",
     "shell.execute_reply": "2022-01-01T08:35:42.152464Z",
     "shell.execute_reply.started": "2022-01-01T05:26:53.236067Z"
    },
    "papermill": {
     "duration": 0.058073,
     "end_time": "2022-01-01T08:35:42.153162",
     "exception": false,
     "start_time": "2022-01-01T08:35:42.095089",
     "status": "completed"
    },
    "tags": []
   },
   "outputs": [],
   "source": [
    "# Write\n",
    "write_best_score(score, schedules_str)"
   ]
  },
  {
   "cell_type": "code",
   "execution_count": null,
   "id": "956e5ea1",
   "metadata": {
    "papermill": {
     "duration": 0.050082,
     "end_time": "2022-01-01T08:35:42.253946",
     "exception": false,
     "start_time": "2022-01-01T08:35:42.203864",
     "status": "completed"
    },
    "tags": []
   },
   "outputs": [],
   "source": []
  },
  {
   "cell_type": "code",
   "execution_count": null,
   "id": "c078dae0",
   "metadata": {
    "papermill": {
     "duration": 0.050354,
     "end_time": "2022-01-01T08:35:42.354550",
     "exception": false,
     "start_time": "2022-01-01T08:35:42.304196",
     "status": "completed"
    },
    "tags": []
   },
   "outputs": [],
   "source": []
  },
  {
   "cell_type": "code",
   "execution_count": null,
   "id": "bb8f37c4",
   "metadata": {
    "papermill": {
     "duration": 0.052908,
     "end_time": "2022-01-01T08:35:42.458983",
     "exception": false,
     "start_time": "2022-01-01T08:35:42.406075",
     "status": "completed"
    },
    "tags": []
   },
   "outputs": [],
   "source": []
  },
  {
   "cell_type": "code",
   "execution_count": 13,
   "id": "c83e48d1",
   "metadata": {
    "execution": {
     "iopub.execute_input": "2022-01-01T08:35:42.571551Z",
     "iopub.status.busy": "2022-01-01T08:35:42.564955Z",
     "iopub.status.idle": "2022-01-01T08:35:42.573377Z",
     "shell.execute_reply": "2022-01-01T08:35:42.573912Z",
     "shell.execute_reply.started": "2022-01-01T05:26:53.244716Z"
    },
    "papermill": {
     "duration": 0.063104,
     "end_time": "2022-01-01T08:35:42.574161",
     "exception": false,
     "start_time": "2022-01-01T08:35:42.511057",
     "status": "completed"
    },
    "tags": []
   },
   "outputs": [],
   "source": [
    "if False:\n",
    "    # one light schedule for all inters!\n",
    "        # OPT_TIME_FRACTION = int(trial.suggest_float(\n",
    "        #     'opt_time_fraction', lower_time_fraction, upper_time_fraction))\n",
    "        # inters_sched = defaultdict(dict)\n",
    "        # for inters in interss:\n",
    "        #     for j, street in enumerate(interss[inters]):\n",
    "        #         inters_sched[inters][street] = OPT_TIME_FRACTION\n",
    "\n",
    "        if grouping:\n",
    "            time_fractions = []\n",
    "            for i in range(grouping):\n",
    "                OPT_TIME_FRACTION = int(trial.suggest_float(\n",
    "                    'OPT_TIME_FRACTION_' + str(i),\n",
    "                    lower_time_fraction,\n",
    "                    upper_time_fraction))\n",
    "                time_fractions.append(OPT_TIME_FRACTION)\n",
    "            inters_sched = defaultdict(dict)\n",
    "            for inters, time_fraction in zip(interss, cycle(time_fractions)):\n",
    "                for j, street in enumerate(interss[inters]):\n",
    "                    inters_sched[inters][street] = time_fraction\n",
    "\n",
    "        ###################\n",
    "        # num_inc_strs = []\n",
    "        # for inters in interss:\n",
    "        #     num_inc_strs.append(len(list(interss[inters])))\n",
    "        # print(f'mean street per inters:', {array(num_inc_strs).mean()})\n",
    "        ###################\n",
    "\n",
    "        # each inters gets light\n",
    "        # each light has same schedule\n",
    "        # time_fractions = []\n",
    "        # for i in range(len(interss)):\n",
    "        #     name = \"OPT_TIME_FRACTION_\" + str(i)  # + '_' + str(j)\n",
    "        #     # OPT_TIME_FRACTION = trial.suggest_int(\n",
    "        #     #     name, lower_time_fraction, upper_time_fraction)\n",
    "        #     OPT_TIME_FRACTION = int(trial.suggest_float(\n",
    "        #         name, lower_time_fraction, upper_time_fraction))\n",
    "        #     time_fractions.append(OPT_TIME_FRACTION)\n",
    "        # inters_sched = defaultdict(dict)\n",
    "        # for inters, time_fraction in zip(interss, cycle(time_fractions)):\n",
    "        #     for j, street in enumerate(interss[inters]):\n",
    "        #         inters_sched[inters][street] = time_fraction\n",
    "\n",
    "        # in-between previous and next one"
   ]
  },
  {
   "cell_type": "code",
   "execution_count": 14,
   "id": "ad6aee3b",
   "metadata": {
    "execution": {
     "iopub.execute_input": "2022-01-01T08:35:42.679095Z",
     "iopub.status.busy": "2022-01-01T08:35:42.678475Z",
     "iopub.status.idle": "2022-01-01T08:35:42.684835Z",
     "shell.execute_reply": "2022-01-01T08:35:42.684322Z",
     "shell.execute_reply.started": "2022-01-01T05:26:53.261704Z"
    },
    "papermill": {
     "duration": 0.059401,
     "end_time": "2022-01-01T08:35:42.684980",
     "exception": false,
     "start_time": "2022-01-01T08:35:42.625579",
     "status": "completed"
    },
    "tags": []
   },
   "outputs": [
    {
     "data": {
      "text/plain": [
       "'from torch import optim\\nfrom torch.utils.data import DataLoader, Dataset\\nfrom torchvision.datasets import ImageFolder\\nfrom torch import (load, amax as pt_amax, max as pt_max, ones, save, no_grad, stack, numel, tensor, \\n                   manual_seed, sigmoid, tanh, add, mul, sub, div, amin as pt_amin, cat,\\n                  maximum, minimum, device, cuda, rand, prod, median, log as pt_log, round as pt_round,\\n                  isnan, flatten, mean)\\nfrom torch import nn\\nfrom torch.nn import functional as F\\nfrom torch.optim import Adam\\n#from torchviz import make_dot\\nimport torchvision\\nimport torchvision.transforms as transforms'"
      ]
     },
     "execution_count": 14,
     "metadata": {},
     "output_type": "execute_result"
    }
   ],
   "source": [
    "\n",
    "\"\"\"from torch import optim\n",
    "from torch.utils.data import DataLoader, Dataset\n",
    "from torchvision.datasets import ImageFolder\n",
    "from torch import (load, amax as pt_amax, max as pt_max, ones, save, no_grad, stack, numel, tensor, \n",
    "                   manual_seed, sigmoid, tanh, add, mul, sub, div, amin as pt_amin, cat,\n",
    "                  maximum, minimum, device, cuda, rand, prod, median, log as pt_log, round as pt_round,\n",
    "                  isnan, flatten, mean)\n",
    "from torch import nn\n",
    "from torch.nn import functional as F\n",
    "from torch.optim import Adam\n",
    "#from torchviz import make_dot\n",
    "import torchvision\n",
    "import torchvision.transforms as transforms\"\"\""
   ]
  },
  {
   "cell_type": "code",
   "execution_count": 15,
   "id": "abfa009d",
   "metadata": {
    "execution": {
     "iopub.execute_input": "2022-01-01T08:35:42.797458Z",
     "iopub.status.busy": "2022-01-01T08:35:42.796759Z",
     "iopub.status.idle": "2022-01-01T08:35:42.800275Z",
     "shell.execute_reply": "2022-01-01T08:35:42.799662Z",
     "shell.execute_reply.started": "2022-01-01T05:26:53.281276Z"
    },
    "papermill": {
     "duration": 0.063447,
     "end_time": "2022-01-01T08:35:42.800426",
     "exception": false,
     "start_time": "2022-01-01T08:35:42.736979",
     "status": "completed"
    },
    "tags": []
   },
   "outputs": [],
   "source": [
    "def _pad_params(self):\n",
    "        \"\"\"Pad params for crossover shuffle idx method\"\"\"\n",
    "        assert isinstance(self.params, dict), 'Params must be a dict, i.e. estimator.get_params()'\n",
    "        params_count = {k: len(v) for k,v in self.params.items()}\n",
    "        max_length, max_key = -99, ''\n",
    "        for k, v in params_count.items():\n",
    "            if v <= max_length:\n",
    "                continue\n",
    "            else:\n",
    "                max_key = k\n",
    "                max_length = v\n",
    "        assert isinstance(max_length, int), 'The max length between all params must be an int'\n",
    "        # cycle through params for max length param, otherwise infinite cycle\n",
    "        values_padded = (cycle(v) if k!=max_key else v for k,v in self.params.items())\n",
    "        values_padded = zip(*values_padded)  # ('a', 1, 14), ('b', 2, 16), ('c', 3, 16) ...\n",
    "        values_padded = zip(*values_padded)  # ('a', 'b', 'c'), (1, 2, 3), (14, 15, 16)...\n",
    "        padded_params = {}\n",
    "        for k, v in zip(self.params, values_padded):\n",
    "            padded_params[k] = v\n",
    "        self.padded_params = padded_params\n",
    "        print('Params padded')"
   ]
  },
  {
   "cell_type": "code",
   "execution_count": null,
   "id": "89723d4d",
   "metadata": {
    "papermill": {
     "duration": 0.050103,
     "end_time": "2022-01-01T08:35:42.902016",
     "exception": false,
     "start_time": "2022-01-01T08:35:42.851913",
     "status": "completed"
    },
    "tags": []
   },
   "outputs": [],
   "source": []
  },
  {
   "cell_type": "code",
   "execution_count": null,
   "id": "48e8cafb",
   "metadata": {
    "papermill": {
     "duration": 0.050606,
     "end_time": "2022-01-01T08:35:43.003042",
     "exception": false,
     "start_time": "2022-01-01T08:35:42.952436",
     "status": "completed"
    },
    "tags": []
   },
   "outputs": [],
   "source": []
  },
  {
   "cell_type": "code",
   "execution_count": null,
   "id": "f0d6c4c7",
   "metadata": {
    "papermill": {
     "duration": 0.05076,
     "end_time": "2022-01-01T08:35:43.106069",
     "exception": false,
     "start_time": "2022-01-01T08:35:43.055309",
     "status": "completed"
    },
    "tags": []
   },
   "outputs": [],
   "source": []
  },
  {
   "cell_type": "code",
   "execution_count": null,
   "id": "782a5771",
   "metadata": {
    "papermill": {
     "duration": 0.049978,
     "end_time": "2022-01-01T08:35:43.207149",
     "exception": false,
     "start_time": "2022-01-01T08:35:43.157171",
     "status": "completed"
    },
    "tags": []
   },
   "outputs": [],
   "source": []
  },
  {
   "cell_type": "code",
   "execution_count": null,
   "id": "873be410",
   "metadata": {
    "papermill": {
     "duration": 0.050004,
     "end_time": "2022-01-01T08:35:43.307629",
     "exception": false,
     "start_time": "2022-01-01T08:35:43.257625",
     "status": "completed"
    },
    "tags": []
   },
   "outputs": [],
   "source": []
  },
  {
   "cell_type": "code",
   "execution_count": null,
   "id": "dbd6d3b4",
   "metadata": {
    "papermill": {
     "duration": 0.050019,
     "end_time": "2022-01-01T08:35:43.408168",
     "exception": false,
     "start_time": "2022-01-01T08:35:43.358149",
     "status": "completed"
    },
    "tags": []
   },
   "outputs": [],
   "source": []
  },
  {
   "cell_type": "code",
   "execution_count": null,
   "id": "763d77c8",
   "metadata": {
    "papermill": {
     "duration": 0.05027,
     "end_time": "2022-01-01T08:35:43.508975",
     "exception": false,
     "start_time": "2022-01-01T08:35:43.458705",
     "status": "completed"
    },
    "tags": []
   },
   "outputs": [],
   "source": []
  },
  {
   "cell_type": "code",
   "execution_count": null,
   "id": "5eb073cc",
   "metadata": {
    "papermill": {
     "duration": 0.050463,
     "end_time": "2022-01-01T08:35:43.609899",
     "exception": false,
     "start_time": "2022-01-01T08:35:43.559436",
     "status": "completed"
    },
    "tags": []
   },
   "outputs": [],
   "source": []
  },
  {
   "cell_type": "code",
   "execution_count": null,
   "id": "077c69e7",
   "metadata": {
    "papermill": {
     "duration": 0.049963,
     "end_time": "2022-01-01T08:35:43.710366",
     "exception": false,
     "start_time": "2022-01-01T08:35:43.660403",
     "status": "completed"
    },
    "tags": []
   },
   "outputs": [],
   "source": []
  },
  {
   "cell_type": "code",
   "execution_count": null,
   "id": "9151500a",
   "metadata": {
    "papermill": {
     "duration": 0.05019,
     "end_time": "2022-01-01T08:35:43.811038",
     "exception": false,
     "start_time": "2022-01-01T08:35:43.760848",
     "status": "completed"
    },
    "tags": []
   },
   "outputs": [],
   "source": []
  },
  {
   "cell_type": "code",
   "execution_count": null,
   "id": "d34c40e6",
   "metadata": {
    "papermill": {
     "duration": 0.051562,
     "end_time": "2022-01-01T08:35:43.914367",
     "exception": false,
     "start_time": "2022-01-01T08:35:43.862805",
     "status": "completed"
    },
    "tags": []
   },
   "outputs": [],
   "source": []
  },
  {
   "cell_type": "code",
   "execution_count": null,
   "id": "5c29a990",
   "metadata": {
    "papermill": {
     "duration": 0.05059,
     "end_time": "2022-01-01T08:35:44.015707",
     "exception": false,
     "start_time": "2022-01-01T08:35:43.965117",
     "status": "completed"
    },
    "tags": []
   },
   "outputs": [],
   "source": []
  },
  {
   "cell_type": "code",
   "execution_count": null,
   "id": "f252c97c",
   "metadata": {
    "papermill": {
     "duration": 0.050075,
     "end_time": "2022-01-01T08:35:44.117500",
     "exception": false,
     "start_time": "2022-01-01T08:35:44.067425",
     "status": "completed"
    },
    "tags": []
   },
   "outputs": [],
   "source": []
  },
  {
   "cell_type": "code",
   "execution_count": null,
   "id": "4d650759",
   "metadata": {
    "papermill": {
     "duration": 0.050111,
     "end_time": "2022-01-01T08:35:44.217737",
     "exception": false,
     "start_time": "2022-01-01T08:35:44.167626",
     "status": "completed"
    },
    "tags": []
   },
   "outputs": [],
   "source": []
  }
 ],
 "metadata": {
  "kernelspec": {
   "display_name": "Python 3",
   "language": "python",
   "name": "python3"
  },
  "language_info": {
   "codemirror_mode": {
    "name": "ipython",
    "version": 3
   },
   "file_extension": ".py",
   "mimetype": "text/x-python",
   "name": "python",
   "nbconvert_exporter": "python",
   "pygments_lexer": "ipython3",
   "version": "3.7.12"
  },
  "papermill": {
   "default_parameters": {},
   "duration": 11268.8127,
   "end_time": "2022-01-01T08:35:46.901419",
   "environment_variables": {},
   "exception": null,
   "input_path": "__notebook__.ipynb",
   "output_path": "__notebook__.ipynb",
   "parameters": {},
   "start_time": "2022-01-01T05:27:58.088719",
   "version": "2.3.3"
  }
 },
 "nbformat": 4,
 "nbformat_minor": 5
}
