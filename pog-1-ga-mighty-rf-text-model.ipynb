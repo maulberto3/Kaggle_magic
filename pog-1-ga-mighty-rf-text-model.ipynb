{
 "cells": [
  {
   "cell_type": "code",
   "execution_count": 1,
   "id": "4d768a6a",
   "metadata": {
    "execution": {
     "iopub.execute_input": "2022-01-12T16:34:21.574285Z",
     "iopub.status.busy": "2022-01-12T16:34:21.573092Z",
     "iopub.status.idle": "2022-01-12T16:34:21.680067Z",
     "shell.execute_reply": "2022-01-12T16:34:21.680635Z",
     "shell.execute_reply.started": "2022-01-12T07:19:13.301942Z"
    },
    "papermill": {
     "duration": 0.130964,
     "end_time": "2022-01-12T16:34:21.680980",
     "exception": false,
     "start_time": "2022-01-12T16:34:21.550016",
     "status": "completed"
    },
    "tags": []
   },
   "outputs": [],
   "source": [
    "%reset -sf"
   ]
  },
  {
   "cell_type": "code",
   "execution_count": 2,
   "id": "bb79125d",
   "metadata": {
    "execution": {
     "iopub.execute_input": "2022-01-12T16:34:21.718825Z",
     "iopub.status.busy": "2022-01-12T16:34:21.717991Z",
     "iopub.status.idle": "2022-01-12T16:34:21.720901Z",
     "shell.execute_reply": "2022-01-12T16:34:21.720357Z",
     "shell.execute_reply.started": "2022-01-12T07:19:13.409709Z"
    },
    "papermill": {
     "duration": 0.023434,
     "end_time": "2022-01-12T16:34:21.721042",
     "exception": false,
     "start_time": "2022-01-12T16:34:21.697608",
     "status": "completed"
    },
    "tags": []
   },
   "outputs": [],
   "source": [
    "from IPython.core.interactiveshell import InteractiveShell\n",
    "InteractiveShell.ast_node_interactivity = 'all'"
   ]
  },
  {
   "cell_type": "code",
   "execution_count": 3,
   "id": "3afc1799",
   "metadata": {
    "execution": {
     "iopub.execute_input": "2022-01-12T16:34:21.757891Z",
     "iopub.status.busy": "2022-01-12T16:34:21.757206Z",
     "iopub.status.idle": "2022-01-12T16:34:38.765859Z",
     "shell.execute_reply": "2022-01-12T16:34:38.765228Z",
     "shell.execute_reply.started": "2022-01-12T07:19:13.440947Z"
    },
    "papermill": {
     "duration": 17.029236,
     "end_time": "2022-01-12T16:34:38.766045",
     "exception": false,
     "start_time": "2022-01-12T16:34:21.736809",
     "status": "completed"
    },
    "tags": []
   },
   "outputs": [
    {
     "name": "stdout",
     "output_type": "stream",
     "text": [
      "Requirement already satisfied: scikit-learn in /opt/conda/lib/python3.7/site-packages (0.23.2)\r\n",
      "Collecting scikit-learn\r\n",
      "  Downloading scikit_learn-1.0.2-cp37-cp37m-manylinux_2_17_x86_64.manylinux2014_x86_64.whl (24.8 MB)\r\n",
      "     |████████████████████████████████| 24.8 MB 789 kB/s            \r\n",
      "\u001b[?25hRequirement already satisfied: scipy>=1.1.0 in /opt/conda/lib/python3.7/site-packages (from scikit-learn) (1.7.2)\r\n",
      "Requirement already satisfied: joblib>=0.11 in /opt/conda/lib/python3.7/site-packages (from scikit-learn) (1.1.0)\r\n",
      "Requirement already satisfied: threadpoolctl>=2.0.0 in /opt/conda/lib/python3.7/site-packages (from scikit-learn) (3.0.0)\r\n",
      "Requirement already satisfied: numpy>=1.14.6 in /opt/conda/lib/python3.7/site-packages (from scikit-learn) (1.19.5)\r\n",
      "Installing collected packages: scikit-learn\r\n",
      "  Attempting uninstall: scikit-learn\r\n",
      "    Found existing installation: scikit-learn 0.23.2\r\n",
      "    Uninstalling scikit-learn-0.23.2:\r\n",
      "      Successfully uninstalled scikit-learn-0.23.2\r\n",
      "\u001b[31mERROR: pip's dependency resolver does not currently take into account all the packages that are installed. This behaviour is the source of the following dependency conflicts.\r\n",
      "pdpbox 0.2.1 requires matplotlib==3.1.1, but you have matplotlib 3.5.0 which is incompatible.\r\n",
      "hypertools 0.7.0 requires scikit-learn!=0.22,<0.24,>=0.19.1, but you have scikit-learn 1.0.2 which is incompatible.\u001b[0m\r\n",
      "Successfully installed scikit-learn-1.0.2\r\n",
      "\u001b[33mWARNING: Running pip as the 'root' user can result in broken permissions and conflicting behaviour with the system package manager. It is recommended to use a virtual environment instead: https://pip.pypa.io/warnings/venv\u001b[0m\r\n"
     ]
    }
   ],
   "source": [
    "!pip install -U scikit-learn"
   ]
  },
  {
   "cell_type": "code",
   "execution_count": 4,
   "id": "9671e5cf",
   "metadata": {
    "execution": {
     "iopub.execute_input": "2022-01-12T16:34:38.831361Z",
     "iopub.status.busy": "2022-01-12T16:34:38.830716Z",
     "iopub.status.idle": "2022-01-12T16:35:24.384962Z",
     "shell.execute_reply": "2022-01-12T16:35:24.385501Z",
     "shell.execute_reply.started": "2022-01-12T07:19:33.348847Z"
    },
    "papermill": {
     "duration": 45.588747,
     "end_time": "2022-01-12T16:35:24.385917",
     "exception": false,
     "start_time": "2022-01-12T16:34:38.797170",
     "status": "completed"
    },
    "tags": []
   },
   "outputs": [
    {
     "name": "stdout",
     "output_type": "stream",
     "text": [
      "Collecting scikit-learn-intelex\r\n",
      "  Downloading scikit_learn_intelex-2021.5.1-py37-none-manylinux1_x86_64.whl (69 kB)\r\n",
      "     |████████████████████████████████| 69 kB 822 kB/s            \r\n",
      "\u001b[?25hCollecting daal4py==2021.5.1\r\n",
      "  Downloading daal4py-2021.5.1-py37-none-manylinux1_x86_64.whl (22.5 MB)\r\n",
      "     |████████████████████████████████| 22.5 MB 1.5 MB/s            \r\n",
      "\u001b[?25hRequirement already satisfied: scikit-learn>=0.22 in /opt/conda/lib/python3.7/site-packages (from scikit-learn-intelex) (1.0.2)\r\n",
      "Requirement already satisfied: numpy>=1.15 in /opt/conda/lib/python3.7/site-packages (from daal4py==2021.5.1->scikit-learn-intelex) (1.19.5)\r\n",
      "Collecting daal==2021.5.1\r\n",
      "  Downloading daal-2021.5.1-py2.py3-none-manylinux1_x86_64.whl (284.3 MB)\r\n",
      "     |████████████████████████████████| 284.3 MB 1.3 kB/s             \r\n",
      "\u001b[?25hCollecting tbb==2021.*\r\n",
      "  Downloading tbb-2021.4.0-py2.py3-none-manylinux1_x86_64.whl (4.0 MB)\r\n",
      "     |████████████████████████████████| 4.0 MB 54.6 MB/s            \r\n",
      "\u001b[?25hRequirement already satisfied: joblib>=0.11 in /opt/conda/lib/python3.7/site-packages (from scikit-learn>=0.22->scikit-learn-intelex) (1.1.0)\r\n",
      "Requirement already satisfied: threadpoolctl>=2.0.0 in /opt/conda/lib/python3.7/site-packages (from scikit-learn>=0.22->scikit-learn-intelex) (3.0.0)\r\n",
      "Requirement already satisfied: scipy>=1.1.0 in /opt/conda/lib/python3.7/site-packages (from scikit-learn>=0.22->scikit-learn-intelex) (1.7.2)\r\n",
      "Installing collected packages: tbb, daal, daal4py, scikit-learn-intelex\r\n",
      "Successfully installed daal-2021.5.1 daal4py-2021.5.1 scikit-learn-intelex-2021.5.1 tbb-2021.4.0\r\n",
      "\u001b[33mWARNING: Running pip as the 'root' user can result in broken permissions and conflicting behaviour with the system package manager. It is recommended to use a virtual environment instead: https://pip.pypa.io/warnings/venv\u001b[0m\r\n"
     ]
    },
    {
     "name": "stderr",
     "output_type": "stream",
     "text": [
      "Intel(R) Extension for Scikit-learn* enabled (https://github.com/intel/scikit-learn-intelex)\n"
     ]
    }
   ],
   "source": [
    "# Patch Xeon Intel OneAPI Scikit accelerator\n",
    "!pip install scikit-learn-intelex\n",
    "from sklearnex import patch_sklearn\n",
    "patch_sklearn()"
   ]
  },
  {
   "cell_type": "code",
   "execution_count": 5,
   "id": "51dc34c4",
   "metadata": {
    "execution": {
     "iopub.execute_input": "2022-01-12T16:35:24.745817Z",
     "iopub.status.busy": "2022-01-12T16:35:24.745180Z",
     "iopub.status.idle": "2022-01-12T16:35:24.788487Z",
     "shell.execute_reply": "2022-01-12T16:35:24.787756Z",
     "shell.execute_reply.started": "2022-01-12T07:20:20.882259Z"
    },
    "papermill": {
     "duration": 0.223193,
     "end_time": "2022-01-12T16:35:24.788651",
     "exception": false,
     "start_time": "2022-01-12T16:35:24.565458",
     "status": "completed"
    },
    "tags": []
   },
   "outputs": [],
   "source": [
    "from numpy import array, linspace, mean, column_stack, min as np_min, max as np_max\n",
    "from pandas import read_parquet, DataFrame, Series, to_datetime, concat\n",
    "from pathlib import Path\n",
    "from itertools import cycle\n",
    "from random import randint\n",
    "from gc import collect\n",
    "from joblib import dump, load\n",
    "\n",
    "from sklearn.feature_extraction.text import CountVectorizer, TfidfVectorizer\n",
    "from sklearn.tree import DecisionTreeRegressor\n",
    "from sklearn.ensemble import RandomForestRegressor, HistGradientBoostingRegressor, GradientBoostingRegressor\n",
    "from sklearn.metrics import mean_absolute_error, classification_report\n",
    "from sklearn.model_selection import train_test_split, ShuffleSplit\n",
    "from sklearn.linear_model import Lasso, LogisticRegression\n",
    "from sklearn.preprocessing import MinMaxScaler\n",
    "\n",
    "from deap import creator as ga_cr, base as ga_b, algorithms as ga_algo, tools as ga_t"
   ]
  },
  {
   "cell_type": "code",
   "execution_count": 6,
   "id": "94ada379",
   "metadata": {
    "execution": {
     "iopub.execute_input": "2022-01-12T16:35:25.149390Z",
     "iopub.status.busy": "2022-01-12T16:35:25.145963Z",
     "iopub.status.idle": "2022-01-12T16:35:28.138105Z",
     "shell.execute_reply": "2022-01-12T16:35:28.136998Z",
     "shell.execute_reply.started": "2022-01-12T07:20:20.924831Z"
    },
    "papermill": {
     "duration": 3.17222,
     "end_time": "2022-01-12T16:35:28.138276",
     "exception": false,
     "start_time": "2022-01-12T16:35:24.966056",
     "status": "completed"
    },
    "tags": []
   },
   "outputs": [],
   "source": [
    "p = Path().cwd()\n",
    "p = p.parent\n",
    "p = p / 'input' / 'kaggle-pog-series-s01e01'\n",
    "\n",
    "train = read_parquet(p / 'train.parquet')\n",
    "test = read_parquet(p / 'test.parquet')"
   ]
  },
  {
   "cell_type": "code",
   "execution_count": 7,
   "id": "2788772f",
   "metadata": {
    "execution": {
     "iopub.execute_input": "2022-01-12T16:35:28.533976Z",
     "iopub.status.busy": "2022-01-12T16:35:28.533043Z",
     "iopub.status.idle": "2022-01-12T16:35:29.749857Z",
     "shell.execute_reply": "2022-01-12T16:35:29.749294Z",
     "shell.execute_reply.started": "2022-01-12T07:20:23.968942Z"
    },
    "papermill": {
     "duration": 1.411208,
     "end_time": "2022-01-12T16:35:29.750012",
     "exception": false,
     "start_time": "2022-01-12T16:35:28.338804",
     "status": "completed"
    },
    "tags": []
   },
   "outputs": [
    {
     "data": {
      "text/plain": [
       "<AxesSubplot:ylabel='Frequency'>"
      ]
     },
     "execution_count": 7,
     "metadata": {},
     "output_type": "execute_result"
    },
    {
     "data": {
      "text/plain": [
       "0.0570600551836053"
      ]
     },
     "execution_count": 7,
     "metadata": {},
     "output_type": "execute_result"
    },
    {
     "data": {
      "image/png": "[encoded data removed]",
      "text/plain": [
       "<Figure size 1080x360 with 1 Axes>"
      ]
     },
     "metadata": {
      "needs_background": "light"
     },
     "output_type": "display_data"
    }
   ],
   "source": [
    "# Train y\n",
    "(train['likes'] / train['view_count']).plot(kind='hist', bins=int(len(train)**0.5), figsize=(15,5))\n",
    "(train['likes'] / train['view_count']).mean()"
   ]
  },
  {
   "cell_type": "code",
   "execution_count": 8,
   "id": "aafb0350",
   "metadata": {
    "execution": {
     "iopub.execute_input": "2022-01-12T16:35:30.112695Z",
     "iopub.status.busy": "2022-01-12T16:35:30.111508Z",
     "iopub.status.idle": "2022-01-12T16:35:31.134427Z",
     "shell.execute_reply": "2022-01-12T16:35:31.135209Z",
     "shell.execute_reply.started": "2022-01-12T07:20:25.161901Z"
    },
    "papermill": {
     "duration": 1.210054,
     "end_time": "2022-01-12T16:35:31.135403",
     "exception": false,
     "start_time": "2022-01-12T16:35:29.925349",
     "status": "completed"
    },
    "tags": []
   },
   "outputs": [
    {
     "data": {
      "text/plain": [
       "<AxesSubplot:ylabel='Frequency'>"
      ]
     },
     "execution_count": 8,
     "metadata": {},
     "output_type": "execute_result"
    },
    {
     "data": {
      "text/plain": [
       "0.0570600551836053"
      ]
     },
     "execution_count": 8,
     "metadata": {},
     "output_type": "execute_result"
    },
    {
     "data": {
      "image/png": "[encoded data removed]",
      "text/plain": [
       "<Figure size 1080x360 with 1 Axes>"
      ]
     },
     "metadata": {
      "needs_background": "light"
     },
     "output_type": "display_data"
    }
   ],
   "source": [
    "# Train y\n",
    "(train['target']).plot(kind='hist', bins=int(len(train)**0.5), figsize=(15,5))\n",
    "(train['target']).mean()"
   ]
  },
  {
   "cell_type": "code",
   "execution_count": 9,
   "id": "ace496d5",
   "metadata": {
    "execution": {
     "iopub.execute_input": "2022-01-12T16:35:31.521210Z",
     "iopub.status.busy": "2022-01-12T16:35:31.520131Z",
     "iopub.status.idle": "2022-01-12T16:35:31.584531Z",
     "shell.execute_reply": "2022-01-12T16:35:31.585031Z",
     "shell.execute_reply.started": "2022-01-12T07:20:27.68472Z"
    },
    "papermill": {
     "duration": 0.271576,
     "end_time": "2022-01-12T16:35:31.585233",
     "exception": false,
     "start_time": "2022-01-12T16:35:31.313657",
     "status": "completed"
    },
    "tags": []
   },
   "outputs": [],
   "source": [
    "def clean_train(df):\n",
    "    df['publishedAt'] = to_datetime(df['publishedAt'], errors='coerce').dt.tz_localize(None)\n",
    "    df['trending_date'] = to_datetime(df['trending_date'], errors='coerce').dt.tz_localize(None) \n",
    "    return df\n",
    "    \n",
    "train = clean_train(train)\n",
    "test = clean_train(test)"
   ]
  },
  {
   "cell_type": "code",
   "execution_count": 10,
   "id": "8aa99921",
   "metadata": {
    "execution": {
     "iopub.execute_input": "2022-01-12T16:35:31.956166Z",
     "iopub.status.busy": "2022-01-12T16:35:31.954694Z",
     "iopub.status.idle": "2022-01-12T16:35:31.970075Z",
     "shell.execute_reply": "2022-01-12T16:35:31.970581Z",
     "shell.execute_reply.started": "2022-01-12T07:20:30.427773Z"
    },
    "papermill": {
     "duration": 0.205413,
     "end_time": "2022-01-12T16:35:31.970806",
     "exception": false,
     "start_time": "2022-01-12T16:35:31.765393",
     "status": "completed"
    },
    "tags": []
   },
   "outputs": [],
   "source": [
    "def feat_eng(df):\n",
    "    df['t_delta'] = (df['trending_date'] - df['publishedAt']).dt.seconds\n",
    "    # TODO\n",
    "    # add day of week, categoryid, \n",
    "    \"\"\"df['channel_occurance'] = df['channelId'].map(\n",
    "        df['channelId'].value_counts().to_dict())\n",
    "\n",
    "    df['channel_unique_video_count'] = df['channelId'].map(\n",
    "        df.groupby('channelId')['video_id'].nunique().to_dict())\n",
    "    \n",
    "    df['video_occurance_count'] = df.groupby('video_id')['trending_date'] \\\n",
    "        .rank().astype('int')channel freq, \"\"\"\n",
    "    return df\n",
    "\n",
    "train = feat_eng(train)\n",
    "test = feat_eng(test)"
   ]
  },
  {
   "cell_type": "code",
   "execution_count": 11,
   "id": "86451529",
   "metadata": {
    "execution": {
     "iopub.execute_input": "2022-01-12T16:35:32.337103Z",
     "iopub.status.busy": "2022-01-12T16:35:32.335875Z",
     "iopub.status.idle": "2022-01-12T16:35:32.345896Z",
     "shell.execute_reply": "2022-01-12T16:35:32.346603Z",
     "shell.execute_reply.started": "2022-01-12T07:20:30.443791Z"
    },
    "papermill": {
     "duration": 0.192404,
     "end_time": "2022-01-12T16:35:32.346863",
     "exception": false,
     "start_time": "2022-01-12T16:35:32.154459",
     "status": "completed"
    },
    "tags": []
   },
   "outputs": [],
   "source": [
    "def prep_data(params, train_df, train_data=True):\n",
    "    train_X = train_df[['title', 'duration_seconds', 't_delta']].copy()\n",
    "\n",
    "    cv_params = {k:v for k,v in params.items() if k != 'q'}\n",
    "    cv_params = {**cv_params, **{'strip_accents': 'ascii',\n",
    "                                 'lowercase': True,\n",
    "                                 'stop_words': 'english',\n",
    "                                 'analyzer': 'word',\n",
    "                                 #'token_pattern': '(?u)\\b\\w\\w\\w+\\b',  # 3 or more letters\n",
    "                                 }}\n",
    "    #cv = CountVectorizer(**)\n",
    "    tdf = TfidfVectorizer(**cv_params)\n",
    "    \n",
    "    q_param = {k:v for k,v in params.items() if k == 'q'}\n",
    "    q = train_X['duration_seconds'].quantile(**q_param)\n",
    "    mask = train_X['duration_seconds'].isna()\n",
    "    train_X.loc[mask, 'duration_seconds'] = q\n",
    "    \n",
    "    mms = MinMaxScaler()\n",
    "    \n",
    "    train_X = column_stack((\n",
    "        tdf.fit_transform(train_X['title']).toarray(),\n",
    "        mms.fit_transform(train_X[['duration_seconds']]),\n",
    "        mms.fit_transform(train_X[['t_delta']]),\n",
    "    ))\n",
    "    \n",
    "    if train_data:\n",
    "        train_y = train_df['target']\n",
    "        return train_X, train_y\n",
    "    else:\n",
    "        return train_X"
   ]
  },
  {
   "cell_type": "code",
   "execution_count": 12,
   "id": "db7022b0",
   "metadata": {
    "execution": {
     "iopub.execute_input": "2022-01-12T16:35:32.721468Z",
     "iopub.status.busy": "2022-01-12T16:35:32.720394Z",
     "iopub.status.idle": "2022-01-12T16:35:32.753305Z",
     "shell.execute_reply": "2022-01-12T16:35:32.754093Z"
    },
    "papermill": {
     "duration": 0.225851,
     "end_time": "2022-01-12T16:35:32.754543",
     "exception": false,
     "start_time": "2022-01-12T16:35:32.528692",
     "status": "completed"
    },
    "tags": []
   },
   "outputs": [],
   "source": [
    "class GA_Scikit():\n",
    "    def __init__(self, \n",
    "                 estimator, \n",
    "                 #\n",
    "                 params, \n",
    "                 eval_func, \n",
    "                 eval_weights, \n",
    "                 #\n",
    "                 train_df, \n",
    "                 #valid_df, \n",
    "                 score, \n",
    "                 #\n",
    "                 sel_tournsize=2, \n",
    "                 cx_uniform_prob=0.5, \n",
    "                 mut_shuffle_idx_prob=0.1, \n",
    "                 n_pop=3, \n",
    "                 n_gen=1, \n",
    "                 n_hof=1, \n",
    "                 cx_prob=0.5, \n",
    "                 mut_prob=0.1, \n",
    "                 n_jobs=3  # not good with HistGradBoosReg...\n",
    "                ):\n",
    "        \n",
    "        self.est = estimator\n",
    "        self.params = params\n",
    "        self.eval_func = eval_func\n",
    "        self.eval_weights = eval_weights\n",
    "        #\n",
    "        self.train_df = train_df\n",
    "        #self.valid_df = valid_df\n",
    "        self.score = score\n",
    "        #\n",
    "        self.sel_tournsize = sel_tournsize\n",
    "        self.cx_uniform_prob = cx_uniform_prob\n",
    "        self.mut_shuffle_idx_prob = mut_shuffle_idx_prob\n",
    "        self.n_pop = n_pop\n",
    "        self.n_gen = n_gen\n",
    "        self.n_hof = n_hof\n",
    "        self.cx_prob = cx_prob\n",
    "        self.mut_prob = mut_prob\n",
    "        self.n_jobs = n_jobs\n",
    "        \n",
    "        self._pad_params()\n",
    "        self._create_fitness_and_indiv()\n",
    "        self._register_indiv_and_pop_generators()\n",
    "        self._calc_baseline_and_overfit()\n",
    "        self._register_eval_func()\n",
    "        self._register_selection_crossover_mutation_methods()\n",
    "        \n",
    "    def _pad_params(self):\n",
    "        \"\"\"Pad params for crossover shuffle idx method\"\"\"\n",
    "        assert isinstance(self.params, dict), 'Params must be a dict, i.e. estimator.get_params()'\n",
    "        params_count = {k: len(v) for k,v in self.params.items()}\n",
    "        max_length, max_key = -99, ''\n",
    "        for k, v in params_count.items():\n",
    "            if v <= max_length:\n",
    "                continue\n",
    "            else:\n",
    "                max_key = k\n",
    "                max_length = v\n",
    "        assert isinstance(max_length, int), 'The max length between all params must be an int'\n",
    "        # cycle through params for max length param, otherwise infinite cycle\n",
    "        values_padded = (cycle(v) if k!=max_key else v for k,v in self.params.items())\n",
    "        values_padded = zip(*values_padded)  # ('a', 1, 14), ('b', 2, 16), ('c', 3, 16) ...\n",
    "        values_padded = zip(*values_padded)  # ('a', 'b', 'c'), (1, 2, 3), (14, 15, 16)...\n",
    "        padded_params = {}\n",
    "        for k, v in zip(self.params, values_padded):\n",
    "            padded_params[k] = v\n",
    "        self.padded_params = padded_params\n",
    "        \n",
    "    def _create_fitness_and_indiv(self):\n",
    "        \"\"\"Create GA individual and fitness entities (classes)\"\"\"\n",
    "        ga_cr.create('Fitness', ga_b.Fitness, weights=self.eval_weights)\n",
    "        ga_cr.create('Individual', list, fitness=ga_cr.Fitness)\n",
    "\n",
    "    def _gen_params_to_ga(self):\n",
    "        \"\"\"Generate index for each param for individual\"\"\"\n",
    "        max_dict = len(self.padded_params)\n",
    "        max_length = len(list(self.padded_params.values())[0])\n",
    "        idxs = [randint(0, max_length-1) for _ in range(max_dict)]\n",
    "        return idxs\n",
    "            \n",
    "    def _register_indiv_and_pop_generators(self):\n",
    "        \"\"\"Register GA individual and population generators\"\"\"\n",
    "        self.tb = ga_b.Toolbox()\n",
    "\n",
    "        if self.n_jobs > 1:\n",
    "            from multiprocessing import Pool\n",
    "            pool = Pool()\n",
    "            self.tb.register(\"map\", pool.map)\n",
    "\n",
    "        self.tb.register(\"individual\", ga_t.initIterate, ga_cr.Individual, self._gen_params_to_ga)\n",
    "        #print('indiv', self.tb.individual())\n",
    "        self.tb.register(\"population\", ga_t.initRepeat, list, self.tb.individual)\n",
    "        #print('population', self.tb.population(n=2))\n",
    "        \n",
    "    def _calc_baseline_and_overfit(self):\n",
    "        # Individual\n",
    "        indiv = [1]*len(self.tb.individual())\n",
    "\n",
    "        # Params\n",
    "        cv_params = {k : list(v)[idx] for (k,v), idx in zip(self.padded_params.items(), indiv) if k not in \n",
    "                 ['n_estimators', 'criterion', 'max_depth', 'min_samples_split', 'min_samples_leaf', 'max_leaf_nodes', 'min_impurity_decrease', 'random_state']}\n",
    "    \n",
    "        # Data\n",
    "        train_X, train_y = prep_data(cv_params, self.train_df, train_data=True)\n",
    "        train_X, valid_X, train_y, valid_y = train_test_split(train_X, train_y, train_size=0.8)\n",
    "        \n",
    "        # Baseline\n",
    "        self.plain_mean = train_y.mean()\n",
    "        self.plain_mean = [self.plain_mean]*len(valid_y)\n",
    "        self.plain_mean = self.score(valid_y, self.plain_mean)\n",
    "        print(f'Plain mean score: {self.plain_mean}')\n",
    "        \n",
    "        # Overfit\n",
    "        est = self.est(random_state=16)\n",
    "        _ = est.fit(train_X, train_y)\n",
    "        self.overfit = est.predict(valid_X)\n",
    "        self.overfit = self.score(valid_y, self.overfit)\n",
    "        print(f'Overfit score: {self.overfit}')\n",
    "        \n",
    "        del train_X, valid_X, train_y, valid_y\n",
    "            \n",
    "    def _register_eval_func(self):\n",
    "        \"\"\"Set GA evaluate individual function\"\"\"\n",
    "        self.tb.register(\"evaluate\",\n",
    "                        self.eval_func,\n",
    "                        padded_params=self.padded_params,\n",
    "                        est=self.est,\n",
    "                        train_df=self.train_df, \n",
    "                        plain_mean=self.plain_mean,\n",
    "                        overfit=self.overfit,\n",
    "                        score=self.score\n",
    "                        )\n",
    "        #print(list(self.tb.evaluate(indiv) for indiv in self.tb.population(3)))\n",
    "        \n",
    "    def _register_selection_crossover_mutation_methods(self):\n",
    "        \"\"\"Register GA select/mate/mutate methods\"\"\"\n",
    "        self.tb.register(\"select\", ga_t.selTournament, tournsize=self.sel_tournsize)\n",
    "        self.tb.register(\"mate\", ga_t.cxUniform, indpb=self.cx_uniform_prob)\n",
    "        self.tb.register(\"mutate\", ga_t.mutShuffleIndexes, indpb=self.mut_shuffle_idx_prob)\n",
    "\n",
    "    def run_ga_search(self):\n",
    "        \"\"\"Run search\"\"\"\n",
    "        pop = self.tb.population(n=self.n_pop)\n",
    "        hof = ga_t.HallOfFame(self.n_hof)\n",
    "\n",
    "        # Stats stdout\n",
    "        #stats = ga_t.Statistics(lambda ind: ind.fitness.values )\n",
    "        stats1 = ga_t.Statistics(lambda ind: ind.fitness.values[0] )\n",
    "        stats2 = ga_t.Statistics(lambda ind: ind.fitness.values[1] )\n",
    "        #stats3 = ga_t.Statistics(lambda ind: ind.fitness.values[2] )\n",
    "        stats = ga_t.MultiStatistics(dist1=stats1, dist2=stats2)\n",
    "        stats.register(\"avg\", mean)\n",
    "        stats.register(\"min\", np_min)\n",
    "        \n",
    "        # GA Run\n",
    "        pop, log = ga_algo.eaSimple(pop, self.tb, cxpb=self.cx_prob, \n",
    "                                    mutpb=self.mut_prob, ngen=self.n_gen, \n",
    "                                    stats=stats, halloffame=hof, verbose=True)\n",
    "        \n",
    "        # Convert back params\n",
    "        hof_ = {}\n",
    "        for i in range(self.n_hof):\n",
    "            hof_['hof_' + str(i)] = self._ga_to_params(hof[i])\n",
    "\n",
    "        return pop, log, hof_\n",
    "    \n",
    "    def _ga_to_params(self, idx_params):\n",
    "        \"\"\"Helper to convert to readable params\"\"\"\n",
    "        res = {}\n",
    "        for (k,v), idx in zip(self.padded_params.items(), idx_params):\n",
    "            res[k] = v[idx]\n",
    "        return res"
   ]
  },
  {
   "cell_type": "code",
   "execution_count": 13,
   "id": "4bf97434",
   "metadata": {
    "execution": {
     "iopub.execute_input": "2022-01-12T16:35:33.124492Z",
     "iopub.status.busy": "2022-01-12T16:35:33.113343Z",
     "iopub.status.idle": "2022-01-12T16:35:33.130037Z",
     "shell.execute_reply": "2022-01-12T16:35:33.130597Z",
     "shell.execute_reply.started": "2022-01-12T07:24:08.837429Z"
    },
    "papermill": {
     "duration": 0.197,
     "end_time": "2022-01-12T16:35:33.130775",
     "exception": false,
     "start_time": "2022-01-12T16:35:32.933775",
     "status": "completed"
    },
    "tags": []
   },
   "outputs": [],
   "source": [
    "# Estimator, params and requirements\n",
    "\n",
    "est = RandomForestRegressor\n",
    "est = DecisionTreeRegressor\n",
    "est = GradientBoostingRegressor\n",
    "\n",
    "params = {\n",
    "             #'n_estimators': linspace(2,100,100).astype(int),\n",
    "            # 'criterion': ['squared_error', 'absolute_error'],\n",
    "             'max_depth': linspace(2,100,100).astype(int),\n",
    "             'min_samples_split': linspace(0.01,0.49,100),\n",
    "             'min_samples_leaf': linspace(0.01,0.49,100),\n",
    "             #'max_features': linspace(0.01,0.99,100),    # COLLIDE\n",
    "             'max_leaf_nodes': linspace(2,100,100).astype(int),\n",
    "             'min_impurity_decrease': linspace(1,100,100).astype(int),\n",
    "             'random_state': linspace(16,16,100).astype(int),  # trick\n",
    "             #\n",
    "             'q': linspace(0.01,0.99,100),\n",
    "             #\n",
    "             #'ngram_range_': linspace(1,10,10).astype(int),\n",
    "             'min_df': linspace(1,5,10).astype(int),\n",
    "             'max_df': linspace(5,10,10).astype(int),\n",
    "             'max_features': linspace(10,400,100).astype(int),    # COLLIDE\n",
    "             'binary': [True, False],\n",
    "         }\n",
    "\n",
    "def eval_indiv(individual, padded_params, est, train_df, plain_mean, overfit, score):\n",
    "    \"\"\"Evaluate individual's genes (estimator's params)\"\"\"\n",
    "    # Params\n",
    "    cv_params = {k : list(v)[idx] for (k,v), idx in zip(padded_params.items(), individual) if k not in \n",
    "                 ['n_estimators', 'criterion', 'max_depth', 'min_samples_split', 'min_samples_leaf', 'max_leaf_nodes', 'min_impurity_decrease', 'random_state']}\n",
    "    train_X, train_y = prep_data(cv_params, train_df, train_data=True)\n",
    "    \n",
    "    train_X, valid_X, train_y, valid_y = train_test_split(train_X, train_y, train_size=0.8)\n",
    "        \n",
    "    est_params = {k : list(v)[idx] for (k,v), idx in zip(padded_params.items(), individual) if k in \n",
    "                 ['n_estimators', 'criterion', 'max_depth', 'min_samples_split', 'min_samples_leaf', 'max_leaf_nodes', 'min_impurity_decrease', 'random_state']}\n",
    "    \n",
    "    # Midpoint\n",
    "    est = est(random_state=16)\n",
    "    _ = est.set_params(**est_params)\n",
    "    _ = est.fit(train_X, train_y)\n",
    "    midpoint = est.predict(valid_X)\n",
    "    midpoint = score(valid_y, midpoint)\n",
    "    #print(f'Midpoint score: {midpoint}')\n",
    "    \n",
    "    del train_X, valid_X, train_y, valid_y\n",
    "    \n",
    "    collect(0)\n",
    "    collect(1)\n",
    "    collect(2)\n",
    "\n",
    "    obj1 = midpoint - plain_mean\n",
    "    obj2 = midpoint - overfit\n",
    "\n",
    "    return obj1, obj2,\n",
    "        \n",
    "weights = -1, -1,"
   ]
  },
  {
   "cell_type": "code",
   "execution_count": 14,
   "id": "df6c135a",
   "metadata": {
    "execution": {
     "iopub.execute_input": "2022-01-12T16:35:33.493940Z",
     "iopub.status.busy": "2022-01-12T16:35:33.492764Z",
     "iopub.status.idle": "2022-01-12T16:37:01.733899Z",
     "shell.execute_reply": "2022-01-12T16:37:01.734498Z",
     "shell.execute_reply.started": "2022-01-12T07:24:22.940189Z"
    },
    "papermill": {
     "duration": 88.429501,
     "end_time": "2022-01-12T16:37:01.734741",
     "exception": false,
     "start_time": "2022-01-12T16:35:33.305240",
     "status": "completed"
    },
    "tags": []
   },
   "outputs": [
    {
     "name": "stdout",
     "output_type": "stream",
     "text": [
      "Plain mean score: 0.02980115896760898\n",
      "Overfit score: 0.028155213563881374\n",
      "   \t      \t                    dist1                     \t                    dist2                     \n",
      "   \t      \t----------------------------------------------\t----------------------------------------------\n",
      "gen\tnevals\tavg        \tgen\tmin         \tnevals\tavg       \tgen\tmin       \tnevals\n",
      "0  \t3     \t0.000100274\t0  \t-0.000121194\t3     \t0.00174622\t0  \t0.00152475\t3     \n",
      "1  \t2     \t0.000107026\t1  \t-0.000121194\t2     \t0.00175297\t1  \t0.00152475\t2     \n"
     ]
    }
   ],
   "source": [
    "ga_params = GA_Scikit(est,\n",
    "                      params,\n",
    "                      eval_indiv,\n",
    "                      weights,\n",
    "                      #\n",
    "                      train[['title', 'duration_seconds', 't_delta', 'likes', 'view_count', 'target']],\n",
    "                      mean_absolute_error,\n",
    "                      )\n",
    "pop, log, hof = ga_params.run_ga_search()"
   ]
  },
  {
   "cell_type": "code",
   "execution_count": 15,
   "id": "7b59722f",
   "metadata": {
    "execution": {
     "iopub.execute_input": "2022-01-12T16:37:02.079552Z",
     "iopub.status.busy": "2022-01-12T16:37:02.078438Z",
     "iopub.status.idle": "2022-01-12T16:37:02.090289Z",
     "shell.execute_reply": "2022-01-12T16:37:02.090785Z",
     "shell.execute_reply.started": "2022-01-12T07:26:50.285671Z"
    },
    "papermill": {
     "duration": 0.185686,
     "end_time": "2022-01-12T16:37:02.091000",
     "exception": false,
     "start_time": "2022-01-12T16:37:01.905314",
     "status": "completed"
    },
    "tags": []
   },
   "outputs": [
    {
     "data": {
      "text/plain": [
       "{'hof_0': {'max_depth': 68,\n",
       "  'min_samples_split': 0.2184848484848485,\n",
       "  'min_samples_leaf': 0.18454545454545457,\n",
       "  'max_leaf_nodes': 20,\n",
       "  'min_impurity_decrease': 43,\n",
       "  'random_state': 16,\n",
       "  'q': 0.6831313131313131,\n",
       "  'min_df': 5,\n",
       "  'max_df': 5,\n",
       "  'max_features': 325,\n",
       "  'binary': False}}"
      ]
     },
     "execution_count": 15,
     "metadata": {},
     "output_type": "execute_result"
    },
    {
     "data": {
      "text/plain": [
       "['best_params.json']"
      ]
     },
     "execution_count": 15,
     "metadata": {},
     "output_type": "execute_result"
    }
   ],
   "source": [
    "# Save HOF params\n",
    "hof\n",
    "dump(hof['hof_0'], 'best_params.json')"
   ]
  },
  {
   "cell_type": "code",
   "execution_count": 16,
   "id": "f26ac72e",
   "metadata": {
    "execution": {
     "iopub.execute_input": "2022-01-12T16:37:02.424966Z",
     "iopub.status.busy": "2022-01-12T16:37:02.424282Z",
     "iopub.status.idle": "2022-01-12T16:37:06.838054Z",
     "shell.execute_reply": "2022-01-12T16:37:06.838607Z",
     "shell.execute_reply.started": "2022-01-12T06:42:34.493065Z"
    },
    "papermill": {
     "duration": 4.585898,
     "end_time": "2022-01-12T16:37:06.838798",
     "exception": false,
     "start_time": "2022-01-12T16:37:02.252900",
     "status": "completed"
    },
    "tags": []
   },
   "outputs": [
    {
     "data": {
      "text/plain": [
       "{'q': 0.6831313131313131,\n",
       " 'min_df': 5,\n",
       " 'max_df': 5,\n",
       " 'max_features': 325,\n",
       " 'binary': False}"
      ]
     },
     "execution_count": 16,
     "metadata": {},
     "output_type": "execute_result"
    },
    {
     "data": {
      "text/plain": [
       "{'max_depth': 68,\n",
       " 'min_samples_split': 0.2184848484848485,\n",
       " 'min_samples_leaf': 0.18454545454545457,\n",
       " 'max_leaf_nodes': 20,\n",
       " 'min_impurity_decrease': 43,\n",
       " 'random_state': 16}"
      ]
     },
     "execution_count": 16,
     "metadata": {},
     "output_type": "execute_result"
    },
    {
     "data": {
      "image/png": "[encoded data removed]",
      "text/plain": [
       "<Figure size 1080x360 with 1 Axes>"
      ]
     },
     "metadata": {
      "needs_background": "light"
     },
     "output_type": "display_data"
    }
   ],
   "source": [
    "# Full train\n",
    "params = load('best_params.json')\n",
    "\n",
    "cv_params = {k:v for k,v in params.items() if k not in \n",
    "             ['n_estimators', 'criterion', 'max_depth', 'min_samples_split', 'min_samples_leaf', 'max_leaf_nodes', 'min_impurity_decrease', 'random_state']}\n",
    "cv_params\n",
    "train_X, train_y = prep_data(cv_params, train)\n",
    "\n",
    "est_params = {k:v for k,v in params.items() if k in \n",
    "             ['n_estimators', 'criterion', 'max_depth', 'min_samples_split', 'min_samples_leaf', 'max_leaf_nodes', 'min_impurity_decrease', 'random_state']}\n",
    "est_params\n",
    "est = DecisionTreeRegressor(random_state=12)\n",
    "_ = est.set_params(**est_params)\n",
    "_ = est.fit(train_X, train_y)\n",
    "pred = est.predict(train_X)\n",
    "_ = concat([train_y, Series(pred)], axis=1).plot(kind='hist', bins=int(len(train)**0.5), figsize=(15,5), alpha=0.5)\n",
    "\n",
    "# Submission\n",
    "test_X = prep_data(cv_params, test, train_data=False)\n",
    "pred = est.predict(test_X)\n",
    "subm = concat([test['id'], Series(pred)], axis=1)\n",
    "subm.columns = ['id', 'target']\n",
    "subm.to_csv('submission.csv', index=False)"
   ]
  },
  {
   "cell_type": "code",
   "execution_count": 17,
   "id": "7e93a2d7",
   "metadata": {
    "execution": {
     "iopub.execute_input": "2022-01-12T16:37:07.181070Z",
     "iopub.status.busy": "2022-01-12T16:37:07.180155Z",
     "iopub.status.idle": "2022-01-12T16:37:07.194462Z",
     "shell.execute_reply": "2022-01-12T16:37:07.195027Z",
     "shell.execute_reply.started": "2022-01-12T06:45:15.151882Z"
    },
    "papermill": {
     "duration": 0.189444,
     "end_time": "2022-01-12T16:37:07.195216",
     "exception": false,
     "start_time": "2022-01-12T16:37:07.005772",
     "status": "completed"
    },
    "tags": []
   },
   "outputs": [
    {
     "data": {
      "text/html": [
       "<div>\n",
       "<style scoped>\n",
       "    .dataframe tbody tr th:only-of-type {\n",
       "        vertical-align: middle;\n",
       "    }\n",
       "\n",
       "    .dataframe tbody tr th {\n",
       "        vertical-align: top;\n",
       "    }\n",
       "\n",
       "    .dataframe thead th {\n",
       "        text-align: right;\n",
       "    }\n",
       "</style>\n",
       "<table border=\"1\" class=\"dataframe\">\n",
       "  <thead>\n",
       "    <tr style=\"text-align: right;\">\n",
       "      <th></th>\n",
       "      <th>id</th>\n",
       "      <th>target</th>\n",
       "    </tr>\n",
       "  </thead>\n",
       "  <tbody>\n",
       "    <tr>\n",
       "      <th>0</th>\n",
       "      <td>_wNsZEqpKUA_2021-12-01</td>\n",
       "      <td>0.05706</td>\n",
       "    </tr>\n",
       "    <tr>\n",
       "      <th>1</th>\n",
       "      <td>2jfbXZiE6Lc_2021-12-01</td>\n",
       "      <td>0.05706</td>\n",
       "    </tr>\n",
       "    <tr>\n",
       "      <th>2</th>\n",
       "      <td>F1Hq8eVOMHs_2021-12-01</td>\n",
       "      <td>0.05706</td>\n",
       "    </tr>\n",
       "    <tr>\n",
       "      <th>3</th>\n",
       "      <td>GQXVQmcGQUY_2021-12-01</td>\n",
       "      <td>0.05706</td>\n",
       "    </tr>\n",
       "    <tr>\n",
       "      <th>4</th>\n",
       "      <td>n4XojTb6pfs_2021-12-01</td>\n",
       "      <td>0.05706</td>\n",
       "    </tr>\n",
       "    <tr>\n",
       "      <th>...</th>\n",
       "      <td>...</td>\n",
       "      <td>...</td>\n",
       "    </tr>\n",
       "    <tr>\n",
       "      <th>5795</th>\n",
       "      <td>hJfpCXAMYPM_2021-12-30</td>\n",
       "      <td>0.05706</td>\n",
       "    </tr>\n",
       "    <tr>\n",
       "      <th>5796</th>\n",
       "      <td>MbmTMEYnEzo_2021-12-30</td>\n",
       "      <td>0.05706</td>\n",
       "    </tr>\n",
       "    <tr>\n",
       "      <th>5797</th>\n",
       "      <td>VG7arSAYvQI_2021-12-30</td>\n",
       "      <td>0.05706</td>\n",
       "    </tr>\n",
       "    <tr>\n",
       "      <th>5798</th>\n",
       "      <td>SNb-g-hNYYs_2021-12-30</td>\n",
       "      <td>0.05706</td>\n",
       "    </tr>\n",
       "    <tr>\n",
       "      <th>5799</th>\n",
       "      <td>_-K-sVn8Iko_2021-12-30</td>\n",
       "      <td>0.05706</td>\n",
       "    </tr>\n",
       "  </tbody>\n",
       "</table>\n",
       "<p>5800 rows × 2 columns</p>\n",
       "</div>"
      ],
      "text/plain": [
       "                          id   target\n",
       "0     _wNsZEqpKUA_2021-12-01  0.05706\n",
       "1     2jfbXZiE6Lc_2021-12-01  0.05706\n",
       "2     F1Hq8eVOMHs_2021-12-01  0.05706\n",
       "3     GQXVQmcGQUY_2021-12-01  0.05706\n",
       "4     n4XojTb6pfs_2021-12-01  0.05706\n",
       "...                      ...      ...\n",
       "5795  hJfpCXAMYPM_2021-12-30  0.05706\n",
       "5796  MbmTMEYnEzo_2021-12-30  0.05706\n",
       "5797  VG7arSAYvQI_2021-12-30  0.05706\n",
       "5798  SNb-g-hNYYs_2021-12-30  0.05706\n",
       "5799  _-K-sVn8Iko_2021-12-30  0.05706\n",
       "\n",
       "[5800 rows x 2 columns]"
      ]
     },
     "execution_count": 17,
     "metadata": {},
     "output_type": "execute_result"
    }
   ],
   "source": [
    "subm"
   ]
  },
  {
   "cell_type": "code",
   "execution_count": 18,
   "id": "31295690",
   "metadata": {
    "execution": {
     "iopub.execute_input": "2022-01-12T16:37:07.538494Z",
     "iopub.status.busy": "2022-01-12T16:37:07.531075Z",
     "iopub.status.idle": "2022-01-12T16:37:07.541472Z",
     "shell.execute_reply": "2022-01-12T16:37:07.540889Z"
    },
    "papermill": {
     "duration": 0.180679,
     "end_time": "2022-01-12T16:37:07.541632",
     "exception": false,
     "start_time": "2022-01-12T16:37:07.360953",
     "status": "completed"
    },
    "tags": []
   },
   "outputs": [],
   "source": [
    "if False:\n",
    "    def train_model(train_X, train_y, est, score, give_model=False, folds=False):\n",
    "        if not give_model:\n",
    "            if not folds:\n",
    "                train_X, valid_X, train_y, valid_y = train_test_split(train_X, train_y, train_size=0.8)\n",
    "                est.fit(train_X, train_y)\n",
    "                pred_v = est.predict(valid_X)\n",
    "                obj = score(valid_y, pred_v)\n",
    "                return obj\n",
    "            else:\n",
    "                ss = ShuffleSplit(n_splits=5, test_size=0.2)\n",
    "                #ss = TimeSeriesSplit(n_splits=2)\n",
    "                objs = []\n",
    "                for train_idx, valid_idx in ss.split(train_X):\n",
    "                    est.fit(train_X[train_idx, :], train_y.iloc[train_idx])\n",
    "                    pred_v = est.predict(train_X[valid_idx, :])\n",
    "                    obj = score(train_y.iloc[valid_idx], pred_v)\n",
    "                    objs.append(obj)\n",
    "                obj = mean(objs)\n",
    "                return obj\n",
    "        else:\n",
    "            est.fit(train_X, train_y)\n",
    "            return est"
   ]
  }
 ],
 "metadata": {
  "kernelspec": {
   "display_name": "Python 3",
   "language": "python",
   "name": "python3"
  },
  "language_info": {
   "codemirror_mode": {
    "name": "ipython",
    "version": 3
   },
   "file_extension": ".py",
   "mimetype": "text/x-python",
   "name": "python",
   "nbconvert_exporter": "python",
   "pygments_lexer": "ipython3",
   "version": "3.7.12"
  },
  "papermill": {
   "default_parameters": {},
   "duration": 177.674812,
   "end_time": "2022-01-12T16:37:08.723790",
   "environment_variables": {},
   "exception": null,
   "input_path": "__notebook__.ipynb",
   "output_path": "__notebook__.ipynb",
   "parameters": {},
   "start_time": "2022-01-12T16:34:11.048978",
   "version": "2.3.3"
  }
 },
 "nbformat": 4,
 "nbformat_minor": 5
}
