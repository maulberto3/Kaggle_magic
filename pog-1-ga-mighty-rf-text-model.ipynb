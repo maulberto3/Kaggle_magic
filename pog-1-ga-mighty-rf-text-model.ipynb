{
 "cells": [
  {
   "cell_type": "code",
   "execution_count": 1,
   "id": "f5a82f95",
   "metadata": {
    "execution": {
     "iopub.execute_input": "2022-01-12T03:12:41.657967Z",
     "iopub.status.busy": "2022-01-12T03:12:41.656136Z",
     "iopub.status.idle": "2022-01-12T03:12:41.805831Z",
     "shell.execute_reply": "2022-01-12T03:12:41.804909Z",
     "shell.execute_reply.started": "2022-01-12T03:01:13.617880Z"
    },
    "papermill": {
     "duration": 0.172666,
     "end_time": "2022-01-12T03:12:41.806033",
     "exception": false,
     "start_time": "2022-01-12T03:12:41.633367",
     "status": "completed"
    },
    "tags": []
   },
   "outputs": [],
   "source": [
    "%reset -sf"
   ]
  },
  {
   "cell_type": "code",
   "execution_count": 2,
   "id": "cc1d03ef",
   "metadata": {
    "execution": {
     "iopub.execute_input": "2022-01-12T03:12:41.842084Z",
     "iopub.status.busy": "2022-01-12T03:12:41.841318Z",
     "iopub.status.idle": "2022-01-12T03:12:41.844398Z",
     "shell.execute_reply": "2022-01-12T03:12:41.844875Z",
     "shell.execute_reply.started": "2022-01-12T03:01:13.740191Z"
    },
    "papermill": {
     "duration": 0.022454,
     "end_time": "2022-01-12T03:12:41.845067",
     "exception": false,
     "start_time": "2022-01-12T03:12:41.822613",
     "status": "completed"
    },
    "tags": []
   },
   "outputs": [],
   "source": [
    "from IPython.core.interactiveshell import InteractiveShell\n",
    "InteractiveShell.ast_node_interactivity = 'all'"
   ]
  },
  {
   "cell_type": "code",
   "execution_count": 3,
   "id": "f02dce43",
   "metadata": {
    "execution": {
     "iopub.execute_input": "2022-01-12T03:12:41.879712Z",
     "iopub.status.busy": "2022-01-12T03:12:41.879042Z",
     "iopub.status.idle": "2022-01-12T03:13:00.869431Z",
     "shell.execute_reply": "2022-01-12T03:13:00.868655Z",
     "shell.execute_reply.started": "2022-01-12T03:01:13.745835Z"
    },
    "papermill": {
     "duration": 19.009367,
     "end_time": "2022-01-12T03:13:00.869624",
     "exception": false,
     "start_time": "2022-01-12T03:12:41.860257",
     "status": "completed"
    },
    "tags": []
   },
   "outputs": [
    {
     "name": "stdout",
     "output_type": "stream",
     "text": [
      "Requirement already satisfied: scikit-learn in /opt/conda/lib/python3.7/site-packages (0.23.2)\r\n",
      "Collecting scikit-learn\r\n",
      "  Downloading scikit_learn-1.0.2-cp37-cp37m-manylinux_2_17_x86_64.manylinux2014_x86_64.whl (24.8 MB)\r\n",
      "     |████████████████████████████████| 24.8 MB 1.8 MB/s             \r\n",
      "\u001b[?25hRequirement already satisfied: scipy>=1.1.0 in /opt/conda/lib/python3.7/site-packages (from scikit-learn) (1.7.2)\r\n",
      "Requirement already satisfied: threadpoolctl>=2.0.0 in /opt/conda/lib/python3.7/site-packages (from scikit-learn) (3.0.0)\r\n",
      "Requirement already satisfied: joblib>=0.11 in /opt/conda/lib/python3.7/site-packages (from scikit-learn) (1.1.0)\r\n",
      "Requirement already satisfied: numpy>=1.14.6 in /opt/conda/lib/python3.7/site-packages (from scikit-learn) (1.19.5)\r\n",
      "Installing collected packages: scikit-learn\r\n",
      "  Attempting uninstall: scikit-learn\r\n",
      "    Found existing installation: scikit-learn 0.23.2\r\n",
      "    Uninstalling scikit-learn-0.23.2:\r\n",
      "      Successfully uninstalled scikit-learn-0.23.2\r\n",
      "\u001b[31mERROR: pip's dependency resolver does not currently take into account all the packages that are installed. This behaviour is the source of the following dependency conflicts.\r\n",
      "pdpbox 0.2.1 requires matplotlib==3.1.1, but you have matplotlib 3.5.0 which is incompatible.\r\n",
      "hypertools 0.7.0 requires scikit-learn!=0.22,<0.24,>=0.19.1, but you have scikit-learn 1.0.2 which is incompatible.\u001b[0m\r\n",
      "Successfully installed scikit-learn-1.0.2\r\n",
      "\u001b[33mWARNING: Running pip as the 'root' user can result in broken permissions and conflicting behaviour with the system package manager. It is recommended to use a virtual environment instead: https://pip.pypa.io/warnings/venv\u001b[0m\r\n"
     ]
    }
   ],
   "source": [
    "!pip install -U scikit-learn"
   ]
  },
  {
   "cell_type": "code",
   "execution_count": 4,
   "id": "9b29923d",
   "metadata": {
    "execution": {
     "iopub.execute_input": "2022-01-12T03:13:00.955366Z",
     "iopub.status.busy": "2022-01-12T03:13:00.951665Z",
     "iopub.status.idle": "2022-01-12T03:13:46.345017Z",
     "shell.execute_reply": "2022-01-12T03:13:46.345577Z",
     "shell.execute_reply.started": "2022-01-12T03:01:28.055321Z"
    },
    "papermill": {
     "duration": 45.437983,
     "end_time": "2022-01-12T03:13:46.345783",
     "exception": false,
     "start_time": "2022-01-12T03:13:00.907800",
     "status": "completed"
    },
    "tags": []
   },
   "outputs": [
    {
     "name": "stdout",
     "output_type": "stream",
     "text": [
      "Collecting scikit-learn-intelex\r\n",
      "  Downloading scikit_learn_intelex-2021.5.1-py37-none-manylinux1_x86_64.whl (69 kB)\r\n",
      "     |████████████████████████████████| 69 kB 315 kB/s            \r\n",
      "\u001b[?25hRequirement already satisfied: scikit-learn>=0.22 in /opt/conda/lib/python3.7/site-packages (from scikit-learn-intelex) (1.0.2)\r\n",
      "Collecting daal4py==2021.5.1\r\n",
      "  Downloading daal4py-2021.5.1-py37-none-manylinux1_x86_64.whl (22.5 MB)\r\n",
      "     |████████████████████████████████| 22.5 MB 1.8 MB/s            \r\n",
      "\u001b[?25hCollecting daal==2021.5.1\r\n",
      "  Downloading daal-2021.5.1-py2.py3-none-manylinux1_x86_64.whl (284.3 MB)\r\n",
      "     |████████████████████████████████| 284.3 MB 1.8 kB/s            \r\n",
      "\u001b[?25hRequirement already satisfied: numpy>=1.15 in /opt/conda/lib/python3.7/site-packages (from daal4py==2021.5.1->scikit-learn-intelex) (1.19.5)\r\n",
      "Collecting tbb==2021.*\r\n",
      "  Downloading tbb-2021.4.0-py2.py3-none-manylinux1_x86_64.whl (4.0 MB)\r\n",
      "     |████████████████████████████████| 4.0 MB 39.9 MB/s            \r\n",
      "\u001b[?25hRequirement already satisfied: joblib>=0.11 in /opt/conda/lib/python3.7/site-packages (from scikit-learn>=0.22->scikit-learn-intelex) (1.1.0)\r\n",
      "Requirement already satisfied: threadpoolctl>=2.0.0 in /opt/conda/lib/python3.7/site-packages (from scikit-learn>=0.22->scikit-learn-intelex) (3.0.0)\r\n",
      "Requirement already satisfied: scipy>=1.1.0 in /opt/conda/lib/python3.7/site-packages (from scikit-learn>=0.22->scikit-learn-intelex) (1.7.2)\r\n",
      "Installing collected packages: tbb, daal, daal4py, scikit-learn-intelex\r\n",
      "Successfully installed daal-2021.5.1 daal4py-2021.5.1 scikit-learn-intelex-2021.5.1 tbb-2021.4.0\r\n",
      "\u001b[33mWARNING: Running pip as the 'root' user can result in broken permissions and conflicting behaviour with the system package manager. It is recommended to use a virtual environment instead: https://pip.pypa.io/warnings/venv\u001b[0m\r\n"
     ]
    },
    {
     "name": "stderr",
     "output_type": "stream",
     "text": [
      "Intel(R) Extension for Scikit-learn* enabled (https://github.com/intel/scikit-learn-intelex)\n"
     ]
    }
   ],
   "source": [
    "# Patch Xeon Intel OneAPI Scikit accelerator\n",
    "!pip install scikit-learn-intelex\n",
    "from sklearnex import patch_sklearn\n",
    "patch_sklearn()"
   ]
  },
  {
   "cell_type": "code",
   "execution_count": 5,
   "id": "a80631a7",
   "metadata": {
    "execution": {
     "iopub.execute_input": "2022-01-12T03:13:46.783639Z",
     "iopub.status.busy": "2022-01-12T03:13:46.782908Z",
     "iopub.status.idle": "2022-01-12T03:13:46.802379Z",
     "shell.execute_reply": "2022-01-12T03:13:46.802936Z",
     "shell.execute_reply.started": "2022-01-12T03:01:58.384559Z"
    },
    "papermill": {
     "duration": 0.240885,
     "end_time": "2022-01-12T03:13:46.803130",
     "exception": false,
     "start_time": "2022-01-12T03:13:46.562245",
     "status": "completed"
    },
    "tags": []
   },
   "outputs": [],
   "source": [
    "from numpy import array, linspace, mean, column_stack\n",
    "from pandas import read_parquet, DataFrame, Series, to_datetime, concat\n",
    "from pathlib import Path\n",
    "from itertools import cycle\n",
    "from random import randint\n",
    "from gc import collect\n",
    "from joblib import dump, load\n",
    "\n",
    "from sklearn.feature_extraction.text import CountVectorizer, TfidfVectorizer\n",
    "from sklearn.tree import DecisionTreeRegressor\n",
    "from sklearn.ensemble import RandomForestRegressor, HistGradientBoostingRegressor\n",
    "from sklearn.metrics import mean_absolute_error, classification_report\n",
    "from sklearn.model_selection import train_test_split, ShuffleSplit\n",
    "from sklearn.linear_model import Lasso, LogisticRegression\n",
    "from sklearn.preprocessing import MinMaxScaler\n",
    "\n",
    "from deap import creator as ga_cr, base as ga_b, algorithms as ga_algo, tools as ga_t"
   ]
  },
  {
   "cell_type": "code",
   "execution_count": 6,
   "id": "f865256c",
   "metadata": {
    "execution": {
     "iopub.execute_input": "2022-01-12T03:13:47.227511Z",
     "iopub.status.busy": "2022-01-12T03:13:47.226855Z",
     "iopub.status.idle": "2022-01-12T03:13:50.134187Z",
     "shell.execute_reply": "2022-01-12T03:13:50.133474Z",
     "shell.execute_reply.started": "2022-01-12T03:01:58.424548Z"
    },
    "papermill": {
     "duration": 3.121601,
     "end_time": "2022-01-12T03:13:50.134351",
     "exception": false,
     "start_time": "2022-01-12T03:13:47.012750",
     "status": "completed"
    },
    "tags": []
   },
   "outputs": [],
   "source": [
    "p = Path().cwd()\n",
    "p = p.parent\n",
    "p = p / 'input' / 'kaggle-pog-series-s01e01'\n",
    "\n",
    "train = read_parquet(p / 'train.parquet')\n",
    "test = read_parquet(p / 'test.parquet')"
   ]
  },
  {
   "cell_type": "code",
   "execution_count": 7,
   "id": "b6ba2678",
   "metadata": {
    "execution": {
     "iopub.execute_input": "2022-01-12T03:13:50.622981Z",
     "iopub.status.busy": "2022-01-12T03:13:50.622217Z",
     "iopub.status.idle": "2022-01-12T03:13:50.696519Z",
     "shell.execute_reply": "2022-01-12T03:13:50.695888Z",
     "shell.execute_reply.started": "2022-01-12T03:02:01.380989Z"
    },
    "papermill": {
     "duration": 0.352054,
     "end_time": "2022-01-12T03:13:50.696678",
     "exception": false,
     "start_time": "2022-01-12T03:13:50.344624",
     "status": "completed"
    },
    "tags": []
   },
   "outputs": [],
   "source": [
    "def clean_train(df):\n",
    "    df['publishedAt'] = to_datetime(df['publishedAt'], errors='coerce').dt.tz_localize(None)\n",
    "    df['trending_date'] = to_datetime(df['trending_date'], errors='coerce').dt.tz_localize(None) \n",
    "    return df\n",
    "    \n",
    "train = clean_train(train)\n",
    "test = clean_train(test)"
   ]
  },
  {
   "cell_type": "code",
   "execution_count": 8,
   "id": "2208d121",
   "metadata": {
    "execution": {
     "iopub.execute_input": "2022-01-12T03:13:51.147197Z",
     "iopub.status.busy": "2022-01-12T03:13:51.146445Z",
     "iopub.status.idle": "2022-01-12T03:13:51.157285Z",
     "shell.execute_reply": "2022-01-12T03:13:51.157896Z",
     "shell.execute_reply.started": "2022-01-12T03:02:01.454637Z"
    },
    "papermill": {
     "duration": 0.240053,
     "end_time": "2022-01-12T03:13:51.158100",
     "exception": false,
     "start_time": "2022-01-12T03:13:50.918047",
     "status": "completed"
    },
    "tags": []
   },
   "outputs": [],
   "source": [
    "def feat_eng(df):\n",
    "    df['t_delta'] = (df['trending_date'] - df['publishedAt']).dt.seconds\n",
    "    return df\n",
    "\n",
    "train = feat_eng(train)\n",
    "test = feat_eng(test)"
   ]
  },
  {
   "cell_type": "code",
   "execution_count": 9,
   "id": "b19cf076",
   "metadata": {
    "execution": {
     "iopub.execute_input": "2022-01-12T03:13:51.613619Z",
     "iopub.status.busy": "2022-01-12T03:13:51.612785Z",
     "iopub.status.idle": "2022-01-12T03:13:51.627953Z",
     "shell.execute_reply": "2022-01-12T03:13:51.628528Z",
     "shell.execute_reply.started": "2022-01-12T03:02:04.393524Z"
    },
    "papermill": {
     "duration": 0.252081,
     "end_time": "2022-01-12T03:13:51.628745",
     "exception": false,
     "start_time": "2022-01-12T03:13:51.376664",
     "status": "completed"
    },
    "tags": []
   },
   "outputs": [],
   "source": [
    "class GA_Scikit():\n",
    "    def __init__(self, \n",
    "                 estimator, \n",
    "                 #\n",
    "                 params, \n",
    "                 eval_func, \n",
    "                 eval_weights, \n",
    "                 #\n",
    "                 train_df, \n",
    "                 #valid_df, \n",
    "                 score, \n",
    "                 #\n",
    "                 sel_tournsize=2, \n",
    "                 cx_uniform_prob=0.5, \n",
    "                 mut_shuffle_idx_prob=0.1, \n",
    "                 n_pop=20, \n",
    "                 n_gen=10, \n",
    "                 n_hof=1, \n",
    "                 cx_prob=0.5, \n",
    "                 mut_prob=0.1, \n",
    "                 n_jobs=4  # not good with HistGradBoosReg...\n",
    "                ):\n",
    "        \n",
    "        self.est = estimator\n",
    "        self.params = params\n",
    "        self.eval_func = eval_func\n",
    "        self.eval_weights = eval_weights\n",
    "        #\n",
    "        self.train_df = train_df\n",
    "        #self.valid_df = valid_df\n",
    "        self.score = score\n",
    "        #\n",
    "        self.sel_tournsize = sel_tournsize\n",
    "        self.cx_uniform_prob = cx_uniform_prob\n",
    "        self.mut_shuffle_idx_prob = mut_shuffle_idx_prob\n",
    "        self.n_pop = n_pop\n",
    "        self.n_gen = n_gen\n",
    "        self.n_hof = n_hof\n",
    "        self.cx_prob = cx_prob\n",
    "        self.mut_prob = mut_prob\n",
    "        self.n_jobs = n_jobs\n",
    "        \n",
    "        self._pad_params()\n",
    "        self._create_fitness_and_indiv()\n",
    "        self._register_indiv_and_pop_generators()\n",
    "        self._register_eval_func()\n",
    "        self._register_selection_crossover_mutation_methods()\n",
    "        \n",
    "    def _pad_params(self):\n",
    "        \"\"\"Pad params for crossover shuffle idx method\"\"\"\n",
    "        assert isinstance(self.params, dict), 'Params must be a dict, i.e. estimator.get_params()'\n",
    "        params_count = {k: len(v) for k,v in self.params.items()}\n",
    "        max_length, max_key = -99, ''\n",
    "        for k, v in params_count.items():\n",
    "            if v <= max_length:\n",
    "                continue\n",
    "            else:\n",
    "                max_key = k\n",
    "                max_length = v\n",
    "        assert isinstance(max_length, int), 'The max length between all params must be an int'\n",
    "        # cycle through params for max length param, otherwise infinite cycle\n",
    "        values_padded = (cycle(v) if k!=max_key else v for k,v in self.params.items())\n",
    "        values_padded = zip(*values_padded)  # ('a', 1, 14), ('b', 2, 16), ('c', 3, 16) ...\n",
    "        values_padded = zip(*values_padded)  # ('a', 'b', 'c'), (1, 2, 3), (14, 15, 16)...\n",
    "        padded_params = {}\n",
    "        for k, v in zip(self.params, values_padded):\n",
    "            padded_params[k] = v\n",
    "        self.padded_params = padded_params\n",
    "        \n",
    "    def _create_fitness_and_indiv(self):\n",
    "        \"\"\"Create GA individual and fitness entities (classes)\"\"\"\n",
    "        ga_cr.create('Fitness', ga_b.Fitness, weights=self.eval_weights)\n",
    "        ga_cr.create('Individual', list, fitness=ga_cr.Fitness)\n",
    "\n",
    "    def _gen_params_to_ga(self):\n",
    "        \"\"\"Generate index for each param for individual\"\"\"\n",
    "        max_dict = len(self.padded_params)\n",
    "        max_length = len(list(self.padded_params.values())[0])\n",
    "        idxs = [randint(0, max_length-1) for _ in range(max_dict)]\n",
    "        return idxs\n",
    "            \n",
    "    def _register_indiv_and_pop_generators(self):\n",
    "        \"\"\"Register GA individual and population generators\"\"\"\n",
    "        self.tb = ga_b.Toolbox()\n",
    "\n",
    "        if self.n_jobs > 1:\n",
    "            from multiprocessing import Pool\n",
    "            pool = Pool()\n",
    "            self.tb.register(\"map\", pool.map)\n",
    "\n",
    "        self.tb.register(\"individual\", ga_t.initIterate, ga_cr.Individual, self._gen_params_to_ga)\n",
    "        #print('indiv', self.tb.individual())\n",
    "        self.tb.register(\"population\", ga_t.initRepeat, list, self.tb.individual)\n",
    "        #print('population', self.tb.population(n=2))\n",
    "    \n",
    "    def _register_eval_func(self):\n",
    "        \"\"\"Set GA evaluate individual function\"\"\"\n",
    "        self.tb.register(\"evaluate\",\n",
    "                        self.eval_func,\n",
    "                        padded_params=self.padded_params,\n",
    "                        est=self.est,\n",
    "                        train_df=self.train_df,\n",
    "                        score=self.score\n",
    "                        )\n",
    "        #print(list(self.tb.evaluate(indiv) for indiv in self.tb.population(3)))\n",
    "        \n",
    "    def _register_selection_crossover_mutation_methods(self):\n",
    "        \"\"\"Register GA select/mate/mutate methods\"\"\"\n",
    "        self.tb.register(\"select\", ga_t.selTournament, tournsize=self.sel_tournsize)\n",
    "        self.tb.register(\"mate\", ga_t.cxUniform, indpb=self.cx_uniform_prob)\n",
    "        self.tb.register(\"mutate\", ga_t.mutShuffleIndexes, indpb=self.mut_shuffle_idx_prob)\n",
    "        \n",
    "    def run_ga_search(self):\n",
    "        \"\"\"Run search\"\"\"\n",
    "        pop = self.tb.population(n=self.n_pop)\n",
    "        hof = ga_t.HallOfFame(self.n_hof)\n",
    "\n",
    "        # Stats stdout\n",
    "        #stats = ga_t.Statistics(lambda ind: ind.fitness.values )\n",
    "        stats1 = ga_t.Statistics(lambda ind: ind.fitness.values[0] )\n",
    "        stats2 = ga_t.Statistics(lambda ind: ind.fitness.values[1] )\n",
    "        stats3 = ga_t.Statistics(lambda ind: ind.fitness.values[2] )\n",
    "        stats = ga_t.MultiStatistics(v_loss=stats1, max_depth=stats2, n_est=stats3)\n",
    "        stats.register(\"avg\", mean)\n",
    "        #stats.register(\"std\", np.std)\n",
    "        \n",
    "        # GA Run\n",
    "        pop, log = ga_algo.eaSimple(pop, self.tb, cxpb=self.cx_prob, \n",
    "                                    mutpb=self.mut_prob, ngen=self.n_gen, \n",
    "                                    stats=stats, halloffame=hof, verbose=True)\n",
    "        \n",
    "        # Convert back params\n",
    "        hof_ = {}\n",
    "        for i in range(self.n_hof):\n",
    "            hof_['hof_' + str(i)] = self._ga_to_params(hof[i])\n",
    "\n",
    "        return pop, log, hof_\n",
    "    \n",
    "    def _ga_to_params(self, idx_params):\n",
    "        \"\"\"Helper to convert to readable params\"\"\"\n",
    "        res = {}\n",
    "        for (k,v), idx in zip(self.padded_params.items(), idx_params):\n",
    "            res[k] = v[idx]\n",
    "        return res"
   ]
  },
  {
   "cell_type": "code",
   "execution_count": 10,
   "id": "7cd0b749",
   "metadata": {
    "execution": {
     "iopub.execute_input": "2022-01-12T03:13:52.255679Z",
     "iopub.status.busy": "2022-01-12T03:13:52.250277Z",
     "iopub.status.idle": "2022-01-12T03:13:52.260574Z",
     "shell.execute_reply": "2022-01-12T03:13:52.262086Z",
     "shell.execute_reply.started": "2022-01-12T03:02:04.419138Z"
    },
    "papermill": {
     "duration": 0.255392,
     "end_time": "2022-01-12T03:13:52.262379",
     "exception": false,
     "start_time": "2022-01-12T03:13:52.006987",
     "status": "completed"
    },
    "tags": []
   },
   "outputs": [],
   "source": [
    "def prep_data(params, train_df, train_data=True):\n",
    "    train_X = train_df[['title', 'duration_seconds', 't_delta']].copy()\n",
    "\n",
    "    cv_params = {k:v for k,v in params.items() if k != 'q'}\n",
    "    cv_params = {**cv_params, **{'strip_accents': 'ascii',\n",
    "                                 'lowercase': True,\n",
    "                                 'stop_words': 'english',\n",
    "                                 'analyzer': 'word',\n",
    "                                 #'token_pattern': '(?u)\\b\\w\\w\\w+\\b',  # 3 or more letters\n",
    "                                 }}\n",
    "    #cv = CountVectorizer(**)\n",
    "    tdf = TfidfVectorizer(**cv_params)\n",
    "    \n",
    "    q_param = {k:v for k,v in params.items() if k == 'q'}\n",
    "    q = train_X['duration_seconds'].quantile(**q_param)\n",
    "    mask = train_X['duration_seconds'].isna()\n",
    "    train_X.loc[mask, 'duration_seconds'] = q\n",
    "    \n",
    "    mms = MinMaxScaler()\n",
    "    \n",
    "    train_X = column_stack((\n",
    "        tdf.fit_transform(train_X['title']).toarray(),\n",
    "        mms.fit_transform(train_X[['duration_seconds']]),\n",
    "        mms.fit_transform(train_X[['t_delta']]),\n",
    "    ))\n",
    "    \n",
    "    if train_data:\n",
    "        train_y = train_df[['likes', 'view_count']]\n",
    "        train_y = train_y['likes'] / train_y['view_count']\n",
    "        return train_X, train_y\n",
    "    else:\n",
    "        return train_X"
   ]
  },
  {
   "cell_type": "code",
   "execution_count": 11,
   "id": "7cf9021f",
   "metadata": {
    "execution": {
     "iopub.execute_input": "2022-01-12T03:13:52.794896Z",
     "iopub.status.busy": "2022-01-12T03:13:52.794124Z",
     "iopub.status.idle": "2022-01-12T03:13:52.801121Z",
     "shell.execute_reply": "2022-01-12T03:13:52.801935Z",
     "shell.execute_reply.started": "2022-01-12T03:02:04.435982Z"
    },
    "papermill": {
     "duration": 0.282283,
     "end_time": "2022-01-12T03:13:52.802147",
     "exception": false,
     "start_time": "2022-01-12T03:13:52.519864",
     "status": "completed"
    },
    "tags": []
   },
   "outputs": [],
   "source": [
    "def train_model(train_X, train_y, est, score, give_model=False, folds=False):\n",
    "    if not give_model:\n",
    "        if not folds:\n",
    "            train_X, valid_X, train_y, valid_y = train_test_split(train_X, train_y, train_size=0.8)\n",
    "            est.fit(train_X, train_y)\n",
    "            pred_v = est.predict(valid_X)\n",
    "            obj = score(valid_y, pred_v)\n",
    "            return obj\n",
    "        else:\n",
    "            ss = ShuffleSplit(n_splits=5, test_size=0.2)\n",
    "            #ss = TimeSeriesSplit(n_splits=2)\n",
    "            objs = []\n",
    "            for train_idx, valid_idx in ss.split(train_X):\n",
    "                est.fit(train_X[train_idx, :], train_y.iloc[train_idx])\n",
    "                pred_v = est.predict(train_X[valid_idx, :])\n",
    "                obj = score(train_y.iloc[valid_idx], pred_v)\n",
    "                objs.append(obj)\n",
    "            obj = mean(objs)\n",
    "            return obj\n",
    "    else:\n",
    "        est.fit(train_X, train_y)\n",
    "        return est"
   ]
  },
  {
   "cell_type": "code",
   "execution_count": 12,
   "id": "5158cd74",
   "metadata": {
    "execution": {
     "iopub.execute_input": "2022-01-12T03:13:53.323239Z",
     "iopub.status.busy": "2022-01-12T03:13:53.322366Z",
     "iopub.status.idle": "2022-01-12T03:13:53.324778Z",
     "shell.execute_reply": "2022-01-12T03:13:53.325392Z",
     "shell.execute_reply.started": "2022-01-12T03:11:19.290999Z"
    },
    "papermill": {
     "duration": 0.276023,
     "end_time": "2022-01-12T03:13:53.325662",
     "exception": false,
     "start_time": "2022-01-12T03:13:53.049639",
     "status": "completed"
    },
    "tags": []
   },
   "outputs": [],
   "source": [
    "# Estimator, params and requirements\n",
    "\n",
    "est = RandomForestRegressor(random_state=16)\n",
    "\n",
    "cv_params = {\n",
    "             'n_estimators': linspace(1,100,100).astype(int),\n",
    "             'max_depth': linspace(1,100,100).astype(int),\n",
    "             #\n",
    "             'q': linspace(0.01,0.99,100),\n",
    "             #\n",
    "             #'ngram_range_': linspace(1,10,10).astype(int),\n",
    "             'min_df': linspace(1,5,10).astype(int),\n",
    "             'max_df': linspace(5,10,10).astype(int),\n",
    "             'max_features': linspace(10,300,100).astype(int),\n",
    "             'binary': [True, False],\n",
    "            }\n",
    "\n",
    "def cv_eval_indiv(individual, padded_params, est, train_df, score):\n",
    "    \"\"\"Evaluate individual's genes (estimator's params)\"\"\"\n",
    "    est_params = {k : list(v)[idx] for (k,v), idx in zip(padded_params.items(), individual) if k in ['n_estimators', 'max_depth']}\n",
    "    _ = est.set_params(**{**est_params, **{'min_samples_leaf': 0.1}})\n",
    "    \n",
    "    cv_params = {k : list(v)[idx] for (k,v), idx in zip(padded_params.items(), individual) if k not in ['n_estimators', 'max_depth']}\n",
    "    train_X, train_y = prep_data(cv_params, train_df, train_data=True)\n",
    "\n",
    "    #model_params = {k : list(v)[idx] for (k,v), idx in zip(padded_params.items(), individual) if k != '#_lags'}\n",
    "    #est.set_params(**model_params)  # seems can't parallelize this simultaneous with GA  # **{**model_params, **{'n_jobs': 1} }\n",
    "\n",
    "    obj = train_model(train_X, train_y, est, score, folds=False)\n",
    "    \n",
    "    collect()\n",
    "    \n",
    "    return obj, est_params['n_estimators'], est_params['max_depth'],\n",
    "        \n",
    "cv_weights = -0.1, -1, -1,"
   ]
  },
  {
   "cell_type": "code",
   "execution_count": 13,
   "id": "d7259158",
   "metadata": {
    "execution": {
     "iopub.execute_input": "2022-01-12T03:13:53.755818Z",
     "iopub.status.busy": "2022-01-12T03:13:53.755131Z",
     "iopub.status.idle": "2022-01-12T03:20:36.874618Z",
     "shell.execute_reply": "2022-01-12T03:20:36.873906Z",
     "shell.execute_reply.started": "2022-01-12T03:11:19.759803Z"
    },
    "papermill": {
     "duration": 403.328032,
     "end_time": "2022-01-12T03:20:36.874916",
     "exception": false,
     "start_time": "2022-01-12T03:13:53.546884",
     "status": "completed"
    },
    "tags": []
   },
   "outputs": [
    {
     "name": "stdout",
     "output_type": "stream",
     "text": [
      "   \t      \t      max_depth       \t        n_est         \t            v_loss            \n",
      "   \t      \t----------------------\t----------------------\t------------------------------\n",
      "gen\tnevals\tavg  \tgen\tnevals\tavg \tgen\tnevals\tavg      \tgen\tnevals\n",
      "0  \t20    \t55.05\t0  \t20    \t55.8\t0  \t20    \t0.0293627\t0  \t20    \n",
      "1  \t12    \t66.5 \t1  \t12    \t61.3\t1  \t12    \t0.0293905\t1  \t12    \n",
      "2  \t9     \t77.85\t2  \t9     \t74.05\t2  \t9     \t0.029386 \t2  \t9     \n",
      "3  \t8     \t74.5 \t3  \t8     \t75.3 \t3  \t8     \t0.0293527\t3  \t8     \n",
      "4  \t12    \t68.4 \t4  \t12    \t83.9 \t4  \t12    \t0.0293839\t4  \t12    \n",
      "5  \t8     \t57.05\t5  \t8     \t81.9 \t5  \t8     \t0.0293161\t5  \t8     \n",
      "6  \t11    \t62.9 \t6  \t11    \t84.3 \t6  \t11    \t0.0293335\t6  \t11    \n",
      "7  \t16    \t78.85\t7  \t16    \t86.65\t7  \t16    \t0.0293819\t7  \t16    \n",
      "8  \t12    \t86.4 \t8  \t12    \t85   \t8  \t12    \t0.0293565\t8  \t12    \n",
      "9  \t12    \t89.95\t9  \t12    \t79.1 \t9  \t12    \t0.0294365\t9  \t12    \n",
      "10 \t8     \t95.4 \t10 \t8     \t81.3 \t10 \t8     \t0.029324 \t10 \t8     \n"
     ]
    }
   ],
   "source": [
    "ga_params = GA_Scikit(est,\n",
    "                      cv_params,\n",
    "                      cv_eval_indiv,\n",
    "                      cv_weights,\n",
    "                      #\n",
    "                      train[['title', 'duration_seconds', 't_delta', 'likes', 'view_count']],\n",
    "                      mean_absolute_error,\n",
    "                      )\n",
    "pop, log, hof = ga_params.run_ga_search()"
   ]
  },
  {
   "cell_type": "code",
   "execution_count": 14,
   "id": "792093a9",
   "metadata": {
    "execution": {
     "iopub.execute_input": "2022-01-12T03:20:37.306563Z",
     "iopub.status.busy": "2022-01-12T03:20:37.305509Z",
     "iopub.status.idle": "2022-01-12T03:20:37.319730Z",
     "shell.execute_reply": "2022-01-12T03:20:37.320226Z",
     "shell.execute_reply.started": "2022-01-12T03:11:50.092047Z"
    },
    "papermill": {
     "duration": 0.231747,
     "end_time": "2022-01-12T03:20:37.320432",
     "exception": false,
     "start_time": "2022-01-12T03:20:37.088685",
     "status": "completed"
    },
    "tags": []
   },
   "outputs": [
    {
     "data": {
      "text/plain": [
       "{'hof_0': {'n_estimators': 14,\n",
       "  'max_depth': 76,\n",
       "  'q': 0.9603030303030302,\n",
       "  'min_df': 5,\n",
       "  'max_df': 8,\n",
       "  'max_features': 53,\n",
       "  'binary': False}}"
      ]
     },
     "execution_count": 14,
     "metadata": {},
     "output_type": "execute_result"
    },
    {
     "data": {
      "text/plain": [
       "['best_params.json']"
      ]
     },
     "execution_count": 14,
     "metadata": {},
     "output_type": "execute_result"
    }
   ],
   "source": [
    "# Save HOF params\n",
    "hof\n",
    "dump(hof['hof_0'], 'best_params.json')"
   ]
  },
  {
   "cell_type": "code",
   "execution_count": 15,
   "id": "59b79c59",
   "metadata": {
    "execution": {
     "iopub.execute_input": "2022-01-12T03:20:37.745631Z",
     "iopub.status.busy": "2022-01-12T03:20:37.744578Z",
     "iopub.status.idle": "2022-01-12T03:20:40.130102Z",
     "shell.execute_reply": "2022-01-12T03:20:40.129444Z",
     "shell.execute_reply.started": "2022-01-12T03:11:52.886406Z"
    },
    "papermill": {
     "duration": 2.598706,
     "end_time": "2022-01-12T03:20:40.130258",
     "exception": false,
     "start_time": "2022-01-12T03:20:37.531552",
     "status": "completed"
    },
    "tags": []
   },
   "outputs": [
    {
     "data": {
      "text/plain": [
       "{'n_estimators': 14, 'max_depth': 76}"
      ]
     },
     "execution_count": 15,
     "metadata": {},
     "output_type": "execute_result"
    },
    {
     "data": {
      "text/plain": [
       "RandomForestRegressor(max_depth=76, n_estimators=14, random_state=16)"
      ]
     },
     "execution_count": 15,
     "metadata": {},
     "output_type": "execute_result"
    },
    {
     "data": {
      "text/plain": [
       "{'q': 0.9603030303030302,\n",
       " 'min_df': 5,\n",
       " 'max_df': 8,\n",
       " 'max_features': 53,\n",
       " 'binary': False}"
      ]
     },
     "execution_count": 15,
     "metadata": {},
     "output_type": "execute_result"
    }
   ],
   "source": [
    "# Full train\n",
    "params = load('best_params.json')\n",
    "\n",
    "est_params = {k:v for k,v in params.items() if k in ['n_estimators', 'max_depth']}\n",
    "est_params\n",
    "est = RandomForestRegressor(random_state=16)\n",
    "est.set_params(**est_params)\n",
    "\n",
    "cv_params = {k:v for k,v in params.items() if k not in ['n_estimators', 'max_depth']}\n",
    "cv_params\n",
    "train_X, train_y = prep_data(cv_params, train)\n",
    "est = train_model(train_X, train_y, est, mean_absolute_error, give_model=True)\n",
    "\n",
    "# Submission\n",
    "test_X = prep_data(cv_params, test, train_data=False)\n",
    "pred = est.predict(test_X)\n",
    "subm = concat([test['id'], Series(pred)], axis=1)\n",
    "subm.columns = ['id', 'target']\n",
    "subm.to_csv('submission.csv', index=False)"
   ]
  },
  {
   "cell_type": "code",
   "execution_count": 16,
   "id": "e5b1d5f4",
   "metadata": {
    "execution": {
     "iopub.execute_input": "2022-01-12T03:20:40.570172Z",
     "iopub.status.busy": "2022-01-12T03:20:40.569423Z",
     "iopub.status.idle": "2022-01-12T03:20:40.582897Z",
     "shell.execute_reply": "2022-01-12T03:20:40.583407Z",
     "shell.execute_reply.started": "2022-01-12T03:10:01.864153Z"
    },
    "papermill": {
     "duration": 0.23928,
     "end_time": "2022-01-12T03:20:40.583619",
     "exception": false,
     "start_time": "2022-01-12T03:20:40.344339",
     "status": "completed"
    },
    "tags": []
   },
   "outputs": [
    {
     "data": {
      "text/html": [
       "<div>\n",
       "<style scoped>\n",
       "    .dataframe tbody tr th:only-of-type {\n",
       "        vertical-align: middle;\n",
       "    }\n",
       "\n",
       "    .dataframe tbody tr th {\n",
       "        vertical-align: top;\n",
       "    }\n",
       "\n",
       "    .dataframe thead th {\n",
       "        text-align: right;\n",
       "    }\n",
       "</style>\n",
       "<table border=\"1\" class=\"dataframe\">\n",
       "  <thead>\n",
       "    <tr style=\"text-align: right;\">\n",
       "      <th></th>\n",
       "      <th>id</th>\n",
       "      <th>target</th>\n",
       "    </tr>\n",
       "  </thead>\n",
       "  <tbody>\n",
       "    <tr>\n",
       "      <th>0</th>\n",
       "      <td>_wNsZEqpKUA_2021-12-01</td>\n",
       "      <td>0.017209</td>\n",
       "    </tr>\n",
       "    <tr>\n",
       "      <th>1</th>\n",
       "      <td>2jfbXZiE6Lc_2021-12-01</td>\n",
       "      <td>0.058022</td>\n",
       "    </tr>\n",
       "    <tr>\n",
       "      <th>2</th>\n",
       "      <td>F1Hq8eVOMHs_2021-12-01</td>\n",
       "      <td>0.005870</td>\n",
       "    </tr>\n",
       "    <tr>\n",
       "      <th>3</th>\n",
       "      <td>GQXVQmcGQUY_2021-12-01</td>\n",
       "      <td>0.017971</td>\n",
       "    </tr>\n",
       "    <tr>\n",
       "      <th>4</th>\n",
       "      <td>n4XojTb6pfs_2021-12-01</td>\n",
       "      <td>0.065540</td>\n",
       "    </tr>\n",
       "    <tr>\n",
       "      <th>...</th>\n",
       "      <td>...</td>\n",
       "      <td>...</td>\n",
       "    </tr>\n",
       "    <tr>\n",
       "      <th>5795</th>\n",
       "      <td>hJfpCXAMYPM_2021-12-30</td>\n",
       "      <td>0.010629</td>\n",
       "    </tr>\n",
       "    <tr>\n",
       "      <th>5796</th>\n",
       "      <td>MbmTMEYnEzo_2021-12-30</td>\n",
       "      <td>0.010477</td>\n",
       "    </tr>\n",
       "    <tr>\n",
       "      <th>5797</th>\n",
       "      <td>VG7arSAYvQI_2021-12-30</td>\n",
       "      <td>0.016680</td>\n",
       "    </tr>\n",
       "    <tr>\n",
       "      <th>5798</th>\n",
       "      <td>SNb-g-hNYYs_2021-12-30</td>\n",
       "      <td>0.056530</td>\n",
       "    </tr>\n",
       "    <tr>\n",
       "      <th>5799</th>\n",
       "      <td>_-K-sVn8Iko_2021-12-30</td>\n",
       "      <td>0.005870</td>\n",
       "    </tr>\n",
       "  </tbody>\n",
       "</table>\n",
       "<p>5800 rows × 2 columns</p>\n",
       "</div>"
      ],
      "text/plain": [
       "                          id    target\n",
       "0     _wNsZEqpKUA_2021-12-01  0.017209\n",
       "1     2jfbXZiE6Lc_2021-12-01  0.058022\n",
       "2     F1Hq8eVOMHs_2021-12-01  0.005870\n",
       "3     GQXVQmcGQUY_2021-12-01  0.017971\n",
       "4     n4XojTb6pfs_2021-12-01  0.065540\n",
       "...                      ...       ...\n",
       "5795  hJfpCXAMYPM_2021-12-30  0.010629\n",
       "5796  MbmTMEYnEzo_2021-12-30  0.010477\n",
       "5797  VG7arSAYvQI_2021-12-30  0.016680\n",
       "5798  SNb-g-hNYYs_2021-12-30  0.056530\n",
       "5799  _-K-sVn8Iko_2021-12-30  0.005870\n",
       "\n",
       "[5800 rows x 2 columns]"
      ]
     },
     "execution_count": 16,
     "metadata": {},
     "output_type": "execute_result"
    }
   ],
   "source": [
    "subm"
   ]
  },
  {
   "cell_type": "code",
   "execution_count": null,
   "id": "7984efdb",
   "metadata": {
    "papermill": {
     "duration": 0.21305,
     "end_time": "2022-01-12T03:20:41.009850",
     "exception": false,
     "start_time": "2022-01-12T03:20:40.796800",
     "status": "completed"
    },
    "tags": []
   },
   "outputs": [],
   "source": []
  }
 ],
 "metadata": {
  "kernelspec": {
   "display_name": "Python 3",
   "language": "python",
   "name": "python3"
  },
  "language_info": {
   "codemirror_mode": {
    "name": "ipython",
    "version": 3
   },
   "file_extension": ".py",
   "mimetype": "text/x-python",
   "name": "python",
   "nbconvert_exporter": "python",
   "pygments_lexer": "ipython3",
   "version": "3.7.12"
  },
  "papermill": {
   "default_parameters": {},
   "duration": 492.502068,
   "end_time": "2022-01-12T03:20:43.843456",
   "environment_variables": {},
   "exception": null,
   "input_path": "__notebook__.ipynb",
   "output_path": "__notebook__.ipynb",
   "parameters": {},
   "start_time": "2022-01-12T03:12:31.341388",
   "version": "2.3.3"
  }
 },
 "nbformat": 4,
 "nbformat_minor": 5
}
