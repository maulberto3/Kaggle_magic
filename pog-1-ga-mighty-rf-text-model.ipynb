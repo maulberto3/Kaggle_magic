{
 "cells": [
  {
   "cell_type": "code",
   "execution_count": 1,
   "id": "557446a4",
   "metadata": {
    "execution": {
     "iopub.execute_input": "2022-01-10T23:11:26.358461Z",
     "iopub.status.busy": "2022-01-10T23:11:26.357264Z",
     "iopub.status.idle": "2022-01-10T23:11:26.475497Z",
     "shell.execute_reply": "2022-01-10T23:11:26.474734Z",
     "shell.execute_reply.started": "2022-01-10T20:00:00.279151Z"
    },
    "papermill": {
     "duration": 0.138871,
     "end_time": "2022-01-10T23:11:26.475712",
     "exception": false,
     "start_time": "2022-01-10T23:11:26.336841",
     "status": "completed"
    },
    "tags": []
   },
   "outputs": [],
   "source": [
    "%reset -sf"
   ]
  },
  {
   "cell_type": "code",
   "execution_count": 2,
   "id": "01f102fb",
   "metadata": {
    "execution": {
     "iopub.execute_input": "2022-01-10T23:11:26.512231Z",
     "iopub.status.busy": "2022-01-10T23:11:26.511498Z",
     "iopub.status.idle": "2022-01-10T23:11:26.514812Z",
     "shell.execute_reply": "2022-01-10T23:11:26.514276Z",
     "shell.execute_reply.started": "2022-01-10T20:00:00.416833Z"
    },
    "papermill": {
     "duration": 0.023238,
     "end_time": "2022-01-10T23:11:26.514965",
     "exception": false,
     "start_time": "2022-01-10T23:11:26.491727",
     "status": "completed"
    },
    "tags": []
   },
   "outputs": [],
   "source": [
    "from IPython.core.interactiveshell import InteractiveShell\n",
    "InteractiveShell.ast_node_interactivity = 'all'"
   ]
  },
  {
   "cell_type": "code",
   "execution_count": 3,
   "id": "cee1e823",
   "metadata": {
    "execution": {
     "iopub.execute_input": "2022-01-10T23:11:26.551209Z",
     "iopub.status.busy": "2022-01-10T23:11:26.550462Z",
     "iopub.status.idle": "2022-01-10T23:11:43.707521Z",
     "shell.execute_reply": "2022-01-10T23:11:43.706907Z",
     "shell.execute_reply.started": "2022-01-10T20:00:00.422715Z"
    },
    "papermill": {
     "duration": 17.177271,
     "end_time": "2022-01-10T23:11:43.707691",
     "exception": false,
     "start_time": "2022-01-10T23:11:26.530420",
     "status": "completed"
    },
    "tags": []
   },
   "outputs": [
    {
     "name": "stdout",
     "output_type": "stream",
     "text": [
      "Requirement already satisfied: scikit-learn in /opt/conda/lib/python3.7/site-packages (0.23.2)\r\n",
      "Collecting scikit-learn\r\n",
      "  Downloading scikit_learn-1.0.2-cp37-cp37m-manylinux_2_17_x86_64.manylinux2014_x86_64.whl (24.8 MB)\r\n",
      "     |████████████████████████████████| 24.8 MB 886 kB/s            \r\n",
      "\u001b[?25hRequirement already satisfied: numpy>=1.14.6 in /opt/conda/lib/python3.7/site-packages (from scikit-learn) (1.19.5)\r\n",
      "Requirement already satisfied: scipy>=1.1.0 in /opt/conda/lib/python3.7/site-packages (from scikit-learn) (1.7.2)\r\n",
      "Requirement already satisfied: joblib>=0.11 in /opt/conda/lib/python3.7/site-packages (from scikit-learn) (1.1.0)\r\n",
      "Requirement already satisfied: threadpoolctl>=2.0.0 in /opt/conda/lib/python3.7/site-packages (from scikit-learn) (3.0.0)\r\n",
      "Installing collected packages: scikit-learn\r\n",
      "  Attempting uninstall: scikit-learn\r\n",
      "    Found existing installation: scikit-learn 0.23.2\r\n",
      "    Uninstalling scikit-learn-0.23.2:\r\n",
      "      Successfully uninstalled scikit-learn-0.23.2\r\n",
      "\u001b[31mERROR: pip's dependency resolver does not currently take into account all the packages that are installed. This behaviour is the source of the following dependency conflicts.\r\n",
      "pdpbox 0.2.1 requires matplotlib==3.1.1, but you have matplotlib 3.5.0 which is incompatible.\r\n",
      "hypertools 0.7.0 requires scikit-learn!=0.22,<0.24,>=0.19.1, but you have scikit-learn 1.0.2 which is incompatible.\u001b[0m\r\n",
      "Successfully installed scikit-learn-1.0.2\r\n",
      "\u001b[33mWARNING: Running pip as the 'root' user can result in broken permissions and conflicting behaviour with the system package manager. It is recommended to use a virtual environment instead: https://pip.pypa.io/warnings/venv\u001b[0m\r\n"
     ]
    }
   ],
   "source": [
    "!pip install -U scikit-learn"
   ]
  },
  {
   "cell_type": "code",
   "execution_count": 4,
   "id": "ca900a50",
   "metadata": {
    "execution": {
     "iopub.execute_input": "2022-01-10T23:11:43.776941Z",
     "iopub.status.busy": "2022-01-10T23:11:43.776032Z",
     "iopub.status.idle": "2022-01-10T23:12:21.787856Z",
     "shell.execute_reply": "2022-01-10T23:12:21.786850Z",
     "shell.execute_reply.started": "2022-01-10T20:00:18.499974Z"
    },
    "papermill": {
     "duration": 38.050766,
     "end_time": "2022-01-10T23:12:21.788085",
     "exception": false,
     "start_time": "2022-01-10T23:11:43.737319",
     "status": "completed"
    },
    "tags": []
   },
   "outputs": [
    {
     "name": "stdout",
     "output_type": "stream",
     "text": [
      "Collecting scikit-learn-intelex\r\n",
      "  Downloading scikit_learn_intelex-2021.5.1-py37-none-manylinux1_x86_64.whl (69 kB)\r\n",
      "     |████████████████████████████████| 69 kB 810 kB/s            \r\n",
      "\u001b[?25hCollecting daal4py==2021.5.1\r\n",
      "  Downloading daal4py-2021.5.1-py37-none-manylinux1_x86_64.whl (22.5 MB)\r\n",
      "     |████████████████████████████████| 22.5 MB 1.6 MB/s            \r\n",
      "\u001b[?25hRequirement already satisfied: scikit-learn>=0.22 in /opt/conda/lib/python3.7/site-packages (from scikit-learn-intelex) (1.0.2)\r\n",
      "Collecting daal==2021.5.1\r\n",
      "  Downloading daal-2021.5.1-py2.py3-none-manylinux1_x86_64.whl (284.3 MB)\r\n",
      "     |████████████████████████████████| 284.3 MB 1.5 kB/s             \r\n",
      "\u001b[?25hRequirement already satisfied: numpy>=1.15 in /opt/conda/lib/python3.7/site-packages (from daal4py==2021.5.1->scikit-learn-intelex) (1.19.5)\r\n",
      "Collecting tbb==2021.*\r\n",
      "  Downloading tbb-2021.4.0-py2.py3-none-manylinux1_x86_64.whl (4.0 MB)\r\n",
      "     |████████████████████████████████| 4.0 MB 32.2 MB/s            \r\n",
      "\u001b[?25hRequirement already satisfied: joblib>=0.11 in /opt/conda/lib/python3.7/site-packages (from scikit-learn>=0.22->scikit-learn-intelex) (1.1.0)\r\n",
      "Requirement already satisfied: scipy>=1.1.0 in /opt/conda/lib/python3.7/site-packages (from scikit-learn>=0.22->scikit-learn-intelex) (1.7.2)\r\n",
      "Requirement already satisfied: threadpoolctl>=2.0.0 in /opt/conda/lib/python3.7/site-packages (from scikit-learn>=0.22->scikit-learn-intelex) (3.0.0)\r\n",
      "Installing collected packages: tbb, daal, daal4py, scikit-learn-intelex\r\n",
      "Successfully installed daal-2021.5.1 daal4py-2021.5.1 scikit-learn-intelex-2021.5.1 tbb-2021.4.0\r\n",
      "\u001b[33mWARNING: Running pip as the 'root' user can result in broken permissions and conflicting behaviour with the system package manager. It is recommended to use a virtual environment instead: https://pip.pypa.io/warnings/venv\u001b[0m\r\n"
     ]
    },
    {
     "name": "stderr",
     "output_type": "stream",
     "text": [
      "Intel(R) Extension for Scikit-learn* enabled (https://github.com/intel/scikit-learn-intelex)\n"
     ]
    }
   ],
   "source": [
    "# Patch Xeon Intel OneAPI Scikit accelerator\n",
    "!pip install scikit-learn-intelex\n",
    "from sklearnex import patch_sklearn\n",
    "patch_sklearn()"
   ]
  },
  {
   "cell_type": "code",
   "execution_count": 5,
   "id": "9e3d99c0",
   "metadata": {
    "execution": {
     "iopub.execute_input": "2022-01-10T23:12:22.110266Z",
     "iopub.status.busy": "2022-01-10T23:12:22.109496Z",
     "iopub.status.idle": "2022-01-10T23:12:22.145067Z",
     "shell.execute_reply": "2022-01-10T23:12:22.145691Z",
     "shell.execute_reply.started": "2022-01-10T20:00:57.38854Z"
    },
    "papermill": {
     "duration": 0.198198,
     "end_time": "2022-01-10T23:12:22.145878",
     "exception": false,
     "start_time": "2022-01-10T23:12:21.947680",
     "status": "completed"
    },
    "tags": []
   },
   "outputs": [],
   "source": [
    "from numpy import array, linspace, mean, column_stack\n",
    "from pandas import read_parquet, DataFrame, Series, to_datetime, concat\n",
    "from pathlib import Path\n",
    "from itertools import cycle\n",
    "from random import randint\n",
    "from gc import collect\n",
    "from joblib import dump, load\n",
    "\n",
    "from sklearn.feature_extraction.text import CountVectorizer, TfidfVectorizer\n",
    "from sklearn.tree import DecisionTreeRegressor\n",
    "from sklearn.ensemble import RandomForestRegressor, HistGradientBoostingRegressor\n",
    "from sklearn.metrics import mean_absolute_error, classification_report\n",
    "from sklearn.model_selection import train_test_split, ShuffleSplit\n",
    "from sklearn.linear_model import Lasso, LogisticRegression\n",
    "from sklearn.preprocessing import MinMaxScaler\n",
    "\n",
    "from deap import creator as ga_cr, base as ga_b, algorithms as ga_algo, tools as ga_t"
   ]
  },
  {
   "cell_type": "code",
   "execution_count": 6,
   "id": "c8cdd39d",
   "metadata": {
    "execution": {
     "iopub.execute_input": "2022-01-10T23:12:22.468418Z",
     "iopub.status.busy": "2022-01-10T23:12:22.467579Z",
     "iopub.status.idle": "2022-01-10T23:12:25.702735Z",
     "shell.execute_reply": "2022-01-10T23:12:25.702090Z",
     "shell.execute_reply.started": "2022-01-10T20:00:57.426884Z"
    },
    "papermill": {
     "duration": 3.396284,
     "end_time": "2022-01-10T23:12:25.702897",
     "exception": false,
     "start_time": "2022-01-10T23:12:22.306613",
     "status": "completed"
    },
    "tags": []
   },
   "outputs": [],
   "source": [
    "p = Path().cwd()\n",
    "p = p.parent\n",
    "p = p / 'input' / 'kaggle-pog-series-s01e01'\n",
    "\n",
    "train = read_parquet(p / 'train.parquet')\n",
    "test = read_parquet(p / 'test.parquet')"
   ]
  },
  {
   "cell_type": "code",
   "execution_count": 7,
   "id": "7a1caa04",
   "metadata": {
    "execution": {
     "iopub.execute_input": "2022-01-10T23:12:26.128251Z",
     "iopub.status.busy": "2022-01-10T23:12:26.127061Z",
     "iopub.status.idle": "2022-01-10T23:12:26.227441Z",
     "shell.execute_reply": "2022-01-10T23:12:26.228090Z",
     "shell.execute_reply.started": "2022-01-10T20:01:00.665944Z"
    },
    "papermill": {
     "duration": 0.313459,
     "end_time": "2022-01-10T23:12:26.228296",
     "exception": false,
     "start_time": "2022-01-10T23:12:25.914837",
     "status": "completed"
    },
    "tags": []
   },
   "outputs": [],
   "source": [
    "def clean_train(df):\n",
    "    df['publishedAt'] = to_datetime(df['publishedAt'], errors='coerce').dt.tz_localize(None)\n",
    "    df['trending_date'] = to_datetime(df['trending_date'], errors='coerce').dt.tz_localize(None) \n",
    "    return df\n",
    "    \n",
    "train = clean_train(train)\n",
    "test = clean_train(test)"
   ]
  },
  {
   "cell_type": "code",
   "execution_count": 8,
   "id": "1edf77b3",
   "metadata": {
    "execution": {
     "iopub.execute_input": "2022-01-10T23:12:26.645575Z",
     "iopub.status.busy": "2022-01-10T23:12:26.644507Z",
     "iopub.status.idle": "2022-01-10T23:12:26.654227Z",
     "shell.execute_reply": "2022-01-10T23:12:26.654908Z",
     "shell.execute_reply.started": "2022-01-10T20:01:00.770511Z"
    },
    "papermill": {
     "duration": 0.226295,
     "end_time": "2022-01-10T23:12:26.655140",
     "exception": false,
     "start_time": "2022-01-10T23:12:26.428845",
     "status": "completed"
    },
    "tags": []
   },
   "outputs": [],
   "source": [
    "def feat_eng(df):\n",
    "    df['t_delta'] = (df['trending_date'] - df['publishedAt']).dt.seconds\n",
    "    return df\n",
    "\n",
    "train = feat_eng(train)\n",
    "test = feat_eng(test)"
   ]
  },
  {
   "cell_type": "code",
   "execution_count": 9,
   "id": "f4848d7c",
   "metadata": {
    "execution": {
     "iopub.execute_input": "2022-01-10T23:12:27.067125Z",
     "iopub.status.busy": "2022-01-10T23:12:27.066252Z",
     "iopub.status.idle": "2022-01-10T23:12:27.081565Z",
     "shell.execute_reply": "2022-01-10T23:12:27.080810Z",
     "shell.execute_reply.started": "2022-01-10T20:01:04.398225Z"
    },
    "papermill": {
     "duration": 0.221119,
     "end_time": "2022-01-10T23:12:27.081734",
     "exception": false,
     "start_time": "2022-01-10T23:12:26.860615",
     "status": "completed"
    },
    "tags": []
   },
   "outputs": [],
   "source": [
    "class GA_Scikit():\n",
    "    def __init__(self, \n",
    "                 estimator, \n",
    "                 #\n",
    "                 params, \n",
    "                 eval_func, \n",
    "                 eval_weights, \n",
    "                 #\n",
    "                 train_df, \n",
    "                 #valid_df, \n",
    "                 score, \n",
    "                 #\n",
    "                 sel_tournsize=2, \n",
    "                 cx_uniform_prob=0.5, \n",
    "                 mut_shuffle_idx_prob=0.1, \n",
    "                 n_pop=30, \n",
    "                 n_gen=10, \n",
    "                 n_hof=1, \n",
    "                 cx_prob=0.5, \n",
    "                 mut_prob=0.1, \n",
    "                 n_jobs=4  # not good with HistGradBoosReg...\n",
    "                ):\n",
    "        \n",
    "        self.est = estimator\n",
    "        self.params = params\n",
    "        self.eval_func = eval_func\n",
    "        self.eval_weights = eval_weights\n",
    "        #\n",
    "        self.train_df = train_df\n",
    "        #self.valid_df = valid_df\n",
    "        self.score = score\n",
    "        #\n",
    "        self.sel_tournsize = sel_tournsize\n",
    "        self.cx_uniform_prob = cx_uniform_prob\n",
    "        self.mut_shuffle_idx_prob = mut_shuffle_idx_prob\n",
    "        self.n_pop = n_pop\n",
    "        self.n_gen = n_gen\n",
    "        self.n_hof = n_hof\n",
    "        self.cx_prob = cx_prob\n",
    "        self.mut_prob = mut_prob\n",
    "        self.n_jobs = n_jobs\n",
    "        \n",
    "        self._pad_params()\n",
    "        self._create_fitness_and_indiv()\n",
    "        self._register_indiv_and_pop_generators()\n",
    "        self._register_eval_func()\n",
    "        self._register_selection_crossover_mutation_methods()\n",
    "        \n",
    "    def _pad_params(self):\n",
    "        \"\"\"Pad params for crossover shuffle idx method\"\"\"\n",
    "        assert isinstance(self.params, dict), 'Params must be a dict, i.e. estimator.get_params()'\n",
    "        params_count = {k: len(v) for k,v in self.params.items()}\n",
    "        max_length, max_key = -99, ''\n",
    "        for k, v in params_count.items():\n",
    "            if v <= max_length:\n",
    "                continue\n",
    "            else:\n",
    "                max_key = k\n",
    "                max_length = v\n",
    "        assert isinstance(max_length, int), 'The max length between all params must be an int'\n",
    "        # cycle through params for max length param, otherwise infinite cycle\n",
    "        values_padded = (cycle(v) if k!=max_key else v for k,v in self.params.items())\n",
    "        values_padded = zip(*values_padded)  # ('a', 1, 14), ('b', 2, 16), ('c', 3, 16) ...\n",
    "        values_padded = zip(*values_padded)  # ('a', 'b', 'c'), (1, 2, 3), (14, 15, 16)...\n",
    "        padded_params = {}\n",
    "        for k, v in zip(self.params, values_padded):\n",
    "            padded_params[k] = v\n",
    "        self.padded_params = padded_params\n",
    "        \n",
    "    def _create_fitness_and_indiv(self):\n",
    "        \"\"\"Create GA individual and fitness entities (classes)\"\"\"\n",
    "        ga_cr.create('Fitness', ga_b.Fitness, weights=self.eval_weights)\n",
    "        ga_cr.create('Individual', list, fitness=ga_cr.Fitness)\n",
    "\n",
    "    def _gen_params_to_ga(self):\n",
    "        \"\"\"Generate index for each param for individual\"\"\"\n",
    "        max_dict = len(self.padded_params)\n",
    "        max_length = len(list(self.padded_params.values())[0])\n",
    "        idxs = [randint(0, max_length-1) for _ in range(max_dict)]\n",
    "        return idxs\n",
    "            \n",
    "    def _register_indiv_and_pop_generators(self):\n",
    "        \"\"\"Register GA individual and population generators\"\"\"\n",
    "        self.tb = ga_b.Toolbox()\n",
    "\n",
    "        if self.n_jobs > 1:\n",
    "            from multiprocessing import Pool\n",
    "            pool = Pool()\n",
    "            self.tb.register(\"map\", pool.map)\n",
    "\n",
    "        self.tb.register(\"individual\", ga_t.initIterate, ga_cr.Individual, self._gen_params_to_ga)\n",
    "        #print('indiv', self.tb.individual())\n",
    "        self.tb.register(\"population\", ga_t.initRepeat, list, self.tb.individual)\n",
    "        #print('population', self.tb.population(n=2))\n",
    "    \n",
    "    def _register_eval_func(self):\n",
    "        \"\"\"Set GA evaluate individual function\"\"\"\n",
    "        self.tb.register(\"evaluate\",\n",
    "                        self.eval_func,\n",
    "                        padded_params=self.padded_params,\n",
    "                        est=self.est,\n",
    "                        train_df=self.train_df,\n",
    "                        score=self.score\n",
    "                        )\n",
    "        #print(list(self.tb.evaluate(indiv) for indiv in self.tb.population(3)))\n",
    "        \n",
    "    def _register_selection_crossover_mutation_methods(self):\n",
    "        \"\"\"Register GA select/mate/mutate methods\"\"\"\n",
    "        self.tb.register(\"select\", ga_t.selTournament, tournsize=self.sel_tournsize)\n",
    "        self.tb.register(\"mate\", ga_t.cxUniform, indpb=self.cx_uniform_prob)\n",
    "        self.tb.register(\"mutate\", ga_t.mutShuffleIndexes, indpb=self.mut_shuffle_idx_prob)\n",
    "        \n",
    "    def run_ga_search(self):\n",
    "        \"\"\"Run search\"\"\"\n",
    "        pop = self.tb.population(n=self.n_pop)\n",
    "        hof = ga_t.HallOfFame(self.n_hof)\n",
    "\n",
    "        # Stats stdout\n",
    "        #stats = ga_t.Statistics(lambda ind: ind.fitness.values )\n",
    "        stats1 = ga_t.Statistics(lambda ind: ind.fitness.values[0] )\n",
    "        stats2 = ga_t.Statistics(lambda ind: ind.fitness.values[1] )\n",
    "        stats3 = ga_t.Statistics(lambda ind: ind.fitness.values[2] )\n",
    "        stats = ga_t.MultiStatistics(v_loss=stats1, max_depth=stats2, n_est=stats3)\n",
    "        stats.register(\"avg\", mean)\n",
    "        #stats.register(\"std\", np.std)\n",
    "        \n",
    "        # GA Run\n",
    "        pop, log = ga_algo.eaSimple(pop, self.tb, cxpb=self.cx_prob, \n",
    "                                    mutpb=self.mut_prob, ngen=self.n_gen, \n",
    "                                    stats=stats, halloffame=hof, verbose=True)\n",
    "        \n",
    "        # Convert back params\n",
    "        hof_ = {}\n",
    "        for i in range(self.n_hof):\n",
    "            hof_['hof_' + str(i)] = self._ga_to_params(hof[i])\n",
    "\n",
    "        return pop, log, hof_\n",
    "    \n",
    "    def _ga_to_params(self, idx_params):\n",
    "        \"\"\"Helper to convert to readable params\"\"\"\n",
    "        res = {}\n",
    "        for (k,v), idx in zip(self.padded_params.items(), idx_params):\n",
    "            res[k] = v[idx]\n",
    "        return res"
   ]
  },
  {
   "cell_type": "code",
   "execution_count": 10,
   "id": "a800dd6a",
   "metadata": {
    "execution": {
     "iopub.execute_input": "2022-01-10T23:12:27.407735Z",
     "iopub.status.busy": "2022-01-10T23:12:27.407014Z",
     "iopub.status.idle": "2022-01-10T23:12:27.417057Z",
     "shell.execute_reply": "2022-01-10T23:12:27.417639Z",
     "shell.execute_reply.started": "2022-01-10T20:01:04.433539Z"
    },
    "papermill": {
     "duration": 0.174916,
     "end_time": "2022-01-10T23:12:27.417830",
     "exception": false,
     "start_time": "2022-01-10T23:12:27.242914",
     "status": "completed"
    },
    "tags": []
   },
   "outputs": [],
   "source": [
    "def prep_data(params, train_df, train_data=True):\n",
    "    train_X = train_df[['title', 'duration_seconds', 't_delta']].copy()\n",
    "\n",
    "    cv_params = {k:v for k,v in params.items() if k != 'q'}\n",
    "    cv_params = {**cv_params, **{'strip_accents': 'ascii',\n",
    "                                 'lowercase': True,\n",
    "                                 'stop_words': 'english',\n",
    "                                 'analyzer': 'word',\n",
    "                                 #'token_pattern': '(?u)\\b\\w\\w\\w+\\b',  # 3 or more letters\n",
    "                                 }}\n",
    "    #cv = CountVectorizer(**)\n",
    "    tdf = TfidfVectorizer(**cv_params)\n",
    "    \n",
    "    q_param = {k:v for k,v in params.items() if k == 'q'}\n",
    "    q = train_X['duration_seconds'].quantile(**q_param)\n",
    "    mask = train_X['duration_seconds'].isna()\n",
    "    train_X.loc[mask, 'duration_seconds'] = q\n",
    "    \n",
    "    mms = MinMaxScaler()\n",
    "    \n",
    "    train_X = column_stack((\n",
    "        tdf.fit_transform(train_X['title']).toarray(),\n",
    "        mms.fit_transform(train_X[['duration_seconds']]),\n",
    "        mms.fit_transform(train_X[['t_delta']]),\n",
    "    ))\n",
    "    \n",
    "    if train_data:\n",
    "        train_y = train_df[['likes', 'view_count']]\n",
    "        train_y = train_y['likes'] / train_y['view_count']\n",
    "        return train_X, train_y\n",
    "    else:\n",
    "        return train_X"
   ]
  },
  {
   "cell_type": "code",
   "execution_count": 11,
   "id": "94af6cf0",
   "metadata": {
    "execution": {
     "iopub.execute_input": "2022-01-10T23:12:27.742275Z",
     "iopub.status.busy": "2022-01-10T23:12:27.741265Z",
     "iopub.status.idle": "2022-01-10T23:12:27.744291Z",
     "shell.execute_reply": "2022-01-10T23:12:27.743741Z",
     "shell.execute_reply.started": "2022-01-10T20:01:04.452649Z"
    },
    "papermill": {
     "duration": 0.167776,
     "end_time": "2022-01-10T23:12:27.744445",
     "exception": false,
     "start_time": "2022-01-10T23:12:27.576669",
     "status": "completed"
    },
    "tags": []
   },
   "outputs": [],
   "source": [
    "def train_model(train_X, train_y, est, score, give_model=False, folds=False):\n",
    "    if not give_model:\n",
    "        if not folds:\n",
    "            train_X, valid_X, train_y, valid_y = train_test_split(train_X, train_y, train_size=0.8)\n",
    "            est.fit(train_X, train_y)\n",
    "            pred_v = est.predict(valid_X)\n",
    "            obj = score(valid_y, pred_v)\n",
    "            return obj\n",
    "        else:\n",
    "            ss = ShuffleSplit(n_splits=5, test_size=0.2)\n",
    "            #ss = TimeSeriesSplit(n_splits=2)\n",
    "            objs = []\n",
    "            for train_idx, valid_idx in ss.split(train_X):\n",
    "                est.fit(train_X[train_idx, :], train_y.iloc[train_idx])\n",
    "                pred_v = est.predict(train_X[valid_idx, :])\n",
    "                obj = score(train_y.iloc[valid_idx], pred_v)\n",
    "                objs.append(obj)\n",
    "            obj = mean(objs)\n",
    "            return obj\n",
    "    else:\n",
    "        est.fit(train_X, train_y)\n",
    "        return est"
   ]
  },
  {
   "cell_type": "code",
   "execution_count": 12,
   "id": "adee0669",
   "metadata": {
    "execution": {
     "iopub.execute_input": "2022-01-10T23:12:28.084238Z",
     "iopub.status.busy": "2022-01-10T23:12:28.083053Z",
     "iopub.status.idle": "2022-01-10T23:12:28.087436Z",
     "shell.execute_reply": "2022-01-10T23:12:28.086878Z",
     "shell.execute_reply.started": "2022-01-10T20:01:04.468237Z"
    },
    "papermill": {
     "duration": 0.185887,
     "end_time": "2022-01-10T23:12:28.087609",
     "exception": false,
     "start_time": "2022-01-10T23:12:27.901722",
     "status": "completed"
    },
    "tags": []
   },
   "outputs": [],
   "source": [
    "# Estimator, params and requirements\n",
    "\n",
    "est = RandomForestRegressor(random_state=16)\n",
    "\n",
    "cv_params = {\n",
    "             'n_estimators': linspace(1,100,100).astype(int),\n",
    "             'max_depth': linspace(1,100,100).astype(int),\n",
    "             #\n",
    "             'q': linspace(0.01,0.99,100),\n",
    "             #\n",
    "             #'ngram_range_': linspace(1,10,10).astype(int),\n",
    "             'min_df': linspace(1,5,10).astype(int),\n",
    "             'max_df': linspace(5,10,10).astype(int),\n",
    "             'max_features': linspace(10,300,100).astype(int),\n",
    "             'binary': [True, False],\n",
    "            }\n",
    "\n",
    "def cv_eval_indiv(individual, padded_params, est, train_df, score):\n",
    "    \"\"\"Evaluate individual's genes (estimator's params)\"\"\"\n",
    "    est_params = {k : list(v)[idx] for (k,v), idx in zip(padded_params.items(), individual) if k in ['n_estimators', 'max_depth']}\n",
    "    _ = est.set_params(**est_params)\n",
    "    \n",
    "    cv_params = {k : list(v)[idx] for (k,v), idx in zip(padded_params.items(), individual) if k not in ['n_estimators', 'max_depth']}\n",
    "    train_X, train_y = prep_data(cv_params, train_df, train_data=True)\n",
    "\n",
    "    #model_params = {k : list(v)[idx] for (k,v), idx in zip(padded_params.items(), individual) if k != '#_lags'}\n",
    "    #est.set_params(**model_params)  # seems can't parallelize this simultaneous with GA  # **{**model_params, **{'n_jobs': 1} }\n",
    "\n",
    "    obj = train_model(train_X, train_y, est, score, folds=False)\n",
    "    \n",
    "    collect()\n",
    "    \n",
    "    return obj, est_params['n_estimators'], est_params['max_depth'],\n",
    "        \n",
    "cv_weights = -0.01, -1, -1,"
   ]
  },
  {
   "cell_type": "code",
   "execution_count": 13,
   "id": "8b0c1585",
   "metadata": {
    "execution": {
     "iopub.execute_input": "2022-01-10T23:12:28.410503Z",
     "iopub.status.busy": "2022-01-10T23:12:28.409231Z",
     "iopub.status.idle": "2022-01-10T23:26:37.381584Z",
     "shell.execute_reply": "2022-01-10T23:26:37.382130Z",
     "shell.execute_reply.started": "2022-01-10T20:01:04.48691Z"
    },
    "papermill": {
     "duration": 849.136783,
     "end_time": "2022-01-10T23:26:37.382378",
     "exception": false,
     "start_time": "2022-01-10T23:12:28.245595",
     "status": "completed"
    },
    "tags": []
   },
   "outputs": [
    {
     "name": "stdout",
     "output_type": "stream",
     "text": [
      "   \t      \t      max_depth       \t        n_est         \t            v_loss            \n",
      "   \t      \t----------------------\t----------------------\t------------------------------\n",
      "gen\tnevals\tavg \tgen\tnevals\tavg    \tgen\tnevals\tavg      \tgen\tnevals\n",
      "0  \t30    \t55.2\t0  \t30    \t56.7667\t0  \t30    \t0.0209835\t0  \t30    \n",
      "1  \t13    \t58.2333\t1  \t13    \t60.2333\t1  \t13    \t0.0199167\t1  \t13    \n",
      "2  \t18    \t63.2   \t2  \t18    \t59.4   \t2  \t18    \t0.019788 \t2  \t18    \n",
      "3  \t14    \t64.2   \t3  \t14    \t58.3   \t3  \t14    \t0.0197431\t3  \t14    \n",
      "4  \t19    \t63.4   \t4  \t19    \t56.5   \t4  \t19    \t0.019751 \t4  \t19    \n",
      "5  \t19    \t57.4   \t5  \t19    \t60.2333\t5  \t19    \t0.0199693\t5  \t19    \n",
      "6  \t14    \t61.2667\t6  \t14    \t60     \t6  \t14    \t0.0197595\t6  \t14    \n",
      "7  \t18    \t66.8667\t7  \t18    \t70.2   \t7  \t18    \t0.0197312\t7  \t18    \n",
      "8  \t17    \t70.7333\t8  \t17    \t80.0333\t8  \t17    \t0.0196592\t8  \t17    \n",
      "9  \t21    \t69.1667\t9  \t21    \t67.7   \t9  \t21    \t0.0197331\t9  \t21    \n",
      "10 \t19    \t71.1   \t10 \t19    \t69.6   \t10 \t19    \t0.0197258\t10 \t19    \n"
     ]
    }
   ],
   "source": [
    "ga_params = GA_Scikit(est,\n",
    "                      cv_params,\n",
    "                      cv_eval_indiv,\n",
    "                      cv_weights,\n",
    "                      #\n",
    "                      train[['title', 'duration_seconds', 't_delta', 'likes', 'view_count']],\n",
    "                      mean_absolute_error,\n",
    "                      )\n",
    "pop, log, hof = ga_params.run_ga_search()"
   ]
  },
  {
   "cell_type": "code",
   "execution_count": 14,
   "id": "c11a9e33",
   "metadata": {
    "execution": {
     "iopub.execute_input": "2022-01-10T23:26:37.757542Z",
     "iopub.status.busy": "2022-01-10T23:26:37.756611Z",
     "iopub.status.idle": "2022-01-10T23:26:37.775734Z",
     "shell.execute_reply": "2022-01-10T23:26:37.776333Z",
     "shell.execute_reply.started": "2022-01-10T20:01:23.688494Z"
    },
    "papermill": {
     "duration": 0.218626,
     "end_time": "2022-01-10T23:26:37.776504",
     "exception": false,
     "start_time": "2022-01-10T23:26:37.557878",
     "status": "completed"
    },
    "tags": []
   },
   "outputs": [
    {
     "data": {
      "text/plain": [
       "{'hof_0': {'n_estimators': 21,\n",
       "  'max_depth': 26,\n",
       "  'q': 0.7623232323232323,\n",
       "  'min_df': 1,\n",
       "  'max_df': 5,\n",
       "  'max_features': 68,\n",
       "  'binary': False}}"
      ]
     },
     "execution_count": 14,
     "metadata": {},
     "output_type": "execute_result"
    },
    {
     "data": {
      "text/plain": [
       "['best_params.json']"
      ]
     },
     "execution_count": 14,
     "metadata": {},
     "output_type": "execute_result"
    }
   ],
   "source": [
    "# Save HOF params\n",
    "hof\n",
    "dump(hof['hof_0'], 'best_params.json')"
   ]
  },
  {
   "cell_type": "code",
   "execution_count": 15,
   "id": "5860d17b",
   "metadata": {
    "execution": {
     "iopub.execute_input": "2022-01-10T23:26:38.180863Z",
     "iopub.status.busy": "2022-01-10T23:26:38.171516Z",
     "iopub.status.idle": "2022-01-10T23:26:41.714430Z",
     "shell.execute_reply": "2022-01-10T23:26:41.712616Z",
     "shell.execute_reply.started": "2022-01-10T20:02:36.175433Z"
    },
    "papermill": {
     "duration": 3.722272,
     "end_time": "2022-01-10T23:26:41.714637",
     "exception": false,
     "start_time": "2022-01-10T23:26:37.992365",
     "status": "completed"
    },
    "tags": []
   },
   "outputs": [
    {
     "data": {
      "text/plain": [
       "{'n_estimators': 21, 'max_depth': 26}"
      ]
     },
     "execution_count": 15,
     "metadata": {},
     "output_type": "execute_result"
    },
    {
     "data": {
      "text/plain": [
       "RandomForestRegressor(max_depth=26, n_estimators=21, random_state=16)"
      ]
     },
     "execution_count": 15,
     "metadata": {},
     "output_type": "execute_result"
    },
    {
     "data": {
      "text/plain": [
       "{'q': 0.7623232323232323,\n",
       " 'min_df': 1,\n",
       " 'max_df': 5,\n",
       " 'max_features': 68,\n",
       " 'binary': False}"
      ]
     },
     "execution_count": 15,
     "metadata": {},
     "output_type": "execute_result"
    }
   ],
   "source": [
    "# Full train\n",
    "params = load('best_params.json')\n",
    "\n",
    "est_params = {k:v for k,v in params.items() if k in ['n_estimators', 'max_depth']}\n",
    "est_params\n",
    "est = RandomForestRegressor(random_state=16)\n",
    "est.set_params(**est_params)\n",
    "\n",
    "cv_params = {k:v for k,v in params.items() if k not in ['n_estimators', 'max_depth']}\n",
    "cv_params\n",
    "train_X, train_y = prep_data(cv_params, train)\n",
    "est = train_model(train_X, train_y, est, mean_absolute_error, give_model=True)\n",
    "\n",
    "# Submission\n",
    "test_X = prep_data(cv_params, test, train_data=False)\n",
    "pred = est.predict(test_X)\n",
    "subm = concat([test['id'], Series(pred)], axis=1)\n",
    "subm.columns = ['id', 'target']\n",
    "subm.to_csv('submission.csv', index=False)"
   ]
  },
  {
   "cell_type": "code",
   "execution_count": 16,
   "id": "8386f0b0",
   "metadata": {
    "execution": {
     "iopub.execute_input": "2022-01-10T23:26:42.106302Z",
     "iopub.status.busy": "2022-01-10T23:26:42.105545Z",
     "iopub.status.idle": "2022-01-10T23:26:42.125911Z",
     "shell.execute_reply": "2022-01-10T23:26:42.126615Z",
     "shell.execute_reply.started": "2022-01-10T20:01:23.863186Z"
    },
    "papermill": {
     "duration": 0.218595,
     "end_time": "2022-01-10T23:26:42.126807",
     "exception": false,
     "start_time": "2022-01-10T23:26:41.908212",
     "status": "completed"
    },
    "tags": []
   },
   "outputs": [
    {
     "data": {
      "text/html": [
       "<div>\n",
       "<style scoped>\n",
       "    .dataframe tbody tr th:only-of-type {\n",
       "        vertical-align: middle;\n",
       "    }\n",
       "\n",
       "    .dataframe tbody tr th {\n",
       "        vertical-align: top;\n",
       "    }\n",
       "\n",
       "    .dataframe thead th {\n",
       "        text-align: right;\n",
       "    }\n",
       "</style>\n",
       "<table border=\"1\" class=\"dataframe\">\n",
       "  <thead>\n",
       "    <tr style=\"text-align: right;\">\n",
       "      <th></th>\n",
       "      <th>id</th>\n",
       "      <th>target</th>\n",
       "    </tr>\n",
       "  </thead>\n",
       "  <tbody>\n",
       "    <tr>\n",
       "      <th>0</th>\n",
       "      <td>_wNsZEqpKUA_2021-12-01</td>\n",
       "      <td>0.018894</td>\n",
       "    </tr>\n",
       "    <tr>\n",
       "      <th>1</th>\n",
       "      <td>2jfbXZiE6Lc_2021-12-01</td>\n",
       "      <td>0.057436</td>\n",
       "    </tr>\n",
       "    <tr>\n",
       "      <th>2</th>\n",
       "      <td>F1Hq8eVOMHs_2021-12-01</td>\n",
       "      <td>0.004843</td>\n",
       "    </tr>\n",
       "    <tr>\n",
       "      <th>3</th>\n",
       "      <td>GQXVQmcGQUY_2021-12-01</td>\n",
       "      <td>0.024050</td>\n",
       "    </tr>\n",
       "    <tr>\n",
       "      <th>4</th>\n",
       "      <td>n4XojTb6pfs_2021-12-01</td>\n",
       "      <td>0.058948</td>\n",
       "    </tr>\n",
       "    <tr>\n",
       "      <th>...</th>\n",
       "      <td>...</td>\n",
       "      <td>...</td>\n",
       "    </tr>\n",
       "    <tr>\n",
       "      <th>5795</th>\n",
       "      <td>hJfpCXAMYPM_2021-12-30</td>\n",
       "      <td>0.023451</td>\n",
       "    </tr>\n",
       "    <tr>\n",
       "      <th>5796</th>\n",
       "      <td>MbmTMEYnEzo_2021-12-30</td>\n",
       "      <td>0.022384</td>\n",
       "    </tr>\n",
       "    <tr>\n",
       "      <th>5797</th>\n",
       "      <td>VG7arSAYvQI_2021-12-30</td>\n",
       "      <td>0.072957</td>\n",
       "    </tr>\n",
       "    <tr>\n",
       "      <th>5798</th>\n",
       "      <td>SNb-g-hNYYs_2021-12-30</td>\n",
       "      <td>0.057235</td>\n",
       "    </tr>\n",
       "    <tr>\n",
       "      <th>5799</th>\n",
       "      <td>_-K-sVn8Iko_2021-12-30</td>\n",
       "      <td>0.004843</td>\n",
       "    </tr>\n",
       "  </tbody>\n",
       "</table>\n",
       "<p>5800 rows × 2 columns</p>\n",
       "</div>"
      ],
      "text/plain": [
       "                          id    target\n",
       "0     _wNsZEqpKUA_2021-12-01  0.018894\n",
       "1     2jfbXZiE6Lc_2021-12-01  0.057436\n",
       "2     F1Hq8eVOMHs_2021-12-01  0.004843\n",
       "3     GQXVQmcGQUY_2021-12-01  0.024050\n",
       "4     n4XojTb6pfs_2021-12-01  0.058948\n",
       "...                      ...       ...\n",
       "5795  hJfpCXAMYPM_2021-12-30  0.023451\n",
       "5796  MbmTMEYnEzo_2021-12-30  0.022384\n",
       "5797  VG7arSAYvQI_2021-12-30  0.072957\n",
       "5798  SNb-g-hNYYs_2021-12-30  0.057235\n",
       "5799  _-K-sVn8Iko_2021-12-30  0.004843\n",
       "\n",
       "[5800 rows x 2 columns]"
      ]
     },
     "execution_count": 16,
     "metadata": {},
     "output_type": "execute_result"
    }
   ],
   "source": [
    "subm"
   ]
  },
  {
   "cell_type": "code",
   "execution_count": null,
   "id": "5e1cf1c5",
   "metadata": {
    "papermill": {
     "duration": 0.18355,
     "end_time": "2022-01-10T23:26:42.501433",
     "exception": false,
     "start_time": "2022-01-10T23:26:42.317883",
     "status": "completed"
    },
    "tags": []
   },
   "outputs": [],
   "source": []
  }
 ],
 "metadata": {
  "kernelspec": {
   "display_name": "Python 3",
   "language": "python",
   "name": "python3"
  },
  "language_info": {
   "codemirror_mode": {
    "name": "ipython",
    "version": 3
   },
   "file_extension": ".py",
   "mimetype": "text/x-python",
   "name": "python",
   "nbconvert_exporter": "python",
   "pygments_lexer": "ipython3",
   "version": "3.7.12"
  },
  "papermill": {
   "default_parameters": {},
   "duration": 929.810454,
   "end_time": "2022-01-10T23:26:45.304677",
   "environment_variables": {},
   "exception": null,
   "input_path": "__notebook__.ipynb",
   "output_path": "__notebook__.ipynb",
   "parameters": {},
   "start_time": "2022-01-10T23:11:15.494223",
   "version": "2.3.3"
  }
 },
 "nbformat": 4,
 "nbformat_minor": 5
}
