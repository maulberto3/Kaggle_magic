{
 "cells": [
  {
   "cell_type": "code",
   "execution_count": 1,
   "id": "8b2d9fce",
   "metadata": {
    "execution": {
     "iopub.execute_input": "2022-01-12T17:00:34.919318Z",
     "iopub.status.busy": "2022-01-12T17:00:34.918069Z",
     "iopub.status.idle": "2022-01-12T17:00:35.026758Z",
     "shell.execute_reply": "2022-01-12T17:00:35.025856Z",
     "shell.execute_reply.started": "2022-01-12T16:39:53.471051Z"
    },
    "papermill": {
     "duration": 0.129636,
     "end_time": "2022-01-12T17:00:35.026956",
     "exception": false,
     "start_time": "2022-01-12T17:00:34.897320",
     "status": "completed"
    },
    "tags": []
   },
   "outputs": [],
   "source": [
    "%reset -sf"
   ]
  },
  {
   "cell_type": "code",
   "execution_count": 2,
   "id": "f4e28c96",
   "metadata": {
    "execution": {
     "iopub.execute_input": "2022-01-12T17:00:35.065415Z",
     "iopub.status.busy": "2022-01-12T17:00:35.064421Z",
     "iopub.status.idle": "2022-01-12T17:00:35.068688Z",
     "shell.execute_reply": "2022-01-12T17:00:35.069392Z",
     "shell.execute_reply.started": "2022-01-12T16:51:18.282887Z"
    },
    "papermill": {
     "duration": 0.025629,
     "end_time": "2022-01-12T17:00:35.069576",
     "exception": false,
     "start_time": "2022-01-12T17:00:35.043947",
     "status": "completed"
    },
    "tags": []
   },
   "outputs": [],
   "source": [
    "from IPython.core.interactiveshell import InteractiveShell\n",
    "InteractiveShell.ast_node_interactivity = 'all'"
   ]
  },
  {
   "cell_type": "code",
   "execution_count": 3,
   "id": "83b152b6",
   "metadata": {
    "execution": {
     "iopub.execute_input": "2022-01-12T17:00:35.105800Z",
     "iopub.status.busy": "2022-01-12T17:00:35.104811Z",
     "iopub.status.idle": "2022-01-12T17:00:51.297665Z",
     "shell.execute_reply": "2022-01-12T17:00:51.297079Z",
     "shell.execute_reply.started": "2022-01-12T16:39:53.610010Z"
    },
    "papermill": {
     "duration": 16.212103,
     "end_time": "2022-01-12T17:00:51.297841",
     "exception": false,
     "start_time": "2022-01-12T17:00:35.085738",
     "status": "completed"
    },
    "tags": []
   },
   "outputs": [
    {
     "name": "stdout",
     "output_type": "stream",
     "text": [
      "Requirement already satisfied: scikit-learn in /opt/conda/lib/python3.7/site-packages (0.23.2)\r\n",
      "Collecting scikit-learn\r\n",
      "  Downloading scikit_learn-1.0.2-cp37-cp37m-manylinux_2_17_x86_64.manylinux2014_x86_64.whl (24.8 MB)\r\n",
      "     |████████████████████████████████| 24.8 MB 4.4 MB/s            \r\n",
      "\u001b[?25hRequirement already satisfied: joblib>=0.11 in /opt/conda/lib/python3.7/site-packages (from scikit-learn) (1.1.0)\r\n",
      "Requirement already satisfied: scipy>=1.1.0 in /opt/conda/lib/python3.7/site-packages (from scikit-learn) (1.7.2)\r\n",
      "Requirement already satisfied: numpy>=1.14.6 in /opt/conda/lib/python3.7/site-packages (from scikit-learn) (1.19.5)\r\n",
      "Requirement already satisfied: threadpoolctl>=2.0.0 in /opt/conda/lib/python3.7/site-packages (from scikit-learn) (3.0.0)\r\n",
      "Installing collected packages: scikit-learn\r\n",
      "  Attempting uninstall: scikit-learn\r\n",
      "    Found existing installation: scikit-learn 0.23.2\r\n",
      "    Uninstalling scikit-learn-0.23.2:\r\n",
      "      Successfully uninstalled scikit-learn-0.23.2\r\n",
      "\u001b[31mERROR: pip's dependency resolver does not currently take into account all the packages that are installed. This behaviour is the source of the following dependency conflicts.\r\n",
      "pdpbox 0.2.1 requires matplotlib==3.1.1, but you have matplotlib 3.5.0 which is incompatible.\r\n",
      "hypertools 0.7.0 requires scikit-learn!=0.22,<0.24,>=0.19.1, but you have scikit-learn 1.0.2 which is incompatible.\u001b[0m\r\n",
      "Successfully installed scikit-learn-1.0.2\r\n",
      "\u001b[33mWARNING: Running pip as the 'root' user can result in broken permissions and conflicting behaviour with the system package manager. It is recommended to use a virtual environment instead: https://pip.pypa.io/warnings/venv\u001b[0m\r\n"
     ]
    }
   ],
   "source": [
    "!pip install -U scikit-learn"
   ]
  },
  {
   "cell_type": "code",
   "execution_count": 4,
   "id": "41d4cf96",
   "metadata": {
    "execution": {
     "iopub.execute_input": "2022-01-12T17:00:51.368386Z",
     "iopub.status.busy": "2022-01-12T17:00:51.362236Z",
     "iopub.status.idle": "2022-01-12T17:01:21.623571Z",
     "shell.execute_reply": "2022-01-12T17:01:21.624152Z",
     "shell.execute_reply.started": "2022-01-12T16:40:10.682755Z"
    },
    "papermill": {
     "duration": 30.296174,
     "end_time": "2022-01-12T17:01:21.624366",
     "exception": false,
     "start_time": "2022-01-12T17:00:51.328192",
     "status": "completed"
    },
    "tags": []
   },
   "outputs": [
    {
     "name": "stdout",
     "output_type": "stream",
     "text": [
      "Collecting scikit-learn-intelex\r\n",
      "  Downloading scikit_learn_intelex-2021.5.1-py37-none-manylinux1_x86_64.whl (69 kB)\r\n",
      "     |████████████████████████████████| 69 kB 2.2 MB/s             \r\n",
      "\u001b[?25hCollecting daal4py==2021.5.1\r\n",
      "  Downloading daal4py-2021.5.1-py37-none-manylinux1_x86_64.whl (22.5 MB)\r\n",
      "     |████████████████████████████████| 22.5 MB 15.2 MB/s            \r\n",
      "\u001b[?25hRequirement already satisfied: scikit-learn>=0.22 in /opt/conda/lib/python3.7/site-packages (from scikit-learn-intelex) (1.0.2)\r\n",
      "Collecting daal==2021.5.1\r\n",
      "  Downloading daal-2021.5.1-py2.py3-none-manylinux1_x86_64.whl (284.3 MB)\r\n",
      "     |████████████████████████████████| 284.3 MB 1.9 kB/s              \r\n",
      "\u001b[?25hRequirement already satisfied: numpy>=1.15 in /opt/conda/lib/python3.7/site-packages (from daal4py==2021.5.1->scikit-learn-intelex) (1.19.5)\r\n",
      "Collecting tbb==2021.*\r\n",
      "  Downloading tbb-2021.4.0-py2.py3-none-manylinux1_x86_64.whl (4.0 MB)\r\n",
      "     |████████████████████████████████| 4.0 MB 44.4 MB/s            \r\n",
      "\u001b[?25hRequirement already satisfied: joblib>=0.11 in /opt/conda/lib/python3.7/site-packages (from scikit-learn>=0.22->scikit-learn-intelex) (1.1.0)\r\n",
      "Requirement already satisfied: threadpoolctl>=2.0.0 in /opt/conda/lib/python3.7/site-packages (from scikit-learn>=0.22->scikit-learn-intelex) (3.0.0)\r\n",
      "Requirement already satisfied: scipy>=1.1.0 in /opt/conda/lib/python3.7/site-packages (from scikit-learn>=0.22->scikit-learn-intelex) (1.7.2)\r\n",
      "Installing collected packages: tbb, daal, daal4py, scikit-learn-intelex\r\n",
      "Successfully installed daal-2021.5.1 daal4py-2021.5.1 scikit-learn-intelex-2021.5.1 tbb-2021.4.0\r\n",
      "\u001b[33mWARNING: Running pip as the 'root' user can result in broken permissions and conflicting behaviour with the system package manager. It is recommended to use a virtual environment instead: https://pip.pypa.io/warnings/venv\u001b[0m\r\n"
     ]
    },
    {
     "name": "stderr",
     "output_type": "stream",
     "text": [
      "Intel(R) Extension for Scikit-learn* enabled (https://github.com/intel/scikit-learn-intelex)\n"
     ]
    }
   ],
   "source": [
    "# Patch Xeon Intel OneAPI Scikit accelerator\n",
    "!pip install scikit-learn-intelex\n",
    "from sklearnex import patch_sklearn\n",
    "patch_sklearn()"
   ]
  },
  {
   "cell_type": "code",
   "execution_count": 5,
   "id": "d84b5125",
   "metadata": {
    "execution": {
     "iopub.execute_input": "2022-01-12T17:01:21.909789Z",
     "iopub.status.busy": "2022-01-12T17:01:21.908631Z",
     "iopub.status.idle": "2022-01-12T17:01:21.939328Z",
     "shell.execute_reply": "2022-01-12T17:01:21.938706Z",
     "shell.execute_reply.started": "2022-01-12T16:40:50.455958Z"
    },
    "papermill": {
     "duration": 0.176675,
     "end_time": "2022-01-12T17:01:21.939490",
     "exception": false,
     "start_time": "2022-01-12T17:01:21.762815",
     "status": "completed"
    },
    "tags": []
   },
   "outputs": [],
   "source": [
    "from numpy import array, linspace, mean, column_stack, min as np_min, max as np_max\n",
    "from pandas import read_parquet, DataFrame, Series, to_datetime, concat\n",
    "from pathlib import Path\n",
    "from itertools import cycle\n",
    "from random import randint\n",
    "from gc import collect\n",
    "from joblib import dump, load\n",
    "\n",
    "from sklearn.feature_extraction.text import CountVectorizer, TfidfVectorizer\n",
    "from sklearn.tree import DecisionTreeRegressor\n",
    "from sklearn.ensemble import RandomForestRegressor, HistGradientBoostingRegressor, GradientBoostingRegressor\n",
    "from sklearn.metrics import mean_absolute_error, classification_report\n",
    "from sklearn.model_selection import train_test_split, ShuffleSplit\n",
    "from sklearn.linear_model import Lasso, LogisticRegression\n",
    "from sklearn.preprocessing import MinMaxScaler\n",
    "\n",
    "from deap import creator as ga_cr, base as ga_b, algorithms as ga_algo, tools as ga_t"
   ]
  },
  {
   "cell_type": "code",
   "execution_count": 6,
   "id": "27d481ae",
   "metadata": {
    "execution": {
     "iopub.execute_input": "2022-01-12T17:01:22.234508Z",
     "iopub.status.busy": "2022-01-12T17:01:22.233459Z",
     "iopub.status.idle": "2022-01-12T17:01:24.845744Z",
     "shell.execute_reply": "2022-01-12T17:01:24.845160Z",
     "shell.execute_reply.started": "2022-01-12T16:40:50.526693Z"
    },
    "papermill": {
     "duration": 2.768789,
     "end_time": "2022-01-12T17:01:24.845923",
     "exception": false,
     "start_time": "2022-01-12T17:01:22.077134",
     "status": "completed"
    },
    "tags": []
   },
   "outputs": [],
   "source": [
    "p = Path().cwd()\n",
    "p = p.parent\n",
    "p = p / 'input' / 'kaggle-pog-series-s01e01'\n",
    "\n",
    "train = read_parquet(p / 'train.parquet')\n",
    "test = read_parquet(p / 'test.parquet')"
   ]
  },
  {
   "cell_type": "code",
   "execution_count": 7,
   "id": "7ad0ea50",
   "metadata": {
    "execution": {
     "iopub.execute_input": "2022-01-12T17:01:25.144019Z",
     "iopub.status.busy": "2022-01-12T17:01:25.143282Z",
     "iopub.status.idle": "2022-01-12T17:01:26.398308Z",
     "shell.execute_reply": "2022-01-12T17:01:26.397716Z",
     "shell.execute_reply.started": "2022-01-12T16:40:54.018192Z"
    },
    "papermill": {
     "duration": 1.404242,
     "end_time": "2022-01-12T17:01:26.398451",
     "exception": false,
     "start_time": "2022-01-12T17:01:24.994209",
     "status": "completed"
    },
    "tags": []
   },
   "outputs": [
    {
     "data": {
      "text/plain": [
       "<AxesSubplot:ylabel='Frequency'>"
      ]
     },
     "execution_count": 7,
     "metadata": {},
     "output_type": "execute_result"
    },
    {
     "data": {
      "text/plain": [
       "0.0570600551836053"
      ]
     },
     "execution_count": 7,
     "metadata": {},
     "output_type": "execute_result"
    },
    {
     "data": {
      "image/png": "[encoded data removed]",
      "text/plain": [
       "<Figure size 1080x360 with 1 Axes>"
      ]
     },
     "metadata": {
      "needs_background": "light"
     },
     "output_type": "display_data"
    }
   ],
   "source": [
    "# Train y\n",
    "(train['likes'] / train['view_count']).plot(kind='hist', bins=int(len(train)**0.5), figsize=(15,5))\n",
    "(train['likes'] / train['view_count']).mean()"
   ]
  },
  {
   "cell_type": "code",
   "execution_count": 8,
   "id": "70871cf3",
   "metadata": {
    "execution": {
     "iopub.execute_input": "2022-01-12T17:01:26.690011Z",
     "iopub.status.busy": "2022-01-12T17:01:26.688860Z",
     "iopub.status.idle": "2022-01-12T17:01:27.506858Z",
     "shell.execute_reply": "2022-01-12T17:01:27.507406Z",
     "shell.execute_reply.started": "2022-01-12T16:40:55.207232Z"
    },
    "papermill": {
     "duration": 0.964181,
     "end_time": "2022-01-12T17:01:27.507579",
     "exception": false,
     "start_time": "2022-01-12T17:01:26.543398",
     "status": "completed"
    },
    "tags": []
   },
   "outputs": [
    {
     "data": {
      "text/plain": [
       "<AxesSubplot:ylabel='Frequency'>"
      ]
     },
     "execution_count": 8,
     "metadata": {},
     "output_type": "execute_result"
    },
    {
     "data": {
      "text/plain": [
       "0.0570600551836053"
      ]
     },
     "execution_count": 8,
     "metadata": {},
     "output_type": "execute_result"
    },
    {
     "data": {
      "image/png": "[encoded data removed]",
      "text/plain": [
       "<Figure size 1080x360 with 1 Axes>"
      ]
     },
     "metadata": {
      "needs_background": "light"
     },
     "output_type": "display_data"
    }
   ],
   "source": [
    "# Train y\n",
    "(train['target']).plot(kind='hist', bins=int(len(train)**0.5), figsize=(15,5))\n",
    "(train['target']).mean()"
   ]
  },
  {
   "cell_type": "code",
   "execution_count": 9,
   "id": "8d751e10",
   "metadata": {
    "execution": {
     "iopub.execute_input": "2022-01-12T17:01:27.938764Z",
     "iopub.status.busy": "2022-01-12T17:01:27.938032Z",
     "iopub.status.idle": "2022-01-12T17:01:28.047816Z",
     "shell.execute_reply": "2022-01-12T17:01:28.048419Z",
     "shell.execute_reply.started": "2022-01-12T16:40:56.093850Z"
    },
    "papermill": {
     "duration": 0.402394,
     "end_time": "2022-01-12T17:01:28.048744",
     "exception": false,
     "start_time": "2022-01-12T17:01:27.646350",
     "status": "completed"
    },
    "tags": []
   },
   "outputs": [],
   "source": [
    "def clean_train(df):\n",
    "    df['publishedAt'] = to_datetime(df['publishedAt'], errors='coerce').dt.tz_localize(None)\n",
    "    df['trending_date'] = to_datetime(df['trending_date'], errors='coerce').dt.tz_localize(None) \n",
    "    return df\n",
    "    \n",
    "train = clean_train(train)\n",
    "test = clean_train(test)"
   ]
  },
  {
   "cell_type": "code",
   "execution_count": 10,
   "id": "540b85a0",
   "metadata": {
    "execution": {
     "iopub.execute_input": "2022-01-12T17:01:28.358920Z",
     "iopub.status.busy": "2022-01-12T17:01:28.358225Z",
     "iopub.status.idle": "2022-01-12T17:01:28.368614Z",
     "shell.execute_reply": "2022-01-12T17:01:28.369871Z",
     "shell.execute_reply.started": "2022-01-12T16:40:56.182125Z"
    },
    "papermill": {
     "duration": 0.156511,
     "end_time": "2022-01-12T17:01:28.370082",
     "exception": false,
     "start_time": "2022-01-12T17:01:28.213571",
     "status": "completed"
    },
    "tags": []
   },
   "outputs": [],
   "source": [
    "def feat_eng(df):\n",
    "    df['t_delta'] = (df['trending_date'] - df['publishedAt']).dt.seconds\n",
    "    # TODO\n",
    "    # add day of week, categoryid, \n",
    "    \"\"\"df['channel_occurance'] = df['channelId'].map(\n",
    "        df['channelId'].value_counts().to_dict())\n",
    "\n",
    "    df['channel_unique_video_count'] = df['channelId'].map(\n",
    "        df.groupby('channelId')['video_id'].nunique().to_dict())\n",
    "    \n",
    "    df['video_occurance_count'] = df.groupby('video_id')['trending_date'] \\\n",
    "        .rank().astype('int')channel freq, \"\"\"\n",
    "    return df\n",
    "\n",
    "train = feat_eng(train)\n",
    "test = feat_eng(test)"
   ]
  },
  {
   "cell_type": "code",
   "execution_count": 11,
   "id": "e3de2a90",
   "metadata": {
    "execution": {
     "iopub.execute_input": "2022-01-12T17:01:28.654374Z",
     "iopub.status.busy": "2022-01-12T17:01:28.652188Z",
     "iopub.status.idle": "2022-01-12T17:01:28.657338Z",
     "shell.execute_reply": "2022-01-12T17:01:28.656767Z",
     "shell.execute_reply.started": "2022-01-12T16:40:56.198752Z"
    },
    "papermill": {
     "duration": 0.151142,
     "end_time": "2022-01-12T17:01:28.657486",
     "exception": false,
     "start_time": "2022-01-12T17:01:28.506344",
     "status": "completed"
    },
    "tags": []
   },
   "outputs": [],
   "source": [
    "def prep_data(params, train_df, train_data=True):\n",
    "    train_X = train_df[['title', 'duration_seconds', 't_delta']].copy()\n",
    "\n",
    "    cv_params = {k:v for k,v in params.items() if k != 'q'}\n",
    "    cv_params = {**cv_params, **{'strip_accents': 'ascii',\n",
    "                                 'lowercase': True,\n",
    "                                 'stop_words': 'english',\n",
    "                                 'analyzer': 'word',\n",
    "                                 #'token_pattern': '(?u)\\b\\w\\w\\w+\\b',  # 3 or more letters\n",
    "                                 }}\n",
    "    #cv = CountVectorizer(**)\n",
    "    tdf = TfidfVectorizer(**cv_params)\n",
    "    \n",
    "    q_param = {k:v for k,v in params.items() if k == 'q'}\n",
    "    q = train_X['duration_seconds'].quantile(**q_param)\n",
    "    mask = train_X['duration_seconds'].isna()\n",
    "    train_X.loc[mask, 'duration_seconds'] = q\n",
    "    \n",
    "    mms = MinMaxScaler()\n",
    "    \n",
    "    train_X = column_stack((\n",
    "        tdf.fit_transform(train_X['title']).toarray(),\n",
    "        mms.fit_transform(train_X[['duration_seconds']]),\n",
    "        mms.fit_transform(train_X[['t_delta']]),\n",
    "    ))\n",
    "    \n",
    "    if train_data:\n",
    "        train_y = train_df['target']\n",
    "        return train_X, train_y\n",
    "    else:\n",
    "        return train_X"
   ]
  },
  {
   "cell_type": "code",
   "execution_count": 12,
   "id": "87b3e1c4",
   "metadata": {
    "execution": {
     "iopub.execute_input": "2022-01-12T17:01:28.949300Z",
     "iopub.status.busy": "2022-01-12T17:01:28.948422Z",
     "iopub.status.idle": "2022-01-12T17:01:28.984434Z",
     "shell.execute_reply": "2022-01-12T17:01:28.983715Z",
     "shell.execute_reply.started": "2022-01-12T16:58:00.290712Z"
    },
    "papermill": {
     "duration": 0.18396,
     "end_time": "2022-01-12T17:01:28.984594",
     "exception": false,
     "start_time": "2022-01-12T17:01:28.800634",
     "status": "completed"
    },
    "tags": []
   },
   "outputs": [],
   "source": [
    "class GA_Scikit():\n",
    "    def __init__(self, \n",
    "                 estimator, \n",
    "                 #\n",
    "                 params, \n",
    "                 eval_func, \n",
    "                 eval_weights, \n",
    "                 #\n",
    "                 train_df, \n",
    "                 #valid_df, \n",
    "                 score, \n",
    "                 #\n",
    "                 sel_tournsize=2, \n",
    "                 cx_uniform_prob=0.5, \n",
    "                 mut_shuffle_idx_prob=0.1, \n",
    "                 n_pop=30, \n",
    "                 n_gen=10, \n",
    "                 n_hof=1, \n",
    "                 cx_prob=0.5, \n",
    "                 mut_prob=0.1, \n",
    "                 n_jobs=3  # not good with HistGradBoosReg...\n",
    "                ):\n",
    "        \n",
    "        self.est = estimator\n",
    "        self.params = params\n",
    "        self.eval_func = eval_func\n",
    "        self.eval_weights = eval_weights\n",
    "        #\n",
    "        self.train_df = train_df\n",
    "        #self.valid_df = valid_df\n",
    "        self.score = score\n",
    "        #\n",
    "        self.sel_tournsize = sel_tournsize\n",
    "        self.cx_uniform_prob = cx_uniform_prob\n",
    "        self.mut_shuffle_idx_prob = mut_shuffle_idx_prob\n",
    "        self.n_pop = n_pop\n",
    "        self.n_gen = n_gen\n",
    "        self.n_hof = n_hof\n",
    "        self.cx_prob = cx_prob\n",
    "        self.mut_prob = mut_prob\n",
    "        self.n_jobs = n_jobs\n",
    "        \n",
    "        self._pad_params()\n",
    "        self._create_fitness_and_indiv()\n",
    "        self._register_indiv_and_pop_generators()\n",
    "        self._calc_baseline_and_overfit()\n",
    "        self._register_eval_func()\n",
    "        self._register_selection_crossover_mutation_methods()\n",
    "        \n",
    "    def _pad_params(self):\n",
    "        \"\"\"Pad params for crossover shuffle idx method\"\"\"\n",
    "        assert isinstance(self.params, dict), 'Params must be a dict, i.e. estimator.get_params()'\n",
    "        params_count = {k: len(v) for k,v in self.params.items()}\n",
    "        max_length, max_key = -99, ''\n",
    "        for k, v in params_count.items():\n",
    "            if v <= max_length:\n",
    "                continue\n",
    "            else:\n",
    "                max_key = k\n",
    "                max_length = v\n",
    "        assert isinstance(max_length, int), 'The max length between all params must be an int'\n",
    "        # cycle through params for max length param, otherwise infinite cycle\n",
    "        values_padded = (cycle(v) if k!=max_key else v for k,v in self.params.items())\n",
    "        values_padded = zip(*values_padded)  # ('a', 1, 14), ('b', 2, 16), ('c', 3, 16) ...\n",
    "        values_padded = zip(*values_padded)  # ('a', 'b', 'c'), (1, 2, 3), (14, 15, 16)...\n",
    "        padded_params = {}\n",
    "        for k, v in zip(self.params, values_padded):\n",
    "            padded_params[k] = v\n",
    "        self.padded_params = padded_params\n",
    "        \n",
    "    def _create_fitness_and_indiv(self):\n",
    "        \"\"\"Create GA individual and fitness entities (classes)\"\"\"\n",
    "        ga_cr.create('Fitness', ga_b.Fitness, weights=self.eval_weights)\n",
    "        ga_cr.create('Individual', list, fitness=ga_cr.Fitness)\n",
    "\n",
    "    def _gen_params_to_ga(self):\n",
    "        \"\"\"Generate index for each param for individual\"\"\"\n",
    "        max_dict = len(self.padded_params)\n",
    "        max_length = len(list(self.padded_params.values())[0])\n",
    "        idxs = [randint(0, max_length-1) for _ in range(max_dict)]\n",
    "        return idxs\n",
    "            \n",
    "    def _register_indiv_and_pop_generators(self):\n",
    "        \"\"\"Register GA individual and population generators\"\"\"\n",
    "        self.tb = ga_b.Toolbox()\n",
    "\n",
    "        if self.n_jobs > 1:\n",
    "            from multiprocessing import Pool\n",
    "            pool = Pool()\n",
    "            self.tb.register(\"map\", pool.map)\n",
    "\n",
    "        self.tb.register(\"individual\", ga_t.initIterate, ga_cr.Individual, self._gen_params_to_ga)\n",
    "        #print('indiv', self.tb.individual())\n",
    "        self.tb.register(\"population\", ga_t.initRepeat, list, self.tb.individual)\n",
    "        #print('population', self.tb.population(n=2))\n",
    "        \n",
    "    def _calc_baseline_and_overfit(self):\n",
    "        # Individual\n",
    "        indiv = [1]*len(self.tb.individual())\n",
    "\n",
    "        # Params\n",
    "        cv_params = {k : list(v)[idx] for (k,v), idx in zip(self.padded_params.items(), indiv) if k not in \n",
    "                 ['n_estimators', 'criterion', 'max_depth', 'min_samples_split', 'min_samples_leaf', 'max_leaf_nodes', 'min_impurity_decrease', 'random_state']}\n",
    "    \n",
    "        # Data\n",
    "        train_X, train_y = prep_data(cv_params, self.train_df, train_data=True)\n",
    "        train_X, valid_X, train_y, valid_y = train_test_split(train_X, train_y, train_size=0.8)\n",
    "        \n",
    "        # Baseline\n",
    "        self.plain_mean = train_y.mean()\n",
    "        self.plain_mean = [self.plain_mean]*len(valid_y)\n",
    "        self.plain_mean = self.score(valid_y, self.plain_mean)\n",
    "        print(f'Plain mean score: {self.plain_mean}')\n",
    "        \n",
    "        # Overfit\n",
    "        est = self.est(random_state=16)\n",
    "        _ = est.fit(train_X, train_y)\n",
    "        self.overfit = est.predict(valid_X)\n",
    "        self.overfit = self.score(valid_y, self.overfit)\n",
    "        print(f'Overfit score: {self.overfit}')\n",
    "        \n",
    "        del train_X, valid_X, train_y, valid_y\n",
    "            \n",
    "    def _register_eval_func(self):\n",
    "        \"\"\"Set GA evaluate individual function\"\"\"\n",
    "        self.tb.register(\"evaluate\",\n",
    "                        self.eval_func,\n",
    "                        padded_params=self.padded_params,\n",
    "                        est=self.est,\n",
    "                        train_df=self.train_df, \n",
    "                        plain_mean=self.plain_mean,\n",
    "                        overfit=self.overfit,\n",
    "                        score=self.score\n",
    "                        )\n",
    "        #print(list(self.tb.evaluate(indiv) for indiv in self.tb.population(3)))\n",
    "        \n",
    "    def _register_selection_crossover_mutation_methods(self):\n",
    "        \"\"\"Register GA select/mate/mutate methods\"\"\"\n",
    "        self.tb.register(\"select\", ga_t.selTournament, tournsize=self.sel_tournsize)\n",
    "        self.tb.register(\"mate\", ga_t.cxUniform, indpb=self.cx_uniform_prob)\n",
    "        self.tb.register(\"mutate\", ga_t.mutShuffleIndexes, indpb=self.mut_shuffle_idx_prob)\n",
    "\n",
    "    def run_ga_search(self):\n",
    "        \"\"\"Run search\"\"\"\n",
    "        pop = self.tb.population(n=self.n_pop)\n",
    "        hof = ga_t.HallOfFame(self.n_hof)\n",
    "\n",
    "        # Stats stdout\n",
    "        #stats = ga_t.Statistics(lambda ind: ind.fitness.values )\n",
    "        stats1 = ga_t.Statistics(lambda ind: ind.fitness.values[0] )\n",
    "        stats2 = ga_t.Statistics(lambda ind: ind.fitness.values[1] )\n",
    "        #stats3 = ga_t.Statistics(lambda ind: ind.fitness.values[2] )\n",
    "        stats = ga_t.MultiStatistics(dist1=stats1, dist2=stats2)\n",
    "        stats.register(\"avg\", mean)\n",
    "        stats.register(\"min\", np_min)\n",
    "        \n",
    "        # GA Run\n",
    "        pop, log = ga_algo.eaSimple(pop, self.tb, cxpb=self.cx_prob, \n",
    "                                    mutpb=self.mut_prob, ngen=self.n_gen, \n",
    "                                    stats=stats, halloffame=hof, verbose=True)\n",
    "        \n",
    "        # Convert back params\n",
    "        hof_ = {}\n",
    "        for i in range(self.n_hof):\n",
    "            hof_['hof_' + str(i)] = self._ga_to_params(hof[i])\n",
    "\n",
    "        return pop, log, hof_\n",
    "    \n",
    "    def _ga_to_params(self, idx_params):\n",
    "        \"\"\"Helper to convert to readable params\"\"\"\n",
    "        res = {}\n",
    "        for (k,v), idx in zip(self.padded_params.items(), idx_params):\n",
    "            res[k] = v[idx]\n",
    "        return res"
   ]
  },
  {
   "cell_type": "code",
   "execution_count": 13,
   "id": "d6693a19",
   "metadata": {
    "execution": {
     "iopub.execute_input": "2022-01-12T17:01:29.276274Z",
     "iopub.status.busy": "2022-01-12T17:01:29.261989Z",
     "iopub.status.idle": "2022-01-12T17:01:29.278112Z",
     "shell.execute_reply": "2022-01-12T17:01:29.278639Z",
     "shell.execute_reply.started": "2022-01-12T16:58:01.786850Z"
    },
    "papermill": {
     "duration": 0.155139,
     "end_time": "2022-01-12T17:01:29.278815",
     "exception": false,
     "start_time": "2022-01-12T17:01:29.123676",
     "status": "completed"
    },
    "tags": []
   },
   "outputs": [],
   "source": [
    "# Estimator, params and requirements\n",
    "\n",
    "est = RandomForestRegressor\n",
    "est = DecisionTreeRegressor\n",
    "est = GradientBoostingRegressor\n",
    "\n",
    "params = {\n",
    "             'n_estimators': linspace(2,50,20).astype(int),\n",
    "            # 'criterion': ['squared_error', 'absolute_error'],\n",
    "             'max_depth': linspace(2,50,20).astype(int),\n",
    "             'min_samples_split': linspace(0.01,0.49,20),\n",
    "             'min_samples_leaf': linspace(0.01,0.49,20),\n",
    "             #'max_features': linspace(0.01,0.99,20),    # COLLIDE\n",
    "             'max_leaf_nodes': linspace(2,50,20).astype(int),\n",
    "             #'min_impurity_decrease': linspace(1,100,20).astype(int),\n",
    "             'random_state': linspace(16,16,20).astype(int),  # trick\n",
    "             #\n",
    "             'q': linspace(0.01,0.99,20),\n",
    "             #\n",
    "             #'ngram_range_': linspace(1,10,10).astype(int),\n",
    "             'min_df': linspace(1,5,20).astype(int),\n",
    "             'max_df': linspace(5,10,20).astype(int),\n",
    "             'max_features': linspace(10,100,20).astype(int),    # COLLIDE\n",
    "             'binary': [True, False],\n",
    "         }\n",
    "\n",
    "def eval_indiv(individual, padded_params, est, train_df, plain_mean, overfit, score):\n",
    "    \"\"\"Evaluate individual's genes (estimator's params)\"\"\"\n",
    "    # Params\n",
    "    cv_params = {k : list(v)[idx] for (k,v), idx in zip(padded_params.items(), individual) if k not in \n",
    "                 ['n_estimators', 'criterion', 'max_depth', 'min_samples_split', 'min_samples_leaf', 'max_leaf_nodes', 'min_impurity_decrease', 'random_state']}\n",
    "    train_X, train_y = prep_data(cv_params, train_df, train_data=True)\n",
    "    \n",
    "    train_X, valid_X, train_y, valid_y = train_test_split(train_X, train_y, train_size=0.8)\n",
    "        \n",
    "    est_params = {k : list(v)[idx] for (k,v), idx in zip(padded_params.items(), individual) if k in \n",
    "                 ['n_estimators', 'criterion', 'max_depth', 'min_samples_split', 'min_samples_leaf', 'max_leaf_nodes', 'min_impurity_decrease', 'random_state']}\n",
    "    \n",
    "    # Midpoint\n",
    "    est = est(random_state=16)\n",
    "    _ = est.set_params(**est_params)\n",
    "    _ = est.fit(train_X, train_y)\n",
    "    midpoint = est.predict(valid_X)\n",
    "    midpoint = score(valid_y, midpoint)\n",
    "    #print(f'Midpoint score: {midpoint}')\n",
    "    \n",
    "    del train_X, valid_X, train_y, valid_y\n",
    "    \n",
    "    collect(0)\n",
    "    collect(1)\n",
    "    collect(2)\n",
    "\n",
    "    obj1 = midpoint - plain_mean\n",
    "    obj2 = midpoint - overfit\n",
    "\n",
    "    return obj1, obj2,\n",
    "        \n",
    "weights = -1, -1,"
   ]
  },
  {
   "cell_type": "code",
   "execution_count": 14,
   "id": "238ddce8",
   "metadata": {
    "execution": {
     "iopub.execute_input": "2022-01-12T17:01:29.551381Z",
     "iopub.status.busy": "2022-01-12T17:01:29.550660Z",
     "iopub.status.idle": "2022-01-12T17:17:06.583269Z",
     "shell.execute_reply": "2022-01-12T17:17:06.584194Z",
     "shell.execute_reply.started": "2022-01-12T16:58:03.349104Z"
    },
    "papermill": {
     "duration": 937.17147,
     "end_time": "2022-01-12T17:17:06.584688",
     "exception": false,
     "start_time": "2022-01-12T17:01:29.413218",
     "status": "completed"
    },
    "tags": []
   },
   "outputs": [
    {
     "name": "stdout",
     "output_type": "stream",
     "text": [
      "Plain mean score: 0.03002416476864444\n",
      "Overfit score: 0.028326660452172435\n",
      "   \t      \t                    dist1                     \t                    dist2                     \n",
      "   \t      \t----------------------------------------------\t----------------------------------------------\n",
      "gen\tnevals\tavg         \tgen\tmin        \tnevals\tavg       \tgen\tmin       \tnevals\n",
      "0  \t30    \t-0.000479641\t0  \t-0.00148714\t30    \t0.00121786\t0  \t0.00021036\t30    \n",
      "1  \t17    \t-0.000688323\t1  \t-0.00178373\t17    \t0.00100918\t1  \t-8.62294e-05\t17    \n",
      "2  \t18    \t-0.000809976\t2  \t-0.00178373\t18    \t0.000887529\t2  \t-8.62294e-05\t18    \n",
      "3  \t17    \t-0.000936714\t3  \t-0.00181206\t17    \t0.00076079 \t3  \t-0.000114555\t17    \n",
      "4  \t16    \t-0.00111302 \t4  \t-0.00181206\t16    \t0.000584485\t4  \t-0.000114555\t16    \n",
      "5  \t17    \t-0.00142519 \t5  \t-0.00191673\t17    \t0.000272319\t5  \t-0.000219231\t17    \n",
      "6  \t19    \t-0.00148087 \t6  \t-0.00191673\t19    \t0.000216635\t6  \t-0.000219231\t19    \n",
      "7  \t25    \t-0.00133964 \t7  \t-0.00181527\t25    \t0.000357866\t7  \t-0.000117768\t25    \n",
      "8  \t14    \t-0.00161054 \t8  \t-0.00211558\t14    \t8.69651e-05\t8  \t-0.000418073\t14    \n",
      "9  \t19    \t-0.00162351 \t9  \t-0.00202402\t19    \t7.39927e-05\t9  \t-0.000326514\t19    \n",
      "10 \t29    \t-0.00166388 \t10 \t-0.00224092\t29    \t3.36238e-05\t10 \t-0.000543416\t29    \n"
     ]
    }
   ],
   "source": [
    "ga_params = GA_Scikit(est,\n",
    "                      params,\n",
    "                      eval_indiv,\n",
    "                      weights,\n",
    "                      #\n",
    "                      train[['title', 'duration_seconds', 't_delta', 'likes', 'view_count', 'target']],\n",
    "                      mean_absolute_error,\n",
    "                      )\n",
    "pop, log, hof = ga_params.run_ga_search()"
   ]
  },
  {
   "cell_type": "code",
   "execution_count": 15,
   "id": "f28c0618",
   "metadata": {
    "execution": {
     "iopub.execute_input": "2022-01-12T17:17:06.872482Z",
     "iopub.status.busy": "2022-01-12T17:17:06.871697Z",
     "iopub.status.idle": "2022-01-12T17:17:06.883970Z",
     "shell.execute_reply": "2022-01-12T17:17:06.884511Z",
     "shell.execute_reply.started": "2022-01-12T16:59:02.950828Z"
    },
    "papermill": {
     "duration": 0.157678,
     "end_time": "2022-01-12T17:17:06.884690",
     "exception": false,
     "start_time": "2022-01-12T17:17:06.727012",
     "status": "completed"
    },
    "tags": []
   },
   "outputs": [
    {
     "data": {
      "text/plain": [
       "{'hof_0': {'n_estimators': 44,\n",
       "  'max_depth': 37,\n",
       "  'min_samples_split': 0.1868421052631579,\n",
       "  'min_samples_leaf': 0.01,\n",
       "  'max_leaf_nodes': 37,\n",
       "  'random_state': 16,\n",
       "  'q': 0.9384210526315789,\n",
       "  'min_df': 2,\n",
       "  'max_df': 7,\n",
       "  'max_features': 38,\n",
       "  'binary': True}}"
      ]
     },
     "execution_count": 15,
     "metadata": {},
     "output_type": "execute_result"
    },
    {
     "data": {
      "text/plain": [
       "['best_params.json']"
      ]
     },
     "execution_count": 15,
     "metadata": {},
     "output_type": "execute_result"
    }
   ],
   "source": [
    "# Save HOF params\n",
    "hof\n",
    "dump(hof['hof_0'], 'best_params.json')"
   ]
  },
  {
   "cell_type": "code",
   "execution_count": 16,
   "id": "7d366bc0",
   "metadata": {
    "execution": {
     "iopub.execute_input": "2022-01-12T17:17:07.169118Z",
     "iopub.status.busy": "2022-01-12T17:17:07.168343Z",
     "iopub.status.idle": "2022-01-12T17:17:27.301494Z",
     "shell.execute_reply": "2022-01-12T17:17:27.300682Z",
     "shell.execute_reply.started": "2022-01-12T16:53:03.006538Z"
    },
    "papermill": {
     "duration": 20.277501,
     "end_time": "2022-01-12T17:17:27.301700",
     "exception": false,
     "start_time": "2022-01-12T17:17:07.024199",
     "status": "completed"
    },
    "tags": []
   },
   "outputs": [
    {
     "data": {
      "text/plain": [
       "{'q': 0.9384210526315789,\n",
       " 'min_df': 2,\n",
       " 'max_df': 7,\n",
       " 'max_features': 38,\n",
       " 'binary': True}"
      ]
     },
     "execution_count": 16,
     "metadata": {},
     "output_type": "execute_result"
    },
    {
     "data": {
      "text/plain": [
       "{'n_estimators': 44,\n",
       " 'max_depth': 37,\n",
       " 'min_samples_split': 0.1868421052631579,\n",
       " 'min_samples_leaf': 0.01,\n",
       " 'max_leaf_nodes': 37,\n",
       " 'random_state': 16}"
      ]
     },
     "execution_count": 16,
     "metadata": {},
     "output_type": "execute_result"
    },
    {
     "data": {
      "image/png": "[encoded data removed]",
      "text/plain": [
       "<Figure size 1080x360 with 1 Axes>"
      ]
     },
     "metadata": {
      "needs_background": "light"
     },
     "output_type": "display_data"
    }
   ],
   "source": [
    "# Full train\n",
    "params = load('best_params.json')\n",
    "\n",
    "cv_params = {k:v for k,v in params.items() if k not in \n",
    "             ['n_estimators', 'criterion', 'max_depth', 'min_samples_split', 'min_samples_leaf', 'max_leaf_nodes', 'min_impurity_decrease', 'random_state']}\n",
    "cv_params\n",
    "train_X, train_y = prep_data(cv_params, train)\n",
    "\n",
    "est_params = {k:v for k,v in params.items() if k in \n",
    "             ['n_estimators', 'criterion', 'max_depth', 'min_samples_split', 'min_samples_leaf', 'max_leaf_nodes', 'min_impurity_decrease', 'random_state']}\n",
    "est_params\n",
    "est = GradientBoostingRegressor()\n",
    "_ = est.set_params(**est_params)\n",
    "_ = est.fit(train_X, train_y)\n",
    "pred = est.predict(train_X)\n",
    "_ = concat([train_y, Series(pred)], axis=1).plot(kind='hist', bins=int(len(train)**0.5), figsize=(15,5), alpha=0.5)\n",
    "\n",
    "# Submission\n",
    "test_X = prep_data(cv_params, test, train_data=False)\n",
    "pred = est.predict(test_X)\n",
    "subm = concat([test['id'], Series(pred)], axis=1)\n",
    "subm.columns = ['id', 'target']\n",
    "subm.to_csv('submission.csv', index=False)"
   ]
  },
  {
   "cell_type": "code",
   "execution_count": 17,
   "id": "24225d81",
   "metadata": {
    "execution": {
     "iopub.execute_input": "2022-01-12T17:17:27.620191Z",
     "iopub.status.busy": "2022-01-12T17:17:27.616086Z",
     "iopub.status.idle": "2022-01-12T17:17:27.635911Z",
     "shell.execute_reply": "2022-01-12T17:17:27.636498Z",
     "shell.execute_reply.started": "2022-01-12T16:42:54.859762Z"
    },
    "papermill": {
     "duration": 0.174876,
     "end_time": "2022-01-12T17:17:27.636676",
     "exception": false,
     "start_time": "2022-01-12T17:17:27.461800",
     "status": "completed"
    },
    "tags": []
   },
   "outputs": [
    {
     "data": {
      "text/html": [
       "<div>\n",
       "<style scoped>\n",
       "    .dataframe tbody tr th:only-of-type {\n",
       "        vertical-align: middle;\n",
       "    }\n",
       "\n",
       "    .dataframe tbody tr th {\n",
       "        vertical-align: top;\n",
       "    }\n",
       "\n",
       "    .dataframe thead th {\n",
       "        text-align: right;\n",
       "    }\n",
       "</style>\n",
       "<table border=\"1\" class=\"dataframe\">\n",
       "  <thead>\n",
       "    <tr style=\"text-align: right;\">\n",
       "      <th></th>\n",
       "      <th>id</th>\n",
       "      <th>target</th>\n",
       "    </tr>\n",
       "  </thead>\n",
       "  <tbody>\n",
       "    <tr>\n",
       "      <th>0</th>\n",
       "      <td>_wNsZEqpKUA_2021-12-01</td>\n",
       "      <td>0.031491</td>\n",
       "    </tr>\n",
       "    <tr>\n",
       "      <th>1</th>\n",
       "      <td>2jfbXZiE6Lc_2021-12-01</td>\n",
       "      <td>0.055457</td>\n",
       "    </tr>\n",
       "    <tr>\n",
       "      <th>2</th>\n",
       "      <td>F1Hq8eVOMHs_2021-12-01</td>\n",
       "      <td>0.030030</td>\n",
       "    </tr>\n",
       "    <tr>\n",
       "      <th>3</th>\n",
       "      <td>GQXVQmcGQUY_2021-12-01</td>\n",
       "      <td>0.031649</td>\n",
       "    </tr>\n",
       "    <tr>\n",
       "      <th>4</th>\n",
       "      <td>n4XojTb6pfs_2021-12-01</td>\n",
       "      <td>0.065061</td>\n",
       "    </tr>\n",
       "    <tr>\n",
       "      <th>...</th>\n",
       "      <td>...</td>\n",
       "      <td>...</td>\n",
       "    </tr>\n",
       "    <tr>\n",
       "      <th>5795</th>\n",
       "      <td>hJfpCXAMYPM_2021-12-30</td>\n",
       "      <td>0.030881</td>\n",
       "    </tr>\n",
       "    <tr>\n",
       "      <th>5796</th>\n",
       "      <td>MbmTMEYnEzo_2021-12-30</td>\n",
       "      <td>0.030838</td>\n",
       "    </tr>\n",
       "    <tr>\n",
       "      <th>5797</th>\n",
       "      <td>VG7arSAYvQI_2021-12-30</td>\n",
       "      <td>0.032702</td>\n",
       "    </tr>\n",
       "    <tr>\n",
       "      <th>5798</th>\n",
       "      <td>SNb-g-hNYYs_2021-12-30</td>\n",
       "      <td>0.060573</td>\n",
       "    </tr>\n",
       "    <tr>\n",
       "      <th>5799</th>\n",
       "      <td>_-K-sVn8Iko_2021-12-30</td>\n",
       "      <td>0.030030</td>\n",
       "    </tr>\n",
       "  </tbody>\n",
       "</table>\n",
       "<p>5800 rows × 2 columns</p>\n",
       "</div>"
      ],
      "text/plain": [
       "                          id    target\n",
       "0     _wNsZEqpKUA_2021-12-01  0.031491\n",
       "1     2jfbXZiE6Lc_2021-12-01  0.055457\n",
       "2     F1Hq8eVOMHs_2021-12-01  0.030030\n",
       "3     GQXVQmcGQUY_2021-12-01  0.031649\n",
       "4     n4XojTb6pfs_2021-12-01  0.065061\n",
       "...                      ...       ...\n",
       "5795  hJfpCXAMYPM_2021-12-30  0.030881\n",
       "5796  MbmTMEYnEzo_2021-12-30  0.030838\n",
       "5797  VG7arSAYvQI_2021-12-30  0.032702\n",
       "5798  SNb-g-hNYYs_2021-12-30  0.060573\n",
       "5799  _-K-sVn8Iko_2021-12-30  0.030030\n",
       "\n",
       "[5800 rows x 2 columns]"
      ]
     },
     "execution_count": 17,
     "metadata": {},
     "output_type": "execute_result"
    }
   ],
   "source": [
    "subm"
   ]
  },
  {
   "cell_type": "code",
   "execution_count": 18,
   "id": "3536e2c9",
   "metadata": {
    "execution": {
     "iopub.execute_input": "2022-01-12T17:17:27.951538Z",
     "iopub.status.busy": "2022-01-12T17:17:27.950778Z",
     "iopub.status.idle": "2022-01-12T17:17:27.955311Z",
     "shell.execute_reply": "2022-01-12T17:17:27.955861Z",
     "shell.execute_reply.started": "2022-01-12T16:42:54.880967Z"
    },
    "papermill": {
     "duration": 0.164107,
     "end_time": "2022-01-12T17:17:27.956077",
     "exception": false,
     "start_time": "2022-01-12T17:17:27.791970",
     "status": "completed"
    },
    "tags": []
   },
   "outputs": [],
   "source": [
    "if False:\n",
    "    def train_model(train_X, train_y, est, score, give_model=False, folds=False):\n",
    "        if not give_model:\n",
    "            if not folds:\n",
    "                train_X, valid_X, train_y, valid_y = train_test_split(train_X, train_y, train_size=0.8)\n",
    "                est.fit(train_X, train_y)\n",
    "                pred_v = est.predict(valid_X)\n",
    "                obj = score(valid_y, pred_v)\n",
    "                return obj\n",
    "            else:\n",
    "                ss = ShuffleSplit(n_splits=5, test_size=0.2)\n",
    "                #ss = TimeSeriesSplit(n_splits=2)\n",
    "                objs = []\n",
    "                for train_idx, valid_idx in ss.split(train_X):\n",
    "                    est.fit(train_X[train_idx, :], train_y.iloc[train_idx])\n",
    "                    pred_v = est.predict(train_X[valid_idx, :])\n",
    "                    obj = score(train_y.iloc[valid_idx], pred_v)\n",
    "                    objs.append(obj)\n",
    "                obj = mean(objs)\n",
    "                return obj\n",
    "        else:\n",
    "            est.fit(train_X, train_y)\n",
    "            return est"
   ]
  }
 ],
 "metadata": {
  "kernelspec": {
   "display_name": "Python 3",
   "language": "python",
   "name": "python3"
  },
  "language_info": {
   "codemirror_mode": {
    "name": "ipython",
    "version": 3
   },
   "file_extension": ".py",
   "mimetype": "text/x-python",
   "name": "python",
   "nbconvert_exporter": "python",
   "pygments_lexer": "ipython3",
   "version": "3.7.12"
  },
  "papermill": {
   "default_parameters": {},
   "duration": 1026.708125,
   "end_time": "2022-01-12T17:17:30.720138",
   "environment_variables": {},
   "exception": null,
   "input_path": "__notebook__.ipynb",
   "output_path": "__notebook__.ipynb",
   "parameters": {},
   "start_time": "2022-01-12T17:00:24.012013",
   "version": "2.3.3"
  }
 },
 "nbformat": 4,
 "nbformat_minor": 5
}
